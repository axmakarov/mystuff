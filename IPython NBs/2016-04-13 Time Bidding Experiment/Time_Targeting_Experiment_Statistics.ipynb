{
 "cells": [
  {
   "cell_type": "code",
   "execution_count": 1,
   "metadata": {
    "collapsed": true
   },
   "outputs": [],
   "source": [
    "%run 'C:\\dev\\prod\\metrikaHelper.py'\n",
    "from datetime import timedelta\n",
    "from datetime import datetime\n",
    "import pandas as pd\n",
    "import psycopg2\n",
    "import numpy\n",
    "def getVipProjectByDomain(domain):\n",
    "    conn = psycopg2.connect(\"dbname='CRM' user='read_only' host='192.168.10.10' password='User_ro'\")\n",
    "    cur = conn.cursor()\n",
    "    cur.execute(\"SELECT p.projectid, p.domain, p2.login, p2.password FROM project AS p INNER JOIN ProjectMetrikaData AS p2 ON p.UniqueId = p2.ProjectUniqueId WHERE domain=%s ORDER BY p.projectid\", [domain])\n",
    "    result = []\n",
    "    rows = cur.fetchall()\n",
    "    for row in rows:\n",
    "        result.append(getVipProjectByRow(row))\n",
    "    return result\n",
    "def getVipProjectByRow(row):\n",
    "    return {'projectid': row[0], 'domain': row[1], 'metrikalogin': row[2], 'metrikapassword': row[3]}\n",
    "def getCPATargetsByProjectID(projectID):\n",
    "    conn = psycopg2.connect(\"dbname='Cubo' user='read_only' host='192.168.10.8' password='User_ro'\")\n",
    "    cur = conn.cursor()\n",
    "    cur.execute(\"SELECT targetstatus, targetid, targetname FROM metricstarget WHERE projectid=%s ORDER BY id DESC\", [projectID])\n",
    "    result = []\n",
    "    rows = cur.fetchall()\n",
    "    for row in rows:\n",
    "        result.append(getCPATargetByRow(row))\n",
    "    return result\n",
    "def getCPATargetByRow(row):\n",
    "    return {'targetstatus': row[0], 'targetid': row[1], 'targetname': row[2]}\n",
    "def getDirectCallByProjectID(projectID,date1,date2):\n",
    "    conn = psycopg2.connect(\"dbname='CuboHistory' user='read_only' host='192.168.10.32' password='User_ro'\")\n",
    "    cur = conn.cursor()\n",
    "    cur.execute(\"SELECT id, duration, phonenumbera, date FROM calltrackinginfo where projectid={0} and campaign='direct' and date >= '{1}' and date <= '{2}'\".format(projectID,date1,date2))\n",
    "    result = []\n",
    "    rows = cur.fetchall()\n",
    "    for row in rows:\n",
    "        result.append(getCallByRow(row))\n",
    "    return result\n",
    "def getCallByRow(row):\n",
    "    return {'id': row[0], 'duration': row[1], 'phonenumbera': row[2], 'date':row[3]}"
   ]
  },
  {
   "cell_type": "markdown",
   "metadata": {},
   "source": [
    "Определяем даты контрольного и тестового периода"
   ]
  },
  {
   "cell_type": "code",
   "execution_count": 2,
   "metadata": {
    "collapsed": false
   },
   "outputs": [
    {
     "name": "stdout",
     "output_type": "stream",
     "text": [
      "2016-03-04 2016-03-23\n",
      "2016-03-24 2016-04-12\n"
     ]
    }
   ],
   "source": [
    "startDate = '2016-03-24'\n",
    "endDate = '2016-04-12'\n",
    "delta = datetime.strptime(endDate,'%Y-%m-%d')-datetime.strptime(startDate,'%Y-%m-%d')+timedelta(1)\n",
    "controlStartDate = (datetime.strptime(startDate,'%Y-%m-%d')-delta).strftime('%Y-%m-%d')\n",
    "controlEndDate = (datetime.strptime(startDate,'%Y-%m-%d')-timedelta(1)).strftime('%Y-%m-%d')\n",
    "print controlStartDate,controlEndDate\n",
    "print startDate,endDate"
   ]
  },
  {
   "cell_type": "markdown",
   "metadata": {},
   "source": [
    "vtb24leasing.ru - Определяем сумму расходов по контрольному и тестовому периоду"
   ]
  },
  {
   "cell_type": "code",
   "execution_count": 3,
   "metadata": {
    "collapsed": true
   },
   "outputs": [],
   "source": [
    "controlSum = 37253.67\n",
    "testSum = 31557.30"
   ]
  },
  {
   "cell_type": "markdown",
   "metadata": {},
   "source": [
    "vtb24leasing.ru - Рассчитываем показатели"
   ]
  },
  {
   "cell_type": "code",
   "execution_count": 4,
   "metadata": {
    "collapsed": false
   },
   "outputs": [
    {
     "name": "stdout",
     "output_type": "stream",
     "text": [
      "[{'metrikalogin': 'vtb24leasing.ru@yandex.ru', 'projectid': 2410910L, 'domain': 'vtb24leasing.ru', 'metrikapassword': 'rt8lk9v6'}]\n",
      "{'Token': u'288e1aec99a34ab1be4991ac7841d14c', 'counterID': [7820509]}\n",
      "https://beta.api-metrika.yandex.ru/stat/v1/data.csv?dimensions=ym:s:dateTime&metrics=ym:s:visits,ym:s:goal16516325visits,ym:s:goal16516335visits,ym:s:goal16516330visits,ym:s:goal869704visits&date1=2016-03-04&date2=2016-04-12&ids=7820509&oauth_token=288e1aec99a34ab1be4991ac7841d14c&limit=100000&offset=1&filters=ym:s:UTMMedium=='direct'\n",
      "Общее количество визитов: 10279.0\n",
      "Общее количество выполнений целей: 83.0\n",
      "Общее количество звонков: 93\n",
      "Расход по контрольной выборке: 37253.67\n",
      "Расход по тестовой выборке: 31557.3\n",
      "Визиты по контрольной выборке: 5481.0\n",
      "Визиты по тестовой выборке: 4798.0\n",
      "Достижений целей+звонков по контрольной выборке: 82.0\n",
      "Достижений целей+звонков по тестовой выборке: 94.0\n",
      "Коэффициент конверсии в контрольной выборке: 1.49607735815\n",
      "Коэффициент конверсии в тестовой выборке: 1.95914964569\n",
      "CPA в контрольной выборке 454.31304878\n",
      "CPA в тестовой выборке 335.715957447\n"
     ]
    }
   ],
   "source": [
    "project = u'vtb24leasing.ru'\n",
    "VipProjectInfo = getVipProjectByDomain(project)\n",
    "print VipProjectInfo\n",
    "metrikaCredentials = getMetrikaCredentialsByLPD({'yandexLogin':VipProjectInfo[0]['metrikalogin'],\n",
    "                                                 'yandexPassword':VipProjectInfo[0]['metrikapassword'],\n",
    "                                                 'domain':VipProjectInfo[0]['domain']})\n",
    "\n",
    "print metrikaCredentials\n",
    "goalsMetrics = ','.join(['ym:s:goal'+str(target['targetid'])+'visits' for target in getCPATargetsByProjectID(VipProjectInfo[0]['projectid'])])\n",
    "otherMetrics = 'ym:s:visits'\n",
    "metrics = ','.join([otherMetrics,goalsMetrics])\n",
    "dimensions='ym:s:dateTime'\n",
    "date1 = controlStartDate\n",
    "date2 = endDate\n",
    "token = metrikaCredentials['Token']\n",
    "counterId = metrikaCredentials['counterID'][0]\n",
    "params = '&'.join(['dimensions={0}'.format(dimensions),\n",
    "                   'metrics={0}'.format(metrics),\n",
    "                   'date1={0}'.format(date1),\n",
    "                  'date2={0}'.format(date2),\n",
    "                  'ids={0}'.format(counterId),\n",
    "                  'oauth_token={0}'.format(token),\n",
    "                  'limit=100000',\n",
    "                  'offset=1',\n",
    "                  \"filters=ym:s:UTMMedium=='direct'\"])\n",
    "url = 'https://beta.api-metrika.yandex.ru/stat/v1/data.csv?'+params\n",
    "print url\n",
    "df = pd.read_csv(url,encoding='utf-8')\n",
    "total_visits = int(df[df[u'﻿\"Дата и время визита\"'] == u'Итого и средние'][u'Визиты'])\n",
    "current_visits = int(df[df[u'﻿\"Дата и время визита\"'] != u'Итого и средние'][u'Визиты'].sum())\n",
    "if current_visits < total_visits:\n",
    "    offset = 100001\n",
    "    while current_visits < total_visits:\n",
    "        params = '&'.join(['dimensions={0}'.format(dimensions),\n",
    "                   'metrics={0}'.format(metrics),\n",
    "                   'date1={0}'.format(date1),\n",
    "                  'date2={0}'.format(date2),\n",
    "                  'ids={0}'.format(counterId),\n",
    "                  'oauth_token={0}'.format(token),\n",
    "                  'limit=100000',\n",
    "                  'offset={0}'.format(offset),\n",
    "                  \"filters=ym:s:UTMMedium=='direct'\"])\n",
    "        url = 'https://beta.api-metrika.yandex.ru/stat/v1/data.csv?'+params\n",
    "        extra_df = pd.read_csv(url,encoding='utf-8')\n",
    "        total_df = pd.concat([df,extra_df])\n",
    "        df = total_df.reset_index(drop=True)\n",
    "        current_visits = int(df[df[u'﻿\"Дата и время визита\"'] != u'Итого и средние'][u'Визиты'].sum())\n",
    "        offset += 100000\n",
    "if len(df) < 500:\n",
    "    print 'Not enough data'\n",
    "else:\n",
    "    df.rename(columns={u'﻿\"Дата и время визита\"': 'datetime',\n",
    "                        u'Визиты': 'visits'\n",
    "                       }, inplace=True)\n",
    "    for i in xrange(0,len(df)):\n",
    "        df.loc[i,'sumCPAVisits'] = df.loc[i,[column for column in df.columns if u'Целевые визиты' in column]].sum()\n",
    "    df['domain'] = VipProjectInfo[0]['domain']\n",
    "    df = df[~df[u'datetime'].isin([u'Итого и средние'])]\n",
    "    cpaVisitsCount = df['sumCPAVisits'].sum()\n",
    "print 'Общее количество визитов:',df['visits'].sum()\n",
    "print 'Общее количество выполнений целей:',cpaVisitsCount\n",
    "df['datetime'] = pd.to_datetime(df['datetime'])\n",
    "df['hours'] = df['datetime'].dt.hour\n",
    "df['dayofweek'] = df['datetime'].dt.weekday\n",
    "df['date'] = df['datetime'].dt.date\n",
    "\n",
    "calls_df = pd.DataFrame(getDirectCallByProjectID(VipProjectInfo[0]['projectid'],date1,date2))\n",
    "calls_df = calls_df[calls_df['duration'] > 1]\n",
    "calls_df['datetime'] = pd.to_datetime(calls_df['date'])\n",
    "calls_df['hours'] = calls_df['date'].dt.hour\n",
    "calls_df['dayofweek'] = calls_df['date'].dt.weekday\n",
    "calls_df['date'] = calls_df['datetime'].dt.date\n",
    "calls_df = calls_df.drop_duplicates(subset=['phonenumbera'])\n",
    "print 'Общее количество звонков:',len(calls_df)\n",
    "\n",
    "grouped_calls = calls_df[['date','hours','dayofweek','phonenumbera']].groupby(['date','hours','dayofweek'],as_index=False).count().rename(columns={'phonenumbera':'calls'})\n",
    "grouped_visits = df[['date','hours','dayofweek','sumCPAVisits','visits']].groupby(['date','hours','dayofweek'],as_index=False).sum()\n",
    "merged_df = pd.merge(grouped_calls,grouped_visits,how='outer',on=['date','hours','dayofweek'])\n",
    "for i in xrange(0,len(merged_df)):\n",
    "    if (merged_df.loc[i,'date'] >= datetime.strptime(startDate,'%Y-%m-%d').date()) and (merged_df.loc[i,'date'] <= datetime.strptime(endDate,'%Y-%m-%d').date()):\n",
    "        merged_df.loc[i,'period'] = 'Test'\n",
    "    else:\n",
    "        merged_df.loc[i,'period'] = 'Control'\n",
    "\n",
    "print 'Расход по контрольной выборке:',controlSum\n",
    "print 'Расход по тестовой выборке:',testSum\n",
    "controlVisits = merged_df[merged_df['period'] == 'Control']['visits'].sum()\n",
    "testVisits = merged_df[merged_df['period'] == 'Test']['visits'].sum()\n",
    "print 'Визиты по контрольной выборке:',controlVisits\n",
    "print 'Визиты по тестовой выборке:',testVisits\n",
    "controlReaches = merged_df[merged_df['period'] == 'Control']['sumCPAVisits'].sum()+merged_df[merged_df['period'] == 'Control']['calls'].sum()\n",
    "testReaches = merged_df[merged_df['period'] == 'Test']['sumCPAVisits'].sum()+merged_df[merged_df['period'] == 'Test']['calls'].sum()\n",
    "print 'Достижений целей+звонков по контрольной выборке:',controlReaches\n",
    "print 'Достижений целей+звонков по тестовой выборке:',testReaches\n",
    "print 'Коэффициент конверсии в контрольной выборке:',controlReaches/controlVisits*100\n",
    "print 'Коэффициент конверсии в тестовой выборке:',testReaches/testVisits*100\n",
    "controlCpa = controlSum/controlReaches\n",
    "testCpa = testSum/testReaches\n",
    "print 'CPA в контрольной выборке',controlCpa\n",
    "print 'CPA в тестовой выборке',testCpa"
   ]
  },
  {
   "cell_type": "code",
   "execution_count": 5,
   "metadata": {
    "collapsed": true
   },
   "outputs": [],
   "source": [
    "merged_df.to_clipboard(decimal=',')"
   ]
  },
  {
   "cell_type": "markdown",
   "metadata": {},
   "source": [
    "restorate.ru - Определяем сумму расходов по контрольному и тестовому периоду"
   ]
  },
  {
   "cell_type": "code",
   "execution_count": 6,
   "metadata": {
    "collapsed": true
   },
   "outputs": [],
   "source": [
    "controlSum = 15317.98\n",
    "testSum = 10382.15"
   ]
  },
  {
   "cell_type": "code",
   "execution_count": 7,
   "metadata": {
    "collapsed": false
   },
   "outputs": [
    {
     "name": "stdout",
     "output_type": "stream",
     "text": [
      "[{'metrikalogin': 'RookeeXML@yandex.ru', 'projectid': 2406006L, 'domain': 'restorate.ru', 'metrikapassword': 'pass-RookeeXML'}]\n",
      "{'Token': u'71e4f97915d34895b4de3b45dbb6beef', 'counterID': [23008126]}\n",
      "https://beta.api-metrika.yandex.ru/stat/v1/data.csv?dimensions=ym:s:dateTime&metrics=ym:s:visits,ym:s:goal16355695visits&date1=2016-03-04&date2=2016-04-12&ids=23008126&oauth_token=71e4f97915d34895b4de3b45dbb6beef&limit=100000&offset=1&filters=ym:s:UTMMedium=='direct'\n",
      "Общее количество визитов: 1738.0\n",
      "Общее количество выполнений целей: 75.0\n",
      "Нет звонков\n",
      "Расход по контрольной выборке: 15317.98\n",
      "Расход по тестовой выборке: 10382.15\n",
      "Визиты по контрольной выборке: 1109.0\n",
      "Визиты по тестовой выборке: 629.0\n",
      "Достижений целей+звонков по контрольной выборке: 48.0\n",
      "Достижений целей+звонков по тестовой выборке: 27.0\n",
      "Коэффициент конверсии в контрольной выборке: 4.32822362489\n",
      "Коэффициент конверсии в тестовой выборке: 4.29252782194\n",
      "CPA в контрольной выборке 319.124583333\n",
      "CPA в тестовой выборке 384.524074074\n"
     ]
    }
   ],
   "source": [
    "project = u'restorate.ru'\n",
    "VipProjectInfo = getVipProjectByDomain(project)\n",
    "print VipProjectInfo\n",
    "metrikaCredentials = getMetrikaCredentialsByLPD({'yandexLogin':VipProjectInfo[0]['metrikalogin'],\n",
    "                                                 'yandexPassword':VipProjectInfo[0]['metrikapassword'],\n",
    "                                                 'domain':VipProjectInfo[0]['domain']})\n",
    "\n",
    "print metrikaCredentials\n",
    "goalsMetrics = ','.join(['ym:s:goal'+str(target['targetid'])+'visits' for target in getCPATargetsByProjectID(VipProjectInfo[0]['projectid'])])\n",
    "otherMetrics = 'ym:s:visits'\n",
    "metrics = ','.join([otherMetrics,goalsMetrics])\n",
    "dimensions='ym:s:dateTime'\n",
    "date1 = controlStartDate\n",
    "date2 = endDate\n",
    "token = metrikaCredentials['Token']\n",
    "counterId = metrikaCredentials['counterID'][0]\n",
    "params = '&'.join(['dimensions={0}'.format(dimensions),\n",
    "                   'metrics={0}'.format(metrics),\n",
    "                   'date1={0}'.format(date1),\n",
    "                  'date2={0}'.format(date2),\n",
    "                  'ids={0}'.format(counterId),\n",
    "                  'oauth_token={0}'.format(token),\n",
    "                  'limit=100000',\n",
    "                  'offset=1',\n",
    "                  \"filters=ym:s:UTMMedium=='direct'\"])\n",
    "url = 'https://beta.api-metrika.yandex.ru/stat/v1/data.csv?'+params\n",
    "print url\n",
    "df = pd.read_csv(url,encoding='utf-8')\n",
    "total_visits = int(df[df[u'﻿\"Дата и время визита\"'] == u'Итого и средние'][u'Визиты'])\n",
    "current_visits = int(df[df[u'﻿\"Дата и время визита\"'] != u'Итого и средние'][u'Визиты'].sum())\n",
    "if current_visits < total_visits:\n",
    "    offset = 100001\n",
    "    while current_visits < total_visits:\n",
    "        params = '&'.join(['dimensions={0}'.format(dimensions),\n",
    "                   'metrics={0}'.format(metrics),\n",
    "                   'date1={0}'.format(date1),\n",
    "                  'date2={0}'.format(date2),\n",
    "                  'ids={0}'.format(counterId),\n",
    "                  'oauth_token={0}'.format(token),\n",
    "                  'limit=100000',\n",
    "                  'offset={0}'.format(offset),\n",
    "                  \"filters=ym:s:UTMMedium=='direct'\"])\n",
    "        url = 'https://beta.api-metrika.yandex.ru/stat/v1/data.csv?'+params\n",
    "        extra_df = pd.read_csv(url,encoding='utf-8')\n",
    "        total_df = pd.concat([df,extra_df])\n",
    "        df = total_df.reset_index(drop=True)\n",
    "        current_visits = int(df[df[u'﻿\"Дата и время визита\"'] != u'Итого и средние'][u'Визиты'].sum())\n",
    "        offset += 100000\n",
    "if len(df) < 500:\n",
    "    print 'Not enough data'\n",
    "else:\n",
    "    df.rename(columns={u'﻿\"Дата и время визита\"': 'datetime',\n",
    "                        u'Визиты': 'visits'\n",
    "                       }, inplace=True)\n",
    "    for i in xrange(0,len(df)):\n",
    "        df.loc[i,'sumCPAVisits'] = df.loc[i,[column for column in df.columns if u'Целевые визиты' in column]].sum()\n",
    "    df['domain'] = VipProjectInfo[0]['domain']\n",
    "    df = df[~df[u'datetime'].isin([u'Итого и средние'])]\n",
    "    cpaVisitsCount = df['sumCPAVisits'].sum()\n",
    "print 'Общее количество визитов:',df['visits'].sum()\n",
    "print 'Общее количество выполнений целей:',cpaVisitsCount\n",
    "df['datetime'] = pd.to_datetime(df['datetime'])\n",
    "df['hours'] = df['datetime'].dt.hour\n",
    "df['dayofweek'] = df['datetime'].dt.weekday\n",
    "df['date'] = df['datetime'].dt.date\n",
    "\n",
    "calls_df = pd.DataFrame(getDirectCallByProjectID(VipProjectInfo[0]['projectid'],date1,date2))\n",
    "if len(calls_df) > 0:\n",
    "    calls_df = calls_df[calls_df['duration'] > 1]\n",
    "    calls_df['datetime'] = pd.to_datetime(calls_df['date'])\n",
    "    calls_df['hours'] = calls_df['date'].dt.hour\n",
    "    calls_df['dayofweek'] = calls_df['date'].dt.weekday\n",
    "    calls_df['date'] = calls_df['datetime'].dt.date\n",
    "    calls_df = calls_df.drop_duplicates(subset=['phonenumbera'])\n",
    "    print 'Общее количество звонков:',len(calls_df)\n",
    "else:\n",
    "    print 'Нет звонков'\n",
    "\n",
    "if len(calls_df) > 0:\n",
    "    grouped_calls = calls_df[['date','hours','dayofweek','phonenumbera']].groupby(['date','hours','dayofweek'],as_index=False).count().rename(columns={'phonenumbera':'calls'})\n",
    "grouped_visits = df[['date','hours','dayofweek','sumCPAVisits','visits']].groupby(['date','hours','dayofweek'],as_index=False).sum()\n",
    "if len(calls_df) > 0:\n",
    "    merged_df = pd.merge(grouped_calls,grouped_visits,how='outer',on=['date','hours','dayofweek'])\n",
    "else:\n",
    "    merged_df = grouped_visits\n",
    "for i in xrange(0,len(merged_df)):\n",
    "    if (merged_df.loc[i,'date'] >= datetime.strptime(startDate,'%Y-%m-%d').date()) and (merged_df.loc[i,'date'] <= datetime.strptime(endDate,'%Y-%m-%d').date()):\n",
    "        merged_df.loc[i,'period'] = 'Test'\n",
    "    else:\n",
    "        merged_df.loc[i,'period'] = 'Control'\n",
    "\n",
    "print 'Расход по контрольной выборке:',controlSum\n",
    "print 'Расход по тестовой выборке:',testSum\n",
    "controlVisits = merged_df[merged_df['period'] == 'Control']['visits'].sum()\n",
    "testVisits = merged_df[merged_df['period'] == 'Test']['visits'].sum()\n",
    "print 'Визиты по контрольной выборке:',controlVisits\n",
    "print 'Визиты по тестовой выборке:',testVisits\n",
    "if len(calls_df) > 0:\n",
    "    controlReaches = merged_df[merged_df['period'] == 'Control']['sumCPAVisits'].sum()+merged_df[merged_df['period'] == 'Control']['calls'].sum()\n",
    "    testReaches = merged_df[merged_df['period'] == 'Test']['sumCPAVisits'].sum()+merged_df[merged_df['period'] == 'Test']['calls'].sum()\n",
    "else:\n",
    "    controlReaches = merged_df[merged_df['period'] == 'Control']['sumCPAVisits'].sum()\n",
    "    testReaches = merged_df[merged_df['period'] == 'Test']['sumCPAVisits'].sum()\n",
    "print 'Достижений целей+звонков по контрольной выборке:',controlReaches\n",
    "print 'Достижений целей+звонков по тестовой выборке:',testReaches\n",
    "print 'Коэффициент конверсии в контрольной выборке:',controlReaches/controlVisits*100\n",
    "print 'Коэффициент конверсии в тестовой выборке:',testReaches/testVisits*100\n",
    "controlCpa = controlSum/controlReaches\n",
    "testCpa = testSum/testReaches\n",
    "print 'CPA в контрольной выборке',controlCpa\n",
    "print 'CPA в тестовой выборке',testCpa"
   ]
  },
  {
   "cell_type": "code",
   "execution_count": 8,
   "metadata": {
    "collapsed": true
   },
   "outputs": [],
   "source": [
    "merged_df.to_clipboard(decimal=',')"
   ]
  },
  {
   "cell_type": "code",
   "execution_count": null,
   "metadata": {
    "collapsed": true
   },
   "outputs": [],
   "source": []
  }
 ],
 "metadata": {
  "kernelspec": {
   "display_name": "Python 2",
   "language": "python",
   "name": "python2"
  },
  "language_info": {
   "codemirror_mode": {
    "name": "ipython",
    "version": 2
   },
   "file_extension": ".py",
   "mimetype": "text/x-python",
   "name": "python",
   "nbconvert_exporter": "python",
   "pygments_lexer": "ipython2",
   "version": "2.7.11"
  }
 },
 "nbformat": 4,
 "nbformat_minor": 0
}
