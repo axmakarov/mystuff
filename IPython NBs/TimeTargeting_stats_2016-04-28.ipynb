{
 "cells": [
  {
   "cell_type": "code",
   "execution_count": 1,
   "metadata": {
    "collapsed": true
   },
   "outputs": [],
   "source": [
    "import json\n",
    "import requests\n",
    "from datetime import timedelta, datetime\n",
    "from operator import itemgetter\n",
    "import pandas as pd\n",
    "from sklearn import linear_model, metrics\n",
    "from sklearn import preprocessing\n",
    "from scipy import stats\n",
    "from sklearn.kernel_ridge import KernelRidge\n",
    "from sklearn.svm import SVR\n",
    "import matplotlib\n",
    "import numpy as np\n",
    "import matplotlib.pyplot as plt\n",
    "%matplotlib inline  \n",
    "\n",
    "def createOlapPayload(sources,metrics,dimensions,startDate,endDate,filters):\n",
    "\tdata = {}\n",
    "\tdata['sources'] = sources\n",
    "\tdata['metrics'] = metrics\n",
    "\ti = 1\n",
    "\tdimensionsDict = {}\n",
    "\tfor dimension in dimensions:\n",
    "\t\tdimensionsDict[dimension] = i\n",
    "\t\ti += 1\n",
    "\tdata['dimensions'] = dimensionsDict\n",
    "\tdate1 = datetime.strptime(startDate,'%Y-%m-%d').strftime(\"%Y-%m-%d\")\n",
    "\tdate2 = (datetime.strptime(endDate,'%Y-%m-%d') + timedelta(1)).strftime(\"%Y-%m-%d\")\n",
    "\tsegments = []\n",
    "\tsegmentsDict = {}\n",
    "\tsegmentsDict['dateStart'] = \"{0}T00:00:00+03:00\".format(date1)\n",
    "\tsegmentsDict['dateEnd'] = \"{0}T00:00:00+03:00\".format(date2)\n",
    "\tsegmentsDict['filters'] = {}\n",
    "\tfor filterKey, filterValue in filters.iteritems():\n",
    "\t\tsegmentsDict['filters'][filterKey] = {}\n",
    "\t\tsegmentsDict['filters'][filterKey]['type'] = 'DIMENSION'\n",
    "\t\tsegmentsDict['filters'][filterKey]['ids'] = filterValue\n",
    "\tsegments.append(segmentsDict)\n",
    "\tdata['segments'] = segments\n",
    "\treturn data\n",
    "\n",
    "def getJSONOlapResponse(data):\n",
    "\turl = 'http://192.168.10.6:4000/api/OLAP/Plain'\n",
    "\theaders = {'Content-Type': 'application/json'}\n",
    "\tresponse = requests.post(url,data,headers=headers)\n",
    "\treturn json.loads(response.text)\n",
    "\n",
    "def transformOlapResponse(response,payload):\n",
    "\tdata = []\n",
    "\tdimensionsList = [{'key': k, 'value': v} for k,v in payload['dimensions'].iteritems()]\n",
    "\tdimensionsList = sorted(dimensionsList, key=itemgetter('value'))\n",
    "\tfor item in response:\n",
    "\t\ti = 0\n",
    "\t\tdataDict = {}\n",
    "\t\tfor dimensionValue in item['dimensions']:\n",
    "\t\t\tdimensionName = dimensionsList[i]['key']\n",
    "\t\t\tdataDict[dimensionName] = dimensionValue\n",
    "\t\t\ti += 1\n",
    "\t\tmetrics = item['value'][0]\n",
    "\t\tfor k,v in metrics.iteritems():\n",
    "\t\t\tdataDict[k] = v\n",
    "\t\tdata.append(dataDict)\n",
    "\treturn data"
   ]
  },
  {
   "cell_type": "code",
   "execution_count": 2,
   "metadata": {
    "collapsed": false
   },
   "outputs": [
    {
     "ename": "ValueError",
     "evalue": "No JSON object could be decoded",
     "output_type": "error",
     "traceback": [
      "\u001b[1;31m---------------------------------------------------------------------------\u001b[0m",
      "\u001b[1;31mValueError\u001b[0m                                Traceback (most recent call last)",
      "\u001b[1;32m<ipython-input-2-260c6a38f523>\u001b[0m in \u001b[0;36m<module>\u001b[1;34m()\u001b[0m\n\u001b[0;32m      7\u001b[0m \u001b[0mendDate\u001b[0m \u001b[1;33m=\u001b[0m \u001b[1;34m'2016-03-27'\u001b[0m\u001b[1;33m\u001b[0m\u001b[0m\n\u001b[0;32m      8\u001b[0m \u001b[0mpayload\u001b[0m \u001b[1;33m=\u001b[0m \u001b[0mcreateOlapPayload\u001b[0m\u001b[1;33m(\u001b[0m\u001b[0msources\u001b[0m\u001b[1;33m,\u001b[0m\u001b[0mmetrics\u001b[0m\u001b[1;33m,\u001b[0m\u001b[0mdimensions\u001b[0m\u001b[1;33m,\u001b[0m\u001b[0mstartDate\u001b[0m\u001b[1;33m,\u001b[0m\u001b[0mendDate\u001b[0m\u001b[1;33m,\u001b[0m\u001b[0mfilters\u001b[0m\u001b[1;33m)\u001b[0m\u001b[1;33m\u001b[0m\u001b[0m\n\u001b[1;32m----> 9\u001b[1;33m \u001b[0mresponse\u001b[0m \u001b[1;33m=\u001b[0m \u001b[0mgetJSONOlapResponse\u001b[0m\u001b[1;33m(\u001b[0m\u001b[0mjson\u001b[0m\u001b[1;33m.\u001b[0m\u001b[0mdumps\u001b[0m\u001b[1;33m(\u001b[0m\u001b[0mpayload\u001b[0m\u001b[1;33m)\u001b[0m\u001b[1;33m)\u001b[0m\u001b[1;33m\u001b[0m\u001b[0m\n\u001b[0m\u001b[0;32m     10\u001b[0m \u001b[0mdata\u001b[0m \u001b[1;33m=\u001b[0m \u001b[0mtransformOlapResponse\u001b[0m\u001b[1;33m(\u001b[0m\u001b[0mresponse\u001b[0m\u001b[1;33m,\u001b[0m\u001b[0mpayload\u001b[0m\u001b[1;33m)\u001b[0m\u001b[1;33m\u001b[0m\u001b[0m\n\u001b[0;32m     11\u001b[0m \u001b[0mdf\u001b[0m \u001b[1;33m=\u001b[0m \u001b[0mpd\u001b[0m\u001b[1;33m.\u001b[0m\u001b[0mDataFrame\u001b[0m\u001b[1;33m(\u001b[0m\u001b[0mdata\u001b[0m\u001b[1;33m)\u001b[0m\u001b[1;33m\u001b[0m\u001b[0m\n",
      "\u001b[1;32m<ipython-input-1-0a89bbaaf738>\u001b[0m in \u001b[0;36mgetJSONOlapResponse\u001b[1;34m(data)\u001b[0m\n\u001b[0;32m     43\u001b[0m         \u001b[0mheaders\u001b[0m \u001b[1;33m=\u001b[0m \u001b[1;33m{\u001b[0m\u001b[1;34m'Content-Type'\u001b[0m\u001b[1;33m:\u001b[0m \u001b[1;34m'application/json'\u001b[0m\u001b[1;33m}\u001b[0m\u001b[1;33m\u001b[0m\u001b[0m\n\u001b[0;32m     44\u001b[0m         \u001b[0mresponse\u001b[0m \u001b[1;33m=\u001b[0m \u001b[0mrequests\u001b[0m\u001b[1;33m.\u001b[0m\u001b[0mpost\u001b[0m\u001b[1;33m(\u001b[0m\u001b[0murl\u001b[0m\u001b[1;33m,\u001b[0m\u001b[0mdata\u001b[0m\u001b[1;33m,\u001b[0m\u001b[0mheaders\u001b[0m\u001b[1;33m=\u001b[0m\u001b[0mheaders\u001b[0m\u001b[1;33m)\u001b[0m\u001b[1;33m\u001b[0m\u001b[0m\n\u001b[1;32m---> 45\u001b[1;33m         \u001b[1;32mreturn\u001b[0m \u001b[0mjson\u001b[0m\u001b[1;33m.\u001b[0m\u001b[0mloads\u001b[0m\u001b[1;33m(\u001b[0m\u001b[0mresponse\u001b[0m\u001b[1;33m.\u001b[0m\u001b[0mtext\u001b[0m\u001b[1;33m)\u001b[0m\u001b[1;33m\u001b[0m\u001b[0m\n\u001b[0m\u001b[0;32m     46\u001b[0m \u001b[1;33m\u001b[0m\u001b[0m\n\u001b[0;32m     47\u001b[0m \u001b[1;32mdef\u001b[0m \u001b[0mtransformOlapResponse\u001b[0m\u001b[1;33m(\u001b[0m\u001b[0mresponse\u001b[0m\u001b[1;33m,\u001b[0m\u001b[0mpayload\u001b[0m\u001b[1;33m)\u001b[0m\u001b[1;33m:\u001b[0m\u001b[1;33m\u001b[0m\u001b[0m\n",
      "\u001b[1;32mC:\\Users\\aleksey.makarov\\AppData\\Local\\Continuum\\Anaconda\\lib\\json\\__init__.pyc\u001b[0m in \u001b[0;36mloads\u001b[1;34m(s, encoding, cls, object_hook, parse_float, parse_int, parse_constant, object_pairs_hook, **kw)\u001b[0m\n\u001b[0;32m    337\u001b[0m             \u001b[0mparse_int\u001b[0m \u001b[1;32mis\u001b[0m \u001b[0mNone\u001b[0m \u001b[1;32mand\u001b[0m \u001b[0mparse_float\u001b[0m \u001b[1;32mis\u001b[0m \u001b[0mNone\u001b[0m \u001b[1;32mand\u001b[0m\u001b[1;33m\u001b[0m\u001b[0m\n\u001b[0;32m    338\u001b[0m             parse_constant is None and object_pairs_hook is None and not kw):\n\u001b[1;32m--> 339\u001b[1;33m         \u001b[1;32mreturn\u001b[0m \u001b[0m_default_decoder\u001b[0m\u001b[1;33m.\u001b[0m\u001b[0mdecode\u001b[0m\u001b[1;33m(\u001b[0m\u001b[0ms\u001b[0m\u001b[1;33m)\u001b[0m\u001b[1;33m\u001b[0m\u001b[0m\n\u001b[0m\u001b[0;32m    340\u001b[0m     \u001b[1;32mif\u001b[0m \u001b[0mcls\u001b[0m \u001b[1;32mis\u001b[0m \u001b[0mNone\u001b[0m\u001b[1;33m:\u001b[0m\u001b[1;33m\u001b[0m\u001b[0m\n\u001b[0;32m    341\u001b[0m         \u001b[0mcls\u001b[0m \u001b[1;33m=\u001b[0m \u001b[0mJSONDecoder\u001b[0m\u001b[1;33m\u001b[0m\u001b[0m\n",
      "\u001b[1;32mC:\\Users\\aleksey.makarov\\AppData\\Local\\Continuum\\Anaconda\\lib\\json\\decoder.pyc\u001b[0m in \u001b[0;36mdecode\u001b[1;34m(self, s, _w)\u001b[0m\n\u001b[0;32m    362\u001b[0m \u001b[1;33m\u001b[0m\u001b[0m\n\u001b[0;32m    363\u001b[0m         \"\"\"\n\u001b[1;32m--> 364\u001b[1;33m         \u001b[0mobj\u001b[0m\u001b[1;33m,\u001b[0m \u001b[0mend\u001b[0m \u001b[1;33m=\u001b[0m \u001b[0mself\u001b[0m\u001b[1;33m.\u001b[0m\u001b[0mraw_decode\u001b[0m\u001b[1;33m(\u001b[0m\u001b[0ms\u001b[0m\u001b[1;33m,\u001b[0m \u001b[0midx\u001b[0m\u001b[1;33m=\u001b[0m\u001b[0m_w\u001b[0m\u001b[1;33m(\u001b[0m\u001b[0ms\u001b[0m\u001b[1;33m,\u001b[0m \u001b[1;36m0\u001b[0m\u001b[1;33m)\u001b[0m\u001b[1;33m.\u001b[0m\u001b[0mend\u001b[0m\u001b[1;33m(\u001b[0m\u001b[1;33m)\u001b[0m\u001b[1;33m)\u001b[0m\u001b[1;33m\u001b[0m\u001b[0m\n\u001b[0m\u001b[0;32m    365\u001b[0m         \u001b[0mend\u001b[0m \u001b[1;33m=\u001b[0m \u001b[0m_w\u001b[0m\u001b[1;33m(\u001b[0m\u001b[0ms\u001b[0m\u001b[1;33m,\u001b[0m \u001b[0mend\u001b[0m\u001b[1;33m)\u001b[0m\u001b[1;33m.\u001b[0m\u001b[0mend\u001b[0m\u001b[1;33m(\u001b[0m\u001b[1;33m)\u001b[0m\u001b[1;33m\u001b[0m\u001b[0m\n\u001b[0;32m    366\u001b[0m         \u001b[1;32mif\u001b[0m \u001b[0mend\u001b[0m \u001b[1;33m!=\u001b[0m \u001b[0mlen\u001b[0m\u001b[1;33m(\u001b[0m\u001b[0ms\u001b[0m\u001b[1;33m)\u001b[0m\u001b[1;33m:\u001b[0m\u001b[1;33m\u001b[0m\u001b[0m\n",
      "\u001b[1;32mC:\\Users\\aleksey.makarov\\AppData\\Local\\Continuum\\Anaconda\\lib\\json\\decoder.pyc\u001b[0m in \u001b[0;36mraw_decode\u001b[1;34m(self, s, idx)\u001b[0m\n\u001b[0;32m    380\u001b[0m             \u001b[0mobj\u001b[0m\u001b[1;33m,\u001b[0m \u001b[0mend\u001b[0m \u001b[1;33m=\u001b[0m \u001b[0mself\u001b[0m\u001b[1;33m.\u001b[0m\u001b[0mscan_once\u001b[0m\u001b[1;33m(\u001b[0m\u001b[0ms\u001b[0m\u001b[1;33m,\u001b[0m \u001b[0midx\u001b[0m\u001b[1;33m)\u001b[0m\u001b[1;33m\u001b[0m\u001b[0m\n\u001b[0;32m    381\u001b[0m         \u001b[1;32mexcept\u001b[0m \u001b[0mStopIteration\u001b[0m\u001b[1;33m:\u001b[0m\u001b[1;33m\u001b[0m\u001b[0m\n\u001b[1;32m--> 382\u001b[1;33m             \u001b[1;32mraise\u001b[0m \u001b[0mValueError\u001b[0m\u001b[1;33m(\u001b[0m\u001b[1;34m\"No JSON object could be decoded\"\u001b[0m\u001b[1;33m)\u001b[0m\u001b[1;33m\u001b[0m\u001b[0m\n\u001b[0m\u001b[0;32m    383\u001b[0m         \u001b[1;32mreturn\u001b[0m \u001b[0mobj\u001b[0m\u001b[1;33m,\u001b[0m \u001b[0mend\u001b[0m\u001b[1;33m\u001b[0m\u001b[0m\n",
      "\u001b[1;31mValueError\u001b[0m: No JSON object could be decoded"
     ]
    }
   ],
   "source": [
    "filters = {'campaignTypeId': ['1','2'], 'campaignExternalId': [\"16235643\",\"16225787\",\"16235646\",\"15220880\",\"15347849\",\"13007173\",\"1301025\",\"14258995\",\"10781855\",\"13102809\",\"13029234\",\"13028622\",\"15808246\",\"15808840\",\"17810872\",\"16040960\",\"16040964\",\"16040962\",\"15476048\",\"16253530\",\"14621066\",\n",
    "\"15682873\",\"11894512\",\"10730032\",\"14022527\",\"13500701\"]}\n",
    "sources = [\"direct_conversion\",\"metrika\"]\n",
    "metrics = [\"clicks\",\"spent\",\"shows\",\"visits\",\"cpaVisits\"]\n",
    "dimensions = [\"dateDay\"]\n",
    "startDate = '2016-04-13'\n",
    "endDate = '2016-03-27'\n",
    "payload = createOlapPayload(sources,metrics,dimensions,startDate,endDate,filters)\n",
    "response = getJSONOlapResponse(json.dumps(payload))\n",
    "data = transformOlapResponse(response,payload)\n",
    "df = pd.DataFrame(data)\n",
    "df['dateDay'] = pd.to_datetime(df['dateDay'])"
   ]
  },
  {
   "cell_type": "code",
   "execution_count": 5,
   "metadata": {
    "collapsed": false
   },
   "outputs": [],
   "source": [
    "url = 'http://192.168.10.6:4000/api/OLAP/Plain'\n",
    "headers = {'Content-Type': 'application/json'}\n",
    "response = requests.post(url,json.dumps(payload),headers=headers)"
   ]
  },
  {
   "cell_type": "code",
   "execution_count": 10,
   "metadata": {
    "collapsed": false
   },
   "outputs": [
    {
     "data": {
      "text/plain": [
       "'{\"metrics\": [\"clicks\", \"spent\", \"shows\", \"visits\", \"cpaVisits\"], \"sources\": [\"direct_conversion\", \"metrika\"], \"segments\": [{\"dateStart\": \"2016-04-13T00:00:00+03:00\", \"dateEnd\": \"2016-03-28T00:00:00+03:00\", \"filters\": {\"campaignTypeId\": {\"type\": \"DIMENSION\", \"ids\": [\"1\", \"2\"]}, \"campaignExternalId\": {\"type\": \"DIMENSION\", \"ids\": [\"16235643\", \"16225787\", \"16235646\", \"15220880\", \"15347849\", \"13007173\", \"1301025\", \"14258995\", \"10781855\", \"13102809\", \"13029234\", \"13028622\", \"15808246\", \"15808840\", \"17810872\", \"16040960\", \"16040964\", \"16040962\", \"15476048\", \"16253530\", \"14621066\", \"15682873\", \"11894512\", \"10730032\", \"14022527\", \"13500701\"]}}}], \"dimensions\": {\"dateDay\": 1}}'"
      ]
     },
     "execution_count": 10,
     "metadata": {},
     "output_type": "execute_result"
    }
   ],
   "source": [
    "json.dumps(payload)"
   ]
  },
  {
   "cell_type": "code",
   "execution_count": 11,
   "metadata": {
    "collapsed": true
   },
   "outputs": [],
   "source": [
    "response = requests.post(url,json.dumps(payload),headers=headers)"
   ]
  },
  {
   "cell_type": "code",
   "execution_count": 12,
   "metadata": {
    "collapsed": false
   },
   "outputs": [
    {
     "data": {
      "text/plain": [
       "u'<!DOCTYPE html><html><head><title>Apache Tomcat/8.0.21 - Error report</title><style type=\"text/css\">H1 {font-family:Tahoma,Arial,sans-serif;color:white;background-color:#525D76;font-size:22px;} H2 {font-family:Tahoma,Arial,sans-serif;color:white;background-color:#525D76;font-size:16px;} H3 {font-family:Tahoma,Arial,sans-serif;color:white;background-color:#525D76;font-size:14px;} BODY {font-family:Tahoma,Arial,sans-serif;color:black;background-color:white;} B {font-family:Tahoma,Arial,sans-serif;color:white;background-color:#525D76;} P {font-family:Tahoma,Arial,sans-serif;background:white;color:black;font-size:12px;}A {color : black;}A.name {color : black;}.line {height: 1px; background-color: #525D76; border: none;}</style> </head><body><h1>HTTP Status 500 - org.glassfish.jersey.server.ContainerException: java.io.IOException: Server returned HTTP response code: 500 for URL: http://192.168.10.5:8083/druid/v2/</h1><div class=\"line\"></div><p><b>type</b> Exception report</p><p><b>message</b> <u>org.glassfish.jersey.server.ContainerException: java.io.IOException: Server returned HTTP response code: 500 for URL: http://192.168.10.5:8083/druid/v2/</u></p><p><b>description</b> <u>The server encountered an internal error that prevented it from fulfilling this request.</u></p><p><b>exception</b></p><pre>javax.servlet.ServletException: org.glassfish.jersey.server.ContainerException: java.io.IOException: Server returned HTTP response code: 500 for URL: http://192.168.10.5:8083/druid/v2/\\n\\torg.glassfish.jersey.servlet.WebComponent.service(WebComponent.java:421)\\n\\torg.glassfish.jersey.servlet.ServletContainer.service(ServletContainer.java:386)\\n\\torg.glassfish.jersey.servlet.ServletContainer.service(ServletContainer.java:335)\\n\\torg.glassfish.jersey.servlet.ServletContainer.service(ServletContainer.java:222)\\n\\torg.apache.tomcat.websocket.server.WsFilter.doFilter(WsFilter.java:52)\\n</pre><p><b>root cause</b></p><pre>org.glassfish.jersey.server.ContainerException: java.io.IOException: Server returned HTTP response code: 500 for URL: http://192.168.10.5:8083/druid/v2/\\n\\torg.glassfish.jersey.servlet.internal.ResponseWriter.rethrow(ResponseWriter.java:256)\\n\\torg.glassfish.jersey.servlet.internal.ResponseWriter.failure(ResponseWriter.java:238)\\n\\torg.glassfish.jersey.server.ServerRuntime$Responder.process(ServerRuntime.java:483)\\n\\torg.glassfish.jersey.server.ServerRuntime$2.run(ServerRuntime.java:313)\\n\\torg.glassfish.jersey.internal.Errors$1.call(Errors.java:271)\\n\\torg.glassfish.jersey.internal.Errors$1.call(Errors.java:267)\\n\\torg.glassfish.jersey.internal.Errors.process(Errors.java:315)\\n\\torg.glassfish.jersey.internal.Errors.process(Errors.java:297)\\n\\torg.glassfish.jersey.internal.Errors.process(Errors.java:267)\\n\\torg.glassfish.jersey.process.internal.RequestScope.runInScope(RequestScope.java:317)\\n\\torg.glassfish.jersey.server.ServerRuntime.process(ServerRuntime.java:288)\\n\\torg.glassfish.jersey.server.ApplicationHandler.handle(ApplicationHandler.java:1110)\\n\\torg.glassfish.jersey.servlet.WebComponent.service(WebComponent.java:401)\\n\\torg.glassfish.jersey.servlet.ServletContainer.service(ServletContainer.java:386)\\n\\torg.glassfish.jersey.servlet.ServletContainer.service(ServletContainer.java:335)\\n\\torg.glassfish.jersey.servlet.ServletContainer.service(ServletContainer.java:222)\\n\\torg.apache.tomcat.websocket.server.WsFilter.doFilter(WsFilter.java:52)\\n</pre><p><b>root cause</b></p><pre>java.io.IOException: Server returned HTTP response code: 500 for URL: http://192.168.10.5:8083/druid/v2/\\n\\tsun.net.www.protocol.http.HttpURLConnection.getInputStream0(HttpURLConnection.java:1840)\\n\\tsun.net.www.protocol.http.HttpURLConnection.getInputStream(HttpURLConnection.java:1441)\\n\\tru.ingate.clairvoyant.api.olap.OlapCubeGetter.invokeDruid(OlapCubeGetter.java:116)\\n\\tru.ingate.clairvoyant.api.olap.OlapCubeGetter.createCube(OlapCubeGetter.java:67)\\n\\tru.ingate.clairvoyant.api.olap.OlapCubeCreator.init(OlapCubeCreator.java:55)\\n\\tru.ingate.clairvoyant.api.olap.OlapResource.plain(OlapResource.java:61)\\n\\tsun.reflect.GeneratedMethodAccessor26.invoke(Unknown Source)\\n\\tsun.reflect.DelegatingMethodAccessorImpl.invoke(DelegatingMethodAccessorImpl.java:43)\\n\\tjava.lang.reflect.Method.invoke(Method.java:498)\\n\\torg.glassfish.jersey.server.model.internal.ResourceMethodInvocationHandlerFactory$1.invoke(ResourceMethodInvocationHandlerFactory.java:81)\\n\\torg.glassfish.jersey.server.model.internal.AbstractJavaResourceMethodDispatcher$1.run(AbstractJavaResourceMethodDispatcher.java:164)\\n\\torg.glassfish.jersey.server.model.internal.AbstractJavaResourceMethodDispatcher.invoke(AbstractJavaResourceMethodDispatcher.java:181)\\n\\torg.glassfish.jersey.server.model.internal.JavaResourceMethodDispatcherProvider$TypeOutInvoker.doDispatch(JavaResourceMethodDispatcherProvider.java:203)\\n\\torg.glassfish.jersey.server.model.internal.AbstractJavaResourceMethodDispatcher.dispatch(AbstractJavaResourceMethodDispatcher.java:101)\\n\\torg.glassfish.jersey.server.model.ResourceMethodInvoker.invoke(ResourceMethodInvoker.java:389)\\n\\torg.glassfish.jersey.server.model.ResourceMethodInvoker.apply(ResourceMethodInvoker.java:347)\\n\\torg.glassfish.jersey.server.model.ResourceMethodInvoker.apply(ResourceMethodInvoker.java:102)\\n\\torg.glassfish.jersey.server.ServerRuntime$2.run(ServerRuntime.java:305)\\n\\torg.glassfish.jersey.internal.Errors$1.call(Errors.java:271)\\n\\torg.glassfish.jersey.internal.Errors$1.call(Errors.java:267)\\n\\torg.glassfish.jersey.internal.Errors.process(Errors.java:315)\\n\\torg.glassfish.jersey.internal.Errors.process(Errors.java:297)\\n\\torg.glassfish.jersey.internal.Errors.process(Errors.java:267)\\n\\torg.glassfish.jersey.process.internal.RequestScope.runInScope(RequestScope.java:317)\\n\\torg.glassfish.jersey.server.ServerRuntime.process(ServerRuntime.java:288)\\n\\torg.glassfish.jersey.server.ApplicationHandler.handle(ApplicationHandler.java:1110)\\n\\torg.glassfish.jersey.servlet.WebComponent.service(WebComponent.java:401)\\n\\torg.glassfish.jersey.servlet.ServletContainer.service(ServletContainer.java:386)\\n\\torg.glassfish.jersey.servlet.ServletContainer.service(ServletContainer.java:335)\\n\\torg.glassfish.jersey.servlet.ServletContainer.service(ServletContainer.java:222)\\n\\torg.apache.tomcat.websocket.server.WsFilter.doFilter(WsFilter.java:52)\\n</pre><p><b>note</b> <u>The full stack trace of the root cause is available in the Apache Tomcat/8.0.21 logs.</u></p><hr class=\"line\"><h3>Apache Tomcat/8.0.21</h3></body></html>'"
      ]
     },
     "execution_count": 12,
     "metadata": {},
     "output_type": "execute_result"
    }
   ],
   "source": [
    "response.text"
   ]
  },
  {
   "cell_type": "code",
   "execution_count": 13,
   "metadata": {
    "collapsed": false
   },
   "outputs": [
    {
     "data": {
      "text/plain": [
       "[(1, 4), (2, 5), (3, 6)]"
      ]
     },
     "execution_count": 13,
     "metadata": {},
     "output_type": "execute_result"
    }
   ],
   "source": [
    "a = [1,2,3]\n",
    "b = [4,5,6]\n",
    "zip(a,b)"
   ]
  },
  {
   "cell_type": "code",
   "execution_count": 15,
   "metadata": {
    "collapsed": false
   },
   "outputs": [
    {
     "data": {
      "text/plain": [
       "[4, 10, 18]"
      ]
     },
     "execution_count": 15,
     "metadata": {},
     "output_type": "execute_result"
    }
   ],
   "source": [
    "[clicks*cpc for clicks,cpc in zip(a,b)]"
   ]
  },
  {
   "cell_type": "code",
   "execution_count": null,
   "metadata": {
    "collapsed": true
   },
   "outputs": [],
   "source": []
  }
 ],
 "metadata": {
  "kernelspec": {
   "display_name": "Python 2",
   "language": "python",
   "name": "python2"
  },
  "language_info": {
   "codemirror_mode": {
    "name": "ipython",
    "version": 2
   },
   "file_extension": ".py",
   "mimetype": "text/x-python",
   "name": "python",
   "nbconvert_exporter": "python",
   "pygments_lexer": "ipython2",
   "version": "2.7.11"
  }
 },
 "nbformat": 4,
 "nbformat_minor": 0
}
