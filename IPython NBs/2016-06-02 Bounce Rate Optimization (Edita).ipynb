{
 "cells": [
  {
   "cell_type": "code",
   "execution_count": 32,
   "metadata": {
    "collapsed": false
   },
   "outputs": [
    {
     "name": "stdout",
     "output_type": "stream",
     "text": [
      "3c5eb5525a384b4ba57969c574cae880\n",
      "27852579\n"
     ]
    }
   ],
   "source": [
    "import pandas as pd\n",
    "from pandas import ExcelWriter\n",
    "%run 'D:\\\\dev\\\\prod\\\\metrikaHelper.py'\n",
    "login = 'artemtula.filin@yandex.ru'\n",
    "passw = 'Filintula68'\n",
    "domain = 'hypermarketforyou.ru'\n",
    "metrikaCredentials = getMetrikaCredentialsByLPD({'yandexLogin':login,'yandexPassword':passw,'domain':domain.decode(\"utf-8\")})\n",
    "print metrikaCredentials['Token']\n",
    "print metrikaCredentials['counterID'][0]"
   ]
  },
  {
   "cell_type": "code",
   "execution_count": 33,
   "metadata": {
    "collapsed": false
   },
   "outputs": [],
   "source": [
    "writer = ExcelWriter(u'D:\\\\_Docs_\\\\2016-06\\\\2016-06-02 BounceRate Optimization Edita\\\\data.xlsx')\n",
    "\n",
    "def getMetrikaReportInDataFrame(date1,date2,metrics,dimensions,token,counterId,filters):\n",
    "    params = '&'.join(['dimensions={0}'.format(dimensions),\n",
    "                       'metrics={0}'.format(metrics),\n",
    "                       'date1={0}'.format(date1),\n",
    "                      'date2={0}'.format(date2),\n",
    "                      'ids={0}'.format(counterId),\n",
    "                      'oauth_token={0}'.format(token),\n",
    "                      'limit=100000',\n",
    "                      'offset=1',\n",
    "                      \"filters={0}\".format(filters),\n",
    "                      'accuracy=full'])\n",
    "    url = 'https://beta.api-metrika.yandex.ru/stat/v1/data.csv?'+params\n",
    "    df = pd.read_csv(url,encoding='utf-8')\n",
    "    return df\n",
    "date1 = '2015-06-01'\n",
    "date2 = '2016-06-01'\n",
    "metrics = 'ym:s:visits,ym:s:bounceRate'\n",
    "dimensions='ym:s:lastSearchPhrase'\n",
    "token = metrikaCredentials['Token']\n",
    "counterId = metrikaCredentials['counterID'][0]\n",
    "filters = \"ym:s:lastTrafficSource=='organic'\"\n",
    "QueriesData = getMetrikaReportInDataFrame(date1,date2,metrics,dimensions,token,counterId,filters)\n",
    "date1 = '2016-05-01'\n",
    "date2 = '2016-06-01'\n",
    "metrics = 'ym:s:visits,ym:s:bounceRate'\n",
    "dimensions=''\n",
    "token = metrikaCredentials['Token']\n",
    "counterId = metrikaCredentials['counterID'][0]\n",
    "filters = \"\"\n",
    "AllDomainData = getMetrikaReportInDataFrame(date1,date2,metrics,dimensions,token,counterId,filters)\n",
    "QueriesData.to_excel(writer,'Queries')\n",
    "AllDomainData.to_excel(writer,'AllDomainStats')\n",
    "date1 = '2016-05-01'\n",
    "date2 = '2016-06-01'\n",
    "metrics = 'ym:s:visits,ym:s:bounceRate'\n",
    "dimensions=''\n",
    "token = metrikaCredentials['Token']\n",
    "counterId = metrikaCredentials['counterID'][0]\n",
    "filters = \"ym:s:lastTrafficSource=='organic'\"\n",
    "OrganicData = getMetrikaReportInDataFrame(date1,date2,metrics,dimensions,token,counterId,filters)\n",
    "OrganicData.to_excel(writer,'OrganicStats')\n",
    "writer.save()"
   ]
  },
  {
   "cell_type": "code",
   "execution_count": null,
   "metadata": {
    "collapsed": true
   },
   "outputs": [],
   "source": []
  }
 ],
 "metadata": {
  "kernelspec": {
   "display_name": "Python 2",
   "language": "python",
   "name": "python2"
  },
  "language_info": {
   "codemirror_mode": {
    "name": "ipython",
    "version": 2
   },
   "file_extension": ".py",
   "mimetype": "text/x-python",
   "name": "python",
   "nbconvert_exporter": "python",
   "pygments_lexer": "ipython2",
   "version": "2.7.11"
  }
 },
 "nbformat": 4,
 "nbformat_minor": 0
}
