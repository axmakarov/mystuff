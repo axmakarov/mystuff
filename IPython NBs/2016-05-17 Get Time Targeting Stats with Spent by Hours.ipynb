{
 "cells": [
  {
   "cell_type": "code",
   "execution_count": 66,
   "metadata": {
    "collapsed": false
   },
   "outputs": [
    {
     "name": "stdout",
     "output_type": "stream",
     "text": [
      "getMetrikaCounterIDByDomain exception\n"
     ]
    }
   ],
   "source": [
    "import requests\n",
    "import json\n",
    "import pandas as pd\n",
    "%run 'C:\\\\dev\\\\prod\\\\metrikaHelper.py'\n",
    "metrikaCredentials = getMetrikaCredentialsByLPD({'yandexLogin':'Alexgrtula','yandexPassword':'DhYwOHrW','domain':'doorlock.ru'})"
   ]
  },
  {
   "cell_type": "code",
   "execution_count": 67,
   "metadata": {
    "collapsed": true
   },
   "outputs": [],
   "source": [
    "def createMetrikaRequest(date,token,counterID):\n",
    "    url = 'https://beta.api-metrika.yandex.ru/stat/v1/data/bytime'\n",
    "    payload = {\n",
    "        'dimensions':'ym:ad:directOrder',\n",
    "        'metrics':'ym:ad:<currency>AdCost,ym:ad:visits',\n",
    "        'date1':date,\n",
    "        'date2':date,\n",
    "        'oauth_token':token,\n",
    "        'ids':counterID,\n",
    "        'limit':100000,\n",
    "        'offset':1,\n",
    "        'currency':643,\n",
    "        'direct_client_logins':'doorlock',\n",
    "        'group':'hour',\n",
    "        'accuracy':'full'}\n",
    "    payloadString = '&'.join(['{0}={1}'.format(k,v) for k,v in payload.iteritems()])\n",
    "    return '{0}?{1}'.format(url,payloadString)\n",
    "def getQueryMetrics(data):\n",
    "    return data['query']['metrics']\n",
    "def getQueryDimensions(data):\n",
    "    return data['query']['dimensions']\n",
    "def transformMetrikaResponse(data):\n",
    "    dataList = []\n",
    "    date = data['query']['date1']\n",
    "    for dataItem in data['data']:\n",
    "        for h in range(0, 24):\n",
    "            i = 0\n",
    "            dataDictionary = {}\n",
    "            for metric in getQueryMetrics(data):\n",
    "                dataDictionary['hour'] = h\n",
    "                dataDictionary['date'] = date\n",
    "                dataDictionary[metric] = dataItem['metrics'][i][h]\n",
    "                for dimensionName,dimensionType in zip(dataItem['dimensions'],getQueryDimensions(data)):\n",
    "                    dataDictionary[dimensionType] = dimensionName['name']\n",
    "                if i == 1:\n",
    "                    dataList.append(dataDictionary) \n",
    "                i += 1\n",
    "    return dataList"
   ]
  },
  {
   "cell_type": "code",
   "execution_count": 113,
   "metadata": {
    "collapsed": true
   },
   "outputs": [],
   "source": [
    "url = createMetrikaRequest('2016-05-14',metrikaCredentials['Token'],metrikaCredentials['counterID'][0])\n",
    "r = requests.get(url)\n",
    "data = json.loads(r.text)"
   ]
  },
  {
   "cell_type": "code",
   "execution_count": 114,
   "metadata": {
    "collapsed": false
   },
   "outputs": [],
   "source": [
    "import datetime"
   ]
  },
  {
   "cell_type": "code",
   "execution_count": 120,
   "metadata": {
    "collapsed": false
   },
   "outputs": [
    {
     "name": "stdout",
     "output_type": "stream",
     "text": [
      "2016-04-14 https://beta.api-metrika.yandex.ru/stat/v1/data/bytime?metrics=ym:ad:<currency>AdCost,ym:ad:visits&currency=643&offset=1&date1=2016-04-14&direct_client_logins=doorlock&date2=2016-04-14&group=hour&dimensions=ym:ad:directOrder&ids=36936&oauth_token=55f128bf5bff46ee82cc2999d527df30&limit=100000&accuracy=full\n",
      "2016-04-15 https://beta.api-metrika.yandex.ru/stat/v1/data/bytime?metrics=ym:ad:<currency>AdCost,ym:ad:visits&currency=643&offset=1&date1=2016-04-15&direct_client_logins=doorlock&date2=2016-04-15&group=hour&dimensions=ym:ad:directOrder&ids=36936&oauth_token=55f128bf5bff46ee82cc2999d527df30&limit=100000&accuracy=full\n",
      "2016-04-16 https://beta.api-metrika.yandex.ru/stat/v1/data/bytime?metrics=ym:ad:<currency>AdCost,ym:ad:visits&currency=643&offset=1&date1=2016-04-16&direct_client_logins=doorlock&date2=2016-04-16&group=hour&dimensions=ym:ad:directOrder&ids=36936&oauth_token=55f128bf5bff46ee82cc2999d527df30&limit=100000&accuracy=full\n",
      "2016-04-17 https://beta.api-metrika.yandex.ru/stat/v1/data/bytime?metrics=ym:ad:<currency>AdCost,ym:ad:visits&currency=643&offset=1&date1=2016-04-17&direct_client_logins=doorlock&date2=2016-04-17&group=hour&dimensions=ym:ad:directOrder&ids=36936&oauth_token=55f128bf5bff46ee82cc2999d527df30&limit=100000&accuracy=full\n",
      "2016-04-18 https://beta.api-metrika.yandex.ru/stat/v1/data/bytime?metrics=ym:ad:<currency>AdCost,ym:ad:visits&currency=643&offset=1&date1=2016-04-18&direct_client_logins=doorlock&date2=2016-04-18&group=hour&dimensions=ym:ad:directOrder&ids=36936&oauth_token=55f128bf5bff46ee82cc2999d527df30&limit=100000&accuracy=full\n",
      "2016-04-19 https://beta.api-metrika.yandex.ru/stat/v1/data/bytime?metrics=ym:ad:<currency>AdCost,ym:ad:visits&currency=643&offset=1&date1=2016-04-19&direct_client_logins=doorlock&date2=2016-04-19&group=hour&dimensions=ym:ad:directOrder&ids=36936&oauth_token=55f128bf5bff46ee82cc2999d527df30&limit=100000&accuracy=full\n",
      "2016-04-20 https://beta.api-metrika.yandex.ru/stat/v1/data/bytime?metrics=ym:ad:<currency>AdCost,ym:ad:visits&currency=643&offset=1&date1=2016-04-20&direct_client_logins=doorlock&date2=2016-04-20&group=hour&dimensions=ym:ad:directOrder&ids=36936&oauth_token=55f128bf5bff46ee82cc2999d527df30&limit=100000&accuracy=full\n",
      "2016-04-21 https://beta.api-metrika.yandex.ru/stat/v1/data/bytime?metrics=ym:ad:<currency>AdCost,ym:ad:visits&currency=643&offset=1&date1=2016-04-21&direct_client_logins=doorlock&date2=2016-04-21&group=hour&dimensions=ym:ad:directOrder&ids=36936&oauth_token=55f128bf5bff46ee82cc2999d527df30&limit=100000&accuracy=full\n",
      "2016-04-22 https://beta.api-metrika.yandex.ru/stat/v1/data/bytime?metrics=ym:ad:<currency>AdCost,ym:ad:visits&currency=643&offset=1&date1=2016-04-22&direct_client_logins=doorlock&date2=2016-04-22&group=hour&dimensions=ym:ad:directOrder&ids=36936&oauth_token=55f128bf5bff46ee82cc2999d527df30&limit=100000&accuracy=full\n",
      "2016-04-23 https://beta.api-metrika.yandex.ru/stat/v1/data/bytime?metrics=ym:ad:<currency>AdCost,ym:ad:visits&currency=643&offset=1&date1=2016-04-23&direct_client_logins=doorlock&date2=2016-04-23&group=hour&dimensions=ym:ad:directOrder&ids=36936&oauth_token=55f128bf5bff46ee82cc2999d527df30&limit=100000&accuracy=full\n",
      "2016-04-24 https://beta.api-metrika.yandex.ru/stat/v1/data/bytime?metrics=ym:ad:<currency>AdCost,ym:ad:visits&currency=643&offset=1&date1=2016-04-24&direct_client_logins=doorlock&date2=2016-04-24&group=hour&dimensions=ym:ad:directOrder&ids=36936&oauth_token=55f128bf5bff46ee82cc2999d527df30&limit=100000&accuracy=full\n",
      "2016-04-25 https://beta.api-metrika.yandex.ru/stat/v1/data/bytime?metrics=ym:ad:<currency>AdCost,ym:ad:visits&currency=643&offset=1&date1=2016-04-25&direct_client_logins=doorlock&date2=2016-04-25&group=hour&dimensions=ym:ad:directOrder&ids=36936&oauth_token=55f128bf5bff46ee82cc2999d527df30&limit=100000&accuracy=full\n",
      "2016-04-26 https://beta.api-metrika.yandex.ru/stat/v1/data/bytime?metrics=ym:ad:<currency>AdCost,ym:ad:visits&currency=643&offset=1&date1=2016-04-26&direct_client_logins=doorlock&date2=2016-04-26&group=hour&dimensions=ym:ad:directOrder&ids=36936&oauth_token=55f128bf5bff46ee82cc2999d527df30&limit=100000&accuracy=full\n",
      "2016-04-27 https://beta.api-metrika.yandex.ru/stat/v1/data/bytime?metrics=ym:ad:<currency>AdCost,ym:ad:visits&currency=643&offset=1&date1=2016-04-27&direct_client_logins=doorlock&date2=2016-04-27&group=hour&dimensions=ym:ad:directOrder&ids=36936&oauth_token=55f128bf5bff46ee82cc2999d527df30&limit=100000&accuracy=full\n"
     ]
    }
   ],
   "source": [
    "from datetime import timedelta, date\n",
    "\n",
    "def daterange(start_date, end_date):\n",
    "    for n in range(int ((end_date - start_date).days)):\n",
    "        yield start_date + timedelta(n)\n",
    "\n",
    "all_data = []\n",
    "start_date = date(2016, 4, 14)\n",
    "end_date = date(2016, 4, 28)\n",
    "for single_date in daterange(start_date, end_date):\n",
    "    date = single_date.strftime(\"%Y-%m-%d\")\n",
    "    url = createMetrikaRequest(date,metrikaCredentials['Token'],metrikaCredentials['counterID'][0])\n",
    "    print date,url\n",
    "    r = requests.get(url)\n",
    "    data = json.loads(r.text)\n",
    "    all_data += transformMetrikaResponse(data)"
   ]
  },
  {
   "cell_type": "code",
   "execution_count": 121,
   "metadata": {
    "collapsed": true
   },
   "outputs": [],
   "source": [
    "pd.DataFrame(all_data).to_excel(u'C:\\\\Users\\\\aleksey.makarov\\\\Desktop\\\\2016-05\\\\2016-05-16 Временной таргетинг с ценами\\\\data.xlsx')"
   ]
  },
  {
   "cell_type": "code",
   "execution_count": null,
   "metadata": {
    "collapsed": true
   },
   "outputs": [],
   "source": []
  }
 ],
 "metadata": {
  "kernelspec": {
   "display_name": "Python 2",
   "language": "python",
   "name": "python2"
  },
  "language_info": {
   "codemirror_mode": {
    "name": "ipython",
    "version": 2
   },
   "file_extension": ".py",
   "mimetype": "text/x-python",
   "name": "python",
   "nbconvert_exporter": "python",
   "pygments_lexer": "ipython2",
   "version": "2.7.11"
  }
 },
 "nbformat": 4,
 "nbformat_minor": 0
}
