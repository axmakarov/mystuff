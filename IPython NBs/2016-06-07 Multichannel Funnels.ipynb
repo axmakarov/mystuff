{
 "cells": [
  {
   "cell_type": "code",
   "execution_count": 1,
   "metadata": {
    "collapsed": true
   },
   "outputs": [],
   "source": [
    "import psycopg2\n",
    "import requests\n",
    "import json\n",
    "import pandas as pd\n",
    "%run 'D:\\\\dev\\\\prod\\\\metrikaHelper.py'\n",
    "def getVipProjectByDomain(domain):\n",
    "    conn = psycopg2.connect(\"dbname='CRM' user='read_only' host='192.168.10.10' password='User_ro'\")\n",
    "    cur = conn.cursor()\n",
    "    cur.execute(\"SELECT p.projectid, p.domain, p.status, p2.login, p2.password FROM project AS p INNER JOIN ProjectMetrikaData AS p2 ON p.UniqueId = p2.ProjectUniqueId WHERE domain=%s AND p.status<230 ORDER BY p.projectid\", [domain])\n",
    "    result = []\n",
    "    rows = cur.fetchall()\n",
    "    for row in rows:\n",
    "        result.append(getVipProjectByRow(row))\n",
    "    return result\n",
    "def getVipProjectByRow(row):\n",
    "    return {'projectid': row[0], 'domain': row[1], 'metrikalogin': row[3], 'metrikapassword': row[4]}\n",
    "def getCPATargetsByProjectID(projectID):\n",
    "    conn = psycopg2.connect(\"dbname='Cubo' user='read_only' host='192.168.10.8' password='User_ro'\")\n",
    "    cur = conn.cursor()\n",
    "    cur.execute(\"SELECT targetstatus, targetid, targetname FROM metricstarget WHERE projectid=%s ORDER BY id DESC\", [projectID])\n",
    "    result = []\n",
    "    rows = cur.fetchall()\n",
    "    for row in rows:\n",
    "        result.append(getCPATargetByRow(row))\n",
    "    return result\n",
    "def getCPATargetByRow(row):\n",
    "    return {'targetstatus': row[0], 'targetid': row[1], 'targetname': row[2]}\n",
    "def getGoalsByCounter(counterId,token):\n",
    "    return requests.get('https://api-metrika.yandex.ru/management/v1/counter/{0}/goals?oauth_token={1}'.format(counterId,token)).text.encode('utf-8')\n",
    "def getMetrikaReportInDataFrame(date1,date2,metrics,dimensions,token,counterId,filters,attribution):\n",
    "    params = '&'.join(['dimensions={0}'.format(dimensions),\n",
    "                       'metrics={0}'.format(metrics),\n",
    "                       'date1={0}'.format(date1),\n",
    "                      'date2={0}'.format(date2),\n",
    "                      'ids={0}'.format(counterId),\n",
    "                      'oauth_token={0}'.format(token),\n",
    "                      'limit=100000',\n",
    "                      'offset=1',\n",
    "                      \"filters={0}\".format(filters),\n",
    "                      'accuracy=full',\n",
    "                      'attribution={0}'.format(attribution)])\n",
    "    url = 'https://beta.api-metrika.yandex.ru/stat/v1/data.csv?'+params\n",
    "    print url\n",
    "    df = pd.read_csv(url,encoding='utf-8')\n",
    "    return df"
   ]
  },
  {
   "cell_type": "code",
   "execution_count": 51,
   "metadata": {
    "collapsed": true
   },
   "outputs": [],
   "source": [
    "def mergeCPAVisitsColumns(df):\n",
    "    for i in xrange(0,len(df)):\n",
    "        df.loc[i,'goal_visits'] = df.loc[i,[column for column in df.columns if u'Целевые визиты' in column]].sum()\n",
    "    df.drop([column for column in df.columns if u'Целевые визиты' in column], axis=1, inplace=True)\n",
    "    return df\n",
    "def dropTotalRow(df):\n",
    "    return df.drop(df.index[0]).reset_index(drop=True)"
   ]
  },
  {
   "cell_type": "code",
   "execution_count": 4,
   "metadata": {
    "collapsed": false
   },
   "outputs": [
    {
     "name": "stdout",
     "output_type": "stream",
     "text": [
      "https://beta.api-metrika.yandex.ru/stat/v1/data.csv?dimensions=ym:s:specialUser,ym:s:dateTime,ym:s:<attribution>TrafficSource,ym:s:<attribution>SourceEngine,ym:s:<attribution>UTMSource,ym:s:<attribution>UTMMedium,ym:s:<attribution>UTMCampaign,ym:s:<attribution>UTMContent,ym:s:<attribution>UTMTerm&metrics=ym:s:visits,ym:s:goal20722165visits,ym:s:goal11692031visits,ym:s:goal11692036visits&date1=2016-04-01&date2=2016-06-01&ids=30722483&oauth_token=2cc70776f1ca4b06a662ec47714291e4&limit=100000&offset=1&filters=&accuracy=full&attribution=lastsign\n",
      "https://beta.api-metrika.yandex.ru/stat/v1/data.csv?dimensions=ym:s:specialUser,ym:s:dateTime,ym:s:<attribution>TrafficSource,ym:s:<attribution>SourceEngine,ym:s:<attribution>UTMSource,ym:s:<attribution>UTMMedium,ym:s:<attribution>UTMCampaign,ym:s:<attribution>UTMContent,ym:s:<attribution>UTMTerm&metrics=ym:s:visits,ym:s:goal19493860visits,ym:s:goal11284707visits,ym:s:goal11284702visits,ym:s:goal11086937visits&date1=2016-04-01&date2=2016-06-01&ids=29007535&oauth_token=9a21aa0f83ba43c7ba8539b91b605d35&limit=100000&offset=1&filters=&accuracy=full&attribution=lastsign\n",
      "https://beta.api-metrika.yandex.ru/stat/v1/data.csv?dimensions=ym:s:specialUser,ym:s:dateTime,ym:s:<attribution>TrafficSource,ym:s:<attribution>SourceEngine,ym:s:<attribution>UTMSource,ym:s:<attribution>UTMMedium,ym:s:<attribution>UTMCampaign,ym:s:<attribution>UTMContent,ym:s:<attribution>UTMTerm&metrics=ym:s:visits,ym:s:goal16248195visits&date1=2016-04-01&date2=2016-06-01&ids=34188145&oauth_token=b69353d2e4a44e0aa2960c34c839b5a3&limit=100000&offset=1&filters=&accuracy=full&attribution=lastsign\n",
      "https://beta.api-metrika.yandex.ru/stat/v1/data.csv?dimensions=ym:s:specialUser,ym:s:dateTime,ym:s:<attribution>TrafficSource,ym:s:<attribution>SourceEngine,ym:s:<attribution>UTMSource,ym:s:<attribution>UTMMedium,ym:s:<attribution>UTMCampaign,ym:s:<attribution>UTMContent,ym:s:<attribution>UTMTerm&metrics=ym:s:visits,ym:s:goal19215195visits&date1=2016-04-01&date2=2016-06-01&ids=34068765&oauth_token=71e4f97915d34895b4de3b45dbb6beef&limit=100000&offset=1&filters=&accuracy=full&attribution=lastsign\n",
      "https://beta.api-metrika.yandex.ru/stat/v1/data.csv?dimensions=ym:s:specialUser,ym:s:dateTime,ym:s:<attribution>TrafficSource,ym:s:<attribution>SourceEngine,ym:s:<attribution>UTMSource,ym:s:<attribution>UTMMedium,ym:s:<attribution>UTMCampaign,ym:s:<attribution>UTMContent,ym:s:<attribution>UTMTerm&metrics=ym:s:visits,ym:s:goal18039295visits,ym:s:goal16875135visits,ym:s:goal16874990visits&date1=2016-04-01&date2=2016-06-01&ids=18829453&oauth_token=e2ac7f9759ad4e489bc39300b7450643&limit=100000&offset=1&filters=&accuracy=full&attribution=lastsign\n",
      "https://beta.api-metrika.yandex.ru/stat/v1/data.csv?dimensions=ym:s:specialUser,ym:s:dateTime,ym:s:<attribution>TrafficSource,ym:s:<attribution>SourceEngine,ym:s:<attribution>UTMSource,ym:s:<attribution>UTMMedium,ym:s:<attribution>UTMCampaign,ym:s:<attribution>UTMContent,ym:s:<attribution>UTMTerm&metrics=ym:s:visits,ym:s:goal18007765visits,ym:s:goal18007775visits,ym:s:goal18007760visits,ym:s:goal14526858visits,ym:s:goal5430551visits&date1=2016-04-01&date2=2016-06-01&ids=5450017&oauth_token=c887e13f6de744a9885b3a5479845779&limit=100000&offset=1&filters=&accuracy=full&attribution=lastsign\n"
     ]
    }
   ],
   "source": [
    "domains = [\"russj.ru\",\"organickids.ru\",\"pinakotekaresto.com\",\"prosto-gruz.ru\",\"zbbb.ru\",\"alcotek.ru\"]\n",
    "all_df = pd.DataFrame()\n",
    "for domain in domains:\n",
    "    vipProjectInfo = getVipProjectByDomain(domain)\n",
    "    metrikaCredentials = getMetrikaCredentialsByLPD({'yandexLogin':vipProjectInfo[0]['metrikalogin'],'yandexPassword':vipProjectInfo[0]['metrikapassword'],'domain':domain.decode(\"utf-8\")})\n",
    "    date1 = '2016-04-01'\n",
    "    date2 = '2016-06-01'\n",
    "    goalsMetrics = ','.join(['ym:s:goal'+str(target['targetid'])+'visits' for target in getCPATargetsByProjectID(vipProjectInfo[0]['projectid'])])\n",
    "    otherMetrics = 'ym:s:visits'\n",
    "    metrics = ','.join([otherMetrics,goalsMetrics])\n",
    "    dimensions='ym:s:specialUser,ym:s:dateTime,ym:s:<attribution>TrafficSource,ym:s:<attribution>SourceEngine,ym:s:<attribution>UTMSource,ym:s:<attribution>UTMMedium,ym:s:<attribution>UTMCampaign,ym:s:<attribution>UTMContent,ym:s:<attribution>UTMTerm'\n",
    "    token = metrikaCredentials['Token']\n",
    "    counterId = metrikaCredentials['counterID'][0]\n",
    "    attribution = 'lastsign'\n",
    "    filters = \"\"\n",
    "    original_data = getMetrikaReportInDataFrame(date1,date2,metrics,dimensions,token,counterId,filters,attribution)\n",
    "    filtred_data = mergeCPAVisitsColumns(dropTotalRow(original_data))\n",
    "    filtred_data.rename(columns={u'﻿\"\"':'UserId'},inplace=True)\n",
    "    usersdata = filtred_data[['UserId','goal_visits']].groupby(['UserId'],as_index=False).sum()\n",
    "    new_data = filtred_data[filtred_data['UserId'].isin(usersdata[usersdata['goal_visits'] > 0]['UserId'])]\n",
    "    userswithvisits = new_data['UserId'].value_counts()>1\n",
    "    new_data = new_data[new_data['UserId'].isin(userswithvisits[userswithvisits == True].index)]\n",
    "    userswithsources = new_data[['UserId',u'Источник трафика',u'Источник трафика (детально)']].drop_duplicates()['UserId'].value_counts() > 1\n",
    "    new_data = new_data[new_data['UserId'].isin(userswithsources[userswithsources == True].index)]\n",
    "    new_data['domain'] = domain\n",
    "    all_df = pd.concat([all_df,new_data])\n",
    "all_df.to_excel(u'D:\\\\_Docs_\\\\2016-06\\\\2016-06-06 Multichannel Funnels\\\\MCF_all_data.xlsx')"
   ]
  },
  {
   "cell_type": "code",
   "execution_count": 103,
   "metadata": {
    "collapsed": false
   },
   "outputs": [
    {
     "data": {
      "text/plain": [
       "244.0"
      ]
     },
     "execution_count": 103,
     "metadata": {},
     "output_type": "execute_result"
    }
   ],
   "source": [
    "filtred_data['goal_visits'].sum()"
   ]
  },
  {
   "cell_type": "markdown",
   "metadata": {},
   "source": [
    "Тестирование атрибуции VVV"
   ]
  },
  {
   "cell_type": "code",
   "execution_count": 69,
   "metadata": {
    "collapsed": true
   },
   "outputs": [],
   "source": [
    "domains = [\"russj.ru\",\"organickids.ru\",\"pinakotekaresto.com\",\"prosto-gruz.ru\",\"zbbb.ru\",\"alcotek.ru\",\"edemdom.ru\",\"labotini.ru\",\"realstroy.com\",\"tencon.ru\",\"жк-московский.com\",\n",
    "\"народная-23.рф\",\"doorlock.ru\",\"stm66.ru\",\"academoffice.ru\",\"adel-omsk.ru\",\"baxburo.ru\",\"fabslog.ru\",\"ferkon.ru\",\"fosterland.ru\",\"gemainvest.ru\",\"hotel.sipk.ru\",\n",
    "\"kerasol.ru\",\"medstrahovka.ru\",\"m-y.ru\",\"nasoscentr.ru\",\"optikdeal.ru\",\"pickup-center.ru\",\"proudmom.ru\",\"ribambelle.ru\",\"rusmaneken.ru\",\"simple-pro.com\",\"teploppu.ru\",\n",
    "\"altpremium.ru\",\"mosvipremont.ru\",\"multifin.ru\",\"megakran.ru\",\"energotehmontag.ru\",\"nanosegway.ru\",\"mebmetall.ru\",\"oooptr77.ru\",\"saabparts.su\",\"lodki-piter.ru\",\n",
    "\"accessoriesforhome.ru\",\"darion-svet.ru\",\"vtb24leasing.ru\",\"sevastopolstroy.ru\"]"
   ]
  },
  {
   "cell_type": "code",
   "execution_count": 72,
   "metadata": {
    "collapsed": false
   },
   "outputs": [
    {
     "name": "stdout",
     "output_type": "stream",
     "text": [
      "https://beta.api-metrika.yandex.ru/stat/v1/data.csv?dimensions=&metrics=ym:s:visits,ym:s:goal11692031visits,ym:s:goal11692036visits&date1=2016-05-01&date2=2016-05-31&ids=30722483&oauth_token=2cc70776f1ca4b06a662ec47714291e4&limit=100000&offset=1&filters=ym:s:<attribution>UTMSource=='cubo'&accuracy=full&attribution=last\n",
      "https://beta.api-metrika.yandex.ru/stat/v1/data.csv?dimensions=&metrics=ym:s:visits,ym:s:goal11692031visits,ym:s:goal11692036visits&date1=2016-04-01&date2=2016-06-01&ids=30722483&oauth_token=2cc70776f1ca4b06a662ec47714291e4&limit=100000&offset=1&filters=ym:s:<attribution>UTMSource=='cubo'&accuracy=full&attribution=first\n",
      "https://beta.api-metrika.yandex.ru/stat/v1/data.csv?dimensions=&metrics=ym:s:visits,ym:s:goal11692031visits,ym:s:goal11692036visits&date1=2016-04-01&date2=2016-06-01&ids=30722483&oauth_token=2cc70776f1ca4b06a662ec47714291e4&limit=100000&offset=1&filters=ym:s:<attribution>UTMSource=='cubo'&accuracy=full&attribution=lastsign\n",
      "https://beta.api-metrika.yandex.ru/stat/v1/data.csv?dimensions=&metrics=ym:s:visits,ym:s:goal11692031visits,ym:s:goal11692036visits&date1=2016-04-01&date2=2016-06-01&ids=30722483&oauth_token=2cc70776f1ca4b06a662ec47714291e4&limit=100000&offset=1&filters=ym:s:UTMSource=='cubo'&accuracy=full&attribution=\n",
      "https://beta.api-metrika.yandex.ru/stat/v1/data.csv?dimensions=&metrics=ym:s:visits,ym:s:goal19493860visits,ym:s:goal11284707visits,ym:s:goal11284702visits,ym:s:goal11086937visits&date1=2016-05-01&date2=2016-05-31&ids=29007535&oauth_token=9a21aa0f83ba43c7ba8539b91b605d35&limit=100000&offset=1&filters=ym:s:<attribution>UTMSource=='cubo'&accuracy=full&attribution=last\n",
      "https://beta.api-metrika.yandex.ru/stat/v1/data.csv?dimensions=&metrics=ym:s:visits,ym:s:goal19493860visits,ym:s:goal11284707visits,ym:s:goal11284702visits,ym:s:goal11086937visits&date1=2016-04-01&date2=2016-06-01&ids=29007535&oauth_token=9a21aa0f83ba43c7ba8539b91b605d35&limit=100000&offset=1&filters=ym:s:<attribution>UTMSource=='cubo'&accuracy=full&attribution=first\n",
      "https://beta.api-metrika.yandex.ru/stat/v1/data.csv?dimensions=&metrics=ym:s:visits,ym:s:goal19493860visits,ym:s:goal11284707visits,ym:s:goal11284702visits,ym:s:goal11086937visits&date1=2016-04-01&date2=2016-06-01&ids=29007535&oauth_token=9a21aa0f83ba43c7ba8539b91b605d35&limit=100000&offset=1&filters=ym:s:<attribution>UTMSource=='cubo'&accuracy=full&attribution=lastsign\n",
      "https://beta.api-metrika.yandex.ru/stat/v1/data.csv?dimensions=&metrics=ym:s:visits,ym:s:goal19493860visits,ym:s:goal11284707visits,ym:s:goal11284702visits,ym:s:goal11086937visits&date1=2016-04-01&date2=2016-06-01&ids=29007535&oauth_token=9a21aa0f83ba43c7ba8539b91b605d35&limit=100000&offset=1&filters=ym:s:UTMSource=='cubo'&accuracy=full&attribution=\n",
      "https://beta.api-metrika.yandex.ru/stat/v1/data.csv?dimensions=&metrics=ym:s:visits,ym:s:goal16248195visits&date1=2016-05-01&date2=2016-05-31&ids=34188145&oauth_token=b69353d2e4a44e0aa2960c34c839b5a3&limit=100000&offset=1&filters=ym:s:<attribution>UTMSource=='cubo'&accuracy=full&attribution=last\n",
      "https://beta.api-metrika.yandex.ru/stat/v1/data.csv?dimensions=&metrics=ym:s:visits,ym:s:goal16248195visits&date1=2016-04-01&date2=2016-06-01&ids=34188145&oauth_token=b69353d2e4a44e0aa2960c34c839b5a3&limit=100000&offset=1&filters=ym:s:<attribution>UTMSource=='cubo'&accuracy=full&attribution=first\n",
      "https://beta.api-metrika.yandex.ru/stat/v1/data.csv?dimensions=&metrics=ym:s:visits,ym:s:goal16248195visits&date1=2016-04-01&date2=2016-06-01&ids=34188145&oauth_token=b69353d2e4a44e0aa2960c34c839b5a3&limit=100000&offset=1&filters=ym:s:<attribution>UTMSource=='cubo'&accuracy=full&attribution=lastsign\n",
      "https://beta.api-metrika.yandex.ru/stat/v1/data.csv?dimensions=&metrics=ym:s:visits,ym:s:goal16248195visits&date1=2016-04-01&date2=2016-06-01&ids=34188145&oauth_token=b69353d2e4a44e0aa2960c34c839b5a3&limit=100000&offset=1&filters=ym:s:UTMSource=='cubo'&accuracy=full&attribution=\n",
      "https://beta.api-metrika.yandex.ru/stat/v1/data.csv?dimensions=&metrics=ym:s:visits,ym:s:goal19215195visits&date1=2016-05-01&date2=2016-05-31&ids=34068765&oauth_token=71e4f97915d34895b4de3b45dbb6beef&limit=100000&offset=1&filters=ym:s:<attribution>UTMSource=='cubo'&accuracy=full&attribution=last\n",
      "https://beta.api-metrika.yandex.ru/stat/v1/data.csv?dimensions=&metrics=ym:s:visits,ym:s:goal19215195visits&date1=2016-04-01&date2=2016-06-01&ids=34068765&oauth_token=71e4f97915d34895b4de3b45dbb6beef&limit=100000&offset=1&filters=ym:s:<attribution>UTMSource=='cubo'&accuracy=full&attribution=first\n",
      "https://beta.api-metrika.yandex.ru/stat/v1/data.csv?dimensions=&metrics=ym:s:visits,ym:s:goal19215195visits&date1=2016-04-01&date2=2016-06-01&ids=34068765&oauth_token=71e4f97915d34895b4de3b45dbb6beef&limit=100000&offset=1&filters=ym:s:<attribution>UTMSource=='cubo'&accuracy=full&attribution=lastsign\n",
      "https://beta.api-metrika.yandex.ru/stat/v1/data.csv?dimensions=&metrics=ym:s:visits,ym:s:goal19215195visits&date1=2016-04-01&date2=2016-06-01&ids=34068765&oauth_token=71e4f97915d34895b4de3b45dbb6beef&limit=100000&offset=1&filters=ym:s:UTMSource=='cubo'&accuracy=full&attribution=\n",
      "https://beta.api-metrika.yandex.ru/stat/v1/data.csv?dimensions=&metrics=ym:s:visits,ym:s:goal18039295visits,ym:s:goal16875135visits,ym:s:goal16874990visits&date1=2016-05-01&date2=2016-05-31&ids=18829453&oauth_token=e2ac7f9759ad4e489bc39300b7450643&limit=100000&offset=1&filters=ym:s:<attribution>UTMSource=='cubo'&accuracy=full&attribution=last\n",
      "https://beta.api-metrika.yandex.ru/stat/v1/data.csv?dimensions=&metrics=ym:s:visits,ym:s:goal18039295visits,ym:s:goal16875135visits,ym:s:goal16874990visits&date1=2016-04-01&date2=2016-06-01&ids=18829453&oauth_token=e2ac7f9759ad4e489bc39300b7450643&limit=100000&offset=1&filters=ym:s:<attribution>UTMSource=='cubo'&accuracy=full&attribution=first\n",
      "https://beta.api-metrika.yandex.ru/stat/v1/data.csv?dimensions=&metrics=ym:s:visits,ym:s:goal18039295visits,ym:s:goal16875135visits,ym:s:goal16874990visits&date1=2016-04-01&date2=2016-06-01&ids=18829453&oauth_token=e2ac7f9759ad4e489bc39300b7450643&limit=100000&offset=1&filters=ym:s:<attribution>UTMSource=='cubo'&accuracy=full&attribution=lastsign\n",
      "https://beta.api-metrika.yandex.ru/stat/v1/data.csv?dimensions=&metrics=ym:s:visits,ym:s:goal18039295visits,ym:s:goal16875135visits,ym:s:goal16874990visits&date1=2016-04-01&date2=2016-06-01&ids=18829453&oauth_token=e2ac7f9759ad4e489bc39300b7450643&limit=100000&offset=1&filters=ym:s:UTMSource=='cubo'&accuracy=full&attribution=\n",
      "https://beta.api-metrika.yandex.ru/stat/v1/data.csv?dimensions=&metrics=ym:s:visits,ym:s:goal18007765visits,ym:s:goal18007775visits,ym:s:goal18007760visits,ym:s:goal14526858visits,ym:s:goal5430551visits&date1=2016-05-01&date2=2016-05-31&ids=5450017&oauth_token=c887e13f6de744a9885b3a5479845779&limit=100000&offset=1&filters=ym:s:<attribution>UTMSource=='cubo'&accuracy=full&attribution=last\n",
      "https://beta.api-metrika.yandex.ru/stat/v1/data.csv?dimensions=&metrics=ym:s:visits,ym:s:goal18007765visits,ym:s:goal18007775visits,ym:s:goal18007760visits,ym:s:goal14526858visits,ym:s:goal5430551visits&date1=2016-04-01&date2=2016-06-01&ids=5450017&oauth_token=c887e13f6de744a9885b3a5479845779&limit=100000&offset=1&filters=ym:s:<attribution>UTMSource=='cubo'&accuracy=full&attribution=first\n",
      "https://beta.api-metrika.yandex.ru/stat/v1/data.csv?dimensions=&metrics=ym:s:visits,ym:s:goal18007765visits,ym:s:goal18007775visits,ym:s:goal18007760visits,ym:s:goal14526858visits,ym:s:goal5430551visits&date1=2016-04-01&date2=2016-06-01&ids=5450017&oauth_token=c887e13f6de744a9885b3a5479845779&limit=100000&offset=1&filters=ym:s:<attribution>UTMSource=='cubo'&accuracy=full&attribution=lastsign\n",
      "https://beta.api-metrika.yandex.ru/stat/v1/data.csv?dimensions=&metrics=ym:s:visits,ym:s:goal18007765visits,ym:s:goal18007775visits,ym:s:goal18007760visits,ym:s:goal14526858visits,ym:s:goal5430551visits&date1=2016-04-01&date2=2016-06-01&ids=5450017&oauth_token=c887e13f6de744a9885b3a5479845779&limit=100000&offset=1&filters=ym:s:UTMSource=='cubo'&accuracy=full&attribution=\n",
      "https://beta.api-metrika.yandex.ru/stat/v1/data.csv?dimensions=&metrics=ym:s:visits,ym:s:goal19227305visits,ym:s:goal19227130visits,ym:s:goal19227085visits&date1=2016-05-01&date2=2016-05-31&ids=33307018&oauth_token=e96fa45271d244adb152edfacf838dac&limit=100000&offset=1&filters=ym:s:<attribution>UTMSource=='cubo'&accuracy=full&attribution=last\n",
      "https://beta.api-metrika.yandex.ru/stat/v1/data.csv?dimensions=&metrics=ym:s:visits,ym:s:goal19227305visits,ym:s:goal19227130visits,ym:s:goal19227085visits&date1=2016-04-01&date2=2016-06-01&ids=33307018&oauth_token=e96fa45271d244adb152edfacf838dac&limit=100000&offset=1&filters=ym:s:<attribution>UTMSource=='cubo'&accuracy=full&attribution=first\n",
      "https://beta.api-metrika.yandex.ru/stat/v1/data.csv?dimensions=&metrics=ym:s:visits,ym:s:goal19227305visits,ym:s:goal19227130visits,ym:s:goal19227085visits&date1=2016-04-01&date2=2016-06-01&ids=33307018&oauth_token=e96fa45271d244adb152edfacf838dac&limit=100000&offset=1&filters=ym:s:<attribution>UTMSource=='cubo'&accuracy=full&attribution=lastsign\n",
      "https://beta.api-metrika.yandex.ru/stat/v1/data.csv?dimensions=&metrics=ym:s:visits,ym:s:goal19227305visits,ym:s:goal19227130visits,ym:s:goal19227085visits&date1=2016-04-01&date2=2016-06-01&ids=33307018&oauth_token=e96fa45271d244adb152edfacf838dac&limit=100000&offset=1&filters=ym:s:UTMSource=='cubo'&accuracy=full&attribution=\n",
      "https://beta.api-metrika.yandex.ru/stat/v1/data.csv?dimensions=&metrics=ym:s:visits,ym:s:goal14452508visits,ym:s:goal5885721visits&date1=2016-05-01&date2=2016-05-31&ids=22192771&oauth_token=c887e13f6de744a9885b3a5479845779&limit=100000&offset=1&filters=ym:s:<attribution>UTMSource=='cubo'&accuracy=full&attribution=last\n",
      "https://beta.api-metrika.yandex.ru/stat/v1/data.csv?dimensions=&metrics=ym:s:visits,ym:s:goal14452508visits,ym:s:goal5885721visits&date1=2016-04-01&date2=2016-06-01&ids=22192771&oauth_token=c887e13f6de744a9885b3a5479845779&limit=100000&offset=1&filters=ym:s:<attribution>UTMSource=='cubo'&accuracy=full&attribution=first\n",
      "https://beta.api-metrika.yandex.ru/stat/v1/data.csv?dimensions=&metrics=ym:s:visits,ym:s:goal14452508visits,ym:s:goal5885721visits&date1=2016-04-01&date2=2016-06-01&ids=22192771&oauth_token=c887e13f6de744a9885b3a5479845779&limit=100000&offset=1&filters=ym:s:<attribution>UTMSource=='cubo'&accuracy=full&attribution=lastsign\n",
      "https://beta.api-metrika.yandex.ru/stat/v1/data.csv?dimensions=&metrics=ym:s:visits,ym:s:goal14452508visits,ym:s:goal5885721visits&date1=2016-04-01&date2=2016-06-01&ids=22192771&oauth_token=c887e13f6de744a9885b3a5479845779&limit=100000&offset=1&filters=ym:s:UTMSource=='cubo'&accuracy=full&attribution=\n",
      "https://beta.api-metrika.yandex.ru/stat/v1/data.csv?dimensions=&metrics=ym:s:visits,ym:s:goal11289482visits,ym:s:goal17015810visits,ym:s:goal17015805visits,ym:s:goal17015725visits&date1=2016-05-01&date2=2016-05-31&ids=20926513&oauth_token=aa927b194ae7457e9abb64cbd31d2a0a&limit=100000&offset=1&filters=ym:s:<attribution>UTMSource=='cubo'&accuracy=full&attribution=last\n",
      "https://beta.api-metrika.yandex.ru/stat/v1/data.csv?dimensions=&metrics=ym:s:visits,ym:s:goal11289482visits,ym:s:goal17015810visits,ym:s:goal17015805visits,ym:s:goal17015725visits&date1=2016-04-01&date2=2016-06-01&ids=20926513&oauth_token=aa927b194ae7457e9abb64cbd31d2a0a&limit=100000&offset=1&filters=ym:s:<attribution>UTMSource=='cubo'&accuracy=full&attribution=first\n",
      "https://beta.api-metrika.yandex.ru/stat/v1/data.csv?dimensions=&metrics=ym:s:visits,ym:s:goal11289482visits,ym:s:goal17015810visits,ym:s:goal17015805visits,ym:s:goal17015725visits&date1=2016-04-01&date2=2016-06-01&ids=20926513&oauth_token=aa927b194ae7457e9abb64cbd31d2a0a&limit=100000&offset=1&filters=ym:s:<attribution>UTMSource=='cubo'&accuracy=full&attribution=lastsign\n",
      "https://beta.api-metrika.yandex.ru/stat/v1/data.csv?dimensions=&metrics=ym:s:visits,ym:s:goal11289482visits,ym:s:goal17015810visits,ym:s:goal17015805visits,ym:s:goal17015725visits&date1=2016-04-01&date2=2016-06-01&ids=20926513&oauth_token=aa927b194ae7457e9abb64cbd31d2a0a&limit=100000&offset=1&filters=ym:s:UTMSource=='cubo'&accuracy=full&attribution=\n",
      "https://beta.api-metrika.yandex.ru/stat/v1/data.csv?dimensions=&metrics=ym:s:visits,ym:s:goal19255675visits,ym:s:goal18967105visits,ym:s:goal18847090visits,ym:s:goal18364610visits&date1=2016-05-01&date2=2016-05-31&ids=30854601&oauth_token=71e4f97915d34895b4de3b45dbb6beef&limit=100000&offset=1&filters=ym:s:<attribution>UTMSource=='cubo'&accuracy=full&attribution=last\n",
      "https://beta.api-metrika.yandex.ru/stat/v1/data.csv?dimensions=&metrics=ym:s:visits,ym:s:goal19255675visits,ym:s:goal18967105visits,ym:s:goal18847090visits,ym:s:goal18364610visits&date1=2016-04-01&date2=2016-06-01&ids=30854601&oauth_token=71e4f97915d34895b4de3b45dbb6beef&limit=100000&offset=1&filters=ym:s:<attribution>UTMSource=='cubo'&accuracy=full&attribution=first\n",
      "https://beta.api-metrika.yandex.ru/stat/v1/data.csv?dimensions=&metrics=ym:s:visits,ym:s:goal19255675visits,ym:s:goal18967105visits,ym:s:goal18847090visits,ym:s:goal18364610visits&date1=2016-04-01&date2=2016-06-01&ids=30854601&oauth_token=71e4f97915d34895b4de3b45dbb6beef&limit=100000&offset=1&filters=ym:s:<attribution>UTMSource=='cubo'&accuracy=full&attribution=lastsign\n",
      "https://beta.api-metrika.yandex.ru/stat/v1/data.csv?dimensions=&metrics=ym:s:visits,ym:s:goal19255675visits,ym:s:goal18967105visits,ym:s:goal18847090visits,ym:s:goal18364610visits&date1=2016-04-01&date2=2016-06-01&ids=30854601&oauth_token=71e4f97915d34895b4de3b45dbb6beef&limit=100000&offset=1&filters=ym:s:UTMSource=='cubo'&accuracy=full&attribution=\n",
      "https://beta.api-metrika.yandex.ru/stat/v1/data.csv?dimensions=&metrics=ym:s:visits,ym:s:goal20129650visits,ym:s:goal16924230visits&date1=2016-05-01&date2=2016-05-31&ids=34668810&oauth_token=d92c51f2295c44508da666089c8d4a7b&limit=100000&offset=1&filters=ym:s:<attribution>UTMSource=='cubo'&accuracy=full&attribution=last\n",
      "https://beta.api-metrika.yandex.ru/stat/v1/data.csv?dimensions=&metrics=ym:s:visits,ym:s:goal20129650visits,ym:s:goal16924230visits&date1=2016-04-01&date2=2016-06-01&ids=34668810&oauth_token=d92c51f2295c44508da666089c8d4a7b&limit=100000&offset=1&filters=ym:s:<attribution>UTMSource=='cubo'&accuracy=full&attribution=first\n",
      "https://beta.api-metrika.yandex.ru/stat/v1/data.csv?dimensions=&metrics=ym:s:visits,ym:s:goal20129650visits,ym:s:goal16924230visits&date1=2016-04-01&date2=2016-06-01&ids=34668810&oauth_token=d92c51f2295c44508da666089c8d4a7b&limit=100000&offset=1&filters=ym:s:<attribution>UTMSource=='cubo'&accuracy=full&attribution=lastsign\n",
      "https://beta.api-metrika.yandex.ru/stat/v1/data.csv?dimensions=&metrics=ym:s:visits,ym:s:goal20129650visits,ym:s:goal16924230visits&date1=2016-04-01&date2=2016-06-01&ids=34668810&oauth_token=d92c51f2295c44508da666089c8d4a7b&limit=100000&offset=1&filters=ym:s:UTMSource=='cubo'&accuracy=full&attribution=\n",
      "https://beta.api-metrika.yandex.ru/stat/v1/data.csv?dimensions=&metrics=ym:s:visits,ym:s:goal20129500visits,ym:s:goal16978070visits&date1=2016-05-01&date2=2016-05-31&ids=34670895&oauth_token=d92c51f2295c44508da666089c8d4a7b&limit=100000&offset=1&filters=ym:s:<attribution>UTMSource=='cubo'&accuracy=full&attribution=last\n",
      "https://beta.api-metrika.yandex.ru/stat/v1/data.csv?dimensions=&metrics=ym:s:visits,ym:s:goal20129500visits,ym:s:goal16978070visits&date1=2016-04-01&date2=2016-06-01&ids=34670895&oauth_token=d92c51f2295c44508da666089c8d4a7b&limit=100000&offset=1&filters=ym:s:<attribution>UTMSource=='cubo'&accuracy=full&attribution=first\n",
      "https://beta.api-metrika.yandex.ru/stat/v1/data.csv?dimensions=&metrics=ym:s:visits,ym:s:goal20129500visits,ym:s:goal16978070visits&date1=2016-04-01&date2=2016-06-01&ids=34670895&oauth_token=d92c51f2295c44508da666089c8d4a7b&limit=100000&offset=1&filters=ym:s:<attribution>UTMSource=='cubo'&accuracy=full&attribution=lastsign\n",
      "https://beta.api-metrika.yandex.ru/stat/v1/data.csv?dimensions=&metrics=ym:s:visits,ym:s:goal20129500visits,ym:s:goal16978070visits&date1=2016-04-01&date2=2016-06-01&ids=34670895&oauth_token=d92c51f2295c44508da666089c8d4a7b&limit=100000&offset=1&filters=ym:s:UTMSource=='cubo'&accuracy=full&attribution=\n",
      "https://beta.api-metrika.yandex.ru/stat/v1/data.csv?dimensions=&metrics=ym:s:visits,ym:s:goal19189750visits,ym:s:goal2309269visits&date1=2016-05-01&date2=2016-05-31&ids=36936&oauth_token=234c2324fb7b4139ba79c2b43be01076&limit=100000&offset=1&filters=ym:s:<attribution>UTMSource=='cubo'&accuracy=full&attribution=last\n",
      "https://beta.api-metrika.yandex.ru/stat/v1/data.csv?dimensions=&metrics=ym:s:visits,ym:s:goal19189750visits,ym:s:goal2309269visits&date1=2016-04-01&date2=2016-06-01&ids=36936&oauth_token=234c2324fb7b4139ba79c2b43be01076&limit=100000&offset=1&filters=ym:s:<attribution>UTMSource=='cubo'&accuracy=full&attribution=first\n",
      "https://beta.api-metrika.yandex.ru/stat/v1/data.csv?dimensions=&metrics=ym:s:visits,ym:s:goal19189750visits,ym:s:goal2309269visits&date1=2016-04-01&date2=2016-06-01&ids=36936&oauth_token=234c2324fb7b4139ba79c2b43be01076&limit=100000&offset=1&filters=ym:s:<attribution>UTMSource=='cubo'&accuracy=full&attribution=lastsign\n",
      "https://beta.api-metrika.yandex.ru/stat/v1/data.csv?dimensions=&metrics=ym:s:visits,ym:s:goal19189750visits,ym:s:goal2309269visits&date1=2016-04-01&date2=2016-06-01&ids=36936&oauth_token=234c2324fb7b4139ba79c2b43be01076&limit=100000&offset=1&filters=ym:s:UTMSource=='cubo'&accuracy=full&attribution=\n",
      "https://beta.api-metrika.yandex.ru/stat/v1/data.csv?dimensions=&metrics=ym:s:visits,ym:s:goal12078163visits&date1=2016-05-01&date2=2016-05-31&ids=17956738&oauth_token=71e4f97915d34895b4de3b45dbb6beef&limit=100000&offset=1&filters=ym:s:<attribution>UTMSource=='cubo'&accuracy=full&attribution=last\n",
      "https://beta.api-metrika.yandex.ru/stat/v1/data.csv?dimensions=&metrics=ym:s:visits,ym:s:goal12078163visits&date1=2016-04-01&date2=2016-06-01&ids=17956738&oauth_token=71e4f97915d34895b4de3b45dbb6beef&limit=100000&offset=1&filters=ym:s:<attribution>UTMSource=='cubo'&accuracy=full&attribution=first\n",
      "https://beta.api-metrika.yandex.ru/stat/v1/data.csv?dimensions=&metrics=ym:s:visits,ym:s:goal12078163visits&date1=2016-04-01&date2=2016-06-01&ids=17956738&oauth_token=71e4f97915d34895b4de3b45dbb6beef&limit=100000&offset=1&filters=ym:s:<attribution>UTMSource=='cubo'&accuracy=full&attribution=lastsign\n",
      "https://beta.api-metrika.yandex.ru/stat/v1/data.csv?dimensions=&metrics=ym:s:visits,ym:s:goal12078163visits&date1=2016-04-01&date2=2016-06-01&ids=17956738&oauth_token=71e4f97915d34895b4de3b45dbb6beef&limit=100000&offset=1&filters=ym:s:UTMSource=='cubo'&accuracy=full&attribution=\n",
      "https://beta.api-metrika.yandex.ru/stat/v1/data.csv?dimensions=&metrics=ym:s:visits,ym:s:goal18202220visits,ym:s:goal16444500visits&date1=2016-05-01&date2=2016-05-31&ids=32446210&oauth_token=5cc9948767794035af9ca25479414560&limit=100000&offset=1&filters=ym:s:<attribution>UTMSource=='cubo'&accuracy=full&attribution=last\n",
      "https://beta.api-metrika.yandex.ru/stat/v1/data.csv?dimensions=&metrics=ym:s:visits,ym:s:goal18202220visits,ym:s:goal16444500visits&date1=2016-04-01&date2=2016-06-01&ids=32446210&oauth_token=5cc9948767794035af9ca25479414560&limit=100000&offset=1&filters=ym:s:<attribution>UTMSource=='cubo'&accuracy=full&attribution=first\n",
      "https://beta.api-metrika.yandex.ru/stat/v1/data.csv?dimensions=&metrics=ym:s:visits,ym:s:goal18202220visits,ym:s:goal16444500visits&date1=2016-04-01&date2=2016-06-01&ids=32446210&oauth_token=5cc9948767794035af9ca25479414560&limit=100000&offset=1&filters=ym:s:<attribution>UTMSource=='cubo'&accuracy=full&attribution=lastsign\n",
      "https://beta.api-metrika.yandex.ru/stat/v1/data.csv?dimensions=&metrics=ym:s:visits,ym:s:goal18202220visits,ym:s:goal16444500visits&date1=2016-04-01&date2=2016-06-01&ids=32446210&oauth_token=5cc9948767794035af9ca25479414560&limit=100000&offset=1&filters=ym:s:UTMSource=='cubo'&accuracy=full&attribution=\n",
      "https://beta.api-metrika.yandex.ru/stat/v1/data.csv?dimensions=&metrics=ym:s:visits,ym:s:goal14382998visits&date1=2016-05-01&date2=2016-05-31&ids=32466025&oauth_token=00687c8af3aa4b4bbddea008faae5bfa&limit=100000&offset=1&filters=ym:s:<attribution>UTMSource=='cubo'&accuracy=full&attribution=last\n",
      "https://beta.api-metrika.yandex.ru/stat/v1/data.csv?dimensions=&metrics=ym:s:visits,ym:s:goal14382998visits&date1=2016-04-01&date2=2016-06-01&ids=32466025&oauth_token=00687c8af3aa4b4bbddea008faae5bfa&limit=100000&offset=1&filters=ym:s:<attribution>UTMSource=='cubo'&accuracy=full&attribution=first\n",
      "https://beta.api-metrika.yandex.ru/stat/v1/data.csv?dimensions=&metrics=ym:s:visits,ym:s:goal14382998visits&date1=2016-04-01&date2=2016-06-01&ids=32466025&oauth_token=00687c8af3aa4b4bbddea008faae5bfa&limit=100000&offset=1&filters=ym:s:<attribution>UTMSource=='cubo'&accuracy=full&attribution=lastsign\n",
      "https://beta.api-metrika.yandex.ru/stat/v1/data.csv?dimensions=&metrics=ym:s:visits,ym:s:goal14382998visits&date1=2016-04-01&date2=2016-06-01&ids=32466025&oauth_token=00687c8af3aa4b4bbddea008faae5bfa&limit=100000&offset=1&filters=ym:s:UTMSource=='cubo'&accuracy=full&attribution=\n",
      "https://beta.api-metrika.yandex.ru/stat/v1/data.csv?dimensions=&metrics=ym:s:visits,ym:s:goal19235925visits,ym:s:goal19406190visits,ym:s:goal19406180visits&date1=2016-05-01&date2=2016-05-31&ids=26746179&oauth_token=71e4f97915d34895b4de3b45dbb6beef&limit=100000&offset=1&filters=ym:s:<attribution>UTMSource=='cubo'&accuracy=full&attribution=last\n",
      "https://beta.api-metrika.yandex.ru/stat/v1/data.csv?dimensions=&metrics=ym:s:visits,ym:s:goal19235925visits,ym:s:goal19406190visits,ym:s:goal19406180visits&date1=2016-04-01&date2=2016-06-01&ids=26746179&oauth_token=71e4f97915d34895b4de3b45dbb6beef&limit=100000&offset=1&filters=ym:s:<attribution>UTMSource=='cubo'&accuracy=full&attribution=first\n",
      "https://beta.api-metrika.yandex.ru/stat/v1/data.csv?dimensions=&metrics=ym:s:visits,ym:s:goal19235925visits,ym:s:goal19406190visits,ym:s:goal19406180visits&date1=2016-04-01&date2=2016-06-01&ids=26746179&oauth_token=71e4f97915d34895b4de3b45dbb6beef&limit=100000&offset=1&filters=ym:s:<attribution>UTMSource=='cubo'&accuracy=full&attribution=lastsign\n",
      "https://beta.api-metrika.yandex.ru/stat/v1/data.csv?dimensions=&metrics=ym:s:visits,ym:s:goal19235925visits,ym:s:goal19406190visits,ym:s:goal19406180visits&date1=2016-04-01&date2=2016-06-01&ids=26746179&oauth_token=71e4f97915d34895b4de3b45dbb6beef&limit=100000&offset=1&filters=ym:s:UTMSource=='cubo'&accuracy=full&attribution=\n",
      "https://beta.api-metrika.yandex.ru/stat/v1/data.csv?dimensions=&metrics=ym:s:visits,ym:s:goal17613980visits&date1=2016-05-01&date2=2016-05-31&ids=27882414&oauth_token=f5e0e787f55e48319b416185d48d3890&limit=100000&offset=1&filters=ym:s:<attribution>UTMSource=='cubo'&accuracy=full&attribution=last\n",
      "https://beta.api-metrika.yandex.ru/stat/v1/data.csv?dimensions=&metrics=ym:s:visits,ym:s:goal17613980visits&date1=2016-04-01&date2=2016-06-01&ids=27882414&oauth_token=f5e0e787f55e48319b416185d48d3890&limit=100000&offset=1&filters=ym:s:<attribution>UTMSource=='cubo'&accuracy=full&attribution=first\n",
      "https://beta.api-metrika.yandex.ru/stat/v1/data.csv?dimensions=&metrics=ym:s:visits,ym:s:goal17613980visits&date1=2016-04-01&date2=2016-06-01&ids=27882414&oauth_token=f5e0e787f55e48319b416185d48d3890&limit=100000&offset=1&filters=ym:s:<attribution>UTMSource=='cubo'&accuracy=full&attribution=lastsign\n",
      "https://beta.api-metrika.yandex.ru/stat/v1/data.csv?dimensions=&metrics=ym:s:visits,ym:s:goal17613980visits&date1=2016-04-01&date2=2016-06-01&ids=27882414&oauth_token=f5e0e787f55e48319b416185d48d3890&limit=100000&offset=1&filters=ym:s:UTMSource=='cubo'&accuracy=full&attribution=\n",
      "https://beta.api-metrika.yandex.ru/stat/v1/data.csv?dimensions=&metrics=ym:s:visits,ym:s:goal14055803visits,ym:s:goal14055798visits&date1=2016-05-01&date2=2016-05-31&ids=22800847&oauth_token=d92c51f2295c44508da666089c8d4a7b&limit=100000&offset=1&filters=ym:s:<attribution>UTMSource=='cubo'&accuracy=full&attribution=last\n",
      "https://beta.api-metrika.yandex.ru/stat/v1/data.csv?dimensions=&metrics=ym:s:visits,ym:s:goal14055803visits,ym:s:goal14055798visits&date1=2016-04-01&date2=2016-06-01&ids=22800847&oauth_token=d92c51f2295c44508da666089c8d4a7b&limit=100000&offset=1&filters=ym:s:<attribution>UTMSource=='cubo'&accuracy=full&attribution=first\n",
      "https://beta.api-metrika.yandex.ru/stat/v1/data.csv?dimensions=&metrics=ym:s:visits,ym:s:goal14055803visits,ym:s:goal14055798visits&date1=2016-04-01&date2=2016-06-01&ids=22800847&oauth_token=d92c51f2295c44508da666089c8d4a7b&limit=100000&offset=1&filters=ym:s:<attribution>UTMSource=='cubo'&accuracy=full&attribution=lastsign\n",
      "https://beta.api-metrika.yandex.ru/stat/v1/data.csv?dimensions=&metrics=ym:s:visits,ym:s:goal14055803visits,ym:s:goal14055798visits&date1=2016-04-01&date2=2016-06-01&ids=22800847&oauth_token=d92c51f2295c44508da666089c8d4a7b&limit=100000&offset=1&filters=ym:s:UTMSource=='cubo'&accuracy=full&attribution=\n",
      "https://beta.api-metrika.yandex.ru/stat/v1/data.csv?dimensions=&metrics=ym:s:visits,ym:s:goal18107970visits&date1=2016-05-01&date2=2016-05-31&ids=13017985&oauth_token=c9e3a7b2b7b74033b6c2809fbb0ab473&limit=100000&offset=1&filters=ym:s:<attribution>UTMSource=='cubo'&accuracy=full&attribution=last\n",
      "https://beta.api-metrika.yandex.ru/stat/v1/data.csv?dimensions=&metrics=ym:s:visits,ym:s:goal18107970visits&date1=2016-04-01&date2=2016-06-01&ids=13017985&oauth_token=c9e3a7b2b7b74033b6c2809fbb0ab473&limit=100000&offset=1&filters=ym:s:<attribution>UTMSource=='cubo'&accuracy=full&attribution=first\n",
      "https://beta.api-metrika.yandex.ru/stat/v1/data.csv?dimensions=&metrics=ym:s:visits,ym:s:goal18107970visits&date1=2016-04-01&date2=2016-06-01&ids=13017985&oauth_token=c9e3a7b2b7b74033b6c2809fbb0ab473&limit=100000&offset=1&filters=ym:s:<attribution>UTMSource=='cubo'&accuracy=full&attribution=lastsign\n",
      "https://beta.api-metrika.yandex.ru/stat/v1/data.csv?dimensions=&metrics=ym:s:visits,ym:s:goal18107970visits&date1=2016-04-01&date2=2016-06-01&ids=13017985&oauth_token=c9e3a7b2b7b74033b6c2809fbb0ab473&limit=100000&offset=1&filters=ym:s:UTMSource=='cubo'&accuracy=full&attribution=\n",
      "https://beta.api-metrika.yandex.ru/stat/v1/data.csv?dimensions=&metrics=ym:s:visits,ym:s:goal17999160visits,ym:s:goal17856060visits,ym:s:goal17279880visits,ym:s:goal17279875visits&date1=2016-05-01&date2=2016-05-31&ids=16003615&oauth_token=71e4f97915d34895b4de3b45dbb6beef&limit=100000&offset=1&filters=ym:s:<attribution>UTMSource=='cubo'&accuracy=full&attribution=last\n",
      "https://beta.api-metrika.yandex.ru/stat/v1/data.csv?dimensions=&metrics=ym:s:visits,ym:s:goal17999160visits,ym:s:goal17856060visits,ym:s:goal17279880visits,ym:s:goal17279875visits&date1=2016-04-01&date2=2016-06-01&ids=16003615&oauth_token=71e4f97915d34895b4de3b45dbb6beef&limit=100000&offset=1&filters=ym:s:<attribution>UTMSource=='cubo'&accuracy=full&attribution=first\n",
      "https://beta.api-metrika.yandex.ru/stat/v1/data.csv?dimensions=&metrics=ym:s:visits,ym:s:goal17999160visits,ym:s:goal17856060visits,ym:s:goal17279880visits,ym:s:goal17279875visits&date1=2016-04-01&date2=2016-06-01&ids=16003615&oauth_token=71e4f97915d34895b4de3b45dbb6beef&limit=100000&offset=1&filters=ym:s:<attribution>UTMSource=='cubo'&accuracy=full&attribution=lastsign\n",
      "https://beta.api-metrika.yandex.ru/stat/v1/data.csv?dimensions=&metrics=ym:s:visits,ym:s:goal17999160visits,ym:s:goal17856060visits,ym:s:goal17279880visits,ym:s:goal17279875visits&date1=2016-04-01&date2=2016-06-01&ids=16003615&oauth_token=71e4f97915d34895b4de3b45dbb6beef&limit=100000&offset=1&filters=ym:s:UTMSource=='cubo'&accuracy=full&attribution=\n",
      "https://beta.api-metrika.yandex.ru/stat/v1/data.csv?dimensions=&metrics=ym:s:visits,ym:s:goal19628530visits,ym:s:goal19628535visits,ym:s:goal19628525visits&date1=2016-05-01&date2=2016-05-31&ids=37037755&oauth_token=71e4f97915d34895b4de3b45dbb6beef&limit=100000&offset=1&filters=ym:s:<attribution>UTMSource=='cubo'&accuracy=full&attribution=last\n",
      "https://beta.api-metrika.yandex.ru/stat/v1/data.csv?dimensions=&metrics=ym:s:visits,ym:s:goal19628530visits,ym:s:goal19628535visits,ym:s:goal19628525visits&date1=2016-04-01&date2=2016-06-01&ids=37037755&oauth_token=71e4f97915d34895b4de3b45dbb6beef&limit=100000&offset=1&filters=ym:s:<attribution>UTMSource=='cubo'&accuracy=full&attribution=first\n",
      "https://beta.api-metrika.yandex.ru/stat/v1/data.csv?dimensions=&metrics=ym:s:visits,ym:s:goal19628530visits,ym:s:goal19628535visits,ym:s:goal19628525visits&date1=2016-04-01&date2=2016-06-01&ids=37037755&oauth_token=71e4f97915d34895b4de3b45dbb6beef&limit=100000&offset=1&filters=ym:s:<attribution>UTMSource=='cubo'&accuracy=full&attribution=lastsign\n",
      "https://beta.api-metrika.yandex.ru/stat/v1/data.csv?dimensions=&metrics=ym:s:visits,ym:s:goal19628530visits,ym:s:goal19628535visits,ym:s:goal19628525visits&date1=2016-04-01&date2=2016-06-01&ids=37037755&oauth_token=71e4f97915d34895b4de3b45dbb6beef&limit=100000&offset=1&filters=ym:s:UTMSource=='cubo'&accuracy=full&attribution=\n",
      "https://beta.api-metrika.yandex.ru/stat/v1/data.csv?dimensions=&metrics=ym:s:visits,ym:s:goal19575700visits,ym:s:goal15068949visits,ym:s:goal14664083visits&date1=2016-05-01&date2=2016-05-31&ids=29467030&oauth_token=d92c51f2295c44508da666089c8d4a7b&limit=100000&offset=1&filters=ym:s:<attribution>UTMSource=='cubo'&accuracy=full&attribution=last\n",
      "https://beta.api-metrika.yandex.ru/stat/v1/data.csv?dimensions=&metrics=ym:s:visits,ym:s:goal19575700visits,ym:s:goal15068949visits,ym:s:goal14664083visits&date1=2016-04-01&date2=2016-06-01&ids=29467030&oauth_token=d92c51f2295c44508da666089c8d4a7b&limit=100000&offset=1&filters=ym:s:<attribution>UTMSource=='cubo'&accuracy=full&attribution=first\n",
      "https://beta.api-metrika.yandex.ru/stat/v1/data.csv?dimensions=&metrics=ym:s:visits,ym:s:goal19575700visits,ym:s:goal15068949visits,ym:s:goal14664083visits&date1=2016-04-01&date2=2016-06-01&ids=29467030&oauth_token=d92c51f2295c44508da666089c8d4a7b&limit=100000&offset=1&filters=ym:s:<attribution>UTMSource=='cubo'&accuracy=full&attribution=lastsign\n",
      "https://beta.api-metrika.yandex.ru/stat/v1/data.csv?dimensions=&metrics=ym:s:visits,ym:s:goal19575700visits,ym:s:goal15068949visits,ym:s:goal14664083visits&date1=2016-04-01&date2=2016-06-01&ids=29467030&oauth_token=d92c51f2295c44508da666089c8d4a7b&limit=100000&offset=1&filters=ym:s:UTMSource=='cubo'&accuracy=full&attribution=\n",
      "https://beta.api-metrika.yandex.ru/stat/v1/data.csv?dimensions=&metrics=ym:s:visits,ym:s:goal19941615visits,ym:s:goal18832465visits,ym:s:goal18828495visits,ym:s:goal18522800visits,ym:s:goal6910310visits&date1=2016-05-01&date2=2016-05-31&ids=26983731&oauth_token=71e4f97915d34895b4de3b45dbb6beef&limit=100000&offset=1&filters=ym:s:<attribution>UTMSource=='cubo'&accuracy=full&attribution=last\n",
      "https://beta.api-metrika.yandex.ru/stat/v1/data.csv?dimensions=&metrics=ym:s:visits,ym:s:goal19941615visits,ym:s:goal18832465visits,ym:s:goal18828495visits,ym:s:goal18522800visits,ym:s:goal6910310visits&date1=2016-04-01&date2=2016-06-01&ids=26983731&oauth_token=71e4f97915d34895b4de3b45dbb6beef&limit=100000&offset=1&filters=ym:s:<attribution>UTMSource=='cubo'&accuracy=full&attribution=first\n",
      "https://beta.api-metrika.yandex.ru/stat/v1/data.csv?dimensions=&metrics=ym:s:visits,ym:s:goal19941615visits,ym:s:goal18832465visits,ym:s:goal18828495visits,ym:s:goal18522800visits,ym:s:goal6910310visits&date1=2016-04-01&date2=2016-06-01&ids=26983731&oauth_token=71e4f97915d34895b4de3b45dbb6beef&limit=100000&offset=1&filters=ym:s:<attribution>UTMSource=='cubo'&accuracy=full&attribution=lastsign\n",
      "https://beta.api-metrika.yandex.ru/stat/v1/data.csv?dimensions=&metrics=ym:s:visits,ym:s:goal19941615visits,ym:s:goal18832465visits,ym:s:goal18828495visits,ym:s:goal18522800visits,ym:s:goal6910310visits&date1=2016-04-01&date2=2016-06-01&ids=26983731&oauth_token=71e4f97915d34895b4de3b45dbb6beef&limit=100000&offset=1&filters=ym:s:UTMSource=='cubo'&accuracy=full&attribution=\n",
      "https://beta.api-metrika.yandex.ru/stat/v1/data.csv?dimensions=&metrics=ym:s:visits,ym:s:goal19494460visits,ym:s:goal19494325visits&date1=2016-05-01&date2=2016-05-31&ids=150951&oauth_token=205b08a8d17d462a9e8adc5e4fa0b2cc&limit=100000&offset=1&filters=ym:s:<attribution>UTMSource=='cubo'&accuracy=full&attribution=last\n",
      "https://beta.api-metrika.yandex.ru/stat/v1/data.csv?dimensions=&metrics=ym:s:visits,ym:s:goal19494460visits,ym:s:goal19494325visits&date1=2016-04-01&date2=2016-06-01&ids=150951&oauth_token=205b08a8d17d462a9e8adc5e4fa0b2cc&limit=100000&offset=1&filters=ym:s:<attribution>UTMSource=='cubo'&accuracy=full&attribution=first\n",
      "https://beta.api-metrika.yandex.ru/stat/v1/data.csv?dimensions=&metrics=ym:s:visits,ym:s:goal19494460visits,ym:s:goal19494325visits&date1=2016-04-01&date2=2016-06-01&ids=150951&oauth_token=205b08a8d17d462a9e8adc5e4fa0b2cc&limit=100000&offset=1&filters=ym:s:<attribution>UTMSource=='cubo'&accuracy=full&attribution=lastsign\n",
      "https://beta.api-metrika.yandex.ru/stat/v1/data.csv?dimensions=&metrics=ym:s:visits,ym:s:goal19494460visits,ym:s:goal19494325visits&date1=2016-04-01&date2=2016-06-01&ids=150951&oauth_token=205b08a8d17d462a9e8adc5e4fa0b2cc&limit=100000&offset=1&filters=ym:s:UTMSource=='cubo'&accuracy=full&attribution=\n",
      "https://beta.api-metrika.yandex.ru/stat/v1/data.csv?dimensions=&metrics=ym:s:visits,ym:s:goal12290273visits&date1=2016-05-01&date2=2016-05-31&ids=23094997&oauth_token=71e4f97915d34895b4de3b45dbb6beef&limit=100000&offset=1&filters=ym:s:<attribution>UTMSource=='cubo'&accuracy=full&attribution=last\n",
      "https://beta.api-metrika.yandex.ru/stat/v1/data.csv?dimensions=&metrics=ym:s:visits,ym:s:goal12290273visits&date1=2016-04-01&date2=2016-06-01&ids=23094997&oauth_token=71e4f97915d34895b4de3b45dbb6beef&limit=100000&offset=1&filters=ym:s:<attribution>UTMSource=='cubo'&accuracy=full&attribution=first\n",
      "https://beta.api-metrika.yandex.ru/stat/v1/data.csv?dimensions=&metrics=ym:s:visits,ym:s:goal12290273visits&date1=2016-04-01&date2=2016-06-01&ids=23094997&oauth_token=71e4f97915d34895b4de3b45dbb6beef&limit=100000&offset=1&filters=ym:s:<attribution>UTMSource=='cubo'&accuracy=full&attribution=lastsign\n",
      "https://beta.api-metrika.yandex.ru/stat/v1/data.csv?dimensions=&metrics=ym:s:visits,ym:s:goal12290273visits&date1=2016-04-01&date2=2016-06-01&ids=23094997&oauth_token=71e4f97915d34895b4de3b45dbb6beef&limit=100000&offset=1&filters=ym:s:UTMSource=='cubo'&accuracy=full&attribution=\n",
      "https://beta.api-metrika.yandex.ru/stat/v1/data.csv?dimensions=&metrics=ym:s:visits,ym:s:goal17564030visits&date1=2016-05-01&date2=2016-05-31&ids=24744788&oauth_token=71e4f97915d34895b4de3b45dbb6beef&limit=100000&offset=1&filters=ym:s:<attribution>UTMSource=='cubo'&accuracy=full&attribution=last\n",
      "https://beta.api-metrika.yandex.ru/stat/v1/data.csv?dimensions=&metrics=ym:s:visits,ym:s:goal17564030visits&date1=2016-04-01&date2=2016-06-01&ids=24744788&oauth_token=71e4f97915d34895b4de3b45dbb6beef&limit=100000&offset=1&filters=ym:s:<attribution>UTMSource=='cubo'&accuracy=full&attribution=first\n",
      "https://beta.api-metrika.yandex.ru/stat/v1/data.csv?dimensions=&metrics=ym:s:visits,ym:s:goal17564030visits&date1=2016-04-01&date2=2016-06-01&ids=24744788&oauth_token=71e4f97915d34895b4de3b45dbb6beef&limit=100000&offset=1&filters=ym:s:<attribution>UTMSource=='cubo'&accuracy=full&attribution=lastsign\n",
      "https://beta.api-metrika.yandex.ru/stat/v1/data.csv?dimensions=&metrics=ym:s:visits,ym:s:goal17564030visits&date1=2016-04-01&date2=2016-06-01&ids=24744788&oauth_token=71e4f97915d34895b4de3b45dbb6beef&limit=100000&offset=1&filters=ym:s:UTMSource=='cubo'&accuracy=full&attribution=\n",
      "https://beta.api-metrika.yandex.ru/stat/v1/data.csv?dimensions=&metrics=ym:s:visits,ym:s:goal12164633visits,ym:s:goal5829246visits,ym:s:goal12164493visits,ym:s:goal12163963visits&date1=2016-05-01&date2=2016-05-31&ids=23890603&oauth_token=e90c352e8afa48a480012385c988b152&limit=100000&offset=1&filters=ym:s:<attribution>UTMSource=='cubo'&accuracy=full&attribution=last\n",
      "https://beta.api-metrika.yandex.ru/stat/v1/data.csv?dimensions=&metrics=ym:s:visits,ym:s:goal12164633visits,ym:s:goal5829246visits,ym:s:goal12164493visits,ym:s:goal12163963visits&date1=2016-04-01&date2=2016-06-01&ids=23890603&oauth_token=e90c352e8afa48a480012385c988b152&limit=100000&offset=1&filters=ym:s:<attribution>UTMSource=='cubo'&accuracy=full&attribution=first\n",
      "https://beta.api-metrika.yandex.ru/stat/v1/data.csv?dimensions=&metrics=ym:s:visits,ym:s:goal12164633visits,ym:s:goal5829246visits,ym:s:goal12164493visits,ym:s:goal12163963visits&date1=2016-04-01&date2=2016-06-01&ids=23890603&oauth_token=e90c352e8afa48a480012385c988b152&limit=100000&offset=1&filters=ym:s:<attribution>UTMSource=='cubo'&accuracy=full&attribution=lastsign\n",
      "https://beta.api-metrika.yandex.ru/stat/v1/data.csv?dimensions=&metrics=ym:s:visits,ym:s:goal12164633visits,ym:s:goal5829246visits,ym:s:goal12164493visits,ym:s:goal12163963visits&date1=2016-04-01&date2=2016-06-01&ids=23890603&oauth_token=e90c352e8afa48a480012385c988b152&limit=100000&offset=1&filters=ym:s:UTMSource=='cubo'&accuracy=full&attribution=\n",
      "https://beta.api-metrika.yandex.ru/stat/v1/data.csv?dimensions=&metrics=ym:s:visits,ym:s:goal18333325visits,ym:s:goal16444920visits&date1=2016-05-01&date2=2016-05-31&ids=10751014&oauth_token=71e4f97915d34895b4de3b45dbb6beef&limit=100000&offset=1&filters=ym:s:<attribution>UTMSource=='cubo'&accuracy=full&attribution=last\n",
      "https://beta.api-metrika.yandex.ru/stat/v1/data.csv?dimensions=&metrics=ym:s:visits,ym:s:goal18333325visits,ym:s:goal16444920visits&date1=2016-04-01&date2=2016-06-01&ids=10751014&oauth_token=71e4f97915d34895b4de3b45dbb6beef&limit=100000&offset=1&filters=ym:s:<attribution>UTMSource=='cubo'&accuracy=full&attribution=first\n",
      "https://beta.api-metrika.yandex.ru/stat/v1/data.csv?dimensions=&metrics=ym:s:visits,ym:s:goal18333325visits,ym:s:goal16444920visits&date1=2016-04-01&date2=2016-06-01&ids=10751014&oauth_token=71e4f97915d34895b4de3b45dbb6beef&limit=100000&offset=1&filters=ym:s:<attribution>UTMSource=='cubo'&accuracy=full&attribution=lastsign\n",
      "https://beta.api-metrika.yandex.ru/stat/v1/data.csv?dimensions=&metrics=ym:s:visits,ym:s:goal18333325visits,ym:s:goal16444920visits&date1=2016-04-01&date2=2016-06-01&ids=10751014&oauth_token=71e4f97915d34895b4de3b45dbb6beef&limit=100000&offset=1&filters=ym:s:UTMSource=='cubo'&accuracy=full&attribution=\n",
      "Invalid login or password\n",
      "https://beta.api-metrika.yandex.ru/stat/v1/data.csv?dimensions=&metrics=ym:s:visits,ym:s:goal18929570visits,ym:s:goal18929580visits,ym:s:goal18929575visits,ym:s:goal16379560visits,ym:s:goal16379555visits&date1=2016-05-01&date2=2016-05-31&ids=0&oauth_token=0&limit=100000&offset=1&filters=ym:s:<attribution>UTMSource=='cubo'&accuracy=full&attribution=last\n"
     ]
    },
    {
     "ename": "HTTPError",
     "evalue": "HTTP Error 403: Forbidden",
     "output_type": "error",
     "traceback": [
      "\u001b[1;31m---------------------------------------------------------------------------\u001b[0m",
      "\u001b[1;31mHTTPError\u001b[0m                                 Traceback (most recent call last)",
      "\u001b[1;32m<ipython-input-72-cbe48543920c>\u001b[0m in \u001b[0;36m<module>\u001b[1;34m()\u001b[0m\n\u001b[0;32m     14\u001b[0m     \u001b[0mfilters\u001b[0m \u001b[1;33m=\u001b[0m \u001b[1;34m\"ym:s:<attribution>UTMSource=='cubo'\"\u001b[0m\u001b[1;33m\u001b[0m\u001b[0m\n\u001b[0;32m     15\u001b[0m     \u001b[0mattribution\u001b[0m \u001b[1;33m=\u001b[0m \u001b[1;34m'last'\u001b[0m\u001b[1;33m\u001b[0m\u001b[0m\n\u001b[1;32m---> 16\u001b[1;33m     \u001b[0mdf\u001b[0m \u001b[1;33m=\u001b[0m \u001b[0mgetMetrikaReportInDataFrame\u001b[0m\u001b[1;33m(\u001b[0m\u001b[0mdate1\u001b[0m\u001b[1;33m,\u001b[0m\u001b[0mdate2\u001b[0m\u001b[1;33m,\u001b[0m\u001b[0mmetrics\u001b[0m\u001b[1;33m,\u001b[0m\u001b[0mdimensions\u001b[0m\u001b[1;33m,\u001b[0m\u001b[0mtoken\u001b[0m\u001b[1;33m,\u001b[0m\u001b[0mcounterId\u001b[0m\u001b[1;33m,\u001b[0m\u001b[0mfilters\u001b[0m\u001b[1;33m,\u001b[0m\u001b[0mattribution\u001b[0m\u001b[1;33m)\u001b[0m\u001b[1;33m\u001b[0m\u001b[0m\n\u001b[0m\u001b[0;32m     17\u001b[0m     \u001b[0mdf\u001b[0m\u001b[1;33m[\u001b[0m\u001b[1;34m'attribution'\u001b[0m\u001b[1;33m]\u001b[0m \u001b[1;33m=\u001b[0m \u001b[0mattribution\u001b[0m\u001b[1;33m\u001b[0m\u001b[0m\n\u001b[0;32m     18\u001b[0m     \u001b[0mdf\u001b[0m\u001b[1;33m[\u001b[0m\u001b[1;34m'domain'\u001b[0m\u001b[1;33m]\u001b[0m \u001b[1;33m=\u001b[0m \u001b[0mdomain\u001b[0m\u001b[1;33m\u001b[0m\u001b[0m\n",
      "\u001b[1;32m<ipython-input-37-7af6c2421508>\u001b[0m in \u001b[0;36mgetMetrikaReportInDataFrame\u001b[1;34m(date1, date2, metrics, dimensions, token, counterId, filters, attribution)\u001b[0m\n\u001b[0;32m     42\u001b[0m     \u001b[0murl\u001b[0m \u001b[1;33m=\u001b[0m \u001b[1;34m'https://beta.api-metrika.yandex.ru/stat/v1/data.csv?'\u001b[0m\u001b[1;33m+\u001b[0m\u001b[0mparams\u001b[0m\u001b[1;33m\u001b[0m\u001b[0m\n\u001b[0;32m     43\u001b[0m     \u001b[1;32mprint\u001b[0m \u001b[0murl\u001b[0m\u001b[1;33m\u001b[0m\u001b[0m\n\u001b[1;32m---> 44\u001b[1;33m     \u001b[0mdf\u001b[0m \u001b[1;33m=\u001b[0m \u001b[0mpd\u001b[0m\u001b[1;33m.\u001b[0m\u001b[0mread_csv\u001b[0m\u001b[1;33m(\u001b[0m\u001b[0murl\u001b[0m\u001b[1;33m,\u001b[0m\u001b[0mencoding\u001b[0m\u001b[1;33m=\u001b[0m\u001b[1;34m'utf-8'\u001b[0m\u001b[1;33m)\u001b[0m\u001b[1;33m\u001b[0m\u001b[0m\n\u001b[0m\u001b[0;32m     45\u001b[0m     \u001b[1;32mreturn\u001b[0m \u001b[0mdf\u001b[0m\u001b[1;33m\u001b[0m\u001b[0m\n",
      "\u001b[1;32mC:\\Users\\aleksey.makarov\\AppData\\Local\\Continuum\\Anaconda\\lib\\site-packages\\pandas\\io\\parsers.pyc\u001b[0m in \u001b[0;36mparser_f\u001b[1;34m(filepath_or_buffer, sep, dialect, compression, doublequote, escapechar, quotechar, quoting, skipinitialspace, lineterminator, header, index_col, names, prefix, skiprows, skipfooter, skip_footer, na_values, true_values, false_values, delimiter, converters, dtype, usecols, engine, delim_whitespace, as_recarray, na_filter, compact_ints, use_unsigned, low_memory, buffer_lines, warn_bad_lines, error_bad_lines, keep_default_na, thousands, comment, decimal, parse_dates, keep_date_col, dayfirst, date_parser, memory_map, float_precision, nrows, iterator, chunksize, verbose, encoding, squeeze, mangle_dupe_cols, tupleize_cols, infer_datetime_format, skip_blank_lines)\u001b[0m\n\u001b[0;32m    496\u001b[0m                     skip_blank_lines=skip_blank_lines)\n\u001b[0;32m    497\u001b[0m \u001b[1;33m\u001b[0m\u001b[0m\n\u001b[1;32m--> 498\u001b[1;33m         \u001b[1;32mreturn\u001b[0m \u001b[0m_read\u001b[0m\u001b[1;33m(\u001b[0m\u001b[0mfilepath_or_buffer\u001b[0m\u001b[1;33m,\u001b[0m \u001b[0mkwds\u001b[0m\u001b[1;33m)\u001b[0m\u001b[1;33m\u001b[0m\u001b[0m\n\u001b[0m\u001b[0;32m    499\u001b[0m \u001b[1;33m\u001b[0m\u001b[0m\n\u001b[0;32m    500\u001b[0m     \u001b[0mparser_f\u001b[0m\u001b[1;33m.\u001b[0m\u001b[0m__name__\u001b[0m \u001b[1;33m=\u001b[0m \u001b[0mname\u001b[0m\u001b[1;33m\u001b[0m\u001b[0m\n",
      "\u001b[1;32mC:\\Users\\aleksey.makarov\\AppData\\Local\\Continuum\\Anaconda\\lib\\site-packages\\pandas\\io\\parsers.pyc\u001b[0m in \u001b[0;36m_read\u001b[1;34m(filepath_or_buffer, kwds)\u001b[0m\n\u001b[0;32m    260\u001b[0m     filepath_or_buffer, _, compression = get_filepath_or_buffer(filepath_or_buffer,\n\u001b[0;32m    261\u001b[0m                                                                 \u001b[0mencoding\u001b[0m\u001b[1;33m,\u001b[0m\u001b[1;33m\u001b[0m\u001b[0m\n\u001b[1;32m--> 262\u001b[1;33m                                                                 compression=kwds.get('compression', None))\n\u001b[0m\u001b[0;32m    263\u001b[0m     \u001b[0mkwds\u001b[0m\u001b[1;33m[\u001b[0m\u001b[1;34m'compression'\u001b[0m\u001b[1;33m]\u001b[0m \u001b[1;33m=\u001b[0m \u001b[0minferred_compression\u001b[0m \u001b[1;32mif\u001b[0m \u001b[0mcompression\u001b[0m \u001b[1;33m==\u001b[0m \u001b[1;34m'infer'\u001b[0m \u001b[1;32melse\u001b[0m \u001b[0mcompression\u001b[0m\u001b[1;33m\u001b[0m\u001b[0m\n\u001b[0;32m    264\u001b[0m \u001b[1;33m\u001b[0m\u001b[0m\n",
      "\u001b[1;32mC:\\Users\\aleksey.makarov\\AppData\\Local\\Continuum\\Anaconda\\lib\\site-packages\\pandas\\io\\common.pyc\u001b[0m in \u001b[0;36mget_filepath_or_buffer\u001b[1;34m(filepath_or_buffer, encoding, compression)\u001b[0m\n\u001b[0;32m    256\u001b[0m \u001b[1;33m\u001b[0m\u001b[0m\n\u001b[0;32m    257\u001b[0m     \u001b[1;32mif\u001b[0m \u001b[0m_is_url\u001b[0m\u001b[1;33m(\u001b[0m\u001b[0mfilepath_or_buffer\u001b[0m\u001b[1;33m)\u001b[0m\u001b[1;33m:\u001b[0m\u001b[1;33m\u001b[0m\u001b[0m\n\u001b[1;32m--> 258\u001b[1;33m         \u001b[0mreq\u001b[0m \u001b[1;33m=\u001b[0m \u001b[0m_urlopen\u001b[0m\u001b[1;33m(\u001b[0m\u001b[0mstr\u001b[0m\u001b[1;33m(\u001b[0m\u001b[0mfilepath_or_buffer\u001b[0m\u001b[1;33m)\u001b[0m\u001b[1;33m)\u001b[0m\u001b[1;33m\u001b[0m\u001b[0m\n\u001b[0m\u001b[0;32m    259\u001b[0m         \u001b[1;32mif\u001b[0m \u001b[0mcompression\u001b[0m \u001b[1;33m==\u001b[0m \u001b[1;34m'infer'\u001b[0m\u001b[1;33m:\u001b[0m\u001b[1;33m\u001b[0m\u001b[0m\n\u001b[0;32m    260\u001b[0m             \u001b[0mcontent_encoding\u001b[0m \u001b[1;33m=\u001b[0m \u001b[0mreq\u001b[0m\u001b[1;33m.\u001b[0m\u001b[0mheaders\u001b[0m\u001b[1;33m.\u001b[0m\u001b[0mget\u001b[0m\u001b[1;33m(\u001b[0m\u001b[1;34m'Content-Encoding'\u001b[0m\u001b[1;33m,\u001b[0m \u001b[0mNone\u001b[0m\u001b[1;33m)\u001b[0m\u001b[1;33m\u001b[0m\u001b[0m\n",
      "\u001b[1;32mC:\\Users\\aleksey.makarov\\AppData\\Local\\Continuum\\Anaconda\\lib\\urllib2.pyc\u001b[0m in \u001b[0;36murlopen\u001b[1;34m(url, data, timeout, cafile, capath, cadefault, context)\u001b[0m\n\u001b[0;32m    152\u001b[0m     \u001b[1;32melse\u001b[0m\u001b[1;33m:\u001b[0m\u001b[1;33m\u001b[0m\u001b[0m\n\u001b[0;32m    153\u001b[0m         \u001b[0mopener\u001b[0m \u001b[1;33m=\u001b[0m \u001b[0m_opener\u001b[0m\u001b[1;33m\u001b[0m\u001b[0m\n\u001b[1;32m--> 154\u001b[1;33m     \u001b[1;32mreturn\u001b[0m \u001b[0mopener\u001b[0m\u001b[1;33m.\u001b[0m\u001b[0mopen\u001b[0m\u001b[1;33m(\u001b[0m\u001b[0murl\u001b[0m\u001b[1;33m,\u001b[0m \u001b[0mdata\u001b[0m\u001b[1;33m,\u001b[0m \u001b[0mtimeout\u001b[0m\u001b[1;33m)\u001b[0m\u001b[1;33m\u001b[0m\u001b[0m\n\u001b[0m\u001b[0;32m    155\u001b[0m \u001b[1;33m\u001b[0m\u001b[0m\n\u001b[0;32m    156\u001b[0m \u001b[1;32mdef\u001b[0m \u001b[0minstall_opener\u001b[0m\u001b[1;33m(\u001b[0m\u001b[0mopener\u001b[0m\u001b[1;33m)\u001b[0m\u001b[1;33m:\u001b[0m\u001b[1;33m\u001b[0m\u001b[0m\n",
      "\u001b[1;32mC:\\Users\\aleksey.makarov\\AppData\\Local\\Continuum\\Anaconda\\lib\\urllib2.pyc\u001b[0m in \u001b[0;36mopen\u001b[1;34m(self, fullurl, data, timeout)\u001b[0m\n\u001b[0;32m    435\u001b[0m         \u001b[1;32mfor\u001b[0m \u001b[0mprocessor\u001b[0m \u001b[1;32min\u001b[0m \u001b[0mself\u001b[0m\u001b[1;33m.\u001b[0m\u001b[0mprocess_response\u001b[0m\u001b[1;33m.\u001b[0m\u001b[0mget\u001b[0m\u001b[1;33m(\u001b[0m\u001b[0mprotocol\u001b[0m\u001b[1;33m,\u001b[0m \u001b[1;33m[\u001b[0m\u001b[1;33m]\u001b[0m\u001b[1;33m)\u001b[0m\u001b[1;33m:\u001b[0m\u001b[1;33m\u001b[0m\u001b[0m\n\u001b[0;32m    436\u001b[0m             \u001b[0mmeth\u001b[0m \u001b[1;33m=\u001b[0m \u001b[0mgetattr\u001b[0m\u001b[1;33m(\u001b[0m\u001b[0mprocessor\u001b[0m\u001b[1;33m,\u001b[0m \u001b[0mmeth_name\u001b[0m\u001b[1;33m)\u001b[0m\u001b[1;33m\u001b[0m\u001b[0m\n\u001b[1;32m--> 437\u001b[1;33m             \u001b[0mresponse\u001b[0m \u001b[1;33m=\u001b[0m \u001b[0mmeth\u001b[0m\u001b[1;33m(\u001b[0m\u001b[0mreq\u001b[0m\u001b[1;33m,\u001b[0m \u001b[0mresponse\u001b[0m\u001b[1;33m)\u001b[0m\u001b[1;33m\u001b[0m\u001b[0m\n\u001b[0m\u001b[0;32m    438\u001b[0m \u001b[1;33m\u001b[0m\u001b[0m\n\u001b[0;32m    439\u001b[0m         \u001b[1;32mreturn\u001b[0m \u001b[0mresponse\u001b[0m\u001b[1;33m\u001b[0m\u001b[0m\n",
      "\u001b[1;32mC:\\Users\\aleksey.makarov\\AppData\\Local\\Continuum\\Anaconda\\lib\\urllib2.pyc\u001b[0m in \u001b[0;36mhttp_response\u001b[1;34m(self, request, response)\u001b[0m\n\u001b[0;32m    548\u001b[0m         \u001b[1;32mif\u001b[0m \u001b[1;32mnot\u001b[0m \u001b[1;33m(\u001b[0m\u001b[1;36m200\u001b[0m \u001b[1;33m<=\u001b[0m \u001b[0mcode\u001b[0m \u001b[1;33m<\u001b[0m \u001b[1;36m300\u001b[0m\u001b[1;33m)\u001b[0m\u001b[1;33m:\u001b[0m\u001b[1;33m\u001b[0m\u001b[0m\n\u001b[0;32m    549\u001b[0m             response = self.parent.error(\n\u001b[1;32m--> 550\u001b[1;33m                 'http', request, response, code, msg, hdrs)\n\u001b[0m\u001b[0;32m    551\u001b[0m \u001b[1;33m\u001b[0m\u001b[0m\n\u001b[0;32m    552\u001b[0m         \u001b[1;32mreturn\u001b[0m \u001b[0mresponse\u001b[0m\u001b[1;33m\u001b[0m\u001b[0m\n",
      "\u001b[1;32mC:\\Users\\aleksey.makarov\\AppData\\Local\\Continuum\\Anaconda\\lib\\urllib2.pyc\u001b[0m in \u001b[0;36merror\u001b[1;34m(self, proto, *args)\u001b[0m\n\u001b[0;32m    473\u001b[0m         \u001b[1;32mif\u001b[0m \u001b[0mhttp_err\u001b[0m\u001b[1;33m:\u001b[0m\u001b[1;33m\u001b[0m\u001b[0m\n\u001b[0;32m    474\u001b[0m             \u001b[0margs\u001b[0m \u001b[1;33m=\u001b[0m \u001b[1;33m(\u001b[0m\u001b[0mdict\u001b[0m\u001b[1;33m,\u001b[0m \u001b[1;34m'default'\u001b[0m\u001b[1;33m,\u001b[0m \u001b[1;34m'http_error_default'\u001b[0m\u001b[1;33m)\u001b[0m \u001b[1;33m+\u001b[0m \u001b[0morig_args\u001b[0m\u001b[1;33m\u001b[0m\u001b[0m\n\u001b[1;32m--> 475\u001b[1;33m             \u001b[1;32mreturn\u001b[0m \u001b[0mself\u001b[0m\u001b[1;33m.\u001b[0m\u001b[0m_call_chain\u001b[0m\u001b[1;33m(\u001b[0m\u001b[1;33m*\u001b[0m\u001b[0margs\u001b[0m\u001b[1;33m)\u001b[0m\u001b[1;33m\u001b[0m\u001b[0m\n\u001b[0m\u001b[0;32m    476\u001b[0m \u001b[1;33m\u001b[0m\u001b[0m\n\u001b[0;32m    477\u001b[0m \u001b[1;31m# XXX probably also want an abstract factory that knows when it makes\u001b[0m\u001b[1;33m\u001b[0m\u001b[1;33m\u001b[0m\u001b[0m\n",
      "\u001b[1;32mC:\\Users\\aleksey.makarov\\AppData\\Local\\Continuum\\Anaconda\\lib\\urllib2.pyc\u001b[0m in \u001b[0;36m_call_chain\u001b[1;34m(self, chain, kind, meth_name, *args)\u001b[0m\n\u001b[0;32m    407\u001b[0m             \u001b[0mfunc\u001b[0m \u001b[1;33m=\u001b[0m \u001b[0mgetattr\u001b[0m\u001b[1;33m(\u001b[0m\u001b[0mhandler\u001b[0m\u001b[1;33m,\u001b[0m \u001b[0mmeth_name\u001b[0m\u001b[1;33m)\u001b[0m\u001b[1;33m\u001b[0m\u001b[0m\n\u001b[0;32m    408\u001b[0m \u001b[1;33m\u001b[0m\u001b[0m\n\u001b[1;32m--> 409\u001b[1;33m             \u001b[0mresult\u001b[0m \u001b[1;33m=\u001b[0m \u001b[0mfunc\u001b[0m\u001b[1;33m(\u001b[0m\u001b[1;33m*\u001b[0m\u001b[0margs\u001b[0m\u001b[1;33m)\u001b[0m\u001b[1;33m\u001b[0m\u001b[0m\n\u001b[0m\u001b[0;32m    410\u001b[0m             \u001b[1;32mif\u001b[0m \u001b[0mresult\u001b[0m \u001b[1;32mis\u001b[0m \u001b[1;32mnot\u001b[0m \u001b[0mNone\u001b[0m\u001b[1;33m:\u001b[0m\u001b[1;33m\u001b[0m\u001b[0m\n\u001b[0;32m    411\u001b[0m                 \u001b[1;32mreturn\u001b[0m \u001b[0mresult\u001b[0m\u001b[1;33m\u001b[0m\u001b[0m\n",
      "\u001b[1;32mC:\\Users\\aleksey.makarov\\AppData\\Local\\Continuum\\Anaconda\\lib\\urllib2.pyc\u001b[0m in \u001b[0;36mhttp_error_default\u001b[1;34m(self, req, fp, code, msg, hdrs)\u001b[0m\n\u001b[0;32m    556\u001b[0m \u001b[1;32mclass\u001b[0m \u001b[0mHTTPDefaultErrorHandler\u001b[0m\u001b[1;33m(\u001b[0m\u001b[0mBaseHandler\u001b[0m\u001b[1;33m)\u001b[0m\u001b[1;33m:\u001b[0m\u001b[1;33m\u001b[0m\u001b[0m\n\u001b[0;32m    557\u001b[0m     \u001b[1;32mdef\u001b[0m \u001b[0mhttp_error_default\u001b[0m\u001b[1;33m(\u001b[0m\u001b[0mself\u001b[0m\u001b[1;33m,\u001b[0m \u001b[0mreq\u001b[0m\u001b[1;33m,\u001b[0m \u001b[0mfp\u001b[0m\u001b[1;33m,\u001b[0m \u001b[0mcode\u001b[0m\u001b[1;33m,\u001b[0m \u001b[0mmsg\u001b[0m\u001b[1;33m,\u001b[0m \u001b[0mhdrs\u001b[0m\u001b[1;33m)\u001b[0m\u001b[1;33m:\u001b[0m\u001b[1;33m\u001b[0m\u001b[0m\n\u001b[1;32m--> 558\u001b[1;33m         \u001b[1;32mraise\u001b[0m \u001b[0mHTTPError\u001b[0m\u001b[1;33m(\u001b[0m\u001b[0mreq\u001b[0m\u001b[1;33m.\u001b[0m\u001b[0mget_full_url\u001b[0m\u001b[1;33m(\u001b[0m\u001b[1;33m)\u001b[0m\u001b[1;33m,\u001b[0m \u001b[0mcode\u001b[0m\u001b[1;33m,\u001b[0m \u001b[0mmsg\u001b[0m\u001b[1;33m,\u001b[0m \u001b[0mhdrs\u001b[0m\u001b[1;33m,\u001b[0m \u001b[0mfp\u001b[0m\u001b[1;33m)\u001b[0m\u001b[1;33m\u001b[0m\u001b[0m\n\u001b[0m\u001b[0;32m    559\u001b[0m \u001b[1;33m\u001b[0m\u001b[0m\n\u001b[0;32m    560\u001b[0m \u001b[1;32mclass\u001b[0m \u001b[0mHTTPRedirectHandler\u001b[0m\u001b[1;33m(\u001b[0m\u001b[0mBaseHandler\u001b[0m\u001b[1;33m)\u001b[0m\u001b[1;33m:\u001b[0m\u001b[1;33m\u001b[0m\u001b[0m\n",
      "\u001b[1;31mHTTPError\u001b[0m: HTTP Error 403: Forbidden"
     ]
    }
   ],
   "source": [
    "total_df = pd.DataFrame()\n",
    "for domain in domains:\n",
    "    vipProjectInfo = getVipProjectByDomain(domain)\n",
    "    metrikaCredentials = getMetrikaCredentialsByLPD({'yandexLogin':vipProjectInfo[0]['metrikalogin'],'yandexPassword':vipProjectInfo[0]['metrikapassword'],'domain':domain.decode(\"utf-8\")})\n",
    "\n",
    "    date1 = '2016-05-01'\n",
    "    date2 = '2016-05-31'\n",
    "    goalsMetrics = ','.join(['ym:s:goal'+str(target['targetid'])+'visits' for target in getCPATargetsByProjectID(vipProjectInfo[0]['projectid'])])\n",
    "    otherMetrics = 'ym:s:visits'\n",
    "    metrics = ','.join([otherMetrics,goalsMetrics])\n",
    "    dimensions=''\n",
    "    token = metrikaCredentials['Token']\n",
    "    counterId = metrikaCredentials['counterID'][0]\n",
    "    filters = \"ym:s:<attribution>UTMSource=='cubo'\"\n",
    "    attribution = 'last'\n",
    "    df = getMetrikaReportInDataFrame(date1,date2,metrics,dimensions,token,counterId,filters,attribution)\n",
    "    df['attribution'] = attribution\n",
    "    df['domain'] = domain\n",
    "    df = mergeCPAVisitsColumns(df)\n",
    "    total_df = pd.concat([total_df,df])\n",
    "    \n",
    "    date1 = '2016-04-01'\n",
    "    date2 = '2016-06-01'\n",
    "    goalsMetrics = ','.join(['ym:s:goal'+str(target['targetid'])+'visits' for target in getCPATargetsByProjectID(vipProjectInfo[0]['projectid'])])\n",
    "    otherMetrics = 'ym:s:visits'\n",
    "    metrics = ','.join([otherMetrics,goalsMetrics])\n",
    "    dimensions=''\n",
    "    token = metrikaCredentials['Token']\n",
    "    counterId = metrikaCredentials['counterID'][0]\n",
    "    filters = \"ym:s:<attribution>UTMSource=='cubo'\"\n",
    "    attribution = 'first'\n",
    "    df = getMetrikaReportInDataFrame(date1,date2,metrics,dimensions,token,counterId,filters,attribution)\n",
    "    df['attribution'] = attribution\n",
    "    df['domain'] = domain\n",
    "    df = mergeCPAVisitsColumns(df)\n",
    "    total_df = pd.concat([total_df,df])\n",
    "    \n",
    "    date1 = '2016-04-01'\n",
    "    date2 = '2016-06-01'\n",
    "    goalsMetrics = ','.join(['ym:s:goal'+str(target['targetid'])+'visits' for target in getCPATargetsByProjectID(vipProjectInfo[0]['projectid'])])\n",
    "    otherMetrics = 'ym:s:visits'\n",
    "    metrics = ','.join([otherMetrics,goalsMetrics])\n",
    "    dimensions=''\n",
    "    token = metrikaCredentials['Token']\n",
    "    counterId = metrikaCredentials['counterID'][0]\n",
    "    filters = \"ym:s:<attribution>UTMSource=='cubo'\"\n",
    "    attribution = 'lastsign'\n",
    "    df = getMetrikaReportInDataFrame(date1,date2,metrics,dimensions,token,counterId,filters,attribution)\n",
    "    df['attribution'] = attribution\n",
    "    df['domain'] = domain\n",
    "    df = mergeCPAVisitsColumns(df)\n",
    "    total_df = pd.concat([total_df,df])\n",
    "    \n",
    "    date1 = '2016-04-01'\n",
    "    date2 = '2016-06-01'\n",
    "    goalsMetrics = ','.join(['ym:s:goal'+str(target['targetid'])+'visits' for target in getCPATargetsByProjectID(vipProjectInfo[0]['projectid'])])\n",
    "    otherMetrics = 'ym:s:visits'\n",
    "    metrics = ','.join([otherMetrics,goalsMetrics])\n",
    "    dimensions=''\n",
    "    token = metrikaCredentials['Token']\n",
    "    counterId = metrikaCredentials['counterID'][0]\n",
    "    filters = \"ym:s:UTMSource=='cubo'\"\n",
    "    attribution = ''\n",
    "    df = getMetrikaReportInDataFrame(date1,date2,metrics,dimensions,token,counterId,filters,attribution)\n",
    "    df['attribution'] = 'default'\n",
    "    df['domain'] = domain\n",
    "    df = mergeCPAVisitsColumns(df)\n",
    "    total_df = pd.concat([total_df,df])"
   ]
  },
  {
   "cell_type": "code",
   "execution_count": 78,
   "metadata": {
    "collapsed": false
   },
   "outputs": [],
   "source": [
    "total_df.to_csv('D:\\\\_Docs_\\\\2016-06\\\\2016-06-06 New UTM attribution\\\\data.csv',encoding='utf8}')"
   ]
  },
  {
   "cell_type": "code",
   "execution_count": 3,
   "metadata": {
    "collapsed": true
   },
   "outputs": [],
   "source": [
    "domain = 'ribambelle.ru'"
   ]
  },
  {
   "cell_type": "code",
   "execution_count": 44,
   "metadata": {
    "collapsed": false
   },
   "outputs": [],
   "source": [
    "vipProjectInfo = getVipProjectByDomain(domain)\n",
    "metrikaCredentials = getMetrikaCredentialsByLPD({'yandexLogin':vipProjectInfo[0]['metrikalogin'],'yandexPassword':vipProjectInfo[0]['metrikapassword'].replace('&','%26'),'domain':domain.decode(\"utf-8\")})"
   ]
  },
  {
   "cell_type": "code",
   "execution_count": 45,
   "metadata": {
    "collapsed": false
   },
   "outputs": [
    {
     "data": {
      "text/plain": [
       "{'Token': u'4be1f6f321ed442bb0b930bec0a2eddf', 'counterID': [16630105]}"
      ]
     },
     "execution_count": 45,
     "metadata": {},
     "output_type": "execute_result"
    }
   ],
   "source": [
    "metrikaCredentials"
   ]
  },
  {
   "cell_type": "code",
   "execution_count": 46,
   "metadata": {
    "collapsed": false
   },
   "outputs": [
    {
     "name": "stdout",
     "output_type": "stream",
     "text": [
      "https://beta.api-metrika.yandex.ru/stat/v1/data.csv?dimensions=ym:s:specialUser,ym:s:dateTime,ym:s:<attribution>TrafficSource,ym:s:<attribution>SourceEngine,ym:s:<attribution>UTMSource,ym:s:<attribution>UTMMedium,ym:s:<attribution>UTMCampaign,ym:s:<attribution>UTMContent,ym:s:<attribution>UTMTerm&metrics=ym:s:visits,ym:s:goal18929570visits,ym:s:goal18929580visits,ym:s:goal18929575visits,ym:s:goal16379560visits,ym:s:goal16379555visits&date1=2016-06-15&date2=2016-06-16&ids=16630105&oauth_token=4be1f6f321ed442bb0b930bec0a2eddf&limit=100000&offset=1&filters=&accuracy=full&attribution=lastsign\n"
     ]
    }
   ],
   "source": [
    "date1 = '2016-06-15'\n",
    "date2 = '2016-06-16'\n",
    "goalsMetrics = ','.join(['ym:s:goal'+str(target['targetid'])+'visits' for target in getCPATargetsByProjectID(vipProjectInfo[0]['projectid'])])\n",
    "otherMetrics = 'ym:s:visits'\n",
    "metrics = ','.join([otherMetrics,goalsMetrics])\n",
    "dimensions='ym:s:specialUser,ym:s:dateTime,ym:s:<attribution>TrafficSource,ym:s:<attribution>SourceEngine,ym:s:<attribution>UTMSource,ym:s:<attribution>UTMMedium,ym:s:<attribution>UTMCampaign,ym:s:<attribution>UTMContent,ym:s:<attribution>UTMTerm'\n",
    "token = metrikaCredentials['Token']\n",
    "counterId = metrikaCredentials['counterID'][0]\n",
    "filters = \"\"\n",
    "attribution = 'lastsign'\n",
    "df = getMetrikaReportInDataFrame(date1,date2,metrics,dimensions,token,counterId,filters,attribution)"
   ]
  },
  {
   "cell_type": "code",
   "execution_count": 49,
   "metadata": {
    "collapsed": false
   },
   "outputs": [],
   "source": [
    "domains = [\"russj.ru\",\"organickids.ru\",\"pinakotekaresto.com\",\"prosto-gruz.ru\",\"zbbb.ru\",\"alcotek.ru\",\"edemdom.ru\",\"labotini.ru\",\"realstroy.com\",\"tencon.ru\",\"жк-московский.com\",\n",
    "\"народная-23.рф\",\"doorlock.ru\",\"stm66.ru\",\"academoffice.ru\",\"adel-omsk.ru\",\"baxburo.ru\",\"fabslog.ru\",\"ferkon.ru\",\"fosterland.ru\",\"gemainvest.ru\",\"hotel.sipk.ru\",\n",
    "\"kerasol.ru\",\"medstrahovka.ru\",\"m-y.ru\",\"nasoscentr.ru\",\"optikdeal.ru\",\"pickup-center.ru\",\"proudmom.ru\",\"ribambelle.ru\",\"rusmaneken.ru\",\"simple-pro.com\",\"teploppu.ru\",\n",
    "\"altpremium.ru\",\"mosvipremont.ru\",\"multifin.ru\",\"megakran.ru\",\"energotehmontag.ru\",\"nanosegway.ru\",\"mebmetall.ru\",\"oooptr77.ru\",\"saabparts.su\",\"lodki-piter.ru\",\n",
    "\"accessoriesforhome.ru\",\"darion-svet.ru\",\"vtb24leasing.ru\",\"sevastopolstroy.ru\"]"
   ]
  },
  {
   "cell_type": "code",
   "execution_count": 52,
   "metadata": {
    "collapsed": false
   },
   "outputs": [
    {
     "name": "stdout",
     "output_type": "stream",
     "text": [
      "https://beta.api-metrika.yandex.ru/stat/v1/data.csv?dimensions=ym:s:deviceCategory&metrics=ym:s:visits,ym:s:goal20722165visits,ym:s:goal11692031visits,ym:s:goal11692036visits&date1=2016-05-01&date2=2016-05-31&ids=30722483&oauth_token=2cc70776f1ca4b06a662ec47714291e4&limit=100000&offset=1&filters=ym:s:<attribution>UTMMedium=='direct'&accuracy=full&attribution=lastsign\n",
      "https://beta.api-metrika.yandex.ru/stat/v1/data.csv?dimensions=ym:s:deviceCategory&metrics=ym:s:visits,ym:s:goal19493860visits,ym:s:goal11284707visits,ym:s:goal11284702visits,ym:s:goal11086937visits&date1=2016-05-01&date2=2016-05-31&ids=29007535&oauth_token=9a21aa0f83ba43c7ba8539b91b605d35&limit=100000&offset=1&filters=ym:s:<attribution>UTMMedium=='direct'&accuracy=full&attribution=lastsign\n",
      "https://beta.api-metrika.yandex.ru/stat/v1/data.csv?dimensions=ym:s:deviceCategory&metrics=ym:s:visits,ym:s:goal16248195visits&date1=2016-05-01&date2=2016-05-31&ids=34188145&oauth_token=b69353d2e4a44e0aa2960c34c839b5a3&limit=100000&offset=1&filters=ym:s:<attribution>UTMMedium=='direct'&accuracy=full&attribution=lastsign\n",
      "https://beta.api-metrika.yandex.ru/stat/v1/data.csv?dimensions=ym:s:deviceCategory&metrics=ym:s:visits,ym:s:goal19215195visits&date1=2016-05-01&date2=2016-05-31&ids=34068765&oauth_token=71e4f97915d34895b4de3b45dbb6beef&limit=100000&offset=1&filters=ym:s:<attribution>UTMMedium=='direct'&accuracy=full&attribution=lastsign\n",
      "https://beta.api-metrika.yandex.ru/stat/v1/data.csv?dimensions=ym:s:deviceCategory&metrics=ym:s:visits,ym:s:goal18039295visits,ym:s:goal16875135visits,ym:s:goal16874990visits&date1=2016-05-01&date2=2016-05-31&ids=18829453&oauth_token=e2ac7f9759ad4e489bc39300b7450643&limit=100000&offset=1&filters=ym:s:<attribution>UTMMedium=='direct'&accuracy=full&attribution=lastsign\n",
      "https://beta.api-metrika.yandex.ru/stat/v1/data.csv?dimensions=ym:s:deviceCategory&metrics=ym:s:visits,ym:s:goal18007765visits,ym:s:goal18007775visits,ym:s:goal18007760visits,ym:s:goal14526858visits,ym:s:goal5430551visits&date1=2016-05-01&date2=2016-05-31&ids=5450017&oauth_token=c887e13f6de744a9885b3a5479845779&limit=100000&offset=1&filters=ym:s:<attribution>UTMMedium=='direct'&accuracy=full&attribution=lastsign\n",
      "https://beta.api-metrika.yandex.ru/stat/v1/data.csv?dimensions=ym:s:deviceCategory&metrics=ym:s:visits,ym:s:goal19227305visits,ym:s:goal19227130visits,ym:s:goal19227085visits&date1=2016-05-01&date2=2016-05-31&ids=33307018&oauth_token=e96fa45271d244adb152edfacf838dac&limit=100000&offset=1&filters=ym:s:<attribution>UTMMedium=='direct'&accuracy=full&attribution=lastsign\n",
      "https://beta.api-metrika.yandex.ru/stat/v1/data.csv?dimensions=ym:s:deviceCategory&metrics=ym:s:visits,ym:s:goal14452508visits,ym:s:goal5885721visits&date1=2016-05-01&date2=2016-05-31&ids=22192771&oauth_token=c887e13f6de744a9885b3a5479845779&limit=100000&offset=1&filters=ym:s:<attribution>UTMMedium=='direct'&accuracy=full&attribution=lastsign\n",
      "https://beta.api-metrika.yandex.ru/stat/v1/data.csv?dimensions=ym:s:deviceCategory&metrics=ym:s:visits,ym:s:goal11289482visits,ym:s:goal17015810visits,ym:s:goal17015805visits,ym:s:goal17015725visits&date1=2016-05-01&date2=2016-05-31&ids=20926513&oauth_token=aa927b194ae7457e9abb64cbd31d2a0a&limit=100000&offset=1&filters=ym:s:<attribution>UTMMedium=='direct'&accuracy=full&attribution=lastsign\n",
      "https://beta.api-metrika.yandex.ru/stat/v1/data.csv?dimensions=ym:s:deviceCategory&metrics=ym:s:visits,ym:s:goal19255675visits,ym:s:goal18967105visits,ym:s:goal18847090visits,ym:s:goal18364610visits&date1=2016-05-01&date2=2016-05-31&ids=30854601&oauth_token=71e4f97915d34895b4de3b45dbb6beef&limit=100000&offset=1&filters=ym:s:<attribution>UTMMedium=='direct'&accuracy=full&attribution=lastsign\n",
      "https://beta.api-metrika.yandex.ru/stat/v1/data.csv?dimensions=ym:s:deviceCategory&metrics=ym:s:visits,ym:s:goal20129650visits,ym:s:goal16924230visits&date1=2016-05-01&date2=2016-05-31&ids=34668810&oauth_token=d92c51f2295c44508da666089c8d4a7b&limit=100000&offset=1&filters=ym:s:<attribution>UTMMedium=='direct'&accuracy=full&attribution=lastsign\n",
      "https://beta.api-metrika.yandex.ru/stat/v1/data.csv?dimensions=ym:s:deviceCategory&metrics=ym:s:visits,ym:s:goal20129500visits,ym:s:goal16978070visits&date1=2016-05-01&date2=2016-05-31&ids=34670895&oauth_token=d92c51f2295c44508da666089c8d4a7b&limit=100000&offset=1&filters=ym:s:<attribution>UTMMedium=='direct'&accuracy=full&attribution=lastsign\n",
      "https://beta.api-metrika.yandex.ru/stat/v1/data.csv?dimensions=ym:s:deviceCategory&metrics=ym:s:visits,ym:s:goal19189750visits,ym:s:goal2309269visits&date1=2016-05-01&date2=2016-05-31&ids=36936&oauth_token=234c2324fb7b4139ba79c2b43be01076&limit=100000&offset=1&filters=ym:s:<attribution>UTMMedium=='direct'&accuracy=full&attribution=lastsign\n",
      "https://beta.api-metrika.yandex.ru/stat/v1/data.csv?dimensions=ym:s:deviceCategory&metrics=ym:s:visits,ym:s:goal12078163visits&date1=2016-05-01&date2=2016-05-31&ids=17956738&oauth_token=71e4f97915d34895b4de3b45dbb6beef&limit=100000&offset=1&filters=ym:s:<attribution>UTMMedium=='direct'&accuracy=full&attribution=lastsign\n",
      "https://beta.api-metrika.yandex.ru/stat/v1/data.csv?dimensions=ym:s:deviceCategory&metrics=ym:s:visits,ym:s:goal18202220visits,ym:s:goal16444500visits&date1=2016-05-01&date2=2016-05-31&ids=32446210&oauth_token=5cc9948767794035af9ca25479414560&limit=100000&offset=1&filters=ym:s:<attribution>UTMMedium=='direct'&accuracy=full&attribution=lastsign\n",
      "https://beta.api-metrika.yandex.ru/stat/v1/data.csv?dimensions=ym:s:deviceCategory&metrics=ym:s:visits,ym:s:goal14382998visits&date1=2016-05-01&date2=2016-05-31&ids=32466025&oauth_token=00687c8af3aa4b4bbddea008faae5bfa&limit=100000&offset=1&filters=ym:s:<attribution>UTMMedium=='direct'&accuracy=full&attribution=lastsign\n",
      "https://beta.api-metrika.yandex.ru/stat/v1/data.csv?dimensions=ym:s:deviceCategory&metrics=ym:s:visits,ym:s:goal19235925visits,ym:s:goal19406190visits,ym:s:goal19406180visits&date1=2016-05-01&date2=2016-05-31&ids=26746179&oauth_token=71e4f97915d34895b4de3b45dbb6beef&limit=100000&offset=1&filters=ym:s:<attribution>UTMMedium=='direct'&accuracy=full&attribution=lastsign\n",
      "https://beta.api-metrika.yandex.ru/stat/v1/data.csv?dimensions=ym:s:deviceCategory&metrics=ym:s:visits,ym:s:goal17613980visits&date1=2016-05-01&date2=2016-05-31&ids=27882414&oauth_token=f5e0e787f55e48319b416185d48d3890&limit=100000&offset=1&filters=ym:s:<attribution>UTMMedium=='direct'&accuracy=full&attribution=lastsign\n",
      "https://beta.api-metrika.yandex.ru/stat/v1/data.csv?dimensions=ym:s:deviceCategory&metrics=ym:s:visits,ym:s:goal14055803visits,ym:s:goal14055798visits&date1=2016-05-01&date2=2016-05-31&ids=22800847&oauth_token=d92c51f2295c44508da666089c8d4a7b&limit=100000&offset=1&filters=ym:s:<attribution>UTMMedium=='direct'&accuracy=full&attribution=lastsign\n",
      "https://beta.api-metrika.yandex.ru/stat/v1/data.csv?dimensions=ym:s:deviceCategory&metrics=ym:s:visits,ym:s:goal18107970visits&date1=2016-05-01&date2=2016-05-31&ids=13017985&oauth_token=c9e3a7b2b7b74033b6c2809fbb0ab473&limit=100000&offset=1&filters=ym:s:<attribution>UTMMedium=='direct'&accuracy=full&attribution=lastsign\n",
      "https://beta.api-metrika.yandex.ru/stat/v1/data.csv?dimensions=ym:s:deviceCategory&metrics=ym:s:visits,ym:s:goal17999160visits,ym:s:goal17856060visits,ym:s:goal17279880visits,ym:s:goal17279875visits&date1=2016-05-01&date2=2016-05-31&ids=16003615&oauth_token=71e4f97915d34895b4de3b45dbb6beef&limit=100000&offset=1&filters=ym:s:<attribution>UTMMedium=='direct'&accuracy=full&attribution=lastsign\n",
      "https://beta.api-metrika.yandex.ru/stat/v1/data.csv?dimensions=ym:s:deviceCategory&metrics=ym:s:visits,ym:s:goal19628530visits,ym:s:goal19628535visits,ym:s:goal19628525visits&date1=2016-05-01&date2=2016-05-31&ids=37037755&oauth_token=71e4f97915d34895b4de3b45dbb6beef&limit=100000&offset=1&filters=ym:s:<attribution>UTMMedium=='direct'&accuracy=full&attribution=lastsign\n",
      "https://beta.api-metrika.yandex.ru/stat/v1/data.csv?dimensions=ym:s:deviceCategory&metrics=ym:s:visits,ym:s:goal19575700visits,ym:s:goal15068949visits,ym:s:goal14664083visits&date1=2016-05-01&date2=2016-05-31&ids=29467030&oauth_token=d92c51f2295c44508da666089c8d4a7b&limit=100000&offset=1&filters=ym:s:<attribution>UTMMedium=='direct'&accuracy=full&attribution=lastsign\n",
      "https://beta.api-metrika.yandex.ru/stat/v1/data.csv?dimensions=ym:s:deviceCategory&metrics=ym:s:visits,ym:s:goal19941615visits,ym:s:goal18832465visits,ym:s:goal18828495visits,ym:s:goal18522800visits,ym:s:goal6910310visits&date1=2016-05-01&date2=2016-05-31&ids=26983731&oauth_token=71e4f97915d34895b4de3b45dbb6beef&limit=100000&offset=1&filters=ym:s:<attribution>UTMMedium=='direct'&accuracy=full&attribution=lastsign\n",
      "https://beta.api-metrika.yandex.ru/stat/v1/data.csv?dimensions=ym:s:deviceCategory&metrics=ym:s:visits,ym:s:goal19494460visits,ym:s:goal19494325visits&date1=2016-05-01&date2=2016-05-31&ids=150951&oauth_token=205b08a8d17d462a9e8adc5e4fa0b2cc&limit=100000&offset=1&filters=ym:s:<attribution>UTMMedium=='direct'&accuracy=full&attribution=lastsign\n",
      "https://beta.api-metrika.yandex.ru/stat/v1/data.csv?dimensions=ym:s:deviceCategory&metrics=ym:s:visits,ym:s:goal12290273visits&date1=2016-05-01&date2=2016-05-31&ids=23094997&oauth_token=71e4f97915d34895b4de3b45dbb6beef&limit=100000&offset=1&filters=ym:s:<attribution>UTMMedium=='direct'&accuracy=full&attribution=lastsign\n",
      "https://beta.api-metrika.yandex.ru/stat/v1/data.csv?dimensions=ym:s:deviceCategory&metrics=ym:s:visits,ym:s:goal17564030visits&date1=2016-05-01&date2=2016-05-31&ids=24744788&oauth_token=71e4f97915d34895b4de3b45dbb6beef&limit=100000&offset=1&filters=ym:s:<attribution>UTMMedium=='direct'&accuracy=full&attribution=lastsign\n",
      "https://beta.api-metrika.yandex.ru/stat/v1/data.csv?dimensions=ym:s:deviceCategory&metrics=ym:s:visits,ym:s:goal12164633visits,ym:s:goal5829246visits,ym:s:goal12164493visits,ym:s:goal12163963visits&date1=2016-05-01&date2=2016-05-31&ids=23890603&oauth_token=e90c352e8afa48a480012385c988b152&limit=100000&offset=1&filters=ym:s:<attribution>UTMMedium=='direct'&accuracy=full&attribution=lastsign\n",
      "https://beta.api-metrika.yandex.ru/stat/v1/data.csv?dimensions=ym:s:deviceCategory&metrics=ym:s:visits,ym:s:goal18333325visits,ym:s:goal16444920visits&date1=2016-05-01&date2=2016-05-31&ids=10751014&oauth_token=71e4f97915d34895b4de3b45dbb6beef&limit=100000&offset=1&filters=ym:s:<attribution>UTMMedium=='direct'&accuracy=full&attribution=lastsign\n",
      "Invalid login or password\n",
      "https://beta.api-metrika.yandex.ru/stat/v1/data.csv?dimensions=ym:s:deviceCategory&metrics=ym:s:visits,ym:s:goal18929570visits,ym:s:goal18929580visits,ym:s:goal18929575visits,ym:s:goal16379560visits,ym:s:goal16379555visits&date1=2016-05-01&date2=2016-05-31&ids=0&oauth_token=0&limit=100000&offset=1&filters=ym:s:<attribution>UTMMedium=='direct'&accuracy=full&attribution=lastsign\n"
     ]
    },
    {
     "ename": "HTTPError",
     "evalue": "HTTP Error 403: Forbidden",
     "output_type": "error",
     "traceback": [
      "\u001b[1;31m---------------------------------------------------------------------------\u001b[0m",
      "\u001b[1;31mHTTPError\u001b[0m                                 Traceback (most recent call last)",
      "\u001b[1;32m<ipython-input-52-12273ac66427>\u001b[0m in \u001b[0;36m<module>\u001b[1;34m()\u001b[0m\n\u001b[0;32m     13\u001b[0m     \u001b[0mfilters\u001b[0m \u001b[1;33m=\u001b[0m \u001b[1;34m\"ym:s:<attribution>UTMMedium=='direct'\"\u001b[0m\u001b[1;33m\u001b[0m\u001b[0m\n\u001b[0;32m     14\u001b[0m     \u001b[0mattribution\u001b[0m \u001b[1;33m=\u001b[0m \u001b[1;34m'lastsign'\u001b[0m\u001b[1;33m\u001b[0m\u001b[0m\n\u001b[1;32m---> 15\u001b[1;33m     \u001b[0mdf\u001b[0m \u001b[1;33m=\u001b[0m \u001b[0mgetMetrikaReportInDataFrame\u001b[0m\u001b[1;33m(\u001b[0m\u001b[0mdate1\u001b[0m\u001b[1;33m,\u001b[0m\u001b[0mdate2\u001b[0m\u001b[1;33m,\u001b[0m\u001b[0mmetrics\u001b[0m\u001b[1;33m,\u001b[0m\u001b[0mdimensions\u001b[0m\u001b[1;33m,\u001b[0m\u001b[0mtoken\u001b[0m\u001b[1;33m,\u001b[0m\u001b[0mcounterId\u001b[0m\u001b[1;33m,\u001b[0m\u001b[0mfilters\u001b[0m\u001b[1;33m,\u001b[0m\u001b[0mattribution\u001b[0m\u001b[1;33m)\u001b[0m\u001b[1;33m\u001b[0m\u001b[0m\n\u001b[0m\u001b[0;32m     16\u001b[0m     \u001b[0mdf\u001b[0m\u001b[1;33m[\u001b[0m\u001b[1;34m'domain'\u001b[0m\u001b[1;33m]\u001b[0m \u001b[1;33m=\u001b[0m \u001b[0mdomain\u001b[0m\u001b[1;33m\u001b[0m\u001b[0m\n\u001b[0;32m     17\u001b[0m     \u001b[0mdf\u001b[0m \u001b[1;33m=\u001b[0m \u001b[0mdropTotalRow\u001b[0m\u001b[1;33m(\u001b[0m\u001b[0mmergeCPAVisitsColumns\u001b[0m\u001b[1;33m(\u001b[0m\u001b[0mdf\u001b[0m\u001b[1;33m)\u001b[0m\u001b[1;33m)\u001b[0m\u001b[1;33m\u001b[0m\u001b[0m\n",
      "\u001b[1;32m<ipython-input-1-7af6c2421508>\u001b[0m in \u001b[0;36mgetMetrikaReportInDataFrame\u001b[1;34m(date1, date2, metrics, dimensions, token, counterId, filters, attribution)\u001b[0m\n\u001b[0;32m     42\u001b[0m     \u001b[0murl\u001b[0m \u001b[1;33m=\u001b[0m \u001b[1;34m'https://beta.api-metrika.yandex.ru/stat/v1/data.csv?'\u001b[0m\u001b[1;33m+\u001b[0m\u001b[0mparams\u001b[0m\u001b[1;33m\u001b[0m\u001b[0m\n\u001b[0;32m     43\u001b[0m     \u001b[1;32mprint\u001b[0m \u001b[0murl\u001b[0m\u001b[1;33m\u001b[0m\u001b[0m\n\u001b[1;32m---> 44\u001b[1;33m     \u001b[0mdf\u001b[0m \u001b[1;33m=\u001b[0m \u001b[0mpd\u001b[0m\u001b[1;33m.\u001b[0m\u001b[0mread_csv\u001b[0m\u001b[1;33m(\u001b[0m\u001b[0murl\u001b[0m\u001b[1;33m,\u001b[0m\u001b[0mencoding\u001b[0m\u001b[1;33m=\u001b[0m\u001b[1;34m'utf-8'\u001b[0m\u001b[1;33m)\u001b[0m\u001b[1;33m\u001b[0m\u001b[0m\n\u001b[0m\u001b[0;32m     45\u001b[0m     \u001b[1;32mreturn\u001b[0m \u001b[0mdf\u001b[0m\u001b[1;33m\u001b[0m\u001b[0m\n",
      "\u001b[1;32mC:\\Users\\aleksey.makarov\\AppData\\Local\\Continuum\\Anaconda\\lib\\site-packages\\pandas\\io\\parsers.pyc\u001b[0m in \u001b[0;36mparser_f\u001b[1;34m(filepath_or_buffer, sep, dialect, compression, doublequote, escapechar, quotechar, quoting, skipinitialspace, lineterminator, header, index_col, names, prefix, skiprows, skipfooter, skip_footer, na_values, true_values, false_values, delimiter, converters, dtype, usecols, engine, delim_whitespace, as_recarray, na_filter, compact_ints, use_unsigned, low_memory, buffer_lines, warn_bad_lines, error_bad_lines, keep_default_na, thousands, comment, decimal, parse_dates, keep_date_col, dayfirst, date_parser, memory_map, float_precision, nrows, iterator, chunksize, verbose, encoding, squeeze, mangle_dupe_cols, tupleize_cols, infer_datetime_format, skip_blank_lines)\u001b[0m\n\u001b[0;32m    496\u001b[0m                     skip_blank_lines=skip_blank_lines)\n\u001b[0;32m    497\u001b[0m \u001b[1;33m\u001b[0m\u001b[0m\n\u001b[1;32m--> 498\u001b[1;33m         \u001b[1;32mreturn\u001b[0m \u001b[0m_read\u001b[0m\u001b[1;33m(\u001b[0m\u001b[0mfilepath_or_buffer\u001b[0m\u001b[1;33m,\u001b[0m \u001b[0mkwds\u001b[0m\u001b[1;33m)\u001b[0m\u001b[1;33m\u001b[0m\u001b[0m\n\u001b[0m\u001b[0;32m    499\u001b[0m \u001b[1;33m\u001b[0m\u001b[0m\n\u001b[0;32m    500\u001b[0m     \u001b[0mparser_f\u001b[0m\u001b[1;33m.\u001b[0m\u001b[0m__name__\u001b[0m \u001b[1;33m=\u001b[0m \u001b[0mname\u001b[0m\u001b[1;33m\u001b[0m\u001b[0m\n",
      "\u001b[1;32mC:\\Users\\aleksey.makarov\\AppData\\Local\\Continuum\\Anaconda\\lib\\site-packages\\pandas\\io\\parsers.pyc\u001b[0m in \u001b[0;36m_read\u001b[1;34m(filepath_or_buffer, kwds)\u001b[0m\n\u001b[0;32m    260\u001b[0m     filepath_or_buffer, _, compression = get_filepath_or_buffer(filepath_or_buffer,\n\u001b[0;32m    261\u001b[0m                                                                 \u001b[0mencoding\u001b[0m\u001b[1;33m,\u001b[0m\u001b[1;33m\u001b[0m\u001b[0m\n\u001b[1;32m--> 262\u001b[1;33m                                                                 compression=kwds.get('compression', None))\n\u001b[0m\u001b[0;32m    263\u001b[0m     \u001b[0mkwds\u001b[0m\u001b[1;33m[\u001b[0m\u001b[1;34m'compression'\u001b[0m\u001b[1;33m]\u001b[0m \u001b[1;33m=\u001b[0m \u001b[0minferred_compression\u001b[0m \u001b[1;32mif\u001b[0m \u001b[0mcompression\u001b[0m \u001b[1;33m==\u001b[0m \u001b[1;34m'infer'\u001b[0m \u001b[1;32melse\u001b[0m \u001b[0mcompression\u001b[0m\u001b[1;33m\u001b[0m\u001b[0m\n\u001b[0;32m    264\u001b[0m \u001b[1;33m\u001b[0m\u001b[0m\n",
      "\u001b[1;32mC:\\Users\\aleksey.makarov\\AppData\\Local\\Continuum\\Anaconda\\lib\\site-packages\\pandas\\io\\common.pyc\u001b[0m in \u001b[0;36mget_filepath_or_buffer\u001b[1;34m(filepath_or_buffer, encoding, compression)\u001b[0m\n\u001b[0;32m    256\u001b[0m \u001b[1;33m\u001b[0m\u001b[0m\n\u001b[0;32m    257\u001b[0m     \u001b[1;32mif\u001b[0m \u001b[0m_is_url\u001b[0m\u001b[1;33m(\u001b[0m\u001b[0mfilepath_or_buffer\u001b[0m\u001b[1;33m)\u001b[0m\u001b[1;33m:\u001b[0m\u001b[1;33m\u001b[0m\u001b[0m\n\u001b[1;32m--> 258\u001b[1;33m         \u001b[0mreq\u001b[0m \u001b[1;33m=\u001b[0m \u001b[0m_urlopen\u001b[0m\u001b[1;33m(\u001b[0m\u001b[0mstr\u001b[0m\u001b[1;33m(\u001b[0m\u001b[0mfilepath_or_buffer\u001b[0m\u001b[1;33m)\u001b[0m\u001b[1;33m)\u001b[0m\u001b[1;33m\u001b[0m\u001b[0m\n\u001b[0m\u001b[0;32m    259\u001b[0m         \u001b[1;32mif\u001b[0m \u001b[0mcompression\u001b[0m \u001b[1;33m==\u001b[0m \u001b[1;34m'infer'\u001b[0m\u001b[1;33m:\u001b[0m\u001b[1;33m\u001b[0m\u001b[0m\n\u001b[0;32m    260\u001b[0m             \u001b[0mcontent_encoding\u001b[0m \u001b[1;33m=\u001b[0m \u001b[0mreq\u001b[0m\u001b[1;33m.\u001b[0m\u001b[0mheaders\u001b[0m\u001b[1;33m.\u001b[0m\u001b[0mget\u001b[0m\u001b[1;33m(\u001b[0m\u001b[1;34m'Content-Encoding'\u001b[0m\u001b[1;33m,\u001b[0m \u001b[0mNone\u001b[0m\u001b[1;33m)\u001b[0m\u001b[1;33m\u001b[0m\u001b[0m\n",
      "\u001b[1;32mC:\\Users\\aleksey.makarov\\AppData\\Local\\Continuum\\Anaconda\\lib\\urllib2.pyc\u001b[0m in \u001b[0;36murlopen\u001b[1;34m(url, data, timeout, cafile, capath, cadefault, context)\u001b[0m\n\u001b[0;32m    152\u001b[0m     \u001b[1;32melse\u001b[0m\u001b[1;33m:\u001b[0m\u001b[1;33m\u001b[0m\u001b[0m\n\u001b[0;32m    153\u001b[0m         \u001b[0mopener\u001b[0m \u001b[1;33m=\u001b[0m \u001b[0m_opener\u001b[0m\u001b[1;33m\u001b[0m\u001b[0m\n\u001b[1;32m--> 154\u001b[1;33m     \u001b[1;32mreturn\u001b[0m \u001b[0mopener\u001b[0m\u001b[1;33m.\u001b[0m\u001b[0mopen\u001b[0m\u001b[1;33m(\u001b[0m\u001b[0murl\u001b[0m\u001b[1;33m,\u001b[0m \u001b[0mdata\u001b[0m\u001b[1;33m,\u001b[0m \u001b[0mtimeout\u001b[0m\u001b[1;33m)\u001b[0m\u001b[1;33m\u001b[0m\u001b[0m\n\u001b[0m\u001b[0;32m    155\u001b[0m \u001b[1;33m\u001b[0m\u001b[0m\n\u001b[0;32m    156\u001b[0m \u001b[1;32mdef\u001b[0m \u001b[0minstall_opener\u001b[0m\u001b[1;33m(\u001b[0m\u001b[0mopener\u001b[0m\u001b[1;33m)\u001b[0m\u001b[1;33m:\u001b[0m\u001b[1;33m\u001b[0m\u001b[0m\n",
      "\u001b[1;32mC:\\Users\\aleksey.makarov\\AppData\\Local\\Continuum\\Anaconda\\lib\\urllib2.pyc\u001b[0m in \u001b[0;36mopen\u001b[1;34m(self, fullurl, data, timeout)\u001b[0m\n\u001b[0;32m    435\u001b[0m         \u001b[1;32mfor\u001b[0m \u001b[0mprocessor\u001b[0m \u001b[1;32min\u001b[0m \u001b[0mself\u001b[0m\u001b[1;33m.\u001b[0m\u001b[0mprocess_response\u001b[0m\u001b[1;33m.\u001b[0m\u001b[0mget\u001b[0m\u001b[1;33m(\u001b[0m\u001b[0mprotocol\u001b[0m\u001b[1;33m,\u001b[0m \u001b[1;33m[\u001b[0m\u001b[1;33m]\u001b[0m\u001b[1;33m)\u001b[0m\u001b[1;33m:\u001b[0m\u001b[1;33m\u001b[0m\u001b[0m\n\u001b[0;32m    436\u001b[0m             \u001b[0mmeth\u001b[0m \u001b[1;33m=\u001b[0m \u001b[0mgetattr\u001b[0m\u001b[1;33m(\u001b[0m\u001b[0mprocessor\u001b[0m\u001b[1;33m,\u001b[0m \u001b[0mmeth_name\u001b[0m\u001b[1;33m)\u001b[0m\u001b[1;33m\u001b[0m\u001b[0m\n\u001b[1;32m--> 437\u001b[1;33m             \u001b[0mresponse\u001b[0m \u001b[1;33m=\u001b[0m \u001b[0mmeth\u001b[0m\u001b[1;33m(\u001b[0m\u001b[0mreq\u001b[0m\u001b[1;33m,\u001b[0m \u001b[0mresponse\u001b[0m\u001b[1;33m)\u001b[0m\u001b[1;33m\u001b[0m\u001b[0m\n\u001b[0m\u001b[0;32m    438\u001b[0m \u001b[1;33m\u001b[0m\u001b[0m\n\u001b[0;32m    439\u001b[0m         \u001b[1;32mreturn\u001b[0m \u001b[0mresponse\u001b[0m\u001b[1;33m\u001b[0m\u001b[0m\n",
      "\u001b[1;32mC:\\Users\\aleksey.makarov\\AppData\\Local\\Continuum\\Anaconda\\lib\\urllib2.pyc\u001b[0m in \u001b[0;36mhttp_response\u001b[1;34m(self, request, response)\u001b[0m\n\u001b[0;32m    548\u001b[0m         \u001b[1;32mif\u001b[0m \u001b[1;32mnot\u001b[0m \u001b[1;33m(\u001b[0m\u001b[1;36m200\u001b[0m \u001b[1;33m<=\u001b[0m \u001b[0mcode\u001b[0m \u001b[1;33m<\u001b[0m \u001b[1;36m300\u001b[0m\u001b[1;33m)\u001b[0m\u001b[1;33m:\u001b[0m\u001b[1;33m\u001b[0m\u001b[0m\n\u001b[0;32m    549\u001b[0m             response = self.parent.error(\n\u001b[1;32m--> 550\u001b[1;33m                 'http', request, response, code, msg, hdrs)\n\u001b[0m\u001b[0;32m    551\u001b[0m \u001b[1;33m\u001b[0m\u001b[0m\n\u001b[0;32m    552\u001b[0m         \u001b[1;32mreturn\u001b[0m \u001b[0mresponse\u001b[0m\u001b[1;33m\u001b[0m\u001b[0m\n",
      "\u001b[1;32mC:\\Users\\aleksey.makarov\\AppData\\Local\\Continuum\\Anaconda\\lib\\urllib2.pyc\u001b[0m in \u001b[0;36merror\u001b[1;34m(self, proto, *args)\u001b[0m\n\u001b[0;32m    473\u001b[0m         \u001b[1;32mif\u001b[0m \u001b[0mhttp_err\u001b[0m\u001b[1;33m:\u001b[0m\u001b[1;33m\u001b[0m\u001b[0m\n\u001b[0;32m    474\u001b[0m             \u001b[0margs\u001b[0m \u001b[1;33m=\u001b[0m \u001b[1;33m(\u001b[0m\u001b[0mdict\u001b[0m\u001b[1;33m,\u001b[0m \u001b[1;34m'default'\u001b[0m\u001b[1;33m,\u001b[0m \u001b[1;34m'http_error_default'\u001b[0m\u001b[1;33m)\u001b[0m \u001b[1;33m+\u001b[0m \u001b[0morig_args\u001b[0m\u001b[1;33m\u001b[0m\u001b[0m\n\u001b[1;32m--> 475\u001b[1;33m             \u001b[1;32mreturn\u001b[0m \u001b[0mself\u001b[0m\u001b[1;33m.\u001b[0m\u001b[0m_call_chain\u001b[0m\u001b[1;33m(\u001b[0m\u001b[1;33m*\u001b[0m\u001b[0margs\u001b[0m\u001b[1;33m)\u001b[0m\u001b[1;33m\u001b[0m\u001b[0m\n\u001b[0m\u001b[0;32m    476\u001b[0m \u001b[1;33m\u001b[0m\u001b[0m\n\u001b[0;32m    477\u001b[0m \u001b[1;31m# XXX probably also want an abstract factory that knows when it makes\u001b[0m\u001b[1;33m\u001b[0m\u001b[1;33m\u001b[0m\u001b[0m\n",
      "\u001b[1;32mC:\\Users\\aleksey.makarov\\AppData\\Local\\Continuum\\Anaconda\\lib\\urllib2.pyc\u001b[0m in \u001b[0;36m_call_chain\u001b[1;34m(self, chain, kind, meth_name, *args)\u001b[0m\n\u001b[0;32m    407\u001b[0m             \u001b[0mfunc\u001b[0m \u001b[1;33m=\u001b[0m \u001b[0mgetattr\u001b[0m\u001b[1;33m(\u001b[0m\u001b[0mhandler\u001b[0m\u001b[1;33m,\u001b[0m \u001b[0mmeth_name\u001b[0m\u001b[1;33m)\u001b[0m\u001b[1;33m\u001b[0m\u001b[0m\n\u001b[0;32m    408\u001b[0m \u001b[1;33m\u001b[0m\u001b[0m\n\u001b[1;32m--> 409\u001b[1;33m             \u001b[0mresult\u001b[0m \u001b[1;33m=\u001b[0m \u001b[0mfunc\u001b[0m\u001b[1;33m(\u001b[0m\u001b[1;33m*\u001b[0m\u001b[0margs\u001b[0m\u001b[1;33m)\u001b[0m\u001b[1;33m\u001b[0m\u001b[0m\n\u001b[0m\u001b[0;32m    410\u001b[0m             \u001b[1;32mif\u001b[0m \u001b[0mresult\u001b[0m \u001b[1;32mis\u001b[0m \u001b[1;32mnot\u001b[0m \u001b[0mNone\u001b[0m\u001b[1;33m:\u001b[0m\u001b[1;33m\u001b[0m\u001b[0m\n\u001b[0;32m    411\u001b[0m                 \u001b[1;32mreturn\u001b[0m \u001b[0mresult\u001b[0m\u001b[1;33m\u001b[0m\u001b[0m\n",
      "\u001b[1;32mC:\\Users\\aleksey.makarov\\AppData\\Local\\Continuum\\Anaconda\\lib\\urllib2.pyc\u001b[0m in \u001b[0;36mhttp_error_default\u001b[1;34m(self, req, fp, code, msg, hdrs)\u001b[0m\n\u001b[0;32m    556\u001b[0m \u001b[1;32mclass\u001b[0m \u001b[0mHTTPDefaultErrorHandler\u001b[0m\u001b[1;33m(\u001b[0m\u001b[0mBaseHandler\u001b[0m\u001b[1;33m)\u001b[0m\u001b[1;33m:\u001b[0m\u001b[1;33m\u001b[0m\u001b[0m\n\u001b[0;32m    557\u001b[0m     \u001b[1;32mdef\u001b[0m \u001b[0mhttp_error_default\u001b[0m\u001b[1;33m(\u001b[0m\u001b[0mself\u001b[0m\u001b[1;33m,\u001b[0m \u001b[0mreq\u001b[0m\u001b[1;33m,\u001b[0m \u001b[0mfp\u001b[0m\u001b[1;33m,\u001b[0m \u001b[0mcode\u001b[0m\u001b[1;33m,\u001b[0m \u001b[0mmsg\u001b[0m\u001b[1;33m,\u001b[0m \u001b[0mhdrs\u001b[0m\u001b[1;33m)\u001b[0m\u001b[1;33m:\u001b[0m\u001b[1;33m\u001b[0m\u001b[0m\n\u001b[1;32m--> 558\u001b[1;33m         \u001b[1;32mraise\u001b[0m \u001b[0mHTTPError\u001b[0m\u001b[1;33m(\u001b[0m\u001b[0mreq\u001b[0m\u001b[1;33m.\u001b[0m\u001b[0mget_full_url\u001b[0m\u001b[1;33m(\u001b[0m\u001b[1;33m)\u001b[0m\u001b[1;33m,\u001b[0m \u001b[0mcode\u001b[0m\u001b[1;33m,\u001b[0m \u001b[0mmsg\u001b[0m\u001b[1;33m,\u001b[0m \u001b[0mhdrs\u001b[0m\u001b[1;33m,\u001b[0m \u001b[0mfp\u001b[0m\u001b[1;33m)\u001b[0m\u001b[1;33m\u001b[0m\u001b[0m\n\u001b[0m\u001b[0;32m    559\u001b[0m \u001b[1;33m\u001b[0m\u001b[0m\n\u001b[0;32m    560\u001b[0m \u001b[1;32mclass\u001b[0m \u001b[0mHTTPRedirectHandler\u001b[0m\u001b[1;33m(\u001b[0m\u001b[0mBaseHandler\u001b[0m\u001b[1;33m)\u001b[0m\u001b[1;33m:\u001b[0m\u001b[1;33m\u001b[0m\u001b[0m\n",
      "\u001b[1;31mHTTPError\u001b[0m: HTTP Error 403: Forbidden"
     ]
    }
   ],
   "source": [
    "total_df = pd.DataFrame()\n",
    "for domain in domains:\n",
    "    vipProjectInfo = getVipProjectByDomain(domain)\n",
    "    metrikaCredentials = getMetrikaCredentialsByLPD({'yandexLogin':vipProjectInfo[0]['metrikalogin'],'yandexPassword':vipProjectInfo[0]['metrikapassword'],'domain':domain.decode(\"utf-8\")})\n",
    "    date1 = '2016-05-01'\n",
    "    date2 = '2016-05-31'\n",
    "    goalsMetrics = ','.join(['ym:s:goal'+str(target['targetid'])+'visits' for target in getCPATargetsByProjectID(vipProjectInfo[0]['projectid'])])\n",
    "    otherMetrics = 'ym:s:visits'\n",
    "    metrics = ','.join([otherMetrics,goalsMetrics])\n",
    "    dimensions='ym:s:deviceCategory'\n",
    "    token = metrikaCredentials['Token']\n",
    "    counterId = metrikaCredentials['counterID'][0]\n",
    "    filters = \"ym:s:<attribution>UTMMedium=='direct'\"\n",
    "    attribution = 'lastsign'\n",
    "    df = getMetrikaReportInDataFrame(date1,date2,metrics,dimensions,token,counterId,filters,attribution)\n",
    "    df['domain'] = domain\n",
    "    df = dropTotalRow(mergeCPAVisitsColumns(df))\n",
    "    total_df = pd.concat([total_df,df])"
   ]
  },
  {
   "cell_type": "code",
   "execution_count": 54,
   "metadata": {
    "collapsed": false
   },
   "outputs": [],
   "source": [
    "total_df.to_csv('D:\\\\_Docs_\\\\2016-06\\\\device_types.csv',encoding='utf8')"
   ]
  },
  {
   "cell_type": "code",
   "execution_count": null,
   "metadata": {
    "collapsed": true
   },
   "outputs": [],
   "source": []
  }
 ],
 "metadata": {
  "kernelspec": {
   "display_name": "Python 2",
   "language": "python",
   "name": "python2"
  },
  "language_info": {
   "codemirror_mode": {
    "name": "ipython",
    "version": 2
   },
   "file_extension": ".py",
   "mimetype": "text/x-python",
   "name": "python",
   "nbconvert_exporter": "python",
   "pygments_lexer": "ipython2",
   "version": "2.7.11"
  }
 },
 "nbformat": 4,
 "nbformat_minor": 0
}
