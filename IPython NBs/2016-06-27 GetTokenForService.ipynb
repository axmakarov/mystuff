{
 "cells": [
  {
   "cell_type": "code",
   "execution_count": 8,
   "metadata": {
    "collapsed": true
   },
   "outputs": [],
   "source": [
    "import json,requests\n",
    "def GetToken(login,serviceType):\n",
    "\tif serviceType not in ['Metrika','Direct']:\n",
    "\t\tprint 'Invalid service type'\n",
    "\t\treturn None\n",
    "\turl = 'http://192.168.10.37:35678/TokenManagerService'\n",
    "\tpayload = {'method':'GetToken','params':{'login':login,'serviceType':serviceType}}\n",
    "\tr = requests.post(url,json.dumps(payload))\n",
    "\tdata = json.loads(r.text)\n",
    "\tif len(data.keys()) == 1:\n",
    "\t\tprint 'Invalid login'\n",
    "\t\treturn None\n",
    "\treturn data['result']['token']"
   ]
  },
  {
   "cell_type": "code",
   "execution_count": 13,
   "metadata": {
    "collapsed": false
   },
   "outputs": [
    {
     "data": {
      "text/plain": [
       "u'AQAAAAAIDhA8AAJH5dlfWxOgmUKIjR59NFTF-tw'"
      ]
     },
     "execution_count": 13,
     "metadata": {},
     "output_type": "execute_result"
    }
   ],
   "source": [
    "GetToken('alexgrtula','Direct')"
   ]
  },
  {
   "cell_type": "code",
   "execution_count": null,
   "metadata": {
    "collapsed": true
   },
   "outputs": [],
   "source": []
  }
 ],
 "metadata": {
  "kernelspec": {
   "display_name": "Python 2",
   "language": "python",
   "name": "python2"
  },
  "language_info": {
   "codemirror_mode": {
    "name": "ipython",
    "version": 2
   },
   "file_extension": ".py",
   "mimetype": "text/x-python",
   "name": "python",
   "nbconvert_exporter": "python",
   "pygments_lexer": "ipython2",
   "version": "2.7.11"
  }
 },
 "nbformat": 4,
 "nbformat_minor": 0
}
