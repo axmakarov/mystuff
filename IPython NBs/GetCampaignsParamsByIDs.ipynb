{
 "cells": [
  {
   "cell_type": "code",
   "execution_count": 1,
   "metadata": {
    "collapsed": true
   },
   "outputs": [],
   "source": [
    "import json\n",
    "import requests\n",
    "import pandas as pd"
   ]
  },
  {
   "cell_type": "code",
   "execution_count": 13,
   "metadata": {
    "collapsed": true
   },
   "outputs": [],
   "source": [
    "campaignIds = [15220867,13500701,15220868,14022527,15220865,10730032,15220866,11894512,15220882,12871771,15220871,10966289,15220880,12452800,15220872,11751538,15220883,13206879,15220887,13904055,14207499,15221202,14321404,15221203,14207460,15221194,14321411,15221206,14207448,15221193,14321415,15221210,14207477,15221195,14321419,15221211,14321427,15221213,14321429,15221216,14207485,15221199,14321434,15221220,14321437,15221222,14321445,15221224,15221238,12968707,15221239,13020422,15221241,13246402,15221229,12956351,15221233,12962653,14774670,15221110,14347782,15221108,14321924,15221091,14321925,15221092,14321928,15221094,14210598,15221087,14321929,15221097,14210595,15221086,14321930,15221101,14321932,15221102,14493354,15221109,14321933,15221104,14321934,15221105,14210592,15221083,14321936,15221106,15221308,14714020,15221307,14677186,15221311,14772512,14768459,15221314,14700275,15221312,14860556,15221317,14768463,15221315,15221192,14740340,15221182,14392035,15221184,14653752,15221132,14209348,15221134,14209356,15221146,14314888,15221129,14209342,15221177,14316848,15221115,14208083,15221117,14208088,15221166,14316820,15221137,14216950,15221118,14208094,15221136,14209358,15221123,14208137,15221138,14216952,15221126,14208157,15221133,14209351,15221121,14208126,15221130,14209345,15221172,14316838,15221119,14208120,15221150,14315925,15221139,14216955,15220917,12566623,15220914,12649437,15220918,12648877,14787321,15221274,14788291,15221276,13801120,15221004,13906937,15221008,13801110,15221000]"
   ]
  },
  {
   "cell_type": "code",
   "execution_count": 14,
   "metadata": {
    "collapsed": true
   },
   "outputs": [],
   "source": [
    "campaignIdsBatches = [campaignIds[i:i+100] for i in xrange(0,len(campaignIds),100)]"
   ]
  },
  {
   "cell_type": "code",
   "execution_count": 15,
   "metadata": {
    "collapsed": false
   },
   "outputs": [
    {
     "data": {
      "text/plain": [
       "2"
      ]
     },
     "execution_count": 15,
     "metadata": {},
     "output_type": "execute_result"
    }
   ],
   "source": [
    "len(campaignIdsBatches)"
   ]
  },
  {
   "cell_type": "code",
   "execution_count": 16,
   "metadata": {
    "collapsed": false
   },
   "outputs": [
    {
     "name": "stdout",
     "output_type": "stream",
     "text": [
      "1 of 2\n",
      "100\n",
      "2 of 2\n",
      "166\n"
     ]
    }
   ],
   "source": [
    "url = 'https://api.direct.yandex.ru/live/v4/json/'\n",
    "data = []\n",
    "i = 1\n",
    "cnt = len(campaignIdsBatches)\n",
    "for campaignIdsBatch in campaignIdsBatches:\n",
    "    print '{0} of {1}'.format(i,cnt)\n",
    "    i += 1\n",
    "    payload = {\n",
    "        \"token\": \"cc8fb959428d401a98ab953b75693f2e\",\n",
    "   \"method\": \"GetCampaignsParams\",\n",
    "   \"param\": {\n",
    "      \"CampaignIDS\": campaignIdsBatch,\n",
    "      \"Currency\": 'RUB'\n",
    "   }\n",
    "}\n",
    "    jpayload = json.dumps(payload, ensure_ascii=False).encode('utf8')\n",
    "    response = json.loads(requests.post(url,jpayload).text)\n",
    "    data += response['data']\n",
    "    print len(data)"
   ]
  },
  {
   "cell_type": "code",
   "execution_count": 17,
   "metadata": {
    "collapsed": false
   },
   "outputs": [],
   "source": [
    "pd.DataFrame(data).to_csv('D:\\\\newCampaigns.csv',encoding='utf-8',sep='\\t',decimal=',')"
   ]
  },
  {
   "cell_type": "code",
   "execution_count": null,
   "metadata": {
    "collapsed": true
   },
   "outputs": [],
   "source": []
  }
 ],
 "metadata": {
  "kernelspec": {
   "display_name": "Python 2",
   "language": "python",
   "name": "python2"
  },
  "language_info": {
   "codemirror_mode": {
    "name": "ipython",
    "version": 2
   },
   "file_extension": ".py",
   "mimetype": "text/x-python",
   "name": "python",
   "nbconvert_exporter": "python",
   "pygments_lexer": "ipython2",
   "version": "2.7.10"
  }
 },
 "nbformat": 4,
 "nbformat_minor": 0
}
