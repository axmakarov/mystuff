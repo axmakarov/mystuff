{
 "cells": [
  {
   "cell_type": "code",
   "execution_count": 1,
   "metadata": {
    "collapsed": true
   },
   "outputs": [],
   "source": [
    "strdata = '''2381387;\"msbilet.ru\";\"cubo.client@yandex.ru\";\"idev2015\"\n",
    "2388024;\"a-comazo.ru\";\"a-comazo.ru@yandex.ru\";\"acoCu1232abOndex.ru\"\n",
    "2234924;\"altpremium.ru\";\"RookeeXML@yandex.ru\";\"pass-RookeeXML\"\n",
    "2273493;\"vaga007.ru\";\"bladiks\";\"286bladiks\"\n",
    "2343951;\"krovatky.ru\";\"RookeeXML@yandex.ru\";\"pass-RookeeXML\"\n",
    "'''"
   ]
  },
  {
   "cell_type": "code",
   "execution_count": 2,
   "metadata": {
    "collapsed": true
   },
   "outputs": [],
   "source": [
    "l = strdata.split('\\n')"
   ]
  },
  {
   "cell_type": "code",
   "execution_count": 3,
   "metadata": {
    "collapsed": false
   },
   "outputs": [
    {
     "data": {
      "text/plain": [
       "['2381387;\"msbilet.ru\";\"cubo.client@yandex.ru\";\"idev2015\"',\n",
       " '2388024;\"a-comazo.ru\";\"a-comazo.ru@yandex.ru\";\"acoCu1232abOndex.ru\"',\n",
       " '2234924;\"altpremium.ru\";\"RookeeXML@yandex.ru\";\"pass-RookeeXML\"',\n",
       " '2273493;\"vaga007.ru\";\"bladiks\";\"286bladiks\"',\n",
       " '2343951;\"krovatky.ru\";\"RookeeXML@yandex.ru\";\"pass-RookeeXML\"',\n",
       " '']"
      ]
     },
     "execution_count": 3,
     "metadata": {},
     "output_type": "execute_result"
    }
   ],
   "source": [
    "l"
   ]
  },
  {
   "cell_type": "code",
   "execution_count": 4,
   "metadata": {
    "collapsed": true
   },
   "outputs": [],
   "source": [
    "l = l[:-1]"
   ]
  },
  {
   "cell_type": "code",
   "execution_count": 5,
   "metadata": {
    "collapsed": false
   },
   "outputs": [
    {
     "data": {
      "text/plain": [
       "['2381387;\"msbilet.ru\";\"cubo.client@yandex.ru\";\"idev2015\"',\n",
       " '2388024;\"a-comazo.ru\";\"a-comazo.ru@yandex.ru\";\"acoCu1232abOndex.ru\"',\n",
       " '2234924;\"altpremium.ru\";\"RookeeXML@yandex.ru\";\"pass-RookeeXML\"',\n",
       " '2273493;\"vaga007.ru\";\"bladiks\";\"286bladiks\"',\n",
       " '2343951;\"krovatky.ru\";\"RookeeXML@yandex.ru\";\"pass-RookeeXML\"']"
      ]
     },
     "execution_count": 5,
     "metadata": {},
     "output_type": "execute_result"
    }
   ],
   "source": [
    "l"
   ]
  },
  {
   "cell_type": "code",
   "execution_count": 6,
   "metadata": {
    "collapsed": true
   },
   "outputs": [],
   "source": [
    "x = [str1.replace('\"','').split(';') for str1 in l]"
   ]
  },
  {
   "cell_type": "code",
   "execution_count": 7,
   "metadata": {
    "collapsed": false
   },
   "outputs": [
    {
     "data": {
      "text/plain": [
       "[['2381387', 'msbilet.ru', 'cubo.client@yandex.ru', 'idev2015'],\n",
       " ['2388024', 'a-comazo.ru', 'a-comazo.ru@yandex.ru', 'acoCu1232abOndex.ru'],\n",
       " ['2234924', 'altpremium.ru', 'RookeeXML@yandex.ru', 'pass-RookeeXML'],\n",
       " ['2273493', 'vaga007.ru', 'bladiks', '286bladiks'],\n",
       " ['2343951', 'krovatky.ru', 'RookeeXML@yandex.ru', 'pass-RookeeXML']]"
      ]
     },
     "execution_count": 7,
     "metadata": {},
     "output_type": "execute_result"
    }
   ],
   "source": [
    "x"
   ]
  },
  {
   "cell_type": "code",
   "execution_count": 8,
   "metadata": {
    "collapsed": true
   },
   "outputs": [],
   "source": [
    "import pandas as pd"
   ]
  },
  {
   "cell_type": "code",
   "execution_count": 9,
   "metadata": {
    "collapsed": false
   },
   "outputs": [],
   "source": [
    "df = pd.DataFrame(x)"
   ]
  },
  {
   "cell_type": "code",
   "execution_count": 10,
   "metadata": {
    "collapsed": false
   },
   "outputs": [],
   "source": [
    "df.columns = ['projectId','domain','login','password']"
   ]
  },
  {
   "cell_type": "code",
   "execution_count": 11,
   "metadata": {
    "collapsed": false
   },
   "outputs": [
    {
     "data": {
      "text/html": [
       "<div>\n",
       "<table border=\"1\" class=\"dataframe\">\n",
       "  <thead>\n",
       "    <tr style=\"text-align: right;\">\n",
       "      <th></th>\n",
       "      <th>projectId</th>\n",
       "      <th>domain</th>\n",
       "      <th>login</th>\n",
       "      <th>password</th>\n",
       "    </tr>\n",
       "  </thead>\n",
       "  <tbody>\n",
       "    <tr>\n",
       "      <th>0</th>\n",
       "      <td>2381387</td>\n",
       "      <td>msbilet.ru</td>\n",
       "      <td>cubo.client@yandex.ru</td>\n",
       "      <td>idev2015</td>\n",
       "    </tr>\n",
       "    <tr>\n",
       "      <th>1</th>\n",
       "      <td>2388024</td>\n",
       "      <td>a-comazo.ru</td>\n",
       "      <td>a-comazo.ru@yandex.ru</td>\n",
       "      <td>acoCu1232abOndex.ru</td>\n",
       "    </tr>\n",
       "    <tr>\n",
       "      <th>2</th>\n",
       "      <td>2234924</td>\n",
       "      <td>altpremium.ru</td>\n",
       "      <td>RookeeXML@yandex.ru</td>\n",
       "      <td>pass-RookeeXML</td>\n",
       "    </tr>\n",
       "    <tr>\n",
       "      <th>3</th>\n",
       "      <td>2273493</td>\n",
       "      <td>vaga007.ru</td>\n",
       "      <td>bladiks</td>\n",
       "      <td>286bladiks</td>\n",
       "    </tr>\n",
       "    <tr>\n",
       "      <th>4</th>\n",
       "      <td>2343951</td>\n",
       "      <td>krovatky.ru</td>\n",
       "      <td>RookeeXML@yandex.ru</td>\n",
       "      <td>pass-RookeeXML</td>\n",
       "    </tr>\n",
       "  </tbody>\n",
       "</table>\n",
       "</div>"
      ],
      "text/plain": [
       "  projectId         domain                  login             password\n",
       "0   2381387     msbilet.ru  cubo.client@yandex.ru             idev2015\n",
       "1   2388024    a-comazo.ru  a-comazo.ru@yandex.ru  acoCu1232abOndex.ru\n",
       "2   2234924  altpremium.ru    RookeeXML@yandex.ru       pass-RookeeXML\n",
       "3   2273493     vaga007.ru                bladiks           286bladiks\n",
       "4   2343951    krovatky.ru    RookeeXML@yandex.ru       pass-RookeeXML"
      ]
     },
     "execution_count": 11,
     "metadata": {},
     "output_type": "execute_result"
    }
   ],
   "source": [
    "df"
   ]
  },
  {
   "cell_type": "code",
   "execution_count": 12,
   "metadata": {
    "collapsed": false
   },
   "outputs": [
    {
     "name": "stdout",
     "output_type": "stream",
     "text": [
      "cubo.client@yandex.ru ; idev2015 0f94ede5995d4196ae37b41015f61f83\n",
      "a-comazo.ru@yandex.ru ; acoCu1232abOndex.ru 37458751c3414a96bbe0f9b314c9f0de\n",
      "RookeeXML@yandex.ru ; pass-RookeeXML 21c635d052bf43c388dba5e6af956038\n",
      "bladiks ; 286bladiks e7058a69ee134eedb02ebc6ed6aac1cd\n",
      "RookeeXML@yandex.ru ; pass-RookeeXML 21c635d052bf43c388dba5e6af956038\n"
     ]
    }
   ],
   "source": [
    "%run 'C:\\\\dev\\\\prod\\\\metrikaHelper.py'\n",
    "for index,row in df.iterrows():\n",
    "    print row['login'],';',row['password'],getMetrikaTokenByUserData(row['login'],row['password'])"
   ]
  },
  {
   "cell_type": "code",
   "execution_count": 14,
   "metadata": {
    "collapsed": false
   },
   "outputs": [
    {
     "data": {
      "text/plain": [
       "u'4aaddf41de1841fea41c7eb0e55ba507'"
      ]
     },
     "execution_count": 14,
     "metadata": {},
     "output_type": "execute_result"
    }
   ],
   "source": [
    "getMetrikaTokenByUserData(\"rita-khmelyova@yandex.ru\",\"zyltrcgjxnf\")"
   ]
  },
  {
   "cell_type": "code",
   "execution_count": null,
   "metadata": {
    "collapsed": true
   },
   "outputs": [],
   "source": []
  }
 ],
 "metadata": {
  "kernelspec": {
   "display_name": "Python 2",
   "language": "python",
   "name": "python2"
  },
  "language_info": {
   "codemirror_mode": {
    "name": "ipython",
    "version": 2
   },
   "file_extension": ".py",
   "mimetype": "text/x-python",
   "name": "python",
   "nbconvert_exporter": "python",
   "pygments_lexer": "ipython2",
   "version": "2.7.10"
  }
 },
 "nbformat": 4,
 "nbformat_minor": 0
}
