{
 "cells": [
  {
   "cell_type": "code",
   "execution_count": 1,
   "metadata": {
    "collapsed": true
   },
   "outputs": [],
   "source": [
    "import requests,json,psycopg2\n",
    "import pandas as pd\n",
    "import numpy as np"
   ]
  },
  {
   "cell_type": "code",
   "execution_count": 169,
   "metadata": {
    "collapsed": true
   },
   "outputs": [],
   "source": [
    "def getVipProjectById(projectId):\n",
    "    conn = psycopg2.connect(\"dbname='CRM' user='read_only' host='192.168.10.10' password='User_ro'\")\n",
    "    cur = conn.cursor()\n",
    "    cur.execute(\"SELECT p.projectid, p.domain, p.status, p2.login, p2.password FROM project AS p INNER JOIN ProjectMetrikaData AS p2 ON p.UniqueId = p2.ProjectUniqueId WHERE projectid=%s AND p.status<230 ORDER BY p.projectid\", [projectId])\n",
    "    result = []\n",
    "    rows = cur.fetchall()\n",
    "    for row in rows:\n",
    "        result.append(getVipProjectByRow(row))\n",
    "    return result\n",
    "def getVipProjectByRow(row):\n",
    "    return {'projectid': row[0], 'domain': row[1], 'metrikalogin': row[3], 'metrikapassword': row[4]}\n",
    "def GetToken(login,serviceType):\n",
    "    if serviceType not in ['Metrika','Direct']:\n",
    "        print 'Invalid service type'\n",
    "        return None\n",
    "    url = 'http://192.168.10.37:35678/TokenManagerService'\n",
    "    payload = {'method':'GetToken','params':{'login':login.replace('@yandex.ru',''),'serviceType':serviceType}}\n",
    "    r = requests.post(url,json.dumps(payload))\n",
    "    data = json.loads(r.text)\n",
    "    if len(data.keys()) == 1:\n",
    "        print 'Invalid login'\n",
    "        return None\n",
    "    return data['result']['token']\n",
    "def getMetrikaCountersByToken(oAuthToken): # Получаем массив словарей со списком счетчиков для токена\n",
    "    url = 'https://beta.api-metrika.yandex.ru/management/v1/counters?oauth_token={0}'.format(oAuthToken)\n",
    "    r = requests.get(url)\n",
    "    try:\n",
    "        response = json.loads(r.text)\n",
    "        counters = response['counters']\n",
    "        return counters\n",
    "    except:\n",
    "        return '-1'\n",
    "def getMetrikaCounterIDByDomain(counters, domain): # Получаем ID счетчика для домена\n",
    "    counterID = []\n",
    "    for counter in counters:\n",
    "        try: # Иногда отваливается с ошибкой string indices must be integers. Возможное решение: вызывать несколько раз getMetrikaCountersByToken http://stackoverflow.com/questions/7293978/repeat-an-iteration-of-for-loop\n",
    "            if domain in counter['site'] and counter['code_status'] == 'CS_OK':\n",
    "                counterID.append(counter['id'])\n",
    "        except:\n",
    "            print 'getMetrikaCounterIDByDomain exception'\n",
    "            continue\n",
    "    return counterID\n",
    "def getExtendedProjectInfo(projectId,serviceType):\n",
    "    vipProjectInfo = getVipProjectById(projectId)[0]\n",
    "    token = GetToken(vipProjectInfo['metrikalogin'],serviceType)\n",
    "    if serviceType == 'Metrika':\n",
    "        counters = getMetrikaCountersByToken(token)\n",
    "        counterId = getMetrikaCounterIDByDomain(counters, vipProjectInfo['domain'])[0]\n",
    "        vipProjectInfo['counterId'] = counterId\n",
    "    vipProjectInfo['token'] = token\n",
    "    return vipProjectInfo\n",
    "def getMetrikaGoalMetrics(projectid):\n",
    "    goalsMetrics = ','.join(['ym:s:goal'+str(target['targetid'])+'visits' for target in getCPATargetsByProjectID(projectid)])\n",
    "    return goalsMetrics\n",
    "def getCPATargetsByProjectID(projectID):\n",
    "    conn = psycopg2.connect(\"dbname='Cubo' user='read_only' host='192.168.10.8' password='User_ro'\")\n",
    "    cur = conn.cursor()\n",
    "    cur.execute(\"SELECT targetstatus, targetid, targetname FROM metricstarget WHERE projectid=%s ORDER BY id DESC\", [projectID])\n",
    "    result = []\n",
    "    rows = cur.fetchall()\n",
    "    for row in rows:\n",
    "        result.append(getCPATargetByRow(row))\n",
    "    return result\n",
    "def getCPATargetByRow(row):\n",
    "    return {'targetstatus': row[0], 'targetid': row[1], 'targetname': row[2]}\n",
    "def getMetrikaGoalMetrics(projectid):\n",
    "    goalsMetrics = ','.join(['ym:s:goal'+str(target['targetid'])+'visits' for target in getCPATargetsByProjectID(projectid)])\n",
    "    return goalsMetrics\n",
    "def getMetrikaReportInDataFrame(date1,date2,metrics,dimensions,token,counterId,filters,attribution,limit):\n",
    "    params = '&'.join(['dimensions={0}'.format(dimensions),\n",
    "                       'metrics={0}'.format(metrics),\n",
    "                       'date1={0}'.format(date1),\n",
    "                      'date2={0}'.format(date2),\n",
    "                      'ids={0}'.format(counterId),\n",
    "                      'oauth_token={0}'.format(token),\n",
    "                      'limit={0}'.format(limit),\n",
    "                      'offset=1',\n",
    "                      \"filters={0}\".format(filters),\n",
    "                      'accuracy=full',\n",
    "                      'attribution={0}'.format(attribution)])\n",
    "    url = 'https://beta.api-metrika.yandex.ru/stat/v1/data.csv?'+params\n",
    "    print url\n",
    "    df = pd.read_csv(url,encoding='utf-8')\n",
    "    return df\n",
    "def dropTotalRow(df):\n",
    "    return df.drop(df.index[0]).reset_index(drop=True)\n",
    "def mergeCPAVisitsColumns(df):\n",
    "    for i in xrange(0,len(df)):\n",
    "        df.loc[i,'goal_visits'] = df.loc[i,[column for column in df.columns if u'Целевые визиты' in column]].sum()\n",
    "    df.drop([column for column in df.columns if u'Целевые визиты' in column], axis=1, inplace=True)\n",
    "    return df\n",
    "def getDirectCallByProjectID(projectID,date1,date2):\n",
    "    conn = psycopg2.connect(\"dbname='CuboHistory' user='read_only' host='192.168.10.32' password='User_ro'\")\n",
    "    cur = conn.cursor()\n",
    "    cur.execute(\"SELECT id, duration, phonenumbera, date FROM calltrackinginfo where projectid={0} and campaign='Поисковое продвижение' and date >= '{1}' and date <= '{2}'\".format(projectID,date1,date2))\n",
    "    result = []\n",
    "    rows = cur.fetchall()\n",
    "    for row in rows:\n",
    "        result.append(getCallByRow(row))\n",
    "    return result\n",
    "def getCallByRow(row):\n",
    "    return {'id': row[0], 'duration': row[1], 'phonenumbera': row[2], 'date':row[3]}"
   ]
  },
  {
   "cell_type": "code",
   "execution_count": 173,
   "metadata": {
    "collapsed": false
   },
   "outputs": [
    {
     "name": "stdout",
     "output_type": "stream",
     "text": [
      "https://beta.api-metrika.yandex.ru/stat/v1/data.csv?dimensions=ym:s:<attribution>TrafficSource&metrics=ym:s:visits,ym:s:bounceRate,ym:s:pageDepth,ym:s:avgVisitDurationSeconds&date1=2016-07-01&date2=2016-07-31&ids=7820509&oauth_token=AQAAAAAHnjNRAAFxmP5hRPFrFEQzjcB6TxbqIvg&limit=100&offset=1&filters=&accuracy=full&attribution=lastsign\n",
      "https://beta.api-metrika.yandex.ru/stat/v1/data.csv?dimensions=ym:s:<attribution>SearchEngineRoot&metrics=ym:s:visits,ym:s:bounceRate,ym:s:pageDepth,ym:s:avgVisitDurationSeconds&date1=2016-07-01&date2=2016-07-31&ids=7820509&oauth_token=AQAAAAAHnjNRAAFxmP5hRPFrFEQzjcB6TxbqIvg&limit=100&offset=1&filters=&accuracy=full&attribution=lastsign\n",
      "https://beta.api-metrika.yandex.ru/stat/v1/data.csv?dimensions=ym:s:<attribution>SearchPhrase&metrics=ym:s:visits,ym:s:bounceRate,ym:s:pageDepth,ym:s:avgVisitDurationSeconds&date1=2016-07-01&date2=2016-07-31&ids=7820509&oauth_token=AQAAAAAHnjNRAAFxmP5hRPFrFEQzjcB6TxbqIvg&limit=20&offset=1&filters=ym:s:<attribution>TrafficSource=='organic'&accuracy=full&attribution=lastsign\n",
      "https://beta.api-metrika.yandex.ru/stat/v1/data.csv?dimensions=ym:s:startURL&metrics=ym:s:visits,ym:s:bounceRate,ym:s:pageDepth,ym:s:avgVisitDurationSeconds&date1=2016-07-01&date2=2016-07-31&ids=7820509&oauth_token=AQAAAAAHnjNRAAFxmP5hRPFrFEQzjcB6TxbqIvg&limit=10&offset=1&filters=ym:s:<attribution>TrafficSource=='organic'&accuracy=full&attribution=lastsign\n",
      "https://beta.api-metrika.yandex.ru/stat/v1/data.csv?dimensions=ym:s:regionCountryName,ym:s:regionAreaName&metrics=ym:s:visits,ym:s:bounceRate,ym:s:pageDepth,ym:s:avgVisitDurationSeconds&date1=2016-07-01&date2=2016-07-31&ids=7820509&oauth_token=AQAAAAAHnjNRAAFxmP5hRPFrFEQzjcB6TxbqIvg&limit=15&offset=1&filters=ym:s:<attribution>TrafficSource=='organic'&accuracy=full&attribution=lastsign\n",
      "https://beta.api-metrika.yandex.ru/stat/v1/data.csv?dimensions=ym:s:date,ym:s:<attribution>SearchEngineRoot&metrics=ym:s:goal19518365visits,ym:s:goal16516335visits,ym:s:goal16516330visits,ym:s:goal869704visits&date1=2016-07-01&date2=2016-07-31&ids=7820509&oauth_token=AQAAAAAHnjNRAAFxmP5hRPFrFEQzjcB6TxbqIvg&limit=100000&offset=1&filters=ym:s:<attribution>TrafficSource=='organic'&accuracy=full&attribution=lastsign\n",
      "There is no calls!\n"
     ]
    }
   ],
   "source": [
    "projectId = 2410910\n",
    "date1 = '2016-07-01'\n",
    "date2 = '2016-07-31'\n",
    "\n",
    "extendedProjectInfo = getExtendedProjectInfo(projectId,'Metrika')\n",
    "goalMetrics = getMetrikaGoalMetrics(projectId)\n",
    "ids = extendedProjectInfo['counterId']\n",
    "token = extendedProjectInfo['token']\n",
    "attribution = 'lastsign'\n",
    "\n",
    "limit = 100\n",
    "metrics = 'ym:s:visits,ym:s:bounceRate,ym:s:pageDepth,ym:s:avgVisitDurationSeconds'\n",
    "\n",
    "# Sources Report No. 1\n",
    "dimensions = 'ym:s:<attribution>TrafficSource'\n",
    "sources_report_1 = getMetrikaReportInDataFrame(date1,date2,metrics,dimensions,token,ids,'',attribution,limit)\n",
    "sources_report_1.rename(columns={u'﻿\"Источник трафика\"':u'Источник трафика'},inplace=True)\n",
    "\n",
    "# Sources Report No. 2\n",
    "dimensions = 'ym:s:<attribution>SearchEngineRoot'\n",
    "sources_report_2 = getMetrikaReportInDataFrame(date1,date2,metrics,dimensions,token,ids,'',attribution,limit)\n",
    "sources_report_2.rename(columns={u'﻿\"Поисковая система\"':u'Поисковая система'},inplace=True)\n",
    "\n",
    "# Keywords Report\n",
    "limit = 20\n",
    "dimensions = 'ym:s:<attribution>SearchPhrase'\n",
    "filters = \"ym:s:<attribution>TrafficSource=='organic'\"\n",
    "keywords_report = getMetrikaReportInDataFrame(date1,date2,metrics,dimensions,token,ids,filters,attribution,limit)\n",
    "keywords_report.rename(columns={u'﻿\"Поисковая фраза\"':u'Поисковая фраза'},inplace=True)\n",
    "keywords_report = dropTotalRow(keywords_report)\n",
    "\n",
    "# Start URLs Report\n",
    "limit = 10\n",
    "dimensions = 'ym:s:startURL'\n",
    "filters = \"ym:s:<attribution>TrafficSource=='organic'\"\n",
    "start_urls_report = getMetrikaReportInDataFrame(date1,date2,metrics,dimensions,token,ids,filters,attribution,limit)\n",
    "start_urls_report.rename(columns={u'﻿\"Страница входа\"':u'Страница входа'},inplace=True)\n",
    "start_urls_report = dropTotalRow(start_urls_report)\n",
    "\n",
    "# Geo Report\n",
    "limit = 15\n",
    "dimensions = 'ym:s:regionCountryName,ym:s:regionAreaName'\n",
    "filters = \"ym:s:<attribution>TrafficSource=='organic'\"\n",
    "geo_report = getMetrikaReportInDataFrame(date1,date2,metrics,dimensions,token,ids,filters,attribution,limit)\n",
    "geo_report.rename(columns={u'﻿\"Страна\"':u'Страна'},inplace=True)\n",
    "\n",
    "# Goal Report\n",
    "if goalMetrics != '':\n",
    "    limit = 100000\n",
    "    dimensions = 'ym:s:date,ym:s:<attribution>SearchEngineRoot'\n",
    "    filters = \"ym:s:<attribution>TrafficSource=='organic'\"\n",
    "    metrics = goalMetrics\n",
    "    goal_report = getMetrikaReportInDataFrame(date1,date2,metrics,dimensions,token,ids,filters,attribution,limit)\n",
    "    goal_report.rename(columns={u'﻿\"Дата визита\"':u'Дата визита'},inplace=True)\n",
    "    goal_report = mergeCPAVisitsColumns(dropTotalRow(goal_report))\n",
    "    pivot_goal_report = pd.pivot_table(goal_report, values='goal_visits', index=[u'Дата визита'],columns=[u'Поисковая система'], aggfunc=np.sum, fill_value=0.0,margins=False)\n",
    "else:\n",
    "    print 'There is no goal metrics!'\n",
    "    \n",
    "# Calls Report\n",
    "calls_report = pd.DataFrame(getDirectCallByProjectID(projectId,date1,date2))\n",
    "if len(calls_report) > 0:\n",
    "    calls_report['date2'] = calls_report['date'].dt.date\n",
    "    grouped_calls_report = calls_report[['date2','duration']].groupby(['date2'],as_index=False).count()\n",
    "    grouped_calls_report.columns=[u'Дата',u'Звонки']\n",
    "else:\n",
    "    print 'There is no calls!'\n",
    "\n",
    "from pandas import ExcelWriter\n",
    "from openpyxl import load_workbook\n",
    "book = load_workbook(u'D:\\\\_Docs_\\\\Копия отчет по SEO_диаграммы и графики.xlsx')\n",
    "sheetName = 'Data'\n",
    "ws = book.get_sheet_by_name(sheetName)\n",
    "if ws is not None:\n",
    "    book.remove_sheet(ws)\n",
    "writer = ExcelWriter(u'D:\\\\_Docs_\\\\Копия отчет по SEO_диаграммы и графики.xlsx', engine='openpyxl') \n",
    "writer.book = book\n",
    "writer.sheets = dict((ws.title, ws) for ws in book.worksheets)\n",
    "start_row = 0\n",
    "sources_report_1.to_excel(writer, \"Data\",startrow=start_row)\n",
    "start_row = start_row + len(sources_report_1) + 2\n",
    "sources_report_2.to_excel(writer, \"Data\",startrow=start_row)\n",
    "start_row = start_row + len(sources_report_2) + 2\n",
    "keywords_report.to_excel(writer, \"Data\",startrow=start_row)\n",
    "start_row = start_row + len(keywords_report) + 2\n",
    "start_urls_report.to_excel(writer, \"Data\",startrow=start_row)\n",
    "start_row = start_row + len(start_urls_report) + 2\n",
    "geo_report.to_excel(writer, \"Data\",startrow=start_row)\n",
    "start_row = start_row + len(geo_report) + 2\n",
    "if goalMetrics != '':\n",
    "    pivot_goal_report.to_excel(writer, \"Data\",startrow=start_row)\n",
    "    start_row = start_row + len(pivot_goal_report) + 2\n",
    "if len(calls_report) > 0:\n",
    "    grouped_calls_report.to_excel(writer, \"Data\",startrow=start_row)\n",
    "    start_row = start_row + len(grouped_calls_report) + 2\n",
    "writer.save()"
   ]
  },
  {
   "cell_type": "code",
   "execution_count": 13,
   "metadata": {
    "collapsed": false
   },
   "outputs": [
    {
     "data": {
      "text/plain": [
       "<Response [400]>"
      ]
     },
     "execution_count": 13,
     "metadata": {},
     "output_type": "execute_result"
    }
   ],
   "source": [
    "login = 'root'\n",
    "password = '1ldlNQiVnL'\n",
    "yt_url = 'https://cubo.myjetbrains.com/youtrack'\n",
    "login_url = '/rest/user/login'\n",
    "cookies = dict(login=login,password=password)\n",
    "requests.post('{0}{1}'.format(yt_url,login_url))"
   ]
  },
  {
   "cell_type": "code",
   "execution_count": 3,
   "metadata": {
    "collapsed": true
   },
   "outputs": [],
   "source": []
  },
  {
   "cell_type": "code",
   "execution_count": 5,
   "metadata": {
    "collapsed": false
   },
   "outputs": [
    {
     "data": {
      "text/plain": [
       "{'login': 'root', 'password': '1ldlNQiVnL'}"
      ]
     },
     "execution_count": 5,
     "metadata": {},
     "output_type": "execute_result"
    }
   ],
   "source": [
    "cookies"
   ]
  },
  {
   "cell_type": "code",
   "execution_count": 29,
   "metadata": {
    "collapsed": false
   },
   "outputs": [],
   "source": [
    "import httplib2,urllib\n",
    "class Connection(object):\n",
    "    def __init__(self, url, login=None, password=None, proxy_info=None, api_key=None):\n",
    "        self.http = httplib2.Http(disable_ssl_certificate_validation=True) if proxy_info is None else httplib2.Http(\n",
    "            proxy_info=proxy_info, disable_ssl_certificate_validation=True)\n",
    "\n",
    "        # Remove the last character of the url ends with \"/\"\n",
    "        if url:\n",
    "            url = url.rstrip('/')\n",
    "\n",
    "        self.url = url\n",
    "        self.baseUrl = url + \"/rest\"\n",
    "        if api_key is None:\n",
    "            self._credentials = (login, password)\n",
    "            self._login(*self._credentials)\n",
    "        else:\n",
    "            self.headers = {'X-YouTrack-ApiKey': api_key}\n",
    "\n",
    "    def _login(self, login, password):\n",
    "        response, content = self.http.request(\n",
    "            self.baseUrl + \"/user/login?login=\" + urllib.quote_plus(login) + \"&password=\" + urllib.quote_plus(password),\n",
    "            'POST',\n",
    "            headers={'Content-Length': '0', 'Connection': 'keep-alive'})\n",
    "        if response.status != 200:\n",
    "            raise youtrack.YouTrackException('/user/login', response, content)\n",
    "        self.headers = {'Cookie': response['set-cookie'],\n",
    "                        'Cache-Control': 'no-cache'}\n",
    "    \n",
    "    def _req(self, method, url, body=None, ignoreStatus=None, content_type=None):\n",
    "        headers = self.headers\n",
    "        if method == 'PUT' or method == 'POST':\n",
    "            headers = headers.copy()\n",
    "            if content_type is None:\n",
    "                content_type = 'application/xml; charset=UTF-8'\n",
    "            headers['Content-Type'] = content_type\n",
    "            headers['Content-Length'] = str(len(body)) if body else '0'\n",
    "\n",
    "        response, content = self.http.request((self.baseUrl + url).encode('utf-8'), method, headers=headers, body=body)\n",
    "        content = content.translate(None, '\\0')\n",
    "        return response, content\n",
    "\n",
    "    def _reqXml(self, method, url, body=None, ignoreStatus=None):\n",
    "        response, content = self._req(method, url, body, ignoreStatus)\n",
    "        if response.has_key('content-type'):\n",
    "            if (response[\"content-type\"].find('application/xml') != -1 or response[\"content-type\"].find(\n",
    "                'text/xml') != -1) and content is not None and content != '':\n",
    "                try:\n",
    "                    return minidom.parseString(content)\n",
    "                except Exception:\n",
    "                    return \"\"\n",
    "            elif response['content-type'].find('application/json') != -1 and content is not None and content != '':\n",
    "                try:\n",
    "                    return json.loads(content)\n",
    "                except Exception:\n",
    "                    return \"\"\n",
    "\n",
    "        if method == 'PUT' and ('location' in response.keys()):\n",
    "            return 'Created: ' + response['location']\n",
    "        else:\n",
    "            return content\n",
    "\n",
    "    def _get(self, url):\n",
    "        return self._reqXml('GET', url)\n",
    "    \n"
   ]
  },
  {
   "cell_type": "code",
   "execution_count": 20,
   "metadata": {
    "collapsed": false
   },
   "outputs": [],
   "source": [
    "yt = Connection('https://cubo.myjetbrains.com/youtrack/', 'root', '1ldlNQiVnL')"
   ]
  },
  {
   "cell_type": "code",
   "execution_count": 30,
   "metadata": {
    "collapsed": false
   },
   "outputs": [
    {
     "ename": "AttributeError",
     "evalue": "'Connection' object has no attribute '_req'",
     "output_type": "error",
     "traceback": [
      "\u001b[1;31m---------------------------------------------------------------------------\u001b[0m",
      "\u001b[1;31mAttributeError\u001b[0m                            Traceback (most recent call last)",
      "\u001b[1;32m<ipython-input-30-edfd43b8f444>\u001b[0m in \u001b[0;36m<module>\u001b[1;34m()\u001b[0m\n\u001b[1;32m----> 1\u001b[1;33m \u001b[0myt\u001b[0m\u001b[1;33m.\u001b[0m\u001b[0m_get\u001b[0m\u001b[1;33m(\u001b[0m\u001b[1;34m'https://cubo.myjetbrains.com/youtrack/rest/issue/SEO_MM-724/link'\u001b[0m\u001b[1;33m)\u001b[0m\u001b[1;33m\u001b[0m\u001b[0m\n\u001b[0m",
      "\u001b[1;32m<ipython-input-19-cbdee42267ca>\u001b[0m in \u001b[0;36m_get\u001b[1;34m(self, url)\u001b[0m\n\u001b[0;32m     48\u001b[0m \u001b[1;33m\u001b[0m\u001b[0m\n\u001b[0;32m     49\u001b[0m     \u001b[1;32mdef\u001b[0m \u001b[0m_get\u001b[0m\u001b[1;33m(\u001b[0m\u001b[0mself\u001b[0m\u001b[1;33m,\u001b[0m \u001b[0murl\u001b[0m\u001b[1;33m)\u001b[0m\u001b[1;33m:\u001b[0m\u001b[1;33m\u001b[0m\u001b[0m\n\u001b[1;32m---> 50\u001b[1;33m         \u001b[1;32mreturn\u001b[0m \u001b[0mself\u001b[0m\u001b[1;33m.\u001b[0m\u001b[0m_reqXml\u001b[0m\u001b[1;33m(\u001b[0m\u001b[1;34m'GET'\u001b[0m\u001b[1;33m,\u001b[0m \u001b[0murl\u001b[0m\u001b[1;33m)\u001b[0m\u001b[1;33m\u001b[0m\u001b[0m\n\u001b[0m",
      "\u001b[1;32m<ipython-input-19-cbdee42267ca>\u001b[0m in \u001b[0;36m_reqXml\u001b[1;34m(self, method, url, body, ignoreStatus)\u001b[0m\n\u001b[0;32m     28\u001b[0m \u001b[1;33m\u001b[0m\u001b[0m\n\u001b[0;32m     29\u001b[0m     \u001b[1;32mdef\u001b[0m \u001b[0m_reqXml\u001b[0m\u001b[1;33m(\u001b[0m\u001b[0mself\u001b[0m\u001b[1;33m,\u001b[0m \u001b[0mmethod\u001b[0m\u001b[1;33m,\u001b[0m \u001b[0murl\u001b[0m\u001b[1;33m,\u001b[0m \u001b[0mbody\u001b[0m\u001b[1;33m=\u001b[0m\u001b[0mNone\u001b[0m\u001b[1;33m,\u001b[0m \u001b[0mignoreStatus\u001b[0m\u001b[1;33m=\u001b[0m\u001b[0mNone\u001b[0m\u001b[1;33m)\u001b[0m\u001b[1;33m:\u001b[0m\u001b[1;33m\u001b[0m\u001b[0m\n\u001b[1;32m---> 30\u001b[1;33m         \u001b[0mresponse\u001b[0m\u001b[1;33m,\u001b[0m \u001b[0mcontent\u001b[0m \u001b[1;33m=\u001b[0m \u001b[0mself\u001b[0m\u001b[1;33m.\u001b[0m\u001b[0m_req\u001b[0m\u001b[1;33m(\u001b[0m\u001b[0mmethod\u001b[0m\u001b[1;33m,\u001b[0m \u001b[0murl\u001b[0m\u001b[1;33m,\u001b[0m \u001b[0mbody\u001b[0m\u001b[1;33m,\u001b[0m \u001b[0mignoreStatus\u001b[0m\u001b[1;33m)\u001b[0m\u001b[1;33m\u001b[0m\u001b[0m\n\u001b[0m\u001b[0;32m     31\u001b[0m         \u001b[1;32mif\u001b[0m \u001b[0mresponse\u001b[0m\u001b[1;33m.\u001b[0m\u001b[0mhas_key\u001b[0m\u001b[1;33m(\u001b[0m\u001b[1;34m'content-type'\u001b[0m\u001b[1;33m)\u001b[0m\u001b[1;33m:\u001b[0m\u001b[1;33m\u001b[0m\u001b[0m\n\u001b[0;32m     32\u001b[0m             if (response[\"content-type\"].find('application/xml') != -1 or response[\"content-type\"].find(\n",
      "\u001b[1;31mAttributeError\u001b[0m: 'Connection' object has no attribute '_req'"
     ]
    }
   ],
   "source": [
    "yt._get('https://cubo.myjetbrains.com/youtrack/rest/issue/SEO_MM-724/link')"
   ]
  },
  {
   "cell_type": "code",
   "execution_count": 31,
   "metadata": {
    "collapsed": true
   },
   "outputs": [],
   "source": [
    "def cumulative_rate_monthly_saving(start_amount,\n",
    "                                   yearly_rate,\n",
    "                                   months_saving,\n",
    "                                   monthly_saving):\n",
    "    if months_saving == 0:\n",
    "        return start_amount\n",
    "    monthly_rate = 1 + yearly_rate/12\n",
    "    return (cumulative_rate_monthly_saving(start_amount,\n",
    "                                           yearly_rate,\n",
    "                                           months_saving-1,\n",
    "                                           monthly_saving)\n",
    "            + monthly_saving) * monthly_rate\n"
   ]
  },
  {
   "cell_type": "code",
   "execution_count": 36,
   "metadata": {
    "collapsed": false
   },
   "outputs": [
    {
     "data": {
      "text/plain": [
       "3107652.6489718854"
      ]
     },
     "execution_count": 36,
     "metadata": {},
     "output_type": "execute_result"
    }
   ],
   "source": [
    "cumulative_rate_monthly_saving(100000,0.08,5*12,40000)"
   ]
  },
  {
   "cell_type": "code",
   "execution_count": 45,
   "metadata": {
    "collapsed": true
   },
   "outputs": [],
   "source": [
    "def function(data=[]):\n",
    "    data.append(1)\n",
    "    return data"
   ]
  },
  {
   "cell_type": "code",
   "execution_count": 38,
   "metadata": {
    "collapsed": false
   },
   "outputs": [
    {
     "data": {
      "text/plain": [
       "[1]"
      ]
     },
     "execution_count": 38,
     "metadata": {},
     "output_type": "execute_result"
    }
   ],
   "source": [
    "function()"
   ]
  },
  {
   "cell_type": "code",
   "execution_count": 39,
   "metadata": {
    "collapsed": false
   },
   "outputs": [
    {
     "data": {
      "text/plain": [
       "<function __main__.function>"
      ]
     },
     "execution_count": 39,
     "metadata": {},
     "output_type": "execute_result"
    }
   ],
   "source": [
    "function"
   ]
  },
  {
   "cell_type": "code",
   "execution_count": 54,
   "metadata": {
    "collapsed": false
   },
   "outputs": [
    {
     "data": {
      "text/plain": [
       "[2, 1]"
      ]
     },
     "execution_count": 54,
     "metadata": {},
     "output_type": "execute_result"
    }
   ],
   "source": [
    "function([2])"
   ]
  },
  {
   "cell_type": "code",
   "execution_count": null,
   "metadata": {
    "collapsed": true
   },
   "outputs": [],
   "source": []
  },
  {
   "cell_type": "code",
   "execution_count": null,
   "metadata": {
    "collapsed": true
   },
   "outputs": [],
   "source": []
  }
 ],
 "metadata": {
  "kernelspec": {
   "display_name": "Python 2",
   "language": "python",
   "name": "python2"
  },
  "language_info": {
   "codemirror_mode": {
    "name": "ipython",
    "version": 2
   },
   "file_extension": ".py",
   "mimetype": "text/x-python",
   "name": "python",
   "nbconvert_exporter": "python",
   "pygments_lexer": "ipython2",
   "version": "2.7.11"
  }
 },
 "nbformat": 4,
 "nbformat_minor": 0
}
