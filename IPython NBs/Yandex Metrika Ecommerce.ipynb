{
 "cells": [
  {
   "cell_type": "code",
   "execution_count": 1,
   "metadata": {
    "collapsed": false
   },
   "outputs": [
    {
     "name": "stdout",
     "output_type": "stream",
     "text": [
      "[{'metrikalogin': 'cubo.client2@yandex.ru', 'projectid': 2371741L, 'domain': 'simple-pro.com', 'metrikapassword': 'idev2015'}]\n",
      "{'Token': u'00687c8af3aa4b4bbddea008faae5bfa', 'counterID': [7971226]}\n"
     ]
    }
   ],
   "source": [
    "%run 'C:\\dev\\prod\\metrikaHelper.py'\n",
    "import pandas as pd\n",
    "import psycopg2\n",
    "import math\n",
    "import numpy\n",
    "from datetime import timedelta\n",
    "from datetime import datetime\n",
    "from pandas import ExcelWriter\n",
    "def getVipProjectByDomain(domain):\n",
    "    conn = psycopg2.connect(\"dbname='CRM' user='read_only' host='192.168.10.10' password='User_ro'\")\n",
    "    cur = conn.cursor()\n",
    "    cur.execute(\"SELECT p.projectid, p.domain, p2.login, p2.password FROM project AS p INNER JOIN ProjectMetrikaData AS p2 ON p.UniqueId = p2.ProjectUniqueId WHERE domain=%s ORDER BY p.projectid\", [domain])\n",
    "    result = []\n",
    "    rows = cur.fetchall()\n",
    "    for row in rows:\n",
    "        result.append(getVipProjectByRow(row))\n",
    "    return result\n",
    "def getVipProjectByRow(row):\n",
    "    return {'projectid': row[0], 'domain': row[1], 'metrikalogin': row[2], 'metrikapassword': row[3]}\n",
    "def getCPATargetsByProjectID(projectID):\n",
    "    conn = psycopg2.connect(\"dbname='Cubo' user='read_only' host='192.168.10.8' password='User_ro'\")\n",
    "    cur = conn.cursor()\n",
    "    cur.execute(\"SELECT targetstatus, targetid, targetname FROM metricstarget WHERE projectid=%s ORDER BY id DESC\", [projectID])\n",
    "    result = []\n",
    "    rows = cur.fetchall()\n",
    "    for row in rows:\n",
    "        result.append(getCPATargetByRow(row))\n",
    "    return result\n",
    "def getCPATargetByRow(row):\n",
    "    return {'targetstatus': row[0], 'targetid': row[1], 'targetname': row[2]}\n",
    "project = u'simple-pro.com'\n",
    "VipProjectInfo = getVipProjectByDomain(project)\n",
    "print VipProjectInfo\n",
    "metrikaCredentials = getMetrikaCredentialsByLPD({'yandexLogin':VipProjectInfo[0]['metrikalogin'],\n",
    "                                                 'yandexPassword':VipProjectInfo[0]['metrikapassword'],\n",
    "                                                 'domain':VipProjectInfo[0]['domain']})\n",
    "print metrikaCredentials"
   ]
  },
  {
   "cell_type": "code",
   "execution_count": 2,
   "metadata": {
    "collapsed": true
   },
   "outputs": [],
   "source": [
    "goalsMetrics = ','.join(['ym:s:goal'+str(target['targetid'])+'visits' for target in getCPATargetsByProjectID(VipProjectInfo[0]['projectid'])])"
   ]
  },
  {
   "cell_type": "code",
   "execution_count": 3,
   "metadata": {
    "collapsed": false
   },
   "outputs": [
    {
     "data": {
      "text/plain": [
       "'ym:s:goal6578510visits,ym:s:goal5452244visits,ym:s:goal5452241visits'"
      ]
     },
     "execution_count": 3,
     "metadata": {},
     "output_type": "execute_result"
    }
   ],
   "source": [
    "goalsMetrics"
   ]
  },
  {
   "cell_type": "markdown",
   "metadata": {},
   "source": [
    "Детализация по транзакциям"
   ]
  },
  {
   "cell_type": "code",
   "execution_count": 7,
   "metadata": {
    "collapsed": true
   },
   "outputs": [],
   "source": [
    "url = 'https://beta.api-metrika.yandex.ru/stat/v1/data.csv?dimensions=ym:s:UTMSource,ym:s:UTMMedium,ym:s:UTMCampaign,ym:s:UTMTerm,ym:s:UTMContent,ym:s:purchaseID&metrics=ym:s:visits,ym:s:ecommerceRevenue,ym:s:goal6578510visits,ym:s:goal5452244visits,ym:s:goal5452241visits,ym:s:ecommercePurchases&date1=2016-01-25&date2=2016-04-07&ids=7971226&oauth_token=00687c8af3aa4b4bbddea008faae5bfa&limit=100000&offset=1'\n",
    "transactions_df = pd.read_csv(url,encoding='utf-8')"
   ]
  },
  {
   "cell_type": "markdown",
   "metadata": {},
   "source": [
    "Статистика по доходу и количеству покупок"
   ]
  },
  {
   "cell_type": "code",
   "execution_count": 13,
   "metadata": {
    "collapsed": true
   },
   "outputs": [],
   "source": [
    "url = 'https://beta.api-metrika.yandex.ru/stat/v1/data.csv?dimensions=ym:s:UTMSource,ym:s:UTMMedium,ym:s:UTMCampaign,ym:s:UTMTerm,ym:s:UTMContent&metrics=ym:s:visits,ym:s:ecommerceRevenue,ym:s:goal6578510visits,ym:s:goal5452244visits,ym:s:goal5452241visits,ym:s:ecommercePurchases&date1=2016-01-25&date2=2016-04-07&ids=7971226&oauth_token=00687c8af3aa4b4bbddea008faae5bfa&limit=100000&offset=1'\n",
    "summary_stat = pd.read_csv(url,encoding='utf-8')"
   ]
  },
  {
   "cell_type": "code",
   "execution_count": 15,
   "metadata": {
    "collapsed": false
   },
   "outputs": [
    {
     "data": {
      "text/html": [
       "<div>\n",
       "<table border=\"1\" class=\"dataframe\">\n",
       "  <thead>\n",
       "    <tr style=\"text-align: right;\">\n",
       "      <th></th>\n",
       "      <th>﻿\"UTM Source\"</th>\n",
       "      <th>UTM Medium</th>\n",
       "      <th>UTM Campaign</th>\n",
       "      <th>UTM Term</th>\n",
       "      <th>UTM Content</th>\n",
       "      <th>ID покупки</th>\n",
       "      <th>Визиты</th>\n",
       "      <th>Доход</th>\n",
       "      <th>Целевые визиты</th>\n",
       "      <th>Целевые визиты.1</th>\n",
       "      <th>Целевые визиты.2</th>\n",
       "      <th>Количество покупок</th>\n",
       "    </tr>\n",
       "  </thead>\n",
       "  <tbody>\n",
       "    <tr>\n",
       "      <th>0</th>\n",
       "      <td>Итого и средние</td>\n",
       "      <td>NaN</td>\n",
       "      <td>NaN</td>\n",
       "      <td>NaN</td>\n",
       "      <td>NaN</td>\n",
       "      <td>NaN</td>\n",
       "      <td>10321</td>\n",
       "      <td>660255</td>\n",
       "      <td>9</td>\n",
       "      <td>10</td>\n",
       "      <td>12</td>\n",
       "      <td>9</td>\n",
       "    </tr>\n",
       "    <tr>\n",
       "      <th>1</th>\n",
       "      <td>cubo</td>\n",
       "      <td>adwords</td>\n",
       "      <td>shkafy</td>\n",
       "      <td>Не определено</td>\n",
       "      <td>Не определено</td>\n",
       "      <td>327</td>\n",
       "      <td>1</td>\n",
       "      <td>11820</td>\n",
       "      <td>1</td>\n",
       "      <td>0</td>\n",
       "      <td>0</td>\n",
       "      <td>1</td>\n",
       "    </tr>\n",
       "    <tr>\n",
       "      <th>2</th>\n",
       "      <td>cubo</td>\n",
       "      <td>direct</td>\n",
       "      <td>Не определено</td>\n",
       "      <td>Не определено</td>\n",
       "      <td>none.0.no</td>\n",
       "      <td>333</td>\n",
       "      <td>1</td>\n",
       "      <td>362500</td>\n",
       "      <td>1</td>\n",
       "      <td>0</td>\n",
       "      <td>0</td>\n",
       "      <td>1</td>\n",
       "    </tr>\n",
       "    <tr>\n",
       "      <th>3</th>\n",
       "      <td>cubo</td>\n",
       "      <td>direct</td>\n",
       "      <td>4290818289</td>\n",
       "      <td>Шкаф для реактивов</td>\n",
       "      <td>premium.3.no</td>\n",
       "      <td>322</td>\n",
       "      <td>1</td>\n",
       "      <td>34310</td>\n",
       "      <td>1</td>\n",
       "      <td>0</td>\n",
       "      <td>0</td>\n",
       "      <td>1</td>\n",
       "    </tr>\n",
       "    <tr>\n",
       "      <th>4</th>\n",
       "      <td>cubo</td>\n",
       "      <td>direct</td>\n",
       "      <td>4290818395</td>\n",
       "      <td>ооо спецбалтмебель</td>\n",
       "      <td>premium.1.no</td>\n",
       "      <td>343</td>\n",
       "      <td>1</td>\n",
       "      <td>18540</td>\n",
       "      <td>1</td>\n",
       "      <td>0</td>\n",
       "      <td>0</td>\n",
       "      <td>1</td>\n",
       "    </tr>\n",
       "    <tr>\n",
       "      <th>5</th>\n",
       "      <td>cubo</td>\n",
       "      <td>direct</td>\n",
       "      <td>4290820705</td>\n",
       "      <td>Тумба медицинская с мойкой</td>\n",
       "      <td>none.0.no</td>\n",
       "      <td>344</td>\n",
       "      <td>1</td>\n",
       "      <td>15950</td>\n",
       "      <td>1</td>\n",
       "      <td>0</td>\n",
       "      <td>0</td>\n",
       "      <td>1</td>\n",
       "    </tr>\n",
       "    <tr>\n",
       "      <th>6</th>\n",
       "      <td>cubo</td>\n",
       "      <td>direct</td>\n",
       "      <td>4383648238</td>\n",
       "      <td>лабораторная мебель</td>\n",
       "      <td>none.0.no</td>\n",
       "      <td>318</td>\n",
       "      <td>1</td>\n",
       "      <td>13660</td>\n",
       "      <td>1</td>\n",
       "      <td>0</td>\n",
       "      <td>0</td>\n",
       "      <td>1</td>\n",
       "    </tr>\n",
       "    <tr>\n",
       "      <th>7</th>\n",
       "      <td>cubo</td>\n",
       "      <td>direct</td>\n",
       "      <td>4384501176</td>\n",
       "      <td>вытяжной шкаф</td>\n",
       "      <td>none.0.no</td>\n",
       "      <td>345</td>\n",
       "      <td>1</td>\n",
       "      <td>35060</td>\n",
       "      <td>1</td>\n",
       "      <td>0</td>\n",
       "      <td>0</td>\n",
       "      <td>1</td>\n",
       "    </tr>\n",
       "    <tr>\n",
       "      <th>8</th>\n",
       "      <td>cubo</td>\n",
       "      <td>direct</td>\n",
       "      <td>4941715850</td>\n",
       "      <td>спецбалтмебель официальный сайт</td>\n",
       "      <td>premium.1.no</td>\n",
       "      <td>342</td>\n",
       "      <td>1</td>\n",
       "      <td>161725</td>\n",
       "      <td>1</td>\n",
       "      <td>0</td>\n",
       "      <td>0</td>\n",
       "      <td>1</td>\n",
       "    </tr>\n",
       "    <tr>\n",
       "      <th>9</th>\n",
       "      <td>cubo</td>\n",
       "      <td>direct</td>\n",
       "      <td>{phrase_id}</td>\n",
       "      <td>{keyword}</td>\n",
       "      <td>{position_type}.{position}.{addphrases}</td>\n",
       "      <td>317</td>\n",
       "      <td>1</td>\n",
       "      <td>6690</td>\n",
       "      <td>1</td>\n",
       "      <td>0</td>\n",
       "      <td>0</td>\n",
       "      <td>1</td>\n",
       "    </tr>\n",
       "  </tbody>\n",
       "</table>\n",
       "</div>"
      ],
      "text/plain": [
       "     ﻿\"UTM Source\" UTM Medium   UTM Campaign                         UTM Term  \\\n",
       "0  Итого и средние        NaN            NaN                              NaN   \n",
       "1             cubo    adwords         shkafy                    Не определено   \n",
       "2             cubo     direct  Не определено                    Не определено   \n",
       "3             cubo     direct     4290818289               Шкаф для реактивов   \n",
       "4             cubo     direct     4290818395               ооо спецбалтмебель   \n",
       "5             cubo     direct     4290820705       Тумба медицинская с мойкой   \n",
       "6             cubo     direct     4383648238              лабораторная мебель   \n",
       "7             cubo     direct     4384501176                    вытяжной шкаф   \n",
       "8             cubo     direct     4941715850  спецбалтмебель официальный сайт   \n",
       "9             cubo     direct    {phrase_id}                        {keyword}   \n",
       "\n",
       "                               UTM Content  ID покупки  Визиты   Доход  \\\n",
       "0                                      NaN         NaN   10321  660255   \n",
       "1                            Не определено         327       1   11820   \n",
       "2                                none.0.no         333       1  362500   \n",
       "3                             premium.3.no         322       1   34310   \n",
       "4                             premium.1.no         343       1   18540   \n",
       "5                                none.0.no         344       1   15950   \n",
       "6                                none.0.no         318       1   13660   \n",
       "7                                none.0.no         345       1   35060   \n",
       "8                             premium.1.no         342       1  161725   \n",
       "9  {position_type}.{position}.{addphrases}         317       1    6690   \n",
       "\n",
       "   Целевые визиты  Целевые визиты.1  Целевые визиты.2  Количество покупок  \n",
       "0               9                10                12                   9  \n",
       "1               1                 0                 0                   1  \n",
       "2               1                 0                 0                   1  \n",
       "3               1                 0                 0                   1  \n",
       "4               1                 0                 0                   1  \n",
       "5               1                 0                 0                   1  \n",
       "6               1                 0                 0                   1  \n",
       "7               1                 0                 0                   1  \n",
       "8               1                 0                 0                   1  \n",
       "9               1                 0                 0                   1  "
      ]
     },
     "execution_count": 15,
     "metadata": {},
     "output_type": "execute_result"
    }
   ],
   "source": [
    "transactions_df"
   ]
  },
  {
   "cell_type": "code",
   "execution_count": null,
   "metadata": {
    "collapsed": true
   },
   "outputs": [],
   "source": []
  }
 ],
 "metadata": {
  "kernelspec": {
   "display_name": "Python 2",
   "language": "python",
   "name": "python2"
  },
  "language_info": {
   "codemirror_mode": {
    "name": "ipython",
    "version": 2
   },
   "file_extension": ".py",
   "mimetype": "text/x-python",
   "name": "python",
   "nbconvert_exporter": "python",
   "pygments_lexer": "ipython2",
   "version": "2.7.11"
  }
 },
 "nbformat": 4,
 "nbformat_minor": 0
}
