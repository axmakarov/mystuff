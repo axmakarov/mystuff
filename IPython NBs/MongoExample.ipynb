{
 "cells": [
  {
   "cell_type": "code",
   "execution_count": 77,
   "metadata": {
    "collapsed": false
   },
   "outputs": [
    {
     "name": "stdout",
     "output_type": "stream",
     "text": [
      "[{'metrikalogin': 'RookeeXML@yandex.ru', 'projectid': 2234924L, 'domain': 'altpremium.ru', 'metrikapassword': 'pass-RookeeXML'}]\n",
      "{'Token': u'71e4f97915d34895b4de3b45dbb6beef', 'counterID': [15610906]}\n"
     ]
    }
   ],
   "source": [
    "%run 'C:\\dev\\prod\\metrikaHelper.py'\n",
    "from pymongo import MongoClient\n",
    "from datetime import datetime\n",
    "import math\n",
    "import pandas as pd\n",
    "import psycopg2\n",
    "import math\n",
    "import numpy\n",
    "from datetime import timedelta\n",
    "from datetime import datetime\n",
    "from pandas import ExcelWriter\n",
    "def getCampaignIDbyKeywordId(keyphrases,keywordID):\n",
    "    try:\n",
    "        return keyphrases.find_one({'brokerType':0,'externalId':keywordID})['campaignId']\n",
    "    except:\n",
    "        return 0\n",
    "def getVipProjectByDomain(domain):\n",
    "    conn = psycopg2.connect(\"dbname='CRM' user='read_only' host='192.168.10.10' password='User_ro'\")\n",
    "    cur = conn.cursor()\n",
    "    cur.execute(\"SELECT p.projectid, p.domain, p2.login, p2.password FROM project AS p INNER JOIN ProjectMetrikaData AS p2 ON p.UniqueId = p2.ProjectUniqueId WHERE domain=%s ORDER BY p.projectid\", [domain])\n",
    "    result = []\n",
    "    rows = cur.fetchall()\n",
    "    for row in rows:\n",
    "        result.append(getVipProjectByRow(row))\n",
    "    return result\n",
    "def getVipProjectByRow(row):\n",
    "    return {'projectid': row[0], 'domain': row[1], 'metrikalogin': row[2], 'metrikapassword': row[3]}\n",
    "def getCPATargetsByProjectID(projectID):\n",
    "    conn = psycopg2.connect(\"dbname='Cubo' user='read_only' host='192.168.10.8' password='User_ro'\")\n",
    "    cur = conn.cursor()\n",
    "    cur.execute(\"SELECT targetstatus, targetid, targetname FROM metricstarget WHERE projectid=%s ORDER BY id DESC\", [projectID])\n",
    "    result = []\n",
    "    rows = cur.fetchall()\n",
    "    for row in rows:\n",
    "        result.append(getCPATargetByRow(row))\n",
    "    return result\n",
    "def getCPATargetByRow(row):\n",
    "    return {'targetstatus': row[0], 'targetid': row[1], 'targetname': row[2]}\n",
    "def getDirectCallByProjectID(projectID,date1,date2):\n",
    "    conn = psycopg2.connect(\"dbname='CuboHistory' user='read_only' host='192.168.10.32' password='User_ro'\")\n",
    "    cur = conn.cursor()\n",
    "    cur.execute(\"SELECT id, duration, phonenumbera, date FROM calltrackinginfo where projectid={0} and campaign='direct' and date >= '{1}' and date <= '{2}'\".format(projectID,date1,date2))\n",
    "    result = []\n",
    "    rows = cur.fetchall()\n",
    "    for row in rows:\n",
    "        result.append(getCallByRow(row))\n",
    "    return result\n",
    "def getCallByRow(row):\n",
    "    return {'id': row[0], 'duration': row[1], 'phonenumbera': row[2], 'date':row[3]}\n",
    "project = u'altpremium.ru'\n",
    "VipProjectInfo = getVipProjectByDomain(project)\n",
    "print VipProjectInfo\n",
    "metrikaCredentials = getMetrikaCredentialsByLPD({'yandexLogin':VipProjectInfo[0]['metrikalogin'],\n",
    "                                                 'yandexPassword':VipProjectInfo[0]['metrikapassword'],\n",
    "                                                 'domain':VipProjectInfo[0]['domain']})\n",
    "\n",
    "print metrikaCredentials\n",
    "client = MongoClient('mongodb://192.168.10.24:27017/')\n",
    "db = client['AdBrokerSettings']\n",
    "keyphrases = db.KeyPhrase"
   ]
  },
  {
   "cell_type": "code",
   "execution_count": 78,
   "metadata": {
    "collapsed": false
   },
   "outputs": [
    {
     "name": "stdout",
     "output_type": "stream",
     "text": [
      "https://beta.api-metrika.yandex.ru/stat/v1/data.csv?dimensions=ym:s:dateTime,ym:s:UTMCampaign&metrics=ym:s:visits,ym:s:goal12960034visits,ym:s:goal12960014visits,ym:s:goal12960009visits,ym:s:goal11431393visits&date1=2015-08-01&date2=2016-04-12&ids=15610906&oauth_token=71e4f97915d34895b4de3b45dbb6beef&limit=100000&offset=1&filters=ym:s:UTMMedium=='direct'\n"
     ]
    }
   ],
   "source": [
    "goalsMetrics = ','.join(['ym:s:goal'+str(target['targetid'])+'visits' for target in getCPATargetsByProjectID(VipProjectInfo[0]['projectid'])])\n",
    "otherMetrics = 'ym:s:visits'\n",
    "metrics = ','.join([otherMetrics,goalsMetrics])\n",
    "dimensions='ym:s:dateTime,ym:s:UTMCampaign'\n",
    "date1 = '2015-08-01'\n",
    "date2 = '2016-04-12'\n",
    "token = metrikaCredentials['Token']\n",
    "counterId = metrikaCredentials['counterID'][0]\n",
    "params = '&'.join(['dimensions={0}'.format(dimensions),\n",
    "                   'metrics={0}'.format(metrics),\n",
    "                   'date1={0}'.format(date1),\n",
    "                  'date2={0}'.format(date2),\n",
    "                  'ids={0}'.format(counterId),\n",
    "                  'oauth_token={0}'.format(token),\n",
    "                  'limit=100000',\n",
    "                  'offset=1',\n",
    "                  \"filters=ym:s:UTMMedium=='direct'\"])\n",
    "url = 'https://beta.api-metrika.yandex.ru/stat/v1/data.csv?'+params\n",
    "print url\n",
    "df = pd.read_csv(url,encoding='utf-8')\n",
    "df.rename(columns={u'﻿\"Дата и время визита\"': 'datetime',\n",
    "                        u'Визиты': 'visits'\n",
    "                       }, inplace=True)\n",
    "for i in xrange(0,len(df)):\n",
    "        df.loc[i,'sumCPAVisits'] = df.loc[i,[column for column in df.columns if u'Целевые визиты' in column]].sum()\n",
    "df = df[~df[u'datetime'].isin([u'Итого и средние'])].reset_index(drop=True)"
   ]
  },
  {
   "cell_type": "code",
   "execution_count": 79,
   "metadata": {
    "collapsed": false
   },
   "outputs": [],
   "source": [
    "data = []\n",
    "for keywordID in df['UTM Campaign'].unique():\n",
    "    try:\n",
    "        campaignID = getCampaignIDbyKeywordId(keyphrases,int(keywordID))\n",
    "    except ValueError:\n",
    "        campaignID = 0\n",
    "    data.append([keywordID,campaignID])"
   ]
  },
  {
   "cell_type": "code",
   "execution_count": 80,
   "metadata": {
    "collapsed": false
   },
   "outputs": [],
   "source": [
    "keywords_campaigns = pd.DataFrame(data)\n",
    "keywords_campaigns.columns = ['UTM Campaign','Campaign ID']"
   ]
  },
  {
   "cell_type": "code",
   "execution_count": 81,
   "metadata": {
    "collapsed": false
   },
   "outputs": [],
   "source": [
    "merged_df = pd.merge(df,keywords_campaigns,on='UTM Campaign',how='left')"
   ]
  },
  {
   "cell_type": "code",
   "execution_count": 82,
   "metadata": {
    "collapsed": false
   },
   "outputs": [],
   "source": [
    "merged_df = merged_df[merged_df['Campaign ID'] > 0]"
   ]
  },
  {
   "cell_type": "code",
   "execution_count": 83,
   "metadata": {
    "collapsed": false
   },
   "outputs": [],
   "source": [
    "merged_df['datetime'] = pd.to_datetime(merged_df['datetime'])\n",
    "merged_df['hours'] = merged_df['datetime'].dt.hour\n",
    "merged_df['dayofweek'] = merged_df['datetime'].dt.weekday"
   ]
  },
  {
   "cell_type": "code",
   "execution_count": 84,
   "metadata": {
    "collapsed": false
   },
   "outputs": [],
   "source": [
    "merged_df.to_excel('D:\\\\time_targeting_by_campaigns.xlsx')"
   ]
  },
  {
   "cell_type": "code",
   "execution_count": null,
   "metadata": {
    "collapsed": true
   },
   "outputs": [],
   "source": []
  }
 ],
 "metadata": {
  "kernelspec": {
   "display_name": "Python 2",
   "language": "python",
   "name": "python2"
  },
  "language_info": {
   "codemirror_mode": {
    "name": "ipython",
    "version": 2
   },
   "file_extension": ".py",
   "mimetype": "text/x-python",
   "name": "python",
   "nbconvert_exporter": "python",
   "pygments_lexer": "ipython2",
   "version": "2.7.11"
  }
 },
 "nbformat": 4,
 "nbformat_minor": 0
}
