{
 "cells": [
  {
   "cell_type": "code",
   "execution_count": 1,
   "metadata": {
    "collapsed": false
   },
   "outputs": [],
   "source": [
    "import requests\n",
    "from bs4 import BeautifulSoup\n",
    "from datetime import datetime\n",
    "import pandas as pd\n",
    "\n",
    "def createAvitoSearchPageUrl(category,searchQuery,page):\n",
    "    domain = u'https://www.avito.ru/'\n",
    "    searchQuery = searchQuery.replace(u' ',u'+')\n",
    "    url = u'{0}{1}?q={2}&sgtd=2&p={3}'.format(domain,category,searchQuery,page)\n",
    "    return url\n",
    "def getSoupByUrl(url):\n",
    "    proxies = {'http': 'http://94.77.88.2:3001'}\n",
    "    return BeautifulSoup(requests.get(url, proxies=proxies).text,'lxml')\n",
    "def checkIfPageIsNotContainsResults(soup):\n",
    "    return u'ничего не найдено' in ''.join([tag.get_text() for tag in soup.find_all(attrs={'class':'nulus'})])\n",
    "def getAdsFromAvitoSearchPage(soup):\n",
    "    return soup.find(attrs={'class':'catalog-list'}).find_all(attrs={'class':'description'})\n",
    "def getAdParams(soup):\n",
    "    price = soup.find(attrs={'class':'about'}).get_text().replace('\\n','').strip()\n",
    "    shortAdData = soup.find(attrs={'class':'data'}).get_text().replace('\\n','').strip()\n",
    "    header = soup.find('h3').a['title']\n",
    "    link = soup.find('h3').a['href']\n",
    "    return {'header':header,'link':link,'shortAdData':shortAdData,'price':price,'link':link}\n",
    "def getAdParamsFromAvitoSearchPage(ads):\n",
    "    return [getAdParams(ad) for ad in ads]\n",
    "def createAvitoAdPageUrl(link):\n",
    "    domain = u'https://www.avito.ru'\n",
    "    return '{0}{1}'.format(domain,link)\n",
    "def getAdExtendedParamsBySoup(soup):\n",
    "    todayDate = datetime.now().isoformat()\n",
    "    header = soup.find('h1').get_text()\n",
    "    placementDate = soup.find(attrs={'class':'item-subtitle'}).get_text().split('\\n')[1].strip()\n",
    "    price = soup.find(attrs={'itemprop':'price'}).get_text().strip()\n",
    "    seller = soup.find(attrs={'id':'seller'}).get_text().strip().replace('\\n','')\n",
    "    city = soup.find(attrs={'itemprop':'availableAtOrFrom'}).find(attrs={'class':'description_content'}).get_text().replace('\\n','').strip()\n",
    "    descriptionText = soup.find(id='desc_text').get_text()\n",
    "    adId = soup.find(id='item_id').get_text()\n",
    "    return {'todayDate':todayDate,\n",
    "            'header':header,\n",
    "            'placementDate':placementDate,\n",
    "            'price':price,\n",
    "            'seller':seller,\n",
    "            'city':city,\n",
    "            'descriptionText':descriptionText,\n",
    "            'adId':adId\n",
    "           }\n",
    "def getExtendedAdsParamsByListOfAds(ads):\n",
    "    extendedAdsParams = []\n",
    "    for ad in ads:\n",
    "        adParams = getAdParams(ad)\n",
    "        print adParams['link']\n",
    "        try:\n",
    "            soup = getSoupByUrl(createAvitoAdPageUrl(adParams['link']))\n",
    "            extendedAdParams = getAdExtendedParamsBySoup(soup)\n",
    "            extendedAdParams['link'] = adParams['link']\n",
    "            extendedAdsParams.append(extendedAdParams)\n",
    "        except:\n",
    "            continue\n",
    "    return extendedAdsParams\n",
    "\n",
    "# category = u'moskovskaya_oblast/predlozheniya_uslug/transport_perevozki'\n",
    "# query = u'грузовые перевозки'\n",
    "# page = 1\n",
    "# soup = getSoupByUrl(createAvitoSearchPageUrl(category,query,page))\n",
    "# if checkIfPageIsNotContainsResults(soup):\n",
    "#     ads = getAdsFromAvitoSearchPage(soup)\n",
    "# allExtendedAdsParams = getExtendedAdsParamsByListOfAds(ads)\n",
    "# allShortAdParams = []\n",
    "# for ad in ads:\n",
    "#     allShortAdParams.append(getAdParams(ad))\n",
    "# df = pd.DataFrame(allShortAdParams)\n",
    "# df.merge(pd.DataFrame(allExtendedAdsParams),on='link',how='outer').to_excel('D:\\\\avito_ads.xlsx')"
   ]
  },
  {
   "cell_type": "code",
   "execution_count": 12,
   "metadata": {
    "collapsed": false
   },
   "outputs": [],
   "source": [
    "searchQueries = []\n",
    "with open(u'D:\\\\Проект Горячие лиды\\\\spisok_zaprosov.txt','r+') as f1:\n",
    "    for row in f1:\n",
    "            searchQueries.append(row.replace('\\n','').lower().decode('utf-8'))"
   ]
  },
  {
   "cell_type": "code",
   "execution_count": 17,
   "metadata": {
    "collapsed": false
   },
   "outputs": [],
   "source": [
    "def getAvitoQueryDataFrame(query):\n",
    "    category = u'moskovskaya_oblast/predlozheniya_uslug/transport_perevozki'\n",
    "    dataframe = pd.DataFrame()\n",
    "    for page in xrange(1,10):\n",
    "        print page\n",
    "        soup = getSoupByUrl(createAvitoSearchPageUrl(category,query,page))\n",
    "        if not checkIfPageIsNotContainsResults(soup):\n",
    "            print 'ok'\n",
    "            ads = getAdsFromAvitoSearchPage(soup)\n",
    "            allExtendedAdsParams = getExtendedAdsParamsByListOfAds(ads)\n",
    "            allShortAdParams = []\n",
    "            for ad in ads:\n",
    "                allShortAdParams.append(getAdParams(ad))\n",
    "            df = pd.DataFrame(allShortAdParams)\n",
    "            df = df.merge(pd.DataFrame(allExtendedAdsParams),on='link',how='outer')\n",
    "            dataframe = pd.concat([dataframe,df])\n",
    "    return dataframe"
   ]
  },
  {
   "cell_type": "code",
   "execution_count": 18,
   "metadata": {
    "collapsed": false
   },
   "outputs": [
    {
     "name": "stdout",
     "output_type": "stream",
     "text": [
      "1\n",
      "ok\n",
      "/iksha/predlozheniya_uslug/otkachka_septikov_i_kanalizatsii_657896736\n",
      "/odintsovo/predlozheniya_uslug/otkachka_vygrebnyh_yam._septikov_709651661\n",
      "/nekrasovskiy/predlozheniya_uslug/otkachka_kanalizatsii_657921227\n",
      "/lobnya/predlozheniya_uslug/otkachka_vygrebnyh_yam_septikov_kanalizatsii_657931762\n",
      "/istra/predlozheniya_uslug/otkachka_kanalezatsii_septikov_biotualetov_istra_5m3_822228171\n",
      "/golitsyno/predlozheniya_uslug/otkachka_septikov_vygrebnyh_yam_tualetov_zvonite_672220227\n",
      "/elektrougli/predlozheniya_uslug/otkachka_kanalizatsii_septikov_780412666\n",
      "/balashiha/predlozheniya_uslug/otkachka_kanalizatsii_septikov_780416968\n",
      "/korolev/predlozheniya_uslug/assenizator_822097018\n",
      "/noginsk/predlozheniya_uslug/otkachka_chistka_dna_ustranenie_zasorov_372774915\n",
      "/istra/predlozheniya_uslug/otkachka_septikov_dostavka_sypuchih_materialov_821831226\n",
      "/kashira/predlozheniya_uslug/otkachka_vygrebnyh_yam_septikov_vody_i_drugih_zhbo_472380790\n",
      "/pavlovskaya_sloboda/predlozheniya_uslug/uslugi_assenizatora_otkachka_skeptikov_vygrebnyh_693036101\n",
      "/malahovka/predlozheniya_uslug/otkachka_kanalizatsiy_septikov_584535779\n",
      "/fryanovo/predlozheniya_uslug/zatopilo_otkachaem_821540696\n",
      "/lobnya/predlozheniya_uslug/arenda_ilososnoy_mashiny_457879195\n",
      "/voskresensk/predlozheniya_uslug/otkachka_v_voskresenskom_rayone_assenizator_574607553\n",
      "/vidnoe/predlozheniya_uslug/assenizatorskaya_mashina_347468085\n",
      "/kolomna/predlozheniya_uslug/uslugi_ilososa_na_baze_kamaz_otkachka_septikov_kana_821098521\n",
      "/mytischi/predlozheniya_uslug/assenizator_otkachka_764904593\n",
      "/vidnoe/predlozheniya_uslug/otkachka_septikov_vygrebnyh_yam_biotualetov_153793649\n",
      "/shahovskaya/predlozheniya_uslug/otkachka_septika_kanalizatsiy_741421909\n",
      "/moskovskaya_oblast_krasnogorsk/predlozheniya_uslug/ilosos_432045638\n",
      "/schelkovo/predlozheniya_uslug/moskva_oblast_bort_20_tonn_500571398\n",
      "/zvenigorod/predlozheniya_uslug/otkachka_septikov_552028377\n",
      "/vorovskogo/predlozheniya_uslug/dostavka_peska_schebnya_i_vyvoz_musora_535310865\n",
      "/chernogolovka/predlozheniya_uslug/arenda_spetstehniki_dlya_stroitelstva_568485949\n",
      "/kolomna/predlozheniya_uslug/otkachka_kanalizatsii_septikov_vygrebnyh_yam_639142213\n",
      "/naro-fominsk/predlozheniya_uslug/otkachka_septikov_narofominskiy_rayon_817907425\n",
      "/sergiev_posad/predlozheniya_uslug/otkachka_septikov_774176185\n",
      "/hotkovo/predlozheniya_uslug/assenizator._otkachka_septikov_i_tualetov_739681360\n",
      "/naro-fominsk/predlozheniya_uslug/otkachka_septikov_i_prochistka_zasorov_791757732\n",
      "/kolomna/predlozheniya_uslug/otkachka_septikov_vygrebnyh_yam_tualetov._zasory_81967583\n",
      "/naro-fominsk/predlozheniya_uslug/otkachka_vygrebnyh_yam_278149460\n",
      "/moskovskaya_oblast_chehov/predlozheniya_uslug/otkachka_septikov_vygrebnyh_yam_tualetov-chehov_596416629\n",
      "/sergiev_posad/predlozheniya_uslug/uslugi_asenizatora_772995388\n",
      "/serpuhov/predlozheniya_uslug/otkachka_kanalizatsii_650575056\n",
      "/moskovskaya_oblast_chehov/predlozheniya_uslug/assenizatornye_uslugi_583810462\n",
      "/serpuhov/predlozheniya_uslug/otkachka_septikov_vygrebnyh_yam_kabinok_vody_310482629\n",
      "/serpuhov/predlozheniya_uslug/assenizator_otkachka_septikov_tualetov_818047221\n",
      "/serpuhov/predlozheniya_uslug/assenizator._otkachka_kanalizatsii_septikov_yam_818046563\n",
      "/egorevsk/predlozheniya_uslug/uslugi_assenizatorskoy_mashiny_817421538\n",
      "/odintsovo/predlozheniya_uslug/ilosos_dlya_otkachki_zhira_ila_bentonita_shlam_gnb_709217967\n",
      "/mytischi/predlozheniya_uslug/otkachka_septikov_kanalizatsii_vygrebnyh_yam_505350765\n",
      "/pavlovskiy_posad/predlozheniya_uslug/assenizatorskaya_mashina_718668223\n",
      "/serpuhov/predlozheniya_uslug/otkachka_septikov_511037545\n",
      "/dmitrov/predlozheniya_uslug/uslugi_samosvala_377657822\n",
      "/lobnya/predlozheniya_uslug/otkachka_kanalizatsii_736807652\n",
      "/dmitrov/predlozheniya_uslug/otkachka_septikov_tualetov_kanalizatsii_651661730\n",
      "/odintsovo/predlozheniya_uslug/assenizatsiyaotkachka_816049581\n",
      "2\n",
      "ok\n",
      "/sergiev_posad/predlozheniya_uslug/otkachka_kanalizatsii_v_sergievom_posade_hotkovo_815874843\n",
      "/dmitrov/predlozheniya_uslug/otkachka_septikov_kanalizatsii_vygrebnyh_yam_662316542\n",
      "/pavlovskiy_posad/predlozheniya_uslug/otkachka_tualetov_667855295\n",
      "/tuchkovo/predlozheniya_uslug/otkachka_septikov_v_ruzskom_rayone_538352175\n",
      "/domodedovo/predlozheniya_uslug/uslugi_assenizatorskoy_vakuumnoy_mashiny_330012613\n",
      "/moskovskaya_oblast_rodniki/predlozheniya_uslug/otkachka_kanalizatsii_566819501\n",
      "/lyubertsy/predlozheniya_uslug/otkachka_avtomoek_i_septikov_571873197\n",
      "/ruza/predlozheniya_uslug/dostavka_pesok_scheben_zemlya_drova_697881479\n",
      "/naro-fominsk/predlozheniya_uslug/otkachka_septika_naro-fominsk_787314713\n",
      "/taldom/predlozheniya_uslug/drova_pesok_pgs._otkachka_septikov_800950823\n",
      "/odintsovo/predlozheniya_uslug/otkachka_moek_ilososom_septikov_i_yam_v_odintsovo_542989784\n",
      "/aprelevka/predlozheniya_uslug/otkachka_septika_kanalizatsii_tualeta_vygrebnaya_yama_236592416\n",
      "/zvenigorod/predlozheniya_uslug/samosvaly_i_ekskavatory_788148360\n",
      "/zvenigorod/predlozheniya_uslug/uslugi_assenizatora_5_kubotkachka_v_zvenigorode_640890439\n",
      "/kashira/predlozheniya_uslug/otkachka_septikov_i_bio_tualetov_684984557\n",
      "/selyatino/predlozheniya_uslug/otkachka_septikov_skeptikov_674724520\n",
      "/lyubertsy/predlozheniya_uslug/assenizatorskie_uslugi_799428353\n",
      "/odintsovo/predlozheniya_uslug/otkachka_septikov_v_odintsovskom_rayone_748802391\n",
      "/mytischi/predlozheniya_uslug/otkachka_kanalizatsii_septikov._bochka-7_kub_492712196\n",
      "/moskovskaya_oblast_chehov/predlozheniya_uslug/otkachka_vody_i_septikov_483550515\n",
      "/klin/predlozheniya_uslug/otkachka_septikov_812018877\n",
      "/moskovskaya_oblast_chehov/predlozheniya_uslug/otkachka_septikov_301093106\n",
      "/moskovskaya_oblast_zheleznodorozhnyy/predlozheniya_uslug/otkachka_kanalizatsii_septikov_784076227\n",
      "/stupino/predlozheniya_uslug/predlagaem_uslugi_ilososa_682048746\n",
      "/domodedovo/predlozheniya_uslug/uslugi_assenizatora._otkachka_septikov_yam_574210585\n",
      "/naro-fominsk/predlozheniya_uslug/otkachka_septikov_naro-fominsk_422891726\n",
      "/mozhaysk/predlozheniya_uslug/otkachka_septikov_i_tualetov_624388464\n",
      "/domodedovo/predlozheniya_uslug/otkachka_kanalizatsiy_v_domodedovo_126379726\n",
      "/beloozyorskij/predlozheniya_uslug/otkacha_septikov_vygrebnyh_yam_tualetov_574806500\n",
      "/dedovsk/predlozheniya_uslug/uslugi_assenizatorskoy_mashiny_746818680\n",
      "/domodedovo/predlozheniya_uslug/otkachka_septikov_809881639\n",
      "/sergiev_posad/predlozheniya_uslug/otkachka_septikov_i_vygrebnyh_yam_372004632\n",
      "/sergiev_posad/predlozheniya_uslug/assenizator_570575406\n",
      "/mozhaysk/predlozheniya_uslug/gruzoperevozki_i_otkachka_septikov_v_r-ne_borodino_474302854\n",
      "/volokolamsk/predlozheniya_uslug/uslugi_po_assenizatsii_562531477\n",
      "/moskovskaya_oblast_krasnogorsk/predlozheniya_uslug/otkachka_zhbo_krasnogorsk_810097330\n",
      "/vidnoe/predlozheniya_uslug/otkachka_septika_kanalizatsii_biotualetov_659684211\n",
      "/dedenevo/predlozheniya_uslug/otkachka_kanalizatsii_vygrebnyh_yam_657930035\n",
      "3\n",
      "ok\n"
     ]
    },
    {
     "ename": "AttributeError",
     "evalue": "'NoneType' object has no attribute 'find_all'",
     "output_type": "error",
     "traceback": [
      "\u001b[1;31m---------------------------------------------------------------------------\u001b[0m",
      "\u001b[1;31mAttributeError\u001b[0m                            Traceback (most recent call last)",
      "\u001b[1;32m<ipython-input-18-6563a2a9b4af>\u001b[0m in \u001b[0;36m<module>\u001b[1;34m()\u001b[0m\n\u001b[1;32m----> 1\u001b[1;33m \u001b[0mgetAvitoQueryDataFrame\u001b[0m\u001b[1;33m(\u001b[0m\u001b[0msearchQueries\u001b[0m\u001b[1;33m[\u001b[0m\u001b[1;36m0\u001b[0m\u001b[1;33m]\u001b[0m\u001b[1;33m)\u001b[0m\u001b[1;33m\u001b[0m\u001b[0m\n\u001b[0m",
      "\u001b[1;32m<ipython-input-17-2ffce61a2b7a>\u001b[0m in \u001b[0;36mgetAvitoQueryDataFrame\u001b[1;34m(query)\u001b[0m\n\u001b[0;32m      7\u001b[0m         \u001b[1;32mif\u001b[0m \u001b[1;32mnot\u001b[0m \u001b[0mcheckIfPageIsNotContainsResults\u001b[0m\u001b[1;33m(\u001b[0m\u001b[0msoup\u001b[0m\u001b[1;33m)\u001b[0m\u001b[1;33m:\u001b[0m\u001b[1;33m\u001b[0m\u001b[0m\n\u001b[0;32m      8\u001b[0m             \u001b[1;32mprint\u001b[0m \u001b[1;34m'ok'\u001b[0m\u001b[1;33m\u001b[0m\u001b[0m\n\u001b[1;32m----> 9\u001b[1;33m             \u001b[0mads\u001b[0m \u001b[1;33m=\u001b[0m \u001b[0mgetAdsFromAvitoSearchPage\u001b[0m\u001b[1;33m(\u001b[0m\u001b[0msoup\u001b[0m\u001b[1;33m)\u001b[0m\u001b[1;33m\u001b[0m\u001b[0m\n\u001b[0m\u001b[0;32m     10\u001b[0m             \u001b[0mallExtendedAdsParams\u001b[0m \u001b[1;33m=\u001b[0m \u001b[0mgetExtendedAdsParamsByListOfAds\u001b[0m\u001b[1;33m(\u001b[0m\u001b[0mads\u001b[0m\u001b[1;33m)\u001b[0m\u001b[1;33m\u001b[0m\u001b[0m\n\u001b[0;32m     11\u001b[0m             \u001b[0mallShortAdParams\u001b[0m \u001b[1;33m=\u001b[0m \u001b[1;33m[\u001b[0m\u001b[1;33m]\u001b[0m\u001b[1;33m\u001b[0m\u001b[0m\n",
      "\u001b[1;32m<ipython-input-1-3cac6545e1c8>\u001b[0m in \u001b[0;36mgetAdsFromAvitoSearchPage\u001b[1;34m(soup)\u001b[0m\n\u001b[0;32m     14\u001b[0m     \u001b[1;32mreturn\u001b[0m \u001b[1;34mu'ничего не найдено'\u001b[0m \u001b[1;32min\u001b[0m \u001b[1;34m''\u001b[0m\u001b[1;33m.\u001b[0m\u001b[0mjoin\u001b[0m\u001b[1;33m(\u001b[0m\u001b[1;33m[\u001b[0m\u001b[0mtag\u001b[0m\u001b[1;33m.\u001b[0m\u001b[0mget_text\u001b[0m\u001b[1;33m(\u001b[0m\u001b[1;33m)\u001b[0m \u001b[1;32mfor\u001b[0m \u001b[0mtag\u001b[0m \u001b[1;32min\u001b[0m \u001b[0msoup\u001b[0m\u001b[1;33m.\u001b[0m\u001b[0mfind_all\u001b[0m\u001b[1;33m(\u001b[0m\u001b[0mattrs\u001b[0m\u001b[1;33m=\u001b[0m\u001b[1;33m{\u001b[0m\u001b[1;34m'class'\u001b[0m\u001b[1;33m:\u001b[0m\u001b[1;34m'nulus'\u001b[0m\u001b[1;33m}\u001b[0m\u001b[1;33m)\u001b[0m\u001b[1;33m]\u001b[0m\u001b[1;33m)\u001b[0m\u001b[1;33m\u001b[0m\u001b[0m\n\u001b[0;32m     15\u001b[0m \u001b[1;32mdef\u001b[0m \u001b[0mgetAdsFromAvitoSearchPage\u001b[0m\u001b[1;33m(\u001b[0m\u001b[0msoup\u001b[0m\u001b[1;33m)\u001b[0m\u001b[1;33m:\u001b[0m\u001b[1;33m\u001b[0m\u001b[0m\n\u001b[1;32m---> 16\u001b[1;33m     \u001b[1;32mreturn\u001b[0m \u001b[0msoup\u001b[0m\u001b[1;33m.\u001b[0m\u001b[0mfind\u001b[0m\u001b[1;33m(\u001b[0m\u001b[0mattrs\u001b[0m\u001b[1;33m=\u001b[0m\u001b[1;33m{\u001b[0m\u001b[1;34m'class'\u001b[0m\u001b[1;33m:\u001b[0m\u001b[1;34m'catalog-list'\u001b[0m\u001b[1;33m}\u001b[0m\u001b[1;33m)\u001b[0m\u001b[1;33m.\u001b[0m\u001b[0mfind_all\u001b[0m\u001b[1;33m(\u001b[0m\u001b[0mattrs\u001b[0m\u001b[1;33m=\u001b[0m\u001b[1;33m{\u001b[0m\u001b[1;34m'class'\u001b[0m\u001b[1;33m:\u001b[0m\u001b[1;34m'description'\u001b[0m\u001b[1;33m}\u001b[0m\u001b[1;33m)\u001b[0m\u001b[1;33m\u001b[0m\u001b[0m\n\u001b[0m\u001b[0;32m     17\u001b[0m \u001b[1;32mdef\u001b[0m \u001b[0mgetAdParams\u001b[0m\u001b[1;33m(\u001b[0m\u001b[0msoup\u001b[0m\u001b[1;33m)\u001b[0m\u001b[1;33m:\u001b[0m\u001b[1;33m\u001b[0m\u001b[0m\n\u001b[0;32m     18\u001b[0m     \u001b[0mprice\u001b[0m \u001b[1;33m=\u001b[0m \u001b[0msoup\u001b[0m\u001b[1;33m.\u001b[0m\u001b[0mfind\u001b[0m\u001b[1;33m(\u001b[0m\u001b[0mattrs\u001b[0m\u001b[1;33m=\u001b[0m\u001b[1;33m{\u001b[0m\u001b[1;34m'class'\u001b[0m\u001b[1;33m:\u001b[0m\u001b[1;34m'about'\u001b[0m\u001b[1;33m}\u001b[0m\u001b[1;33m)\u001b[0m\u001b[1;33m.\u001b[0m\u001b[0mget_text\u001b[0m\u001b[1;33m(\u001b[0m\u001b[1;33m)\u001b[0m\u001b[1;33m.\u001b[0m\u001b[0mreplace\u001b[0m\u001b[1;33m(\u001b[0m\u001b[1;34m'\\n'\u001b[0m\u001b[1;33m,\u001b[0m\u001b[1;34m''\u001b[0m\u001b[1;33m)\u001b[0m\u001b[1;33m.\u001b[0m\u001b[0mstrip\u001b[0m\u001b[1;33m(\u001b[0m\u001b[1;33m)\u001b[0m\u001b[1;33m\u001b[0m\u001b[0m\n",
      "\u001b[1;31mAttributeError\u001b[0m: 'NoneType' object has no attribute 'find_all'"
     ]
    }
   ],
   "source": [
    "getAvitoQueryDataFrame(searchQueries[0])"
   ]
  },
  {
   "cell_type": "code",
   "execution_count": 19,
   "metadata": {
    "collapsed": true
   },
   "outputs": [],
   "source": [
    "category = u'moskovskaya_oblast/predlozheniya_uslug/transport_perevozki'\n",
    "query = searchQueries[0]\n",
    "page = 3\n",
    "soup = getSoupByUrl(createAvitoSearchPageUrl(category,query,page))"
   ]
  },
  {
   "cell_type": "code",
   "execution_count": 20,
   "metadata": {
    "collapsed": false
   },
   "outputs": [
    {
     "name": "stdout",
     "output_type": "stream",
     "text": [
      "<!DOCTYPE html>\n",
      "<html> <head> <meta charset=\"utf-8\"/> <title></title>\n",
      "<link href=\"//www.avito.st/s/cc/50cfe9b534b40da0c64b425dfd1afc558e464614.css?267fb44\" rel=\"stylesheet\"/> <link href=\"//www.avito.st/s/cc/dfa34bdac6bd48e87a2d1e8881162c7dd81d07b0.css?8a0c2ce\" rel=\"stylesheet\"/></head> <body> <div class=\"layout\">\n",
      "<div class=\"firewall-container\"> <img alt=\"Доступ временно ограничен\" class=\"firewall-icon\" src=\"/s/avito/components/firewall/firewall-blocked-filled.svg\"/> <h2 class=\"firewall-title\">Доступ с Вашего IP временно ограничен</h2> <p class=\"text\">\n",
      " Мы обнаружили, что запросы, поступающие с вашего IP-адреса, похожи на автоматические.\n",
      " Мы были вынуждены временно заблокировать доступ к сайту.\n",
      " </p> <p class=\"text\">\n",
      " Чтобы продолжить пользоваться сайтом, пожалуйста, введите символы с картинки в поле ввода и нажмите «Отправить».\n",
      " </p> <form action=\"\" autocomplete=\"off\" class=\"form js-submit js-firewall-form\" method=\"post\" name=\"firewall\">\n",
      "<fieldset class=\"js-form-captcha form-fieldset form-captcha form-captcha-inline\"> <label class=\"form-fieldset__label\">Текст с картинки</label> <div class=\"form-fieldset__context js-captcha\"> <input autocapitalize=\"off\" autocomplete=\"off\" autocorrect=\"off\" class=\"col-2 js-captcha-input\" name=\"captcha\" type=\"text\" value=\"\"/> <img class=\"form-captcha-image\" src=\"/captcha?1471279754\"/> <div class=\"form-captcha-refresh\"></div> </div> <span class=\"form-fieldset__error col-4\"></span> <span class=\"form-fieldset__error form-fieldset__error_js js-error col-4\"></span> </fieldset>\n",
      "<div class=\"form-action\"> <button class=\"button button-origin\" name=\"submit\" type=\"submit\">Отправить</button> </div> </form> <p class=\"text firewall-p-bold\">\n",
      " Если у вас возникли проблемы или вы хотите задать вопрос службе поддержки, пожалуйста,\n",
      " <a href=\"https://support.avito.ru/hc/ru/sections/200009688\">напишите нам</a>.\n",
      " </p> </div>\n",
      "</div>\n",
      "<script src=\"//www.avito.st/s/cc/d403627b2f693a0f57f16581457c3079664dcb7d.js?cecee06\"></script></body> </html>\n",
      "\n"
     ]
    }
   ],
   "source": [
    "print soup"
   ]
  },
  {
   "cell_type": "code",
   "execution_count": null,
   "metadata": {
    "collapsed": true
   },
   "outputs": [],
   "source": []
  }
 ],
 "metadata": {
  "kernelspec": {
   "display_name": "Python 2",
   "language": "python",
   "name": "python2"
  },
  "language_info": {
   "codemirror_mode": {
    "name": "ipython",
    "version": 2
   },
   "file_extension": ".py",
   "mimetype": "text/x-python",
   "name": "python",
   "nbconvert_exporter": "python",
   "pygments_lexer": "ipython2",
   "version": "2.7.11"
  }
 },
 "nbformat": 4,
 "nbformat_minor": 0
}
