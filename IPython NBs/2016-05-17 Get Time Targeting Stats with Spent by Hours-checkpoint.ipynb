{
 "cells": [
  {
   "cell_type": "code",
   "execution_count": 1,
   "metadata": {
    "collapsed": true
   },
   "outputs": [],
   "source": [
    "%run 'C:\\\\dev\\\\prod\\\\metrikaHelper.py'"
   ]
  },
  {
   "cell_type": "code",
   "execution_count": 2,
   "metadata": {
    "collapsed": false
   },
   "outputs": [
    {
     "name": "stdout",
     "output_type": "stream",
     "text": [
      "getMetrikaCounterIDByDomain exception\n"
     ]
    }
   ],
   "source": [
    "metrikaCredentials = getMetrikaCredentialsByLPD({'yandexLogin':'Alexgrtula','yandexPassword':'DhYwOHrW','domain':'doorlock.ru'})"
   ]
  },
  {
   "cell_type": "code",
   "execution_count": 4,
   "metadata": {
    "collapsed": true
   },
   "outputs": [],
   "source": [
    "import requests\n",
    "import json"
   ]
  },
  {
   "cell_type": "code",
   "execution_count": 10,
   "metadata": {
    "collapsed": false
   },
   "outputs": [
    {
     "data": {
      "text/plain": [
       "36936"
      ]
     },
     "execution_count": 10,
     "metadata": {},
     "output_type": "execute_result"
    }
   ],
   "source": [
    "metrikaCredentials['counterID'][0]"
   ]
  },
  {
   "cell_type": "code",
   "execution_count": 11,
   "metadata": {
    "collapsed": true
   },
   "outputs": [],
   "source": [
    "def createMetrikaRequest(date,token,counterID):\n",
    "    url = 'https://beta.api-metrika.yandex.ru/stat/v1/data/bytime'\n",
    "    payload = {\n",
    "        'dimensions':'ym:ad:directOrder',\n",
    "        'metrics':'ym:ad:<currency>AdCost,ym:ad:visits',\n",
    "        'date1':date,\n",
    "        'date2':date,\n",
    "        'oauth_token':token,\n",
    "        'ids':counterID,\n",
    "        'limit':100000,\n",
    "        'offset':1,\n",
    "        'currency':643,\n",
    "        'direct_client_logins':'doorlock',\n",
    "        'group':'hour',\n",
    "        'accuracy':'full'}\n",
    "    payloadString = '&'.join(['{0}={1}'.format(k,v) for k,v in payload.iteritems()])\n",
    "    return '{0}?{1}'.format(url,payloadString)"
   ]
  },
  {
   "cell_type": "code",
   "execution_count": 13,
   "metadata": {
    "collapsed": false
   },
   "outputs": [],
   "source": [
    "url = createMetrikaRequest('2016-05-15',metrikaCredentials['Token'],metrikaCredentials['counterID'][0])"
   ]
  },
  {
   "cell_type": "code",
   "execution_count": 14,
   "metadata": {
    "collapsed": true
   },
   "outputs": [],
   "source": [
    "r = requests.get(url)"
   ]
  },
  {
   "cell_type": "code",
   "execution_count": 15,
   "metadata": {
    "collapsed": true
   },
   "outputs": [],
   "source": [
    "data = json.loads(r.text)"
   ]
  },
  {
   "cell_type": "code",
   "execution_count": 20,
   "metadata": {
    "collapsed": false
   },
   "outputs": [],
   "source": [
    "def getQueryDimensions(data):\n",
    "    return data['query']['dimensions']"
   ]
  },
  {
   "cell_type": "code",
   "execution_count": 21,
   "metadata": {
    "collapsed": false
   },
   "outputs": [
    {
     "data": {
      "text/plain": [
       "[u'ym:ad:directOrder']"
      ]
     },
     "execution_count": 21,
     "metadata": {},
     "output_type": "execute_result"
    }
   ],
   "source": [
    "getQueryDimensions(data)"
   ]
  },
  {
   "cell_type": "code",
   "execution_count": 22,
   "metadata": {
    "collapsed": true
   },
   "outputs": [],
   "source": [
    "def getQueryMetrics(data):\n",
    "    return data['query']['metrics']"
   ]
  },
  {
   "cell_type": "code",
   "execution_count": 23,
   "metadata": {
    "collapsed": false
   },
   "outputs": [
    {
     "data": {
      "text/plain": [
       "[u'ym:ad:643AdCost', u'ym:ad:visits']"
      ]
     },
     "execution_count": 23,
     "metadata": {},
     "output_type": "execute_result"
    }
   ],
   "source": [
    "getQueryMetrics(data)"
   ]
  },
  {
   "cell_type": "code",
   "execution_count": 26,
   "metadata": {
    "collapsed": false
   },
   "outputs": [
    {
     "data": {
      "text/plain": [
       "[({u'id': u'8816791', u'name': u'Doorlock (\\u0420\\u0421\\u042f) - B'},\n",
       "  u'ym:ad:directOrder')]"
      ]
     },
     "execution_count": 26,
     "metadata": {},
     "output_type": "execute_result"
    }
   ],
   "source": [
    "zip(data['data'][0]['dimensions'],getQueryDimensions(data))"
   ]
  },
  {
   "cell_type": "code",
   "execution_count": 47,
   "metadata": {
    "collapsed": false
   },
   "outputs": [
    {
     "name": "stdout",
     "output_type": "stream",
     "text": [
      "{u'ym:ad:643AdCost': 33.3574, u'ym:ad:visits': 7.0, u'ym:ad:directOrder': u'Doorlock (\\u0420\\u0421\\u042f) - B', 'hour': 0}\n",
      "{u'ym:ad:643AdCost': 8.614, u'ym:ad:visits': 1.0, u'ym:ad:directOrder': u'Doorlock (\\u0420\\u0421\\u042f) - B', 'hour': 1}\n",
      "{u'ym:ad:643AdCost': 10.62, u'ym:ad:visits': 1.0, u'ym:ad:directOrder': u'Doorlock (\\u0420\\u0421\\u042f) - B', 'hour': 2}\n",
      "{u'ym:ad:643AdCost': 7.08, u'ym:ad:visits': 1.0, u'ym:ad:directOrder': u'Doorlock (\\u0420\\u0421\\u042f) - B', 'hour': 3}\n",
      "{u'ym:ad:643AdCost': 3.894, u'ym:ad:visits': 0.0, u'ym:ad:directOrder': u'Doorlock (\\u0420\\u0421\\u042f) - B', 'hour': 4}\n",
      "{u'ym:ad:643AdCost': 0.0, u'ym:ad:visits': 0.0, u'ym:ad:directOrder': u'Doorlock (\\u0420\\u0421\\u042f) - B', 'hour': 5}\n",
      "{u'ym:ad:643AdCost': 0.0, u'ym:ad:visits': 0.0, u'ym:ad:directOrder': u'Doorlock (\\u0420\\u0421\\u042f) - B', 'hour': 6}\n",
      "{u'ym:ad:643AdCost': 6.49, u'ym:ad:visits': 1.0, u'ym:ad:directOrder': u'Doorlock (\\u0420\\u0421\\u042f) - B', 'hour': 7}\n",
      "{u'ym:ad:643AdCost': 49.9528, u'ym:ad:visits': 12.0, u'ym:ad:directOrder': u'Doorlock (\\u0420\\u0421\\u042f) - B', 'hour': 8}\n",
      "{u'ym:ad:643AdCost': 43.0322, u'ym:ad:visits': 9.0, u'ym:ad:directOrder': u'Doorlock (\\u0420\\u0421\\u042f) - B', 'hour': 9}\n",
      "{u'ym:ad:643AdCost': 20.9556, u'ym:ad:visits': 5.0, u'ym:ad:directOrder': u'Doorlock (\\u0420\\u0421\\u042f) - B', 'hour': 10}\n",
      "{u'ym:ad:643AdCost': 18.998, u'ym:ad:visits': 5.0, u'ym:ad:directOrder': u'Doorlock (\\u0420\\u0421\\u042f) - B', 'hour': 11}\n",
      "{u'ym:ad:643AdCost': 45.6294, u'ym:ad:visits': 11.0, u'ym:ad:directOrder': u'Doorlock (\\u0420\\u0421\\u042f) - B', 'hour': 12}\n",
      "{u'ym:ad:643AdCost': 48.8154, u'ym:ad:visits': 13.0, u'ym:ad:directOrder': u'Doorlock (\\u0420\\u0421\\u042f) - B', 'hour': 13}\n",
      "{u'ym:ad:643AdCost': 65.7465, u'ym:ad:visits': 17.0, u'ym:ad:directOrder': u'Doorlock (\\u0420\\u0421\\u042f) - B', 'hour': 14}\n",
      "{u'ym:ad:643AdCost': 83.9511, u'ym:ad:visits': 16.0, u'ym:ad:directOrder': u'Doorlock (\\u0420\\u0421\\u042f) - B', 'hour': 15}\n",
      "{u'ym:ad:643AdCost': 60.134, u'ym:ad:visits': 14.0, u'ym:ad:directOrder': u'Doorlock (\\u0420\\u0421\\u042f) - B', 'hour': 16}\n",
      "{u'ym:ad:643AdCost': 40.356, u'ym:ad:visits': 12.0, u'ym:ad:directOrder': u'Doorlock (\\u0420\\u0421\\u042f) - B', 'hour': 17}\n",
      "{u'ym:ad:643AdCost': 10.8029, u'ym:ad:visits': 3.0, u'ym:ad:directOrder': u'Doorlock (\\u0420\\u0421\\u042f) - B', 'hour': 18}\n",
      "{u'ym:ad:643AdCost': 0.0, u'ym:ad:visits': 0.0, u'ym:ad:directOrder': u'Doorlock (\\u0420\\u0421\\u042f) - B', 'hour': 19}\n",
      "{u'ym:ad:643AdCost': 9.558, u'ym:ad:visits': 3.0, u'ym:ad:directOrder': u'Doorlock (\\u0420\\u0421\\u042f) - B', 'hour': 20}\n",
      "{u'ym:ad:643AdCost': 15.5166, u'ym:ad:visits': 3.0, u'ym:ad:directOrder': u'Doorlock (\\u0420\\u0421\\u042f) - B', 'hour': 21}\n",
      "{u'ym:ad:643AdCost': 34.1775, u'ym:ad:visits': 6.0, u'ym:ad:directOrder': u'Doorlock (\\u0420\\u0421\\u042f) - B', 'hour': 22}\n",
      "{u'ym:ad:643AdCost': 12.5776, u'ym:ad:visits': 2.0, u'ym:ad:directOrder': u'Doorlock (\\u0420\\u0421\\u042f) - B', 'hour': 23}\n",
      "{u'ym:ad:643AdCost': 3.776, u'ym:ad:visits': 1.0, u'ym:ad:directOrder': u'doorlock.ru_\\u041f\\u043e\\u0438\\u0441\\u043a_\\u0414\\u043e\\u0432\\u043e\\u0434\\u0447\\u0438\\u043a\\u0438 - B', 'hour': 0}\n",
      "{u'ym:ad:643AdCost': 0.0, u'ym:ad:visits': 0.0, u'ym:ad:directOrder': u'doorlock.ru_\\u041f\\u043e\\u0438\\u0441\\u043a_\\u0414\\u043e\\u0432\\u043e\\u0434\\u0447\\u0438\\u043a\\u0438 - B', 'hour': 1}\n",
      "{u'ym:ad:643AdCost': 0.0, u'ym:ad:visits': 0.0, u'ym:ad:directOrder': u'doorlock.ru_\\u041f\\u043e\\u0438\\u0441\\u043a_\\u0414\\u043e\\u0432\\u043e\\u0434\\u0447\\u0438\\u043a\\u0438 - B', 'hour': 2}\n",
      "{u'ym:ad:643AdCost': 0.0, u'ym:ad:visits': 0.0, u'ym:ad:directOrder': u'doorlock.ru_\\u041f\\u043e\\u0438\\u0441\\u043a_\\u0414\\u043e\\u0432\\u043e\\u0434\\u0447\\u0438\\u043a\\u0438 - B', 'hour': 3}\n",
      "{u'ym:ad:643AdCost': 0.0, u'ym:ad:visits': 0.0, u'ym:ad:directOrder': u'doorlock.ru_\\u041f\\u043e\\u0438\\u0441\\u043a_\\u0414\\u043e\\u0432\\u043e\\u0434\\u0447\\u0438\\u043a\\u0438 - B', 'hour': 4}\n",
      "{u'ym:ad:643AdCost': 0.0, u'ym:ad:visits': 0.0, u'ym:ad:directOrder': u'doorlock.ru_\\u041f\\u043e\\u0438\\u0441\\u043a_\\u0414\\u043e\\u0432\\u043e\\u0434\\u0447\\u0438\\u043a\\u0438 - B', 'hour': 5}\n",
      "{u'ym:ad:643AdCost': 0.0, u'ym:ad:visits': 0.0, u'ym:ad:directOrder': u'doorlock.ru_\\u041f\\u043e\\u0438\\u0441\\u043a_\\u0414\\u043e\\u0432\\u043e\\u0434\\u0447\\u0438\\u043a\\u0438 - B', 'hour': 6}\n",
      "{u'ym:ad:643AdCost': 0.0, u'ym:ad:visits': 0.0, u'ym:ad:directOrder': u'doorlock.ru_\\u041f\\u043e\\u0438\\u0441\\u043a_\\u0414\\u043e\\u0432\\u043e\\u0434\\u0447\\u0438\\u043a\\u0438 - B', 'hour': 7}\n",
      "{u'ym:ad:643AdCost': 0.0, u'ym:ad:visits': 0.0, u'ym:ad:directOrder': u'doorlock.ru_\\u041f\\u043e\\u0438\\u0441\\u043a_\\u0414\\u043e\\u0432\\u043e\\u0434\\u0447\\u0438\\u043a\\u0438 - B', 'hour': 8}\n",
      "{u'ym:ad:643AdCost': 8.378, u'ym:ad:visits': 1.0, u'ym:ad:directOrder': u'doorlock.ru_\\u041f\\u043e\\u0438\\u0441\\u043a_\\u0414\\u043e\\u0432\\u043e\\u0434\\u0447\\u0438\\u043a\\u0438 - B', 'hour': 9}\n",
      "{u'ym:ad:643AdCost': 9.794, u'ym:ad:visits': 2.0, u'ym:ad:directOrder': u'doorlock.ru_\\u041f\\u043e\\u0438\\u0441\\u043a_\\u0414\\u043e\\u0432\\u043e\\u0434\\u0447\\u0438\\u043a\\u0438 - B', 'hour': 10}\n",
      "{u'ym:ad:643AdCost': 5.192, u'ym:ad:visits': 1.0, u'ym:ad:directOrder': u'doorlock.ru_\\u041f\\u043e\\u0438\\u0441\\u043a_\\u0414\\u043e\\u0432\\u043e\\u0434\\u0447\\u0438\\u043a\\u0438 - B', 'hour': 11}\n",
      "{u'ym:ad:643AdCost': 11.682, u'ym:ad:visits': 1.0, u'ym:ad:directOrder': u'doorlock.ru_\\u041f\\u043e\\u0438\\u0441\\u043a_\\u0414\\u043e\\u0432\\u043e\\u0434\\u0447\\u0438\\u043a\\u0438 - B', 'hour': 12}\n",
      "{u'ym:ad:643AdCost': 19.352, u'ym:ad:visits': 1.0, u'ym:ad:directOrder': u'doorlock.ru_\\u041f\\u043e\\u0438\\u0441\\u043a_\\u0414\\u043e\\u0432\\u043e\\u0434\\u0447\\u0438\\u043a\\u0438 - B', 'hour': 13}\n",
      "{u'ym:ad:643AdCost': 0.0, u'ym:ad:visits': 0.0, u'ym:ad:directOrder': u'doorlock.ru_\\u041f\\u043e\\u0438\\u0441\\u043a_\\u0414\\u043e\\u0432\\u043e\\u0434\\u0447\\u0438\\u043a\\u0438 - B', 'hour': 14}\n",
      "{u'ym:ad:643AdCost': 15.812, u'ym:ad:visits': 1.0, u'ym:ad:directOrder': u'doorlock.ru_\\u041f\\u043e\\u0438\\u0441\\u043a_\\u0414\\u043e\\u0432\\u043e\\u0434\\u0447\\u0438\\u043a\\u0438 - B', 'hour': 15}\n",
      "{u'ym:ad:643AdCost': 0.0, u'ym:ad:visits': 0.0, u'ym:ad:directOrder': u'doorlock.ru_\\u041f\\u043e\\u0438\\u0441\\u043a_\\u0414\\u043e\\u0432\\u043e\\u0434\\u0447\\u0438\\u043a\\u0438 - B', 'hour': 16}\n",
      "{u'ym:ad:643AdCost': 0.0, u'ym:ad:visits': 0.0, u'ym:ad:directOrder': u'doorlock.ru_\\u041f\\u043e\\u0438\\u0441\\u043a_\\u0414\\u043e\\u0432\\u043e\\u0434\\u0447\\u0438\\u043a\\u0438 - B', 'hour': 17}\n",
      "{u'ym:ad:643AdCost': 14.632, u'ym:ad:visits': 2.0, u'ym:ad:directOrder': u'doorlock.ru_\\u041f\\u043e\\u0438\\u0441\\u043a_\\u0414\\u043e\\u0432\\u043e\\u0434\\u0447\\u0438\\u043a\\u0438 - B', 'hour': 18}\n",
      "{u'ym:ad:643AdCost': 10.03, u'ym:ad:visits': 1.0, u'ym:ad:directOrder': u'doorlock.ru_\\u041f\\u043e\\u0438\\u0441\\u043a_\\u0414\\u043e\\u0432\\u043e\\u0434\\u0447\\u0438\\u043a\\u0438 - B', 'hour': 19}\n",
      "{u'ym:ad:643AdCost': 0.0, u'ym:ad:visits': 0.0, u'ym:ad:directOrder': u'doorlock.ru_\\u041f\\u043e\\u0438\\u0441\\u043a_\\u0414\\u043e\\u0432\\u043e\\u0434\\u0447\\u0438\\u043a\\u0438 - B', 'hour': 20}\n",
      "{u'ym:ad:643AdCost': 12.508, u'ym:ad:visits': 2.0, u'ym:ad:directOrder': u'doorlock.ru_\\u041f\\u043e\\u0438\\u0441\\u043a_\\u0414\\u043e\\u0432\\u043e\\u0434\\u0447\\u0438\\u043a\\u0438 - B', 'hour': 21}\n",
      "{u'ym:ad:643AdCost': 20.296, u'ym:ad:visits': 3.0, u'ym:ad:directOrder': u'doorlock.ru_\\u041f\\u043e\\u0438\\u0441\\u043a_\\u0414\\u043e\\u0432\\u043e\\u0434\\u0447\\u0438\\u043a\\u0438 - B', 'hour': 22}\n",
      "{u'ym:ad:643AdCost': 0.0, u'ym:ad:visits': 0.0, u'ym:ad:directOrder': u'doorlock.ru_\\u041f\\u043e\\u0438\\u0441\\u043a_\\u0414\\u043e\\u0432\\u043e\\u0434\\u0447\\u0438\\u043a\\u0438 - B', 'hour': 23}\n",
      "{u'ym:ad:643AdCost': 0.0, u'ym:ad:visits': 0.0, u'ym:ad:directOrder': u'doorlock.ru_\\u041f\\u043e\\u0438\\u0441\\u043a_\\u041e\\u043f\\u0442+\\u041d\\u0430\\u0437\\u0432\\u0430\\u043d\\u0438\\u044f \\u0444\\u0438\\u0440\\u043c - B', 'hour': 0}\n",
      "{u'ym:ad:643AdCost': 0.0, u'ym:ad:visits': 0.0, u'ym:ad:directOrder': u'doorlock.ru_\\u041f\\u043e\\u0438\\u0441\\u043a_\\u041e\\u043f\\u0442+\\u041d\\u0430\\u0437\\u0432\\u0430\\u043d\\u0438\\u044f \\u0444\\u0438\\u0440\\u043c - B', 'hour': 1}\n",
      "{u'ym:ad:643AdCost': 0.0, u'ym:ad:visits': 0.0, u'ym:ad:directOrder': u'doorlock.ru_\\u041f\\u043e\\u0438\\u0441\\u043a_\\u041e\\u043f\\u0442+\\u041d\\u0430\\u0437\\u0432\\u0430\\u043d\\u0438\\u044f \\u0444\\u0438\\u0440\\u043c - B', 'hour': 2}\n",
      "{u'ym:ad:643AdCost': 0.0, u'ym:ad:visits': 0.0, u'ym:ad:directOrder': u'doorlock.ru_\\u041f\\u043e\\u0438\\u0441\\u043a_\\u041e\\u043f\\u0442+\\u041d\\u0430\\u0437\\u0432\\u0430\\u043d\\u0438\\u044f \\u0444\\u0438\\u0440\\u043c - B', 'hour': 3}\n",
      "{u'ym:ad:643AdCost': 0.0, u'ym:ad:visits': 0.0, u'ym:ad:directOrder': u'doorlock.ru_\\u041f\\u043e\\u0438\\u0441\\u043a_\\u041e\\u043f\\u0442+\\u041d\\u0430\\u0437\\u0432\\u0430\\u043d\\u0438\\u044f \\u0444\\u0438\\u0440\\u043c - B', 'hour': 4}\n",
      "{u'ym:ad:643AdCost': 0.0, u'ym:ad:visits': 0.0, u'ym:ad:directOrder': u'doorlock.ru_\\u041f\\u043e\\u0438\\u0441\\u043a_\\u041e\\u043f\\u0442+\\u041d\\u0430\\u0437\\u0432\\u0430\\u043d\\u0438\\u044f \\u0444\\u0438\\u0440\\u043c - B', 'hour': 5}\n",
      "{u'ym:ad:643AdCost': 0.0, u'ym:ad:visits': 0.0, u'ym:ad:directOrder': u'doorlock.ru_\\u041f\\u043e\\u0438\\u0441\\u043a_\\u041e\\u043f\\u0442+\\u041d\\u0430\\u0437\\u0432\\u0430\\u043d\\u0438\\u044f \\u0444\\u0438\\u0440\\u043c - B', 'hour': 6}\n",
      "{u'ym:ad:643AdCost': 0.0, u'ym:ad:visits': 0.0, u'ym:ad:directOrder': u'doorlock.ru_\\u041f\\u043e\\u0438\\u0441\\u043a_\\u041e\\u043f\\u0442+\\u041d\\u0430\\u0437\\u0432\\u0430\\u043d\\u0438\\u044f \\u0444\\u0438\\u0440\\u043c - B', 'hour': 7}\n",
      "{u'ym:ad:643AdCost': 3.068, u'ym:ad:visits': 0.0, u'ym:ad:directOrder': u'doorlock.ru_\\u041f\\u043e\\u0438\\u0441\\u043a_\\u041e\\u043f\\u0442+\\u041d\\u0430\\u0437\\u0432\\u0430\\u043d\\u0438\\u044f \\u0444\\u0438\\u0440\\u043c - B', 'hour': 8}\n",
      "{u'ym:ad:643AdCost': 0.0, u'ym:ad:visits': 0.0, u'ym:ad:directOrder': u'doorlock.ru_\\u041f\\u043e\\u0438\\u0441\\u043a_\\u041e\\u043f\\u0442+\\u041d\\u0430\\u0437\\u0432\\u0430\\u043d\\u0438\\u044f \\u0444\\u0438\\u0440\\u043c - B', 'hour': 9}\n",
      "{u'ym:ad:643AdCost': 0.0, u'ym:ad:visits': 0.0, u'ym:ad:directOrder': u'doorlock.ru_\\u041f\\u043e\\u0438\\u0441\\u043a_\\u041e\\u043f\\u0442+\\u041d\\u0430\\u0437\\u0432\\u0430\\u043d\\u0438\\u044f \\u0444\\u0438\\u0440\\u043c - B', 'hour': 10}\n",
      "{u'ym:ad:643AdCost': 4.484, u'ym:ad:visits': 1.0, u'ym:ad:directOrder': u'doorlock.ru_\\u041f\\u043e\\u0438\\u0441\\u043a_\\u041e\\u043f\\u0442+\\u041d\\u0430\\u0437\\u0432\\u0430\\u043d\\u0438\\u044f \\u0444\\u0438\\u0440\\u043c - B', 'hour': 11}\n",
      "{u'ym:ad:643AdCost': 0.0, u'ym:ad:visits': 0.0, u'ym:ad:directOrder': u'doorlock.ru_\\u041f\\u043e\\u0438\\u0441\\u043a_\\u041e\\u043f\\u0442+\\u041d\\u0430\\u0437\\u0432\\u0430\\u043d\\u0438\\u044f \\u0444\\u0438\\u0440\\u043c - B', 'hour': 12}\n",
      "{u'ym:ad:643AdCost': 7.434, u'ym:ad:visits': 1.0, u'ym:ad:directOrder': u'doorlock.ru_\\u041f\\u043e\\u0438\\u0441\\u043a_\\u041e\\u043f\\u0442+\\u041d\\u0430\\u0437\\u0432\\u0430\\u043d\\u0438\\u044f \\u0444\\u0438\\u0440\\u043c - B', 'hour': 13}\n",
      "{u'ym:ad:643AdCost': 0.0, u'ym:ad:visits': 0.0, u'ym:ad:directOrder': u'doorlock.ru_\\u041f\\u043e\\u0438\\u0441\\u043a_\\u041e\\u043f\\u0442+\\u041d\\u0430\\u0437\\u0432\\u0430\\u043d\\u0438\\u044f \\u0444\\u0438\\u0440\\u043c - B', 'hour': 14}\n",
      "{u'ym:ad:643AdCost': 0.0, u'ym:ad:visits': 0.0, u'ym:ad:directOrder': u'doorlock.ru_\\u041f\\u043e\\u0438\\u0441\\u043a_\\u041e\\u043f\\u0442+\\u041d\\u0430\\u0437\\u0432\\u0430\\u043d\\u0438\\u044f \\u0444\\u0438\\u0440\\u043c - B', 'hour': 15}\n",
      "{u'ym:ad:643AdCost': 0.0, u'ym:ad:visits': 0.0, u'ym:ad:directOrder': u'doorlock.ru_\\u041f\\u043e\\u0438\\u0441\\u043a_\\u041e\\u043f\\u0442+\\u041d\\u0430\\u0437\\u0432\\u0430\\u043d\\u0438\\u044f \\u0444\\u0438\\u0440\\u043c - B', 'hour': 16}\n",
      "{u'ym:ad:643AdCost': 10.62, u'ym:ad:visits': 1.0, u'ym:ad:directOrder': u'doorlock.ru_\\u041f\\u043e\\u0438\\u0441\\u043a_\\u041e\\u043f\\u0442+\\u041d\\u0430\\u0437\\u0432\\u0430\\u043d\\u0438\\u044f \\u0444\\u0438\\u0440\\u043c - B', 'hour': 17}\n",
      "{u'ym:ad:643AdCost': 0.0, u'ym:ad:visits': 0.0, u'ym:ad:directOrder': u'doorlock.ru_\\u041f\\u043e\\u0438\\u0441\\u043a_\\u041e\\u043f\\u0442+\\u041d\\u0430\\u0437\\u0432\\u0430\\u043d\\u0438\\u044f \\u0444\\u0438\\u0440\\u043c - B', 'hour': 18}\n",
      "{u'ym:ad:643AdCost': 21.24, u'ym:ad:visits': 2.0, u'ym:ad:directOrder': u'doorlock.ru_\\u041f\\u043e\\u0438\\u0441\\u043a_\\u041e\\u043f\\u0442+\\u041d\\u0430\\u0437\\u0432\\u0430\\u043d\\u0438\\u044f \\u0444\\u0438\\u0440\\u043c - B', 'hour': 19}\n",
      "{u'ym:ad:643AdCost': 0.0, u'ym:ad:visits': 0.0, u'ym:ad:directOrder': u'doorlock.ru_\\u041f\\u043e\\u0438\\u0441\\u043a_\\u041e\\u043f\\u0442+\\u041d\\u0430\\u0437\\u0432\\u0430\\u043d\\u0438\\u044f \\u0444\\u0438\\u0440\\u043c - B', 'hour': 20}\n",
      "{u'ym:ad:643AdCost': 0.0, u'ym:ad:visits': 0.0, u'ym:ad:directOrder': u'doorlock.ru_\\u041f\\u043e\\u0438\\u0441\\u043a_\\u041e\\u043f\\u0442+\\u041d\\u0430\\u0437\\u0432\\u0430\\u043d\\u0438\\u044f \\u0444\\u0438\\u0440\\u043c - B', 'hour': 21}\n",
      "{u'ym:ad:643AdCost': 3.658, u'ym:ad:visits': 1.0, u'ym:ad:directOrder': u'doorlock.ru_\\u041f\\u043e\\u0438\\u0441\\u043a_\\u041e\\u043f\\u0442+\\u041d\\u0430\\u0437\\u0432\\u0430\\u043d\\u0438\\u044f \\u0444\\u0438\\u0440\\u043c - B', 'hour': 22}\n",
      "{u'ym:ad:643AdCost': 0.0, u'ym:ad:visits': 0.0, u'ym:ad:directOrder': u'doorlock.ru_\\u041f\\u043e\\u0438\\u0441\\u043a_\\u041e\\u043f\\u0442+\\u041d\\u0430\\u0437\\u0432\\u0430\\u043d\\u0438\\u044f \\u0444\\u0438\\u0440\\u043c - B', 'hour': 23}\n",
      "{u'ym:ad:643AdCost': 0.0, u'ym:ad:visits': 0.0, u'ym:ad:directOrder': u'doorlock.ru (\\u0420\\u0435\\u0442\\u0430\\u0440\\u0433\\u0435\\u0442\\u0438\\u043d\\u0433) - A', 'hour': 0}\n",
      "{u'ym:ad:643AdCost': 0.0, u'ym:ad:visits': 0.0, u'ym:ad:directOrder': u'doorlock.ru (\\u0420\\u0435\\u0442\\u0430\\u0440\\u0433\\u0435\\u0442\\u0438\\u043d\\u0433) - A', 'hour': 1}\n",
      "{u'ym:ad:643AdCost': 0.0, u'ym:ad:visits': 0.0, u'ym:ad:directOrder': u'doorlock.ru (\\u0420\\u0435\\u0442\\u0430\\u0440\\u0433\\u0435\\u0442\\u0438\\u043d\\u0433) - A', 'hour': 2}\n",
      "{u'ym:ad:643AdCost': 0.0, u'ym:ad:visits': 0.0, u'ym:ad:directOrder': u'doorlock.ru (\\u0420\\u0435\\u0442\\u0430\\u0440\\u0433\\u0435\\u0442\\u0438\\u043d\\u0433) - A', 'hour': 3}\n",
      "{u'ym:ad:643AdCost': 0.0, u'ym:ad:visits': 0.0, u'ym:ad:directOrder': u'doorlock.ru (\\u0420\\u0435\\u0442\\u0430\\u0440\\u0433\\u0435\\u0442\\u0438\\u043d\\u0433) - A', 'hour': 4}\n",
      "{u'ym:ad:643AdCost': 0.0, u'ym:ad:visits': 0.0, u'ym:ad:directOrder': u'doorlock.ru (\\u0420\\u0435\\u0442\\u0430\\u0440\\u0433\\u0435\\u0442\\u0438\\u043d\\u0433) - A', 'hour': 5}\n",
      "{u'ym:ad:643AdCost': 0.0, u'ym:ad:visits': 0.0, u'ym:ad:directOrder': u'doorlock.ru (\\u0420\\u0435\\u0442\\u0430\\u0440\\u0433\\u0435\\u0442\\u0438\\u043d\\u0433) - A', 'hour': 6}\n",
      "{u'ym:ad:643AdCost': 0.0, u'ym:ad:visits': 0.0, u'ym:ad:directOrder': u'doorlock.ru (\\u0420\\u0435\\u0442\\u0430\\u0440\\u0433\\u0435\\u0442\\u0438\\u043d\\u0433) - A', 'hour': 7}\n",
      "{u'ym:ad:643AdCost': 0.0, u'ym:ad:visits': 0.0, u'ym:ad:directOrder': u'doorlock.ru (\\u0420\\u0435\\u0442\\u0430\\u0440\\u0433\\u0435\\u0442\\u0438\\u043d\\u0433) - A', 'hour': 8}\n",
      "{u'ym:ad:643AdCost': 0.0, u'ym:ad:visits': 0.0, u'ym:ad:directOrder': u'doorlock.ru (\\u0420\\u0435\\u0442\\u0430\\u0440\\u0433\\u0435\\u0442\\u0438\\u043d\\u0433) - A', 'hour': 9}\n",
      "{u'ym:ad:643AdCost': 3.304, u'ym:ad:visits': 1.0, u'ym:ad:directOrder': u'doorlock.ru (\\u0420\\u0435\\u0442\\u0430\\u0440\\u0433\\u0435\\u0442\\u0438\\u043d\\u0433) - A', 'hour': 10}\n",
      "{u'ym:ad:643AdCost': 8.7922, u'ym:ad:visits': 2.0, u'ym:ad:directOrder': u'doorlock.ru (\\u0420\\u0435\\u0442\\u0430\\u0440\\u0433\\u0435\\u0442\\u0438\\u043d\\u0433) - A', 'hour': 11}\n",
      "{u'ym:ad:643AdCost': 0.0, u'ym:ad:visits': 0.0, u'ym:ad:directOrder': u'doorlock.ru (\\u0420\\u0435\\u0442\\u0430\\u0440\\u0433\\u0435\\u0442\\u0438\\u043d\\u0433) - A', 'hour': 12}\n",
      "{u'ym:ad:643AdCost': 0.0, u'ym:ad:visits': 0.0, u'ym:ad:directOrder': u'doorlock.ru (\\u0420\\u0435\\u0442\\u0430\\u0440\\u0433\\u0435\\u0442\\u0438\\u043d\\u0433) - A', 'hour': 13}\n",
      "{u'ym:ad:643AdCost': 0.0, u'ym:ad:visits': 0.0, u'ym:ad:directOrder': u'doorlock.ru (\\u0420\\u0435\\u0442\\u0430\\u0440\\u0433\\u0435\\u0442\\u0438\\u043d\\u0433) - A', 'hour': 14}\n",
      "{u'ym:ad:643AdCost': 1.298, u'ym:ad:visits': 1.0, u'ym:ad:directOrder': u'doorlock.ru (\\u0420\\u0435\\u0442\\u0430\\u0440\\u0433\\u0435\\u0442\\u0438\\u043d\\u0433) - A', 'hour': 15}\n",
      "{u'ym:ad:643AdCost': 0.0, u'ym:ad:visits': 0.0, u'ym:ad:directOrder': u'doorlock.ru (\\u0420\\u0435\\u0442\\u0430\\u0440\\u0433\\u0435\\u0442\\u0438\\u043d\\u0433) - A', 'hour': 16}\n",
      "{u'ym:ad:643AdCost': 0.0, u'ym:ad:visits': 0.0, u'ym:ad:directOrder': u'doorlock.ru (\\u0420\\u0435\\u0442\\u0430\\u0440\\u0433\\u0435\\u0442\\u0438\\u043d\\u0433) - A', 'hour': 17}\n",
      "{u'ym:ad:643AdCost': 2.95, u'ym:ad:visits': 1.0, u'ym:ad:directOrder': u'doorlock.ru (\\u0420\\u0435\\u0442\\u0430\\u0440\\u0433\\u0435\\u0442\\u0438\\u043d\\u0433) - A', 'hour': 18}\n",
      "{u'ym:ad:643AdCost': 9.558, u'ym:ad:visits': 3.0, u'ym:ad:directOrder': u'doorlock.ru (\\u0420\\u0435\\u0442\\u0430\\u0440\\u0433\\u0435\\u0442\\u0438\\u043d\\u0433) - A', 'hour': 19}\n",
      "{u'ym:ad:643AdCost': 8.85, u'ym:ad:visits': 2.0, u'ym:ad:directOrder': u'doorlock.ru (\\u0420\\u0435\\u0442\\u0430\\u0440\\u0433\\u0435\\u0442\\u0438\\u043d\\u0433) - A', 'hour': 20}\n",
      "{u'ym:ad:643AdCost': 0.0, u'ym:ad:visits': 0.0, u'ym:ad:directOrder': u'doorlock.ru (\\u0420\\u0435\\u0442\\u0430\\u0440\\u0433\\u0435\\u0442\\u0438\\u043d\\u0433) - A', 'hour': 21}\n",
      "{u'ym:ad:643AdCost': 0.0, u'ym:ad:visits': 0.0, u'ym:ad:directOrder': u'doorlock.ru (\\u0420\\u0435\\u0442\\u0430\\u0440\\u0433\\u0435\\u0442\\u0438\\u043d\\u0433) - A', 'hour': 22}\n",
      "{u'ym:ad:643AdCost': 0.0, u'ym:ad:visits': 0.0, u'ym:ad:directOrder': u'doorlock.ru (\\u0420\\u0435\\u0442\\u0430\\u0440\\u0433\\u0435\\u0442\\u0438\\u043d\\u0433) - A', 'hour': 23}\n",
      "{u'ym:ad:643AdCost': 0.354, u'ym:ad:visits': 1.0, u'ym:ad:directOrder': u'doorlock.ru_\\u041f\\u043e\\u0438\\u0441\\u043a_\\u0411\\u0440\\u0435\\u043d\\u0434\\u044b - B', 'hour': 0}\n",
      "{u'ym:ad:643AdCost': 0.0, u'ym:ad:visits': 0.0, u'ym:ad:directOrder': u'doorlock.ru_\\u041f\\u043e\\u0438\\u0441\\u043a_\\u0411\\u0440\\u0435\\u043d\\u0434\\u044b - B', 'hour': 1}\n",
      "{u'ym:ad:643AdCost': 0.0, u'ym:ad:visits': 0.0, u'ym:ad:directOrder': u'doorlock.ru_\\u041f\\u043e\\u0438\\u0441\\u043a_\\u0411\\u0440\\u0435\\u043d\\u0434\\u044b - B', 'hour': 2}\n",
      "{u'ym:ad:643AdCost': 0.0, u'ym:ad:visits': 0.0, u'ym:ad:directOrder': u'doorlock.ru_\\u041f\\u043e\\u0438\\u0441\\u043a_\\u0411\\u0440\\u0435\\u043d\\u0434\\u044b - B', 'hour': 3}\n",
      "{u'ym:ad:643AdCost': 0.0, u'ym:ad:visits': 0.0, u'ym:ad:directOrder': u'doorlock.ru_\\u041f\\u043e\\u0438\\u0441\\u043a_\\u0411\\u0440\\u0435\\u043d\\u0434\\u044b - B', 'hour': 4}\n",
      "{u'ym:ad:643AdCost': 0.0, u'ym:ad:visits': 0.0, u'ym:ad:directOrder': u'doorlock.ru_\\u041f\\u043e\\u0438\\u0441\\u043a_\\u0411\\u0440\\u0435\\u043d\\u0434\\u044b - B', 'hour': 5}\n",
      "{u'ym:ad:643AdCost': 0.0, u'ym:ad:visits': 0.0, u'ym:ad:directOrder': u'doorlock.ru_\\u041f\\u043e\\u0438\\u0441\\u043a_\\u0411\\u0440\\u0435\\u043d\\u0434\\u044b - B', 'hour': 6}\n",
      "{u'ym:ad:643AdCost': 0.0, u'ym:ad:visits': 0.0, u'ym:ad:directOrder': u'doorlock.ru_\\u041f\\u043e\\u0438\\u0441\\u043a_\\u0411\\u0440\\u0435\\u043d\\u0434\\u044b - B', 'hour': 7}\n",
      "{u'ym:ad:643AdCost': 0.0, u'ym:ad:visits': 0.0, u'ym:ad:directOrder': u'doorlock.ru_\\u041f\\u043e\\u0438\\u0441\\u043a_\\u0411\\u0440\\u0435\\u043d\\u0434\\u044b - B', 'hour': 8}\n",
      "{u'ym:ad:643AdCost': 0.0, u'ym:ad:visits': 0.0, u'ym:ad:directOrder': u'doorlock.ru_\\u041f\\u043e\\u0438\\u0441\\u043a_\\u0411\\u0440\\u0435\\u043d\\u0434\\u044b - B', 'hour': 9}\n",
      "{u'ym:ad:643AdCost': 0.0, u'ym:ad:visits': 0.0, u'ym:ad:directOrder': u'doorlock.ru_\\u041f\\u043e\\u0438\\u0441\\u043a_\\u0411\\u0440\\u0435\\u043d\\u0434\\u044b - B', 'hour': 10}\n",
      "{u'ym:ad:643AdCost': 0.0, u'ym:ad:visits': 0.0, u'ym:ad:directOrder': u'doorlock.ru_\\u041f\\u043e\\u0438\\u0441\\u043a_\\u0411\\u0440\\u0435\\u043d\\u0434\\u044b - B', 'hour': 11}\n",
      "{u'ym:ad:643AdCost': 0.0, u'ym:ad:visits': 0.0, u'ym:ad:directOrder': u'doorlock.ru_\\u041f\\u043e\\u0438\\u0441\\u043a_\\u0411\\u0440\\u0435\\u043d\\u0434\\u044b - B', 'hour': 12}\n",
      "{u'ym:ad:643AdCost': 0.0, u'ym:ad:visits': 0.0, u'ym:ad:directOrder': u'doorlock.ru_\\u041f\\u043e\\u0438\\u0441\\u043a_\\u0411\\u0440\\u0435\\u043d\\u0434\\u044b - B', 'hour': 13}\n",
      "{u'ym:ad:643AdCost': 1.534, u'ym:ad:visits': 1.0, u'ym:ad:directOrder': u'doorlock.ru_\\u041f\\u043e\\u0438\\u0441\\u043a_\\u0411\\u0440\\u0435\\u043d\\u0434\\u044b - B', 'hour': 14}\n",
      "{u'ym:ad:643AdCost': 0.0, u'ym:ad:visits': 0.0, u'ym:ad:directOrder': u'doorlock.ru_\\u041f\\u043e\\u0438\\u0441\\u043a_\\u0411\\u0440\\u0435\\u043d\\u0434\\u044b - B', 'hour': 15}\n",
      "{u'ym:ad:643AdCost': 0.0, u'ym:ad:visits': 0.0, u'ym:ad:directOrder': u'doorlock.ru_\\u041f\\u043e\\u0438\\u0441\\u043a_\\u0411\\u0440\\u0435\\u043d\\u0434\\u044b - B', 'hour': 16}\n",
      "{u'ym:ad:643AdCost': 0.0, u'ym:ad:visits': 0.0, u'ym:ad:directOrder': u'doorlock.ru_\\u041f\\u043e\\u0438\\u0441\\u043a_\\u0411\\u0440\\u0435\\u043d\\u0434\\u044b - B', 'hour': 17}\n",
      "{u'ym:ad:643AdCost': 0.0, u'ym:ad:visits': 0.0, u'ym:ad:directOrder': u'doorlock.ru_\\u041f\\u043e\\u0438\\u0441\\u043a_\\u0411\\u0440\\u0435\\u043d\\u0434\\u044b - B', 'hour': 18}\n",
      "{u'ym:ad:643AdCost': 0.0, u'ym:ad:visits': 0.0, u'ym:ad:directOrder': u'doorlock.ru_\\u041f\\u043e\\u0438\\u0441\\u043a_\\u0411\\u0440\\u0435\\u043d\\u0434\\u044b - B', 'hour': 19}\n",
      "{u'ym:ad:643AdCost': 0.0, u'ym:ad:visits': 0.0, u'ym:ad:directOrder': u'doorlock.ru_\\u041f\\u043e\\u0438\\u0441\\u043a_\\u0411\\u0440\\u0435\\u043d\\u0434\\u044b - B', 'hour': 20}\n",
      "{u'ym:ad:643AdCost': 0.0, u'ym:ad:visits': 0.0, u'ym:ad:directOrder': u'doorlock.ru_\\u041f\\u043e\\u0438\\u0441\\u043a_\\u0411\\u0440\\u0435\\u043d\\u0434\\u044b - B', 'hour': 21}\n",
      "{u'ym:ad:643AdCost': 0.0, u'ym:ad:visits': 0.0, u'ym:ad:directOrder': u'doorlock.ru_\\u041f\\u043e\\u0438\\u0441\\u043a_\\u0411\\u0440\\u0435\\u043d\\u0434\\u044b - B', 'hour': 22}\n",
      "{u'ym:ad:643AdCost': 0.0, u'ym:ad:visits': 0.0, u'ym:ad:directOrder': u'doorlock.ru_\\u041f\\u043e\\u0438\\u0441\\u043a_\\u0411\\u0440\\u0435\\u043d\\u0434\\u044b - B', 'hour': 23}\n"
     ]
    }
   ],
   "source": [
    "for dataItem in data['data']:\n",
    "    dataDictionary = {}\n",
    "    for dimensionName,dimensionType in zip(dataItem['dimensions'],getQueryDimensions(data)):\n",
    "        dataDictionary[dimensionType] = dimensionName['name']\n",
    "    for h in range(0, 24):\n",
    "        i = 0\n",
    "        for metric in getQueryMetrics(data):\n",
    "            dataDictionary['hour'] = h\n",
    "            dataDictionary[metric] = dataItem['metrics'][i][h]\n",
    "            i += 1\n",
    "        print dataDictionary"
   ]
  },
  {
   "cell_type": "code",
   "execution_count": 43,
   "metadata": {
    "collapsed": true
   },
   "outputs": [],
   "source": [
    "def traverse(o, tree_types=(list, tuple)):\n",
    "    if isinstance(o, tree_types):\n",
    "        for value in o:\n",
    "            for subvalue in traverse(value, tree_types):\n",
    "                yield subvalue\n",
    "    else:\n",
    "        yield o"
   ]
  },
  {
   "cell_type": "code",
   "execution_count": null,
   "metadata": {
    "collapsed": true
   },
   "outputs": [],
   "source": []
  }
 ],
 "metadata": {
  "kernelspec": {
   "display_name": "Python 2",
   "language": "python",
   "name": "python2"
  },
  "language_info": {
   "codemirror_mode": {
    "name": "ipython",
    "version": 2
   },
   "file_extension": ".py",
   "mimetype": "text/x-python",
   "name": "python",
   "nbconvert_exporter": "python",
   "pygments_lexer": "ipython2",
   "version": "2.7.11"
  }
 },
 "nbformat": 4,
 "nbformat_minor": 0
}
