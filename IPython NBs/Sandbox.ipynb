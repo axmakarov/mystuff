{
 "cells": [
  {
   "cell_type": "code",
   "execution_count": 39,
   "metadata": {
    "collapsed": false
   },
   "outputs": [],
   "source": [
    "import pandas as pd\n",
    "import json\n",
    "import requests\n",
    "import numpy as np"
   ]
  },
  {
   "cell_type": "code",
   "execution_count": 40,
   "metadata": {
    "collapsed": false
   },
   "outputs": [],
   "source": [
    "from os import listdir\n",
    "from os.path import isfile, join\n",
    "mypath = u'C:\\\\Users\\\\aleksey.makarov\\\\Desktop\\\\2016-02\\\\Прогнозирование конверсии\\keyphrazeinfo\\\\'\n",
    "onlyfiles = [f for f in listdir(mypath) if isfile(join(mypath, f))]"
   ]
  },
  {
   "cell_type": "code",
   "execution_count": 41,
   "metadata": {
    "collapsed": false
   },
   "outputs": [],
   "source": [
    "data = []\n",
    "for f in onlyfiles:\n",
    "    with open(mypath+f,'r+') as f:\n",
    "        data += json.load(f)"
   ]
  },
  {
   "cell_type": "code",
   "execution_count": 42,
   "metadata": {
    "collapsed": false
   },
   "outputs": [],
   "source": [
    "for item in data:\n",
    "    if item['BroadForecasts'] and len(item['BroadForecasts']) > 0:\n",
    "        for k,v in item['BroadForecasts'][0].iteritems():\n",
    "            item['BroadForecasts'+k] = v\n",
    "    if item['ExactForecasts'] and len(item['ExactForecasts']) > 0:\n",
    "        for k,v in item['ExactForecasts'][0].iteritems():\n",
    "            item['ExactForecasts'+k] = v\n",
    "    if item['PageBehaviorFactors'] and len(item['PageBehaviorFactors']) > 0:\n",
    "        for k,v in item['PageBehaviorFactors'][0].iteritems():\n",
    "            item['PageBehaviorFactors'+k] = v"
   ]
  },
  {
   "cell_type": "code",
   "execution_count": 43,
   "metadata": {
    "collapsed": true
   },
   "outputs": [],
   "source": [
    "df = pd.DataFrame(data)"
   ]
  },
  {
   "cell_type": "code",
   "execution_count": 44,
   "metadata": {
    "collapsed": true
   },
   "outputs": [],
   "source": [
    "df2 = pd.read_csv(u'C:\\\\Users\\\\aleksey.makarov\\\\Desktop\\\\2016-02\\\\Прогнозирование конверсии\\\\projects_info.txt',sep='\\t',encoding='utf8')"
   ]
  },
  {
   "cell_type": "code",
   "execution_count": 45,
   "metadata": {
    "collapsed": true
   },
   "outputs": [],
   "source": [
    "df2.rename(columns={u'YandexDirectID': 'CampaignId'}, inplace=True)"
   ]
  },
  {
   "cell_type": "code",
   "execution_count": 46,
   "metadata": {
    "collapsed": true
   },
   "outputs": [],
   "source": [
    "result = pd.merge(df, df2, on=['CampaignId'])"
   ]
  },
  {
   "cell_type": "code",
   "execution_count": 115,
   "metadata": {
    "collapsed": true
   },
   "outputs": [],
   "source": [
    "result2 = result"
   ]
  },
  {
   "cell_type": "markdown",
   "metadata": {},
   "source": [
    "Заполняем NA в поведенческих факторах на среднее"
   ]
  },
  {
   "cell_type": "code",
   "execution_count": 116,
   "metadata": {
    "collapsed": true
   },
   "outputs": [],
   "source": [
    "result2['PageBehaviorFactorsAvgVisitDurationSeconds'] = result2['PageBehaviorFactorsAvgVisitDurationSeconds'].fillna(result2['PageBehaviorFactorsAvgVisitDurationSeconds'].mean())\n",
    "result2['PageBehaviorFactorsBounceRate'] = result2['PageBehaviorFactorsBounceRate'].fillna(result2['PageBehaviorFactorsBounceRate'].mean())\n",
    "result2['PageBehaviorFactorsPageDepth'] = result2['PageBehaviorFactorsPageDepth'].fillna(result2['PageBehaviorFactorsPageDepth'].mean())"
   ]
  },
  {
   "cell_type": "markdown",
   "metadata": {},
   "source": [
    "Обрабатываем строки с NA и получаем флаг IsConversion"
   ]
  },
  {
   "cell_type": "code",
   "execution_count": 117,
   "metadata": {
    "collapsed": false
   },
   "outputs": [],
   "source": [
    "result2['IsGeoInQuery'] = result2['IsGeoInQuery'].fillna(False)\n",
    "result2 = result2[pd.notnull(result2['IsAnyWordOnPage'])]\n",
    "result2 = result2[pd.notnull(result2['IsYandexPageEqualsOur'])]\n",
    "result2 = result2[pd.notnull(result2['B2Bb2C'])]\n",
    "result2 = result2[result2['B2Bb2C'] != '0']\n",
    "result2['DirectCpaVisits'] = pd.to_numeric(result2['DirectCpaVisits'])\n",
    "result2['IsConversion'] = result2['DirectCpaVisits'] > 0"
   ]
  },
  {
   "cell_type": "markdown",
   "metadata": {
    "collapsed": false
   },
   "source": [
    "Убираем данные по ненужным доменам"
   ]
  },
  {
   "cell_type": "code",
   "execution_count": 118,
   "metadata": {
    "collapsed": false
   },
   "outputs": [],
   "source": [
    "result3 = result2[~result2[u'Domain'].isin([u'dveri-dvernik.ru',u'dveri-dvernoy.ru',u'ecoplast.moscow','ekonomnye-okna.ru','okna-ecoplast.ru','samson-med.ru'])]"
   ]
  },
  {
   "cell_type": "markdown",
   "metadata": {},
   "source": [
    "Формируем датафреймы"
   ]
  },
  {
   "cell_type": "code",
   "execution_count": 119,
   "metadata": {
    "collapsed": false
   },
   "outputs": [],
   "source": [
    "result3 = result3[['AdjCount','AvgWordLength','B2Bb2C','BroadForecastsMin','BroadForecastsPremiumMax','BroadForecastsShows','ExactForecastsMin','ExactForecastsPremiumMax',\n",
    "       'ExactForecastsShows','ExactShowsPercent','IsAnyWordOnPage','IsCommerceWords','IsDigits','IsDigitsInEnd','IsDigitsWithWord','IsGeoInQuery',\n",
    "       'IsMoscow2','IsWordsOnPage','IsYandexPageEqualsOur','Length','NounCount','PageBehaviorFactorsAvgVisitDurationSeconds',\n",
    "       'PageBehaviorFactorsBounceRate','PageBehaviorFactorsPageDepth','RoundedLength','ServiceType','VerbCount','WordsCount','WordsCountWoStopWords','Brand_y','IsConversion']]"
   ]
  },
  {
   "cell_type": "code",
   "execution_count": 121,
   "metadata": {
    "collapsed": false
   },
   "outputs": [],
   "source": [
    "result3['cnv'] = 0\n",
    "result3.loc[result3[\"IsConversion\"] == True, \"cnv\"] = 1\n",
    "result3.to_csv('D:\\\\prognoz_konversii.csv',encoding='cp1251',sep=';',decimal=',')"
   ]
  },
  {
   "cell_type": "code",
   "execution_count": 122,
   "metadata": {
    "collapsed": true
   },
   "outputs": [],
   "source": [
    "result3['AdjCountStr'] = df['AdjCount'].apply(str)\n",
    "result3['NounCountStr'] = df['NounCount'].apply(str)\n",
    "result3['VerbCountStr'] = df['VerbCount'].apply(str)\n",
    "result3['WordsCountStr'] = df['WordsCount'].apply(str)\n",
    "result3['WordsCountWoStopWordsStr'] = df['WordsCountWoStopWords'].apply(str)"
   ]
  },
  {
   "cell_type": "code",
   "execution_count": 123,
   "metadata": {
    "collapsed": false
   },
   "outputs": [
    {
     "name": "stderr",
     "output_type": "stream",
     "text": [
      "C:\\Users\\aleksey.makarov\\AppData\\Local\\Continuum\\Anaconda\\lib\\site-packages\\IPython\\kernel\\__main__.py:6: SettingWithCopyWarning: \n",
      "A value is trying to be set on a copy of a slice from a DataFrame.\n",
      "Try using .loc[row_indexer,col_indexer] = value instead\n",
      "\n",
      "See the caveats in the documentation: http://pandas.pydata.org/pandas-docs/stable/indexing.html#indexing-view-versus-copy\n"
     ]
    }
   ],
   "source": [
    "from sklearn import preprocessing\n",
    "result3 = result3[pd.notnull(result3['BroadForecastsMin'])]\n",
    "x = result3['BroadForecastsMin'].values.astype(float).reshape((-1, 1))\n",
    "min_max_scaler = preprocessing.MinMaxScaler()\n",
    "x_scaled = min_max_scaler.fit_transform(x)\n",
    "result3['BroadForecastsMinScaled'] = x_scaled\n",
    "result3 = result3[pd.notnull(result3['BroadForecastsPremiumMax'])]\n",
    "x = result3['BroadForecastsPremiumMax'].values.astype(float).reshape((-1, 1))\n",
    "min_max_scaler = preprocessing.MinMaxScaler()\n",
    "x_scaled = min_max_scaler.fit_transform(x)\n",
    "result3['BroadForecastsPremiumMaxScaled'] = x_scaled\n",
    "result3 = result3[pd.notnull(result3['BroadForecastsShows'])]\n",
    "x = result3['BroadForecastsShows'].values.astype(float).reshape((-1, 1))\n",
    "min_max_scaler = preprocessing.MinMaxScaler()\n",
    "x_scaled = min_max_scaler.fit_transform(x)\n",
    "result3['BroadForecastsShowsScaled'] = x_scaled\n",
    "result3 = result3[pd.notnull(result3['ExactForecastsMin'])]\n",
    "x = result3['ExactForecastsMin'].values.astype(float).reshape((-1, 1))\n",
    "min_max_scaler = preprocessing.MinMaxScaler()\n",
    "x_scaled = min_max_scaler.fit_transform(x)\n",
    "result3['ExactForecastsMinScaled'] = x_scaled\n",
    "result3 = result3[pd.notnull(result3['ExactForecastsPremiumMax'])]\n",
    "x = result3['ExactForecastsPremiumMax'].values.astype(float).reshape((-1, 1))\n",
    "min_max_scaler = preprocessing.MinMaxScaler()\n",
    "x_scaled = min_max_scaler.fit_transform(x)\n",
    "result3['ExactForecastsPremiumMaxScaled'] = x_scaled\n",
    "result3 = result3[pd.notnull(result3['ExactForecastsShows'])]\n",
    "x = result3['ExactForecastsShows'].values.astype(float).reshape((-1, 1))\n",
    "min_max_scaler = preprocessing.MinMaxScaler()\n",
    "x_scaled = min_max_scaler.fit_transform(x)\n",
    "result3['ExactForecastsShowsScaled'] = x_scaled\n",
    "x = result3['Length'].values.astype(float).reshape((-1, 1))\n",
    "min_max_scaler = preprocessing.MinMaxScaler()\n",
    "x_scaled = min_max_scaler.fit_transform(x)\n",
    "result3['LengthScaled'] = x_scaled\n",
    "x = result3['AvgWordLength'].values.astype(float).reshape((-1, 1))\n",
    "min_max_scaler = preprocessing.MinMaxScaler()\n",
    "x_scaled = min_max_scaler.fit_transform(x)\n",
    "result3['AvgWordLengthScaled'] = x_scaled"
   ]
  },
  {
   "cell_type": "code",
   "execution_count": 124,
   "metadata": {
    "collapsed": false
   },
   "outputs": [
    {
     "data": {
      "text/plain": [
       "Index([                                  u'AdjCount',\n",
       "                                    u'AvgWordLength',\n",
       "                                           u'B2Bb2C',\n",
       "                                u'BroadForecastsMin',\n",
       "                         u'BroadForecastsPremiumMax',\n",
       "                              u'BroadForecastsShows',\n",
       "                                u'ExactForecastsMin',\n",
       "                         u'ExactForecastsPremiumMax',\n",
       "                              u'ExactForecastsShows',\n",
       "                                u'ExactShowsPercent',\n",
       "                                  u'IsAnyWordOnPage',\n",
       "                                  u'IsCommerceWords',\n",
       "                                         u'IsDigits',\n",
       "                                    u'IsDigitsInEnd',\n",
       "                                 u'IsDigitsWithWord',\n",
       "                                     u'IsGeoInQuery',\n",
       "                                        u'IsMoscow2',\n",
       "                                    u'IsWordsOnPage',\n",
       "                            u'IsYandexPageEqualsOur',\n",
       "                                           u'Length',\n",
       "                                        u'NounCount',\n",
       "       u'PageBehaviorFactorsAvgVisitDurationSeconds',\n",
       "                    u'PageBehaviorFactorsBounceRate',\n",
       "                     u'PageBehaviorFactorsPageDepth',\n",
       "                                    u'RoundedLength',\n",
       "                                      u'ServiceType',\n",
       "                                        u'VerbCount',\n",
       "                                       u'WordsCount',\n",
       "                            u'WordsCountWoStopWords',\n",
       "                                          u'Brand_y',\n",
       "                                     u'IsConversion',\n",
       "                                              u'cnv',\n",
       "                                      u'AdjCountStr',\n",
       "                                     u'NounCountStr',\n",
       "                                     u'VerbCountStr',\n",
       "                                    u'WordsCountStr',\n",
       "                         u'WordsCountWoStopWordsStr',\n",
       "                          u'BroadForecastsMinScaled',\n",
       "                   u'BroadForecastsPremiumMaxScaled',\n",
       "                        u'BroadForecastsShowsScaled',\n",
       "                          u'ExactForecastsMinScaled',\n",
       "                   u'ExactForecastsPremiumMaxScaled',\n",
       "                        u'ExactForecastsShowsScaled',\n",
       "                                     u'LengthScaled',\n",
       "                              u'AvgWordLengthScaled'],\n",
       "      dtype='object')"
      ]
     },
     "execution_count": 124,
     "metadata": {},
     "output_type": "execute_result"
    }
   ],
   "source": [
    "result3.columns"
   ]
  },
  {
   "cell_type": "code",
   "execution_count": 59,
   "metadata": {
    "collapsed": true
   },
   "outputs": [],
   "source": [
    "train_df = result3[['AvgWordLengthScaled','B2Bb2C',\n",
    "       'IsAnyWordOnPage','IsCommerceWords','IsDigits','IsDigitsInEnd','IsDigitsWithWord','IsGeoInQuery',\n",
    "       'IsMoscow2','IsWordsOnPage','IsYandexPageEqualsOur','LengthScaled','PageBehaviorFactorsAvgVisitDurationSeconds',\n",
    "       'PageBehaviorFactorsBounceRate','PageBehaviorFactorsPageDepth','RoundedLength','ServiceType','Brand_y','NounCountStr',\n",
    "                   'VerbCountStr','WordsCountStr','WordsCountWoStopWordsStr','BroadForecastsMinScaled','BroadForecastsPremiumMaxScaled',\n",
    "                   'BroadForecastsShowsScaled','ExactForecastsMinScaled','ExactForecastsPremiumMaxScaled','ExactForecastsShowsScaled']]\n",
    "# Датафрейм, у которого не возникает ошибок из-за фич"
   ]
  },
  {
   "cell_type": "code",
   "execution_count": 128,
   "metadata": {
    "collapsed": false
   },
   "outputs": [],
   "source": [
    "train_df = result3[['AvgWordLengthScaled','B2Bb2C',\n",
    "    'IsCommerceWords','IsGeoInQuery','ExactShowsPercent',\n",
    "       'IsWordsOnPage','IsYandexPageEqualsOur','LengthScaled','PageBehaviorFactorsAvgVisitDurationSeconds',\n",
    "       'PageBehaviorFactorsBounceRate','PageBehaviorFactorsPageDepth','RoundedLength','ServiceType','Brand_y','NounCountStr',\n",
    "                   'WordsCountStr','BroadForecastsMinScaled','BroadForecastsPremiumMaxScaled',\n",
    "                   'BroadForecastsShowsScaled','ExactForecastsMinScaled','ExactForecastsPremiumMaxScaled','ExactForecastsShowsScaled','ExactShowsPercent']]\n",
    "# Датафрейм, у которого не возникает ошибок из-за фич"
   ]
  },
  {
   "cell_type": "code",
   "execution_count": 127,
   "metadata": {
    "collapsed": true
   },
   "outputs": [],
   "source": [
    "list_of_dictionaries = [train_df.iloc[line,:].T.to_dict() for line in range(len(train_df))]"
   ]
  },
  {
   "cell_type": "code",
   "execution_count": 129,
   "metadata": {
    "collapsed": true
   },
   "outputs": [],
   "source": [
    "from sklearn.feature_extraction import DictVectorizer\n",
    "vec = DictVectorizer()"
   ]
  },
  {
   "cell_type": "code",
   "execution_count": 130,
   "metadata": {
    "collapsed": false
   },
   "outputs": [],
   "source": [
    "array = vec.fit_transform(list_of_dictionaries).toarray()"
   ]
  },
  {
   "cell_type": "code",
   "execution_count": 131,
   "metadata": {
    "collapsed": false
   },
   "outputs": [
    {
     "data": {
      "text/plain": [
       "['AvgWordLengthScaled',\n",
       " u'B2Bb2C=B',\n",
       " u'B2Bb2C=C',\n",
       " u'Brand_y',\n",
       " 'BroadForecastsMinScaled',\n",
       " 'BroadForecastsPremiumMaxScaled',\n",
       " 'BroadForecastsShowsScaled',\n",
       " 'ExactForecastsMinScaled',\n",
       " 'ExactForecastsPremiumMaxScaled',\n",
       " 'ExactForecastsShowsScaled',\n",
       " u'ExactShowsPercent',\n",
       " u'IsCommerceWords',\n",
       " u'IsGeoInQuery',\n",
       " u'IsWordsOnPage',\n",
       " u'IsYandexPageEqualsOur',\n",
       " 'LengthScaled',\n",
       " 'NounCountStr=0',\n",
       " 'NounCountStr=1',\n",
       " 'NounCountStr=2',\n",
       " 'NounCountStr=3',\n",
       " 'NounCountStr=4',\n",
       " 'NounCountStr=5',\n",
       " u'PageBehaviorFactorsAvgVisitDurationSeconds',\n",
       " u'PageBehaviorFactorsBounceRate',\n",
       " u'PageBehaviorFactorsPageDepth',\n",
       " u'RoundedLength',\n",
       " u'ServiceType=Goods',\n",
       " u'ServiceType=GoodsServices',\n",
       " u'ServiceType=Services',\n",
       " 'WordsCountStr=1',\n",
       " 'WordsCountStr=2',\n",
       " 'WordsCountStr=3',\n",
       " 'WordsCountStr=4',\n",
       " 'WordsCountStr=5',\n",
       " 'WordsCountStr=6',\n",
       " 'WordsCountStr=7']"
      ]
     },
     "execution_count": 131,
     "metadata": {},
     "output_type": "execute_result"
    }
   ],
   "source": [
    "vec.get_feature_names()"
   ]
  },
  {
   "cell_type": "code",
   "execution_count": 132,
   "metadata": {
    "collapsed": false
   },
   "outputs": [
    {
     "name": "stdout",
     "output_type": "stream",
     "text": [
      "0.984772533813\n"
     ]
    }
   ],
   "source": [
    "from sklearn import svm\n",
    "clf = svm.SVC()\n",
    "clf.fit(array, result3['cnv'])\n",
    "print clf.score(array, result3['cnv'])"
   ]
  },
  {
   "cell_type": "code",
   "execution_count": 133,
   "metadata": {
    "collapsed": false
   },
   "outputs": [
    {
     "name": "stdout",
     "output_type": "stream",
     "text": [
      "0.994892651092\n"
     ]
    }
   ],
   "source": [
    "from sklearn.ensemble import RandomForestClassifier\n",
    "clf = RandomForestClassifier(n_estimators=10)\n",
    "clf = clf.fit(array, result3['cnv'])\n",
    "print clf.score(array, result3['cnv'])\n",
    "result3['RandomForest'] = clf.predict(array)\n",
    "result3.to_csv('D:\\\\prognoz_konversii.csv',encoding='cp1251',sep=';',decimal=',')"
   ]
  },
  {
   "cell_type": "code",
   "execution_count": 134,
   "metadata": {
    "collapsed": false
   },
   "outputs": [
    {
     "name": "stdout",
     "output_type": "stream",
     "text": [
      "0.835240707462\n"
     ]
    }
   ],
   "source": [
    "from sklearn.naive_bayes import GaussianNB,MultinomialNB\n",
    "clf = GaussianNB()\n",
    "clf.fit(array, result3['cnv'])\n",
    "print clf.score(array, result3['cnv'])\n",
    "result3['GaussianNB'] = clf.predict(array)\n",
    "result3.to_csv('D:\\\\prognoz_konversii.csv',encoding='cp1251',sep=';',decimal=',')"
   ]
  },
  {
   "cell_type": "code",
   "execution_count": 135,
   "metadata": {
    "collapsed": false
   },
   "outputs": [
    {
     "name": "stdout",
     "output_type": "stream",
     "text": [
      "0.983637567389\n"
     ]
    }
   ],
   "source": [
    "from sklearn.discriminant_analysis import LinearDiscriminantAnalysis\n",
    "clf = LinearDiscriminantAnalysis()\n",
    "clf.fit(array, result3['cnv'])\n",
    "print clf.score(array, result3['cnv'])\n",
    "result3['LDA'] = clf.predict(array)\n",
    "result3.to_csv('D:\\\\prognoz_konversii.csv',encoding='cp1251',sep=';',decimal=',')"
   ]
  },
  {
   "cell_type": "code",
   "execution_count": 136,
   "metadata": {
    "collapsed": false
   },
   "outputs": [
    {
     "name": "stdout",
     "output_type": "stream",
     "text": [
      "0.997635486617\n",
      "AvgWordLengthScaled 0.0639302049928\n",
      "B2Bb2C=B 0.00967837679111\n",
      "B2Bb2C=C 0.00629801386707\n",
      "Brand_y 0.0130887798583\n",
      "BroadForecastsMinScaled 0.067073530861\n",
      "BroadForecastsPremiumMaxScaled 0.0578638136268\n",
      "BroadForecastsShowsScaled 0.0620000258473\n",
      "ExactForecastsMinScaled 0.068525547473\n",
      "ExactForecastsPremiumMaxScaled 0.056063989436\n",
      "ExactForecastsShowsScaled 0.0720512452697\n",
      "ExactShowsPercent 0.0670233989721\n",
      "IsCommerceWords 0.0193051317903\n",
      "IsGeoInQuery 0.0150064194947\n",
      "IsWordsOnPage 0.0207164734265\n",
      "IsYandexPageEqualsOur 0.013858352794\n",
      "LengthScaled 0.0554504368013\n",
      "NounCountStr=0 0.00525080065448\n",
      "NounCountStr=1 0.0230233595669\n",
      "NounCountStr=2 0.0174751944977\n",
      "NounCountStr=3 0.0140864162872\n",
      "NounCountStr=4 0.00476896698512\n",
      "NounCountStr=5 0.0\n",
      "PageBehaviorFactorsAvgVisitDurationSeconds 0.0352182811695\n",
      "PageBehaviorFactorsBounceRate 0.0393061687471\n",
      "PageBehaviorFactorsPageDepth 0.04987255442\n",
      "RoundedLength 0.0465571402317\n",
      "ServiceType=Goods 0.00773368070608\n",
      "ServiceType=GoodsServices 0.00601673742508\n",
      "ServiceType=Services 0.00934788121064\n",
      "WordsCountStr=1 0.00461327164951\n",
      "WordsCountStr=2 0.0116835694223\n",
      "WordsCountStr=3 0.0217000379667\n",
      "WordsCountStr=4 0.0115533721339\n",
      "WordsCountStr=5 0.013988896852\n",
      "WordsCountStr=6 0.00423879065197\n",
      "WordsCountStr=7 0.00563113812026\n"
     ]
    }
   ],
   "source": [
    "from sklearn import metrics\n",
    "from sklearn.ensemble import ExtraTreesClassifier\n",
    "model = ExtraTreesClassifier()\n",
    "model.fit(array, result3['cnv'])\n",
    "print model.score(array, result3['cnv'])\n",
    "result3['ETC'] = model.predict(array)\n",
    "result3.to_csv('D:\\\\prognoz_konversii.csv',encoding='cp1251',sep=';',decimal=',')\n",
    "\n",
    "for x,y in zip(vec.get_feature_names(),model.feature_importances_):\n",
    "    print x,y"
   ]
  },
  {
   "cell_type": "code",
   "execution_count": 137,
   "metadata": {
    "collapsed": false
   },
   "outputs": [
    {
     "name": "stdout",
     "output_type": "stream",
     "text": [
      "0.982976040353\n"
     ]
    }
   ],
   "source": [
    "from sklearn import cross_validation\n",
    "X_train, X_test, y_train, y_test = cross_validation.train_test_split(\n",
    "    array, result3['cnv'], test_size=0.3, random_state=0)\n",
    "clf = RandomForestClassifier(n_estimators=10)\n",
    "clf = clf.fit(X_train, y_train)\n",
    "print clf.score(X_test, y_test)\n",
    "Y_predict = clf.predict(X_test)"
   ]
  },
  {
   "cell_type": "code",
   "execution_count": 145,
   "metadata": {
    "collapsed": false
   },
   "outputs": [],
   "source": [
    "x_df_with_conversions = result3[['AvgWordLengthScaled','B2Bb2C',\n",
    "    'IsCommerceWords','IsGeoInQuery','ExactShowsPercent',\n",
    "       'IsWordsOnPage','IsYandexPageEqualsOur','LengthScaled','PageBehaviorFactorsAvgVisitDurationSeconds',\n",
    "       'PageBehaviorFactorsBounceRate','PageBehaviorFactorsPageDepth','RoundedLength','ServiceType','Brand_y','NounCountStr',\n",
    "                   'WordsCountStr','BroadForecastsMinScaled','BroadForecastsPremiumMaxScaled',\n",
    "                   'BroadForecastsShowsScaled','ExactForecastsMinScaled','ExactForecastsPremiumMaxScaled','ExactForecastsShowsScaled','ExactShowsPercent']][result3['cnv'] == 1]\n",
    "x_df_without_conversions = result3[['AvgWordLengthScaled','B2Bb2C',\n",
    "    'IsCommerceWords','IsGeoInQuery','ExactShowsPercent',\n",
    "       'IsWordsOnPage','IsYandexPageEqualsOur','LengthScaled','PageBehaviorFactorsAvgVisitDurationSeconds',\n",
    "       'PageBehaviorFactorsBounceRate','PageBehaviorFactorsPageDepth','RoundedLength','ServiceType','Brand_y','NounCountStr',\n",
    "                   'WordsCountStr','BroadForecastsMinScaled','BroadForecastsPremiumMaxScaled',\n",
    "                   'BroadForecastsShowsScaled','ExactForecastsMinScaled','ExactForecastsPremiumMaxScaled','ExactForecastsShowsScaled','ExactShowsPercent']][result3['cnv'] == 0]\n",
    "x_of_dictionaries_with_conversions = [x_df_with_conversions.iloc[line,:].T.to_dict() for line in range(len(x_df_with_conversions))]\n",
    "x_of_dictionaries_without_conversions = [x_df_without_conversions.iloc[line,:].T.to_dict() for line in range(len(x_df_without_conversions))]\n",
    "vec = DictVectorizer()\n",
    "x_without_conversions = vec.fit_transform(x_of_dictionaries_without_conversions).toarray()\n",
    "x_with_conversions = vec.transform(x_of_dictionaries_with_conversions).toarray()\n",
    "y_with_conversions = result3[result3['cnv'] == 1]['cnv']\n",
    "y_without_conversions = result3[result3['cnv'] == 0]['cnv']"
   ]
  },
  {
   "cell_type": "code",
   "execution_count": 146,
   "metadata": {
    "collapsed": true
   },
   "outputs": [],
   "source": [
    "X_train_with_conversions, X_test_with_conversions, y_train_with_conversions, y_test_with_conversions = cross_validation.train_test_split(\n",
    "    x_with_conversions, y_with_conversions, test_size=0.3, random_state=0)"
   ]
  },
  {
   "cell_type": "code",
   "execution_count": 147,
   "metadata": {
    "collapsed": true
   },
   "outputs": [],
   "source": [
    "X_train_without_conversions, X_test_without_conversions, y_train_without_conversions, y_test_without_conversions = cross_validation.train_test_split(\n",
    "    x_without_conversions, y_without_conversions, test_size=0.3, random_state=0)"
   ]
  },
  {
   "cell_type": "code",
   "execution_count": 149,
   "metadata": {
    "collapsed": false
   },
   "outputs": [
    {
     "ename": "ValueError",
     "evalue": "operands could not be broadcast together with shapes (112,36) (7288,36) ",
     "output_type": "error",
     "traceback": [
      "\u001b[1;31m---------------------------------------------------------------------------\u001b[0m",
      "\u001b[1;31mValueError\u001b[0m                                Traceback (most recent call last)",
      "\u001b[1;32m<ipython-input-149-417b97b2a2a3>\u001b[0m in \u001b[0;36m<module>\u001b[1;34m()\u001b[0m\n\u001b[1;32m----> 1\u001b[1;33m \u001b[0mX_train\u001b[0m \u001b[1;33m=\u001b[0m \u001b[0mX_train_with_conversions\u001b[0m \u001b[1;33m+\u001b[0m \u001b[0mX_train_without_conversions\u001b[0m\u001b[1;33m\u001b[0m\u001b[0m\n\u001b[0m",
      "\u001b[1;31mValueError\u001b[0m: operands could not be broadcast together with shapes (112,36) (7288,36) "
     ]
    }
   ],
   "source": [
    "X_train = X_train_with_conversions + X_train_without_conversions"
   ]
  },
  {
   "cell_type": "code",
   "execution_count": 33,
   "metadata": {
    "collapsed": false
   },
   "outputs": [
    {
     "data": {
      "text/plain": [
       "10573"
      ]
     },
     "execution_count": 33,
     "metadata": {},
     "output_type": "execute_result"
    }
   ],
   "source": [
    "len(new_array)"
   ]
  },
  {
   "cell_type": "markdown",
   "metadata": {
    "collapsed": true
   },
   "source": [
    "Проверка по Яндекс.XML для запросов, у которых не собраны URL"
   ]
  },
  {
   "cell_type": "code",
   "execution_count": null,
   "metadata": {
    "collapsed": true
   },
   "outputs": [],
   "source": [
    "from bs4 import BeautifulSoup\n",
    "import requests\n",
    "def getXMLData(query,lr):\n",
    "    query = query.encode('utf-8')\n",
    "    URL = 'http://seozoo.ru/xmlsearch?user=aleksey.makarov@ingate.ru&key=UH7ForyW2o2QGIruyktzXbiivQ89EsEK197Ioccc&query={0}&lr={1}&l10n=ru&sortby=rlv&filter=moderate&groupby=attr%3D%22%22.mode%3Dflat.groups-on-page%3D100.docs-in-group%3D1'.format(query,lr)\n",
    "    return requests.get(URL).content\n",
    "def parseXMLData(data):\n",
    "    Soup = BeautifulSoup(data)\n",
    "    results = Soup.find_all('results')[0]\n",
    "    docs = results.find_all('doc')\n",
    "    return docs\n",
    "def getURLfromXML(data):\n",
    "    Soup = BeautifulSoup(data)\n",
    "    results = Soup.find_all('results')[0]\n",
    "    doc = results.find('doc')\n",
    "    return doc.url.get_text()\n",
    "df3 = pd.read_csv(u'C:\\\\Users\\\\aleksey.makarov\\\\Desktop\\\\2016-02\\\\Прогнозирование конверсии\\\\for_parse_xml.txt',sep='\\t',encoding='utf8')\n",
    "ld_3 = [df3.iloc[line,:].T.to_dict() for line in range(len(df3))]\n",
    "for item in ld_3:\n",
    "    item['query'] = '{0} site:{1}'.format(item['2'].encode('utf-8'),item['3'].encode('utf-8'))\n",
    "for item in ld_3:\n",
    "    print item['query']\n",
    "    try:\n",
    "        item['url'] = getURLfromXML(getXMLData(item['query'].decode('utf8'),225))\n",
    "        print item['url']\n",
    "    except:\n",
    "        item['url'] = 'error'\n",
    "        print 'oops'\n",
    "        continue"
   ]
  }
 ],
 "metadata": {
  "kernelspec": {
   "display_name": "Python 2",
   "language": "python",
   "name": "python2"
  },
  "language_info": {
   "codemirror_mode": {
    "name": "ipython",
    "version": 2
   },
   "file_extension": ".py",
   "mimetype": "text/x-python",
   "name": "python",
   "nbconvert_exporter": "python",
   "pygments_lexer": "ipython2",
   "version": "2.7.11"
  }
 },
 "nbformat": 4,
 "nbformat_minor": 0
}
