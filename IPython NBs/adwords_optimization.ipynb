{
 "cells": [
  {
   "cell_type": "code",
   "execution_count": 2,
   "metadata": {
    "collapsed": false
   },
   "outputs": [
    {
     "name": "stdout",
     "output_type": "stream",
     "text": [
      "[{'metrikalogin': 'cubo.client2@yandex.ru', 'projectid': 2434227L, 'domain': 'syntone.ru', 'metrikapassword': 'idev2015'}, {'metrikalogin': '', 'projectid': 2444069L, 'domain': 'syntone.ru', 'metrikapassword': ''}, {'metrikalogin': None, 'projectid': None, 'domain': 'syntone.ru', 'metrikapassword': None}]\n",
      "{'Token': u'00687c8af3aa4b4bbddea008faae5bfa', 'counterID': [36148300, 12271228]}\n"
     ]
    }
   ],
   "source": [
    "%run 'C:\\dev\\prod\\metrikaHelper.py'\n",
    "import pandas as pd\n",
    "import psycopg2\n",
    "import numpy as np\n",
    "def getVipProjectByDomain(domain):\n",
    "    conn = psycopg2.connect(\"dbname='CRM' user='read_only' host='192.168.10.10' password='User_ro'\")\n",
    "    cur = conn.cursor()\n",
    "    cur.execute(\"SELECT p.projectid, p.domain, p2.login, p2.password FROM project AS p INNER JOIN ProjectMetrikaData AS p2 ON p.UniqueId = p2.ProjectUniqueId WHERE domain=%s ORDER BY p.projectid\", [domain])\n",
    "    result = []\n",
    "    rows = cur.fetchall()\n",
    "    for row in rows:\n",
    "        result.append(getVipProjectByRow(row))\n",
    "    return result\n",
    "def getVipProjectByRow(row):\n",
    "    return {'projectid': row[0], 'domain': row[1], 'metrikalogin': row[2], 'metrikapassword': row[3]}\n",
    "def getCPATargetsByProjectID(projectID):\n",
    "    conn = psycopg2.connect(\"dbname='Cubo' user='read_only' host='192.168.10.8' password='User_ro'\")\n",
    "    cur = conn.cursor()\n",
    "    cur.execute(\"SELECT targetstatus, targetid, targetname FROM metricstarget WHERE projectid=%s ORDER BY id DESC\", [projectID])\n",
    "    result = []\n",
    "    rows = cur.fetchall()\n",
    "    for row in rows:\n",
    "        result.append(getCPATargetByRow(row))\n",
    "    return result\n",
    "def getCPATargetByRow(row):\n",
    "    return {'targetstatus': row[0], 'targetid': row[1], 'targetname': row[2]}\n",
    "project = u'syntone.ru'\n",
    "VipProjectInfo = getVipProjectByDomain(project)\n",
    "print VipProjectInfo\n",
    "metrikaCredentials = getMetrikaCredentialsByLPD({'yandexLogin':VipProjectInfo[0]['metrikalogin'],\n",
    "                                                 'yandexPassword':VipProjectInfo[0]['metrikapassword'],\n",
    "                                                 'domain':VipProjectInfo[0]['domain']})\n",
    "\n",
    "print metrikaCredentials"
   ]
  },
  {
   "cell_type": "code",
   "execution_count": 7,
   "metadata": {
    "collapsed": false
   },
   "outputs": [
    {
     "name": "stdout",
     "output_type": "stream",
     "text": [
      "https://beta.api-metrika.yandex.ru/stat/v1/data.csv?dimensions=ym:s:UTMSource,ym:s:UTMMedium,ym:s:UTMCampaign,ym:s:UTMContent,ym:s:UTMTerm&metrics=ym:s:visits,ym:s:goal17200540visits,ym:s:goal17200530visits,ym:s:goal17200520visits,ym:s:goal17200535visits,ym:s:goal17200525visits&date1=2016-03-19&date2=2016-04-04&ids=12271228&oauth_token=00687c8af3aa4b4bbddea008faae5bfa&limit=100000&offset=1&filters=ym:s:UTMSource=='cubo'\n"
     ]
    }
   ],
   "source": [
    "goalsMetrics = ','.join(['ym:s:goal'+str(target['targetid'])+'visits' for target in getCPATargetsByProjectID(VipProjectInfo[0]['projectid'])])\n",
    "otherMetrics = 'ym:s:visits'\n",
    "metrics = ','.join([otherMetrics,goalsMetrics])\n",
    "dimensions='ym:s:UTMSource,ym:s:UTMMedium,ym:s:UTMCampaign,ym:s:UTMContent,ym:s:UTMTerm'\n",
    "date1 = '2016-03-19'\n",
    "date2 = '2016-04-04'\n",
    "token = metrikaCredentials['Token']\n",
    "counterId = metrikaCredentials['counterID'][1]\n",
    "params = '&'.join(['dimensions={0}'.format(dimensions),\n",
    "                   'metrics={0}'.format(metrics),\n",
    "                   'date1={0}'.format(date1),\n",
    "                  'date2={0}'.format(date2),\n",
    "                  'ids={0}'.format(counterId),\n",
    "                  'oauth_token={0}'.format(token),\n",
    "                  'limit=100000',\n",
    "                  'offset=1',\n",
    "                  \"filters=ym:s:UTMSource=='cubo'\"])\n",
    "url = 'https://beta.api-metrika.yandex.ru/stat/v1/data.csv?'+params\n",
    "print url"
   ]
  },
  {
   "cell_type": "code",
   "execution_count": null,
   "metadata": {
    "collapsed": true
   },
   "outputs": [],
   "source": []
  }
 ],
 "metadata": {
  "kernelspec": {
   "display_name": "Python 2",
   "language": "python",
   "name": "python2"
  },
  "language_info": {
   "codemirror_mode": {
    "name": "ipython",
    "version": 2
   },
   "file_extension": ".py",
   "mimetype": "text/x-python",
   "name": "python",
   "nbconvert_exporter": "python",
   "pygments_lexer": "ipython2",
   "version": "2.7.11"
  }
 },
 "nbformat": 4,
 "nbformat_minor": 0
}
