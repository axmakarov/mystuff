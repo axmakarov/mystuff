{
 "cells": [
  {
   "cell_type": "code",
   "execution_count": 24,
   "metadata": {
    "collapsed": false
   },
   "outputs": [],
   "source": [
    "import psycopg2\n",
    "import requests\n",
    "import json\n",
    "import pandas as pd\n",
    "%run 'D:\\\\dev\\\\prod\\\\metrikaHelper.py'\n",
    "def getVipProjectByDomain(domain):\n",
    "    conn = psycopg2.connect(\"dbname='CRM' user='read_only' host='192.168.10.10' password='User_ro'\")\n",
    "    cur = conn.cursor()\n",
    "    cur.execute(\"SELECT p.projectid, p.domain, p.status, p2.login, p2.password FROM project AS p INNER JOIN ProjectMetrikaData AS p2 ON p.UniqueId = p2.ProjectUniqueId WHERE domain=%s AND p.status<230 ORDER BY p.projectid\", [domain])\n",
    "    result = []\n",
    "    rows = cur.fetchall()\n",
    "    for row in rows:\n",
    "        result.append(getVipProjectByRow(row))\n",
    "    return result\n",
    "def getVipProjectByRow(row):\n",
    "    return {'projectid': row[0], 'domain': row[1], 'metrikalogin': row[3], 'metrikapassword': row[4]}\n",
    "def getCPATargetsByProjectID(projectID):\n",
    "    conn = psycopg2.connect(\"dbname='Cubo' user='read_only' host='192.168.10.8' password='User_ro'\")\n",
    "    cur = conn.cursor()\n",
    "    cur.execute(\"SELECT targetstatus, targetid, targetname FROM metricstarget WHERE projectid=%s ORDER BY id DESC\", [projectID])\n",
    "    result = []\n",
    "    rows = cur.fetchall()\n",
    "    for row in rows:\n",
    "        result.append(getCPATargetByRow(row))\n",
    "    return result\n",
    "def getCPATargetByRow(row):\n",
    "    return {'targetstatus': row[0], 'targetid': row[1], 'targetname': row[2]}\n",
    "def getGoalsByCounter(counterId,token):\n",
    "    return requests.get('https://api-metrika.yandex.ru/management/v1/counter/{0}/goals?oauth_token={1}'.format(counterId,token)).text.encode('utf-8')\n",
    "\n",
    "def processNumberGoal(goal):\n",
    "    return [{'ID': goal['id'], u'Ретаргетинговая':goal['is_retargeting'], u'Имя':goal['name'], u'Тип':u'Глубина просмотра', u'Глубина':goal['depth'], u'Домен':goal['domain']}]\n",
    "def processUrlGoal(goal):\n",
    "    conditions = []\n",
    "    for condition in goal['conditions']:\n",
    "        cond = {}\n",
    "        if condition['type'] == 'exact':\n",
    "            cond[u'Тип соответствия'] = u'Точно соответствует'\n",
    "        elif condition['type'] == 'contain':\n",
    "            cond[u'Тип соответствия'] = u'Содержит'\n",
    "        elif condition['type'] == 'start':\n",
    "            cond[u'Тип соответствия'] = u'Начинается с'\n",
    "        elif condition['type'] == 'regexp':\n",
    "            cond[u'Тип соответствия'] = u'Регулярное выражение'\n",
    "        else:\n",
    "            cond[u'Тип соответствия'] = u'Другое'\n",
    "        cond[u'Условие'] = condition['url']\n",
    "        conditions.append(cond)\n",
    "    for condition in conditions:\n",
    "        condition['ID'] = goal['id']\n",
    "        condition[u'Ретаргетинговая'] = goal['is_retargeting']\n",
    "        condition[u'Имя'] = goal['name']\n",
    "        condition[u'Тип'] = u'Просмотр URL' \n",
    "        condition[u'Домен'] = goal['domain']\n",
    "    return conditions\n",
    "def processActionGoal(goal):\n",
    "    conditions = []\n",
    "    for condition in goal['conditions']:\n",
    "        cond = {}\n",
    "        if condition['type'] == 'exact':\n",
    "            cond[u'Тип соответствия'] = u'Точно соответствует'\n",
    "        elif condition['type'] == 'contain':\n",
    "            cond[u'Тип соответствия'] = u'Содержит'\n",
    "        elif condition['type'] == 'start':\n",
    "            cond[u'Тип соответствия'] = u'Начинается с'\n",
    "        elif condition['type'] == 'regexp':\n",
    "            cond[u'Тип соответствия'] = u'Регулярное выражение'\n",
    "        else:\n",
    "            cond[u'Тип соответствия'] = u'Другое'\n",
    "        cond[u'Условие'] = condition['url']\n",
    "        conditions.append(cond)\n",
    "    for condition in conditions:\n",
    "        condition['ID'] = goal['id']\n",
    "        condition[u'Ретаргетинговая'] = goal['is_retargeting']\n",
    "        condition[u'Имя'] = goal['name']\n",
    "        condition[u'Тип'] = u'Событие' \n",
    "        condition[u'Предыдущая цель'] = goal['prev_goal_id']\n",
    "        condition[u'Домен'] = goal['domain']\n",
    "    return conditions\n",
    "def processStepGoal(goal):\n",
    "    d = {}\n",
    "    d[u'Имя'] = goal['name']\n",
    "    d['ID'] = goal['id']\n",
    "    d[u'Ретаргетинговая'] = goal['is_retargeting']\n",
    "    d[u'Тип'] = u'Составная'\n",
    "    d[u'Условие'] = goal['steps']\n",
    "    d[u'Домен'] = goal['domain']\n",
    "    return d"
   ]
  },
  {
   "cell_type": "code",
   "execution_count": 2,
   "metadata": {
    "collapsed": true
   },
   "outputs": [],
   "source": [
    "goalTypes = ['url','step','number','action']"
   ]
  },
  {
   "cell_type": "code",
   "execution_count": 25,
   "metadata": {
    "collapsed": false
   },
   "outputs": [],
   "source": [
    "domains = [\"russj.ru\",\"organickids.ru\",\"pinakotekaresto.com\",\"prosto-gruz.ru\",\"zbbb.ru\",\"alcotek.ru\",\"edemdom.ru\",\"labotini.ru\",\"realstroy.com\",\"tencon.ru\",\"жк-московский.com\",\n",
    "\"народная-23.рф\",\"doorlock.ru\",\"stm66.ru\",\"academoffice.ru\",\"adel-omsk.ru\",\"baxburo.ru\",\"fabslog.ru\",\"ferkon.ru\",\"fosterland.ru\",\"gemainvest.ru\",\"hotel.sipk.ru\",\n",
    "\"kerasol.ru\",\"medstrahovka.ru\",\"m-y.ru\",\"nasoscentr.ru\",\"optikdeal.ru\",\"pickup-center.ru\",\"proudmom.ru\",\"ribambelle.ru\",\"rusmaneken.ru\",\"simple-pro.com\",\"teploppu.ru\",\n",
    "\"altpremium.ru\",\"mosvipremont.ru\",\"multifin.ru\",\"megakran.ru\",\"energotehmontag.ru\",\"nanosegway.ru\",\"mebmetall.ru\",\"oooptr77.ru\",\"saabparts.su\",\"lodki-piter.ru\",\n",
    "\"accessoriesforhome.ru\",\"darion-svet.ru\",\"vtb24leasing.ru\",\"sevastopolstroy.ru\"]"
   ]
  },
  {
   "cell_type": "code",
   "execution_count": 26,
   "metadata": {
    "collapsed": false
   },
   "outputs": [
    {
     "name": "stdout",
     "output_type": "stream",
     "text": [
      "Invalid login or password\n",
      "ribambelle.ru\n"
     ]
    }
   ],
   "source": [
    "allGoals = []\n",
    "for domain in domains:\n",
    "    VipProjectInfo = getVipProjectByDomain(domain)[0]\n",
    "    metrikaCredentials = getMetrikaCredentialsByLPD({'yandexLogin':VipProjectInfo['metrikalogin'],'yandexPassword':VipProjectInfo['metrikapassword'],'domain':VipProjectInfo['domain'].decode(\"utf-8\")})\n",
    "    try:\n",
    "        GoalsInfo = getGoalsByCounter(metrikaCredentials['counterID'][0],metrikaCredentials['Token'])\n",
    "        goals = json.loads(GoalsInfo)['goals']\n",
    "        for goal in goals:\n",
    "            goal['domain'] = domain\n",
    "        allGoals += goals\n",
    "    except:\n",
    "        print domain\n",
    "df = pd.DataFrame(allGoals)"
   ]
  },
  {
   "cell_type": "code",
   "execution_count": 27,
   "metadata": {
    "collapsed": false
   },
   "outputs": [],
   "source": [
    "goalsData = []\n",
    "for goal in allGoals:\n",
    "    if goal['type'] == 'url':\n",
    "        goalsData += processUrlGoal(goal)\n",
    "    elif goal['type'] == 'number':\n",
    "        goalsData += processNumberGoal(goal)\n",
    "    elif goal['type'] == 'action':\n",
    "        goalsData += processActionGoal(goal)"
   ]
  },
  {
   "cell_type": "code",
   "execution_count": 17,
   "metadata": {
    "collapsed": false
   },
   "outputs": [
    {
     "data": {
      "text/plain": [
       "446"
      ]
     },
     "execution_count": 17,
     "metadata": {},
     "output_type": "execute_result"
    }
   ],
   "source": [
    "len(goalsData)"
   ]
  },
  {
   "cell_type": "code",
   "execution_count": 33,
   "metadata": {
    "collapsed": false
   },
   "outputs": [
    {
     "ename": "UnicodeEncodeError",
     "evalue": "'ascii' codec can't encode characters in position 15-21: ordinal not in range(128)",
     "output_type": "error",
     "traceback": [
      "\u001b[1;31m---------------------------------------------------------------------------\u001b[0m",
      "\u001b[1;31mUnicodeEncodeError\u001b[0m                        Traceback (most recent call last)",
      "\u001b[1;32m<ipython-input-33-bf0dc4bef333>\u001b[0m in \u001b[0;36m<module>\u001b[1;34m()\u001b[0m\n\u001b[1;32m----> 1\u001b[1;33m \u001b[0mpd\u001b[0m\u001b[1;33m.\u001b[0m\u001b[0mDataFrame\u001b[0m\u001b[1;33m(\u001b[0m\u001b[0mgoalsData\u001b[0m\u001b[1;33m)\u001b[0m\u001b[1;33m.\u001b[0m\u001b[0mto_clipboard\u001b[0m\u001b[1;33m(\u001b[0m\u001b[1;33m)\u001b[0m\u001b[1;33m\u001b[0m\u001b[0m\n\u001b[0m",
      "\u001b[1;32mC:\\Users\\aleksey.makarov\\AppData\\Local\\Continuum\\Anaconda\\lib\\site-packages\\pandas\\core\\generic.pyc\u001b[0m in \u001b[0;36mto_clipboard\u001b[1;34m(self, excel, sep, **kwargs)\u001b[0m\n\u001b[0;32m   1038\u001b[0m         \"\"\"\n\u001b[0;32m   1039\u001b[0m         \u001b[1;32mfrom\u001b[0m \u001b[0mpandas\u001b[0m\u001b[1;33m.\u001b[0m\u001b[0mio\u001b[0m \u001b[1;32mimport\u001b[0m \u001b[0mclipboard\u001b[0m\u001b[1;33m\u001b[0m\u001b[0m\n\u001b[1;32m-> 1040\u001b[1;33m         \u001b[0mclipboard\u001b[0m\u001b[1;33m.\u001b[0m\u001b[0mto_clipboard\u001b[0m\u001b[1;33m(\u001b[0m\u001b[0mself\u001b[0m\u001b[1;33m,\u001b[0m \u001b[0mexcel\u001b[0m\u001b[1;33m=\u001b[0m\u001b[0mexcel\u001b[0m\u001b[1;33m,\u001b[0m \u001b[0msep\u001b[0m\u001b[1;33m=\u001b[0m\u001b[0msep\u001b[0m\u001b[1;33m,\u001b[0m \u001b[1;33m**\u001b[0m\u001b[0mkwargs\u001b[0m\u001b[1;33m)\u001b[0m\u001b[1;33m\u001b[0m\u001b[0m\n\u001b[0m\u001b[0;32m   1041\u001b[0m \u001b[1;33m\u001b[0m\u001b[0m\n\u001b[0;32m   1042\u001b[0m     \u001b[1;31m#----------------------------------------------------------------------\u001b[0m\u001b[1;33m\u001b[0m\u001b[1;33m\u001b[0m\u001b[0m\n",
      "\u001b[1;32mC:\\Users\\aleksey.makarov\\AppData\\Local\\Continuum\\Anaconda\\lib\\site-packages\\pandas\\io\\clipboard.pyc\u001b[0m in \u001b[0;36mto_clipboard\u001b[1;34m(obj, excel, sep, **kwargs)\u001b[0m\n\u001b[0;32m     96\u001b[0m     \u001b[1;32melse\u001b[0m\u001b[1;33m:\u001b[0m\u001b[1;33m\u001b[0m\u001b[0m\n\u001b[0;32m     97\u001b[0m         \u001b[0mobjstr\u001b[0m \u001b[1;33m=\u001b[0m \u001b[0mstr\u001b[0m\u001b[1;33m(\u001b[0m\u001b[0mobj\u001b[0m\u001b[1;33m)\u001b[0m\u001b[1;33m\u001b[0m\u001b[0m\n\u001b[1;32m---> 98\u001b[1;33m     \u001b[0mclipboard_set\u001b[0m\u001b[1;33m(\u001b[0m\u001b[0mobjstr\u001b[0m\u001b[1;33m)\u001b[0m\u001b[1;33m\u001b[0m\u001b[0m\n\u001b[0m",
      "\u001b[1;32mC:\\Users\\aleksey.makarov\\AppData\\Local\\Continuum\\Anaconda\\lib\\site-packages\\pandas\\util\\clipboard.pyc\u001b[0m in \u001b[0;36mwinSetClipboard\u001b[1;34m(text)\u001b[0m\n\u001b[0;32m     63\u001b[0m     \u001b[1;32mtry\u001b[0m\u001b[1;33m:\u001b[0m\u001b[1;33m\u001b[0m\u001b[0m\n\u001b[0;32m     64\u001b[0m         \u001b[1;31m# works on Python 2 (bytes() only takes one argument)\u001b[0m\u001b[1;33m\u001b[0m\u001b[1;33m\u001b[0m\u001b[0m\n\u001b[1;32m---> 65\u001b[1;33m         \u001b[0mhCd\u001b[0m \u001b[1;33m=\u001b[0m \u001b[0mctypes\u001b[0m\u001b[1;33m.\u001b[0m\u001b[0mwindll\u001b[0m\u001b[1;33m.\u001b[0m\u001b[0mkernel32\u001b[0m\u001b[1;33m.\u001b[0m\u001b[0mGlobalAlloc\u001b[0m\u001b[1;33m(\u001b[0m\u001b[0mGMEM_DDESHARE\u001b[0m\u001b[1;33m,\u001b[0m \u001b[0mlen\u001b[0m\u001b[1;33m(\u001b[0m\u001b[0mbytes\u001b[0m\u001b[1;33m(\u001b[0m\u001b[0mtext\u001b[0m\u001b[1;33m)\u001b[0m\u001b[1;33m)\u001b[0m\u001b[1;33m+\u001b[0m\u001b[1;36m1\u001b[0m\u001b[1;33m)\u001b[0m\u001b[1;33m\u001b[0m\u001b[0m\n\u001b[0m\u001b[0;32m     66\u001b[0m     \u001b[1;32mexcept\u001b[0m \u001b[0mTypeError\u001b[0m\u001b[1;33m:\u001b[0m\u001b[1;33m\u001b[0m\u001b[0m\n\u001b[0;32m     67\u001b[0m         \u001b[1;31m# works on Python 3 (bytes() requires an encoding)\u001b[0m\u001b[1;33m\u001b[0m\u001b[1;33m\u001b[0m\u001b[0m\n",
      "\u001b[1;31mUnicodeEncodeError\u001b[0m: 'ascii' codec can't encode characters in position 15-21: ordinal not in range(128)"
     ]
    }
   ],
   "source": [
    "pd.DataFrame(goalsData).to_clipboard()"
   ]
  },
  {
   "cell_type": "code",
   "execution_count": null,
   "metadata": {
    "collapsed": true
   },
   "outputs": [],
   "source": []
  }
 ],
 "metadata": {
  "kernelspec": {
   "display_name": "Python 2",
   "language": "python",
   "name": "python2"
  },
  "language_info": {
   "codemirror_mode": {
    "name": "ipython",
    "version": 2
   },
   "file_extension": ".py",
   "mimetype": "text/x-python",
   "name": "python",
   "nbconvert_exporter": "python",
   "pygments_lexer": "ipython2",
   "version": "2.7.11"
  }
 },
 "nbformat": 4,
 "nbformat_minor": 0
}
