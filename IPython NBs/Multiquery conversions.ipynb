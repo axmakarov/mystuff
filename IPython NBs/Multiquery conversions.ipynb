{
 "cells": [
  {
   "cell_type": "code",
   "execution_count": 1,
   "metadata": {
    "collapsed": true
   },
   "outputs": [],
   "source": [
    "%run 'C:\\dev\\prod\\metrikaHelper.py'\n",
    "import pandas as pd\n",
    "import psycopg2"
   ]
  },
  {
   "cell_type": "code",
   "execution_count": 2,
   "metadata": {
    "collapsed": true
   },
   "outputs": [],
   "source": [
    "def getVipProjectByDomain(domain):\n",
    "    conn = psycopg2.connect(\"dbname='CRM' user='read_only' host='192.168.10.10' password='User_ro'\")\n",
    "    cur = conn.cursor()\n",
    "    cur.execute(\"SELECT p.projectid, p.domain, p2.login, p2.password FROM project AS p INNER JOIN ProjectMetrikaData AS p2 ON p.UniqueId = p2.ProjectUniqueId WHERE domain=%s ORDER BY p.projectid\", [domain])\n",
    "    result = []\n",
    "    rows = cur.fetchall()\n",
    "    for row in rows:\n",
    "        result.append(getVipProjectByRow(row))\n",
    "    return result\n",
    "def getVipProjectByRow(row):\n",
    "    return {'projectid': row[0], 'domain': row[1], 'metrikalogin': row[2], 'metrikapassword': row[3]}\n",
    "def getCPATargetsByProjectID(projectID):\n",
    "    conn = psycopg2.connect(\"dbname='Cubo' user='read_only' host='192.168.10.8' password='User_ro'\")\n",
    "    cur = conn.cursor()\n",
    "    cur.execute(\"SELECT targetstatus, targetid, targetname FROM metricstarget WHERE projectid=%s ORDER BY id DESC\", [projectID])\n",
    "    result = []\n",
    "    rows = cur.fetchall()\n",
    "    for row in rows:\n",
    "        result.append(getCPATargetByRow(row))\n",
    "    return result\n",
    "def getCPATargetByRow(row):\n",
    "    return {'targetstatus': row[0], 'targetid': row[1], 'targetname': row[2]}"
   ]
  },
  {
   "cell_type": "code",
   "execution_count": 3,
   "metadata": {
    "collapsed": true
   },
   "outputs": [],
   "source": [
    "allDomainsStats = []"
   ]
  },
  {
   "cell_type": "code",
   "execution_count": 10,
   "metadata": {
    "collapsed": false
   },
   "outputs": [
    {
     "name": "stdout",
     "output_type": "stream",
     "text": [
      "[{'metrikalogin': '', 'projectid': 2236050L, 'domain': 'doorlock.ru', 'metrikapassword': ''}, {'metrikalogin': 'doorlockru', 'projectid': 2236303L, 'domain': 'doorlock.ru', 'metrikapassword': 'Asdqwe9'}, {'metrikalogin': '', 'projectid': 2236707L, 'domain': 'doorlock.ru', 'metrikapassword': ''}, {'metrikalogin': 'doorlockru', 'projectid': 2363184L, 'domain': 'doorlock.ru', 'metrikapassword': 'Asdqwe9'}]\n"
     ]
    }
   ],
   "source": [
    "project = u'doorlock.ru'\n",
    "VipProjectInfo = getVipProjectByDomain(project)\n",
    "print VipProjectInfo"
   ]
  },
  {
   "cell_type": "code",
   "execution_count": 15,
   "metadata": {
    "collapsed": false
   },
   "outputs": [
    {
     "name": "stdout",
     "output_type": "stream",
     "text": [
      "{'Token': u'234c2324fb7b4139ba79c2b43be01076', 'counterID': [36936]}\n"
     ]
    }
   ],
   "source": [
    "metrikaCredentials = getMetrikaCredentialsByLPD({'yandexLogin':VipProjectInfo[1]['metrikalogin'],'yandexPassword':VipProjectInfo[1]['metrikapassword'],'domain':VipProjectInfo[1]['domain']})\n",
    "print metrikaCredentials"
   ]
  },
  {
   "cell_type": "markdown",
   "metadata": {},
   "source": [
    "Получаем статистику Яндекс.Метрики по пользователям"
   ]
  },
  {
   "cell_type": "code",
   "execution_count": 16,
   "metadata": {
    "collapsed": false
   },
   "outputs": [
    {
     "name": "stdout",
     "output_type": "stream",
     "text": [
      "https://beta.api-metrika.yandex.ru/stat/v1/data.csv?dimensions=ym:s:userIDHash,ym:s:dateTime,ym:s:UTMSource,ym:s:UTMMedium,ym:s:UTMContent,ym:s:UTMTerm&metrics=ym:s:visits,ym:s:goal2309269visits&date1=2016-01-01&date2=2016-03-30&ids=36936&oauth_token=234c2324fb7b4139ba79c2b43be01076&limit=100000&offset=1&filters=ym:s:UTMSource=='cubo'\n",
      "62277\n",
      "56.0\n"
     ]
    }
   ],
   "source": [
    "goalsMetrics = ','.join(['ym:s:goal'+str(target['targetid'])+'visits' for target in getCPATargetsByProjectID(VipProjectInfo[1]['projectid'])])\n",
    "otherMetrics = 'ym:s:visits'\n",
    "metrics = ','.join([otherMetrics,goalsMetrics])\n",
    "dimensions='ym:s:userIDHash,ym:s:dateTime,ym:s:UTMSource,ym:s:UTMMedium,ym:s:UTMContent,ym:s:UTMTerm'\n",
    "date1 = '2016-01-01'\n",
    "date2 = '2016-03-30'\n",
    "token = metrikaCredentials['Token']\n",
    "counterId = metrikaCredentials['counterID'][0]\n",
    "params = '&'.join(['dimensions={0}'.format(dimensions),\n",
    "                   'metrics={0}'.format(metrics),\n",
    "                   'date1={0}'.format(date1),\n",
    "                  'date2={0}'.format(date2),\n",
    "                  'ids={0}'.format(counterId),\n",
    "                  'oauth_token={0}'.format(token),\n",
    "                  'limit=100000',\n",
    "                  'offset=1',\n",
    "                  \"filters=ym:s:UTMSource=='cubo'\"])\n",
    "url = 'https://beta.api-metrika.yandex.ru/stat/v1/data.csv?'+params\n",
    "print url\n",
    "df = pd.read_csv(url,encoding='utf8')\n",
    "print len(df)\n",
    "if len(df) < 500:\n",
    "    print 'Not enough data'\n",
    "else:\n",
    "    df.rename(columns={u'﻿\"Идентификатор посетителя (uid)\"': 'userID',\n",
    "                        u'Дата и время визита': 'datetime',\n",
    "                        u'Визиты': 'visits'\n",
    "                       }, inplace=True)\n",
    "    for i in xrange(0,len(df)):\n",
    "        df.loc[i,'sumCPAVisits'] = df.loc[i,[column for column in df.columns if u'Целевые визиты' in column]].sum()\n",
    "    df['domain'] = VipProjectInfo[0]['domain']\n",
    "    df = df[~df[u'userID'].isin([u'Итого и средние'])]\n",
    "    cpaVisitsCount = df['sumCPAVisits'].sum()\n",
    "    print cpaVisitsCount\n",
    "    df = df[~df[u'UTM Content'].isin([u'{PTYPE}.{POS}.{BM}',\n",
    "                                      u'{keyword}.{position_type}.{position}.{addphrases}',\n",
    "                                      '{PHRASE}.{PTYPE}.{POS}.{BM}',\n",
    "                                      '{position_type}.{position}.{addphrases}'])]"
   ]
  },
  {
   "cell_type": "code",
   "execution_count": 11,
   "metadata": {
    "collapsed": false
   },
   "outputs": [],
   "source": [
    "df.to_excel('D:\\\\mk.xlsx')"
   ]
  },
  {
   "cell_type": "code",
   "execution_count": 17,
   "metadata": {
    "collapsed": false
   },
   "outputs": [
    {
     "name": "stderr",
     "output_type": "stream",
     "text": [
      "C:\\Users\\aleksey.makarov\\AppData\\Local\\Continuum\\Anaconda\\lib\\site-packages\\IPython\\kernel\\__main__.py:26: SettingWithCopyWarning: \n",
      "A value is trying to be set on a copy of a slice from a DataFrame\n",
      "\n",
      "See the caveats in the documentation: http://pandas.pydata.org/pandas-docs/stable/indexing.html#indexing-view-versus-copy\n"
     ]
    }
   ],
   "source": [
    "# Оставляем в статистике только пользователей с достижениями целей > 0\n",
    "userStat = df[['userID','sumCPAVisits']].groupby([u'userID'],as_index=False).sum()\n",
    "df2 = df[df[u'userID'].isin(userStat[userStat['sumCPAVisits'] > 0]['userID'])]\n",
    "usersWithConversionsCount = len(df2['userID'].unique())\n",
    "# Оставляем в статистике только пользователей с достижениями целей > 0 и количеством посещений > 1 \n",
    "usersWithMore1visits = (df2['userID'].value_counts() > 1)\n",
    "df3 = df[df[u'userID'].isin(usersWithMore1visits[usersWithMore1visits == True].index)]\n",
    "# Если в статистике осталось > 0 записей, то\n",
    "if len(df3) > 0:\n",
    "    final_df = df3[['userID','datetime','UTM Source','UTM Content','UTM Term','visits','sumCPAVisits','domain']]\n",
    "#     Получаем статистику пользователей, у которых есть посещения с разными utm-метками\n",
    "    needUsers = (pd.DataFrame([list(item) for item in final_df.groupby(['userID','UTM Source','UTM Content','UTM Term']).groups.keys()])[0].value_counts() > 1)\n",
    "    df_need = final_df[final_df['userID'].isin(needUsers[needUsers].index)]\n",
    "    if len(df_need) > 0:\n",
    "        itogo_df = pd.DataFrame()\n",
    "        # Для каждого пользователя получаем его статистику и убираем с конца посещения, у которых 0 достижений целей\n",
    "        for user in df_need['userID'].unique():\n",
    "            small_df = df_need[df_need['userID'] == user]\n",
    "            t = True\n",
    "            while t:\n",
    "                small_df.reset_index(drop=True)\n",
    "                last_row = small_df.tail(1)\n",
    "                if last_row['sumCPAVisits'].values[0] > 0.0:\n",
    "                    t = False\n",
    "                else:\n",
    "                    small_df.drop(small_df.tail(1)['sumCPAVisits'].index,inplace=True)\n",
    "            itogo_df = pd.concat([itogo_df,small_df])\n",
    "        usersWithMore1visits = (itogo_df['userID'].value_counts() > 1)\n",
    "        itogo_df = itogo_df[itogo_df[u'userID'].isin(usersWithMore1visits[usersWithMore1visits == True].index)]\n",
    "        if len(itogo_df) == 0:\n",
    "            print 'No associated conversions'\n",
    "    else:\n",
    "        print 'No associated conversions'\n",
    "else:\n",
    "    print 'No users with conversions and more than 1 visits'"
   ]
  },
  {
   "cell_type": "code",
   "execution_count": 18,
   "metadata": {
    "collapsed": false
   },
   "outputs": [
    {
     "data": {
      "text/html": [
       "<div>\n",
       "<table border=\"1\" class=\"dataframe\">\n",
       "  <thead>\n",
       "    <tr style=\"text-align: right;\">\n",
       "      <th></th>\n",
       "      <th>userID</th>\n",
       "      <th>datetime</th>\n",
       "      <th>UTM Source</th>\n",
       "      <th>UTM Content</th>\n",
       "      <th>UTM Term</th>\n",
       "      <th>visits</th>\n",
       "      <th>sumCPAVisits</th>\n",
       "      <th>domain</th>\n",
       "    </tr>\n",
       "  </thead>\n",
       "  <tbody>\n",
       "    <tr>\n",
       "      <th>2009</th>\n",
       "      <td>147434581</td>\n",
       "      <td>2016-01-31 15:54:04</td>\n",
       "      <td>cubo</td>\n",
       "      <td>none.0.no</td>\n",
       "      <td>механизм для раздвижных межкомнатных дверей</td>\n",
       "      <td>1</td>\n",
       "      <td>1</td>\n",
       "      <td>doorlock.ru</td>\n",
       "    </tr>\n",
       "    <tr>\n",
       "      <th>2010</th>\n",
       "      <td>147434581</td>\n",
       "      <td>2016-02-01 18:31:00</td>\n",
       "      <td>cubo</td>\n",
       "      <td>Не определено</td>\n",
       "      <td>Не определено</td>\n",
       "      <td>1</td>\n",
       "      <td>1</td>\n",
       "      <td>doorlock.ru</td>\n",
       "    </tr>\n",
       "    <tr>\n",
       "      <th>2332</th>\n",
       "      <td>174816717</td>\n",
       "      <td>2016-03-05 15:37:12</td>\n",
       "      <td>cubo</td>\n",
       "      <td>none.0.no</td>\n",
       "      <td>трос для велосипеда</td>\n",
       "      <td>1</td>\n",
       "      <td>0</td>\n",
       "      <td>doorlock.ru</td>\n",
       "    </tr>\n",
       "    <tr>\n",
       "      <th>2333</th>\n",
       "      <td>174816717</td>\n",
       "      <td>2016-03-06 22:39:23</td>\n",
       "      <td>cubo</td>\n",
       "      <td>none.0.no</td>\n",
       "      <td>противоугонный трос для велосипеда</td>\n",
       "      <td>1</td>\n",
       "      <td>1</td>\n",
       "      <td>doorlock.ru</td>\n",
       "    </tr>\n",
       "    <tr>\n",
       "      <th>15953</th>\n",
       "      <td>1112430346</td>\n",
       "      <td>2016-03-20 18:44:25</td>\n",
       "      <td>cubo</td>\n",
       "      <td>none.0.no</td>\n",
       "      <td>замок для велосипеда цена</td>\n",
       "      <td>1</td>\n",
       "      <td>1</td>\n",
       "      <td>doorlock.ru</td>\n",
       "    </tr>\n",
       "    <tr>\n",
       "      <th>15954</th>\n",
       "      <td>1112430346</td>\n",
       "      <td>2016-03-20 19:04:19</td>\n",
       "      <td>cubo</td>\n",
       "      <td>none.0.no</td>\n",
       "      <td>велосипедный замок</td>\n",
       "      <td>1</td>\n",
       "      <td>1</td>\n",
       "      <td>doorlock.ru</td>\n",
       "    </tr>\n",
       "    <tr>\n",
       "      <th>17330</th>\n",
       "      <td>1199481224</td>\n",
       "      <td>2016-03-14 21:29:16</td>\n",
       "      <td>cubo</td>\n",
       "      <td>none.0.no</td>\n",
       "      <td>велозамок купить</td>\n",
       "      <td>1</td>\n",
       "      <td>0</td>\n",
       "      <td>doorlock.ru</td>\n",
       "    </tr>\n",
       "    <tr>\n",
       "      <th>17331</th>\n",
       "      <td>1199481224</td>\n",
       "      <td>2016-03-15 08:56:59</td>\n",
       "      <td>cubo</td>\n",
       "      <td>none.0.no</td>\n",
       "      <td>велозамок цепь</td>\n",
       "      <td>1</td>\n",
       "      <td>0</td>\n",
       "      <td>doorlock.ru</td>\n",
       "    </tr>\n",
       "    <tr>\n",
       "      <th>17332</th>\n",
       "      <td>1199481224</td>\n",
       "      <td>2016-03-24 18:15:52</td>\n",
       "      <td>cubo</td>\n",
       "      <td>none.0.no</td>\n",
       "      <td>замок велосипедный противоугонный</td>\n",
       "      <td>1</td>\n",
       "      <td>0</td>\n",
       "      <td>doorlock.ru</td>\n",
       "    </tr>\n",
       "    <tr>\n",
       "      <th>17333</th>\n",
       "      <td>1199481224</td>\n",
       "      <td>2016-03-27 07:43:37</td>\n",
       "      <td>cubo</td>\n",
       "      <td>none.0.no</td>\n",
       "      <td>велосипедная цепь с замком</td>\n",
       "      <td>1</td>\n",
       "      <td>1</td>\n",
       "      <td>doorlock.ru</td>\n",
       "    </tr>\n",
       "    <tr>\n",
       "      <th>18499</th>\n",
       "      <td>1278863406</td>\n",
       "      <td>2016-03-11 05:06:01</td>\n",
       "      <td>cubo</td>\n",
       "      <td>none.0.no</td>\n",
       "      <td>навесной кодовый замок</td>\n",
       "      <td>1</td>\n",
       "      <td>0</td>\n",
       "      <td>doorlock.ru</td>\n",
       "    </tr>\n",
       "    <tr>\n",
       "      <th>18500</th>\n",
       "      <td>1278863406</td>\n",
       "      <td>2016-03-11 05:37:22</td>\n",
       "      <td>cubo</td>\n",
       "      <td>none.0.no</td>\n",
       "      <td>навесной кодовый замок</td>\n",
       "      <td>1</td>\n",
       "      <td>1</td>\n",
       "      <td>doorlock.ru</td>\n",
       "    </tr>\n",
       "    <tr>\n",
       "      <th>20097</th>\n",
       "      <td>1392351331</td>\n",
       "      <td>2016-03-19 16:39:17</td>\n",
       "      <td>cubo</td>\n",
       "      <td>den braven герметик.premium.1.no</td>\n",
       "      <td>Не определено</td>\n",
       "      <td>1</td>\n",
       "      <td>0</td>\n",
       "      <td>doorlock.ru</td>\n",
       "    </tr>\n",
       "    <tr>\n",
       "      <th>20098</th>\n",
       "      <td>1392351331</td>\n",
       "      <td>2016-03-19 17:06:52</td>\n",
       "      <td>cubo</td>\n",
       "      <td>den braven герметик.premium.2.no</td>\n",
       "      <td>Не определено</td>\n",
       "      <td>1</td>\n",
       "      <td>1</td>\n",
       "      <td>doorlock.ru</td>\n",
       "    </tr>\n",
       "    <tr>\n",
       "      <th>40141</th>\n",
       "      <td>2780487045</td>\n",
       "      <td>2016-01-15 14:02:54</td>\n",
       "      <td>cubo</td>\n",
       "      <td>kaba ru.premium.2.no</td>\n",
       "      <td>Не определено</td>\n",
       "      <td>1</td>\n",
       "      <td>0</td>\n",
       "      <td>doorlock.ru</td>\n",
       "    </tr>\n",
       "    <tr>\n",
       "      <th>40142</th>\n",
       "      <td>2780487045</td>\n",
       "      <td>2016-01-29 11:31:25</td>\n",
       "      <td>cubo</td>\n",
       "      <td>ручка hoppe.other.1.no</td>\n",
       "      <td>Не определено</td>\n",
       "      <td>1</td>\n",
       "      <td>1</td>\n",
       "      <td>doorlock.ru</td>\n",
       "    </tr>\n",
       "  </tbody>\n",
       "</table>\n",
       "</div>"
      ],
      "text/plain": [
       "           userID             datetime UTM Source  \\\n",
       "2009    147434581  2016-01-31 15:54:04       cubo   \n",
       "2010    147434581  2016-02-01 18:31:00       cubo   \n",
       "2332    174816717  2016-03-05 15:37:12       cubo   \n",
       "2333    174816717  2016-03-06 22:39:23       cubo   \n",
       "15953  1112430346  2016-03-20 18:44:25       cubo   \n",
       "15954  1112430346  2016-03-20 19:04:19       cubo   \n",
       "17330  1199481224  2016-03-14 21:29:16       cubo   \n",
       "17331  1199481224  2016-03-15 08:56:59       cubo   \n",
       "17332  1199481224  2016-03-24 18:15:52       cubo   \n",
       "17333  1199481224  2016-03-27 07:43:37       cubo   \n",
       "18499  1278863406  2016-03-11 05:06:01       cubo   \n",
       "18500  1278863406  2016-03-11 05:37:22       cubo   \n",
       "20097  1392351331  2016-03-19 16:39:17       cubo   \n",
       "20098  1392351331  2016-03-19 17:06:52       cubo   \n",
       "40141  2780487045  2016-01-15 14:02:54       cubo   \n",
       "40142  2780487045  2016-01-29 11:31:25       cubo   \n",
       "\n",
       "                            UTM Content  \\\n",
       "2009                          none.0.no   \n",
       "2010                      Не определено   \n",
       "2332                          none.0.no   \n",
       "2333                          none.0.no   \n",
       "15953                         none.0.no   \n",
       "15954                         none.0.no   \n",
       "17330                         none.0.no   \n",
       "17331                         none.0.no   \n",
       "17332                         none.0.no   \n",
       "17333                         none.0.no   \n",
       "18499                         none.0.no   \n",
       "18500                         none.0.no   \n",
       "20097  den braven герметик.premium.1.no   \n",
       "20098  den braven герметик.premium.2.no   \n",
       "40141              kaba ru.premium.2.no   \n",
       "40142            ручка hoppe.other.1.no   \n",
       "\n",
       "                                          UTM Term  visits  sumCPAVisits  \\\n",
       "2009   механизм для раздвижных межкомнатных дверей       1             1   \n",
       "2010                                 Не определено       1             1   \n",
       "2332                           трос для велосипеда       1             0   \n",
       "2333            противоугонный трос для велосипеда       1             1   \n",
       "15953                    замок для велосипеда цена       1             1   \n",
       "15954                           велосипедный замок       1             1   \n",
       "17330                             велозамок купить       1             0   \n",
       "17331                               велозамок цепь       1             0   \n",
       "17332            замок велосипедный противоугонный       1             0   \n",
       "17333                   велосипедная цепь с замком       1             1   \n",
       "18499                       навесной кодовый замок       1             0   \n",
       "18500                       навесной кодовый замок       1             1   \n",
       "20097                                Не определено       1             0   \n",
       "20098                                Не определено       1             1   \n",
       "40141                                Не определено       1             0   \n",
       "40142                                Не определено       1             1   \n",
       "\n",
       "            domain  \n",
       "2009   doorlock.ru  \n",
       "2010   doorlock.ru  \n",
       "2332   doorlock.ru  \n",
       "2333   doorlock.ru  \n",
       "15953  doorlock.ru  \n",
       "15954  doorlock.ru  \n",
       "17330  doorlock.ru  \n",
       "17331  doorlock.ru  \n",
       "17332  doorlock.ru  \n",
       "17333  doorlock.ru  \n",
       "18499  doorlock.ru  \n",
       "18500  doorlock.ru  \n",
       "20097  doorlock.ru  \n",
       "20098  doorlock.ru  \n",
       "40141  doorlock.ru  \n",
       "40142  doorlock.ru  "
      ]
     },
     "execution_count": 18,
     "metadata": {},
     "output_type": "execute_result"
    }
   ],
   "source": [
    "itogo_df"
   ]
  },
  {
   "cell_type": "code",
   "execution_count": 17,
   "metadata": {
    "collapsed": false
   },
   "outputs": [],
   "source": [
    "itogo_df.to_clipboard(excel=True,encoding='cp1251')"
   ]
  },
  {
   "cell_type": "code",
   "execution_count": 19,
   "metadata": {
    "collapsed": false,
    "scrolled": false
   },
   "outputs": [],
   "source": [
    "domainStatistics = {'Domain':VipProjectInfo[0]['domain'],\n",
    "                    'All conversions':cpaVisitsCount,\n",
    "                    'All users with conversions':usersWithConversionsCount,\n",
    "                   'Unique users with associated conversions':len(itogo_df['userID'].unique()),\n",
    "                   'Conversions of associated conversions users':itogo_df['sumCPAVisits'].sum(),\n",
    "                   'Percent of associated conversions':itogo_df['sumCPAVisits'].sum()/cpaVisitsCount}\n",
    "allDomainsStats.append(domainStatistics)\n",
    "pd.DataFrame(allDomainsStats).to_clipboard(excel=True,encoding='cp1251')"
   ]
  },
  {
   "cell_type": "code",
   "execution_count": null,
   "metadata": {
    "collapsed": true
   },
   "outputs": [],
   "source": []
  }
 ],
 "metadata": {
  "kernelspec": {
   "display_name": "Python 2",
   "language": "python",
   "name": "python2"
  },
  "language_info": {
   "codemirror_mode": {
    "name": "ipython",
    "version": 2
   },
   "file_extension": ".py",
   "mimetype": "text/x-python",
   "name": "python",
   "nbconvert_exporter": "python",
   "pygments_lexer": "ipython2",
   "version": "2.7.11"
  }
 },
 "nbformat": 4,
 "nbformat_minor": 0
}
