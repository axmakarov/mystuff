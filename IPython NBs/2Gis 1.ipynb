{
 "cells": [
  {
   "cell_type": "code",
   "execution_count": 17,
   "metadata": {
    "collapsed": true
   },
   "outputs": [],
   "source": [
    "site = 'poselkispb.ru'\n",
    "region = 'Москва'"
   ]
  },
  {
   "cell_type": "code",
   "execution_count": 2,
   "metadata": {
    "collapsed": true
   },
   "outputs": [],
   "source": [
    "import requests\n",
    "import json\n",
    "import pandas as pd"
   ]
  },
  {
   "cell_type": "code",
   "execution_count": 6,
   "metadata": {
    "collapsed": true
   },
   "outputs": [],
   "source": [
    "r = requests.get(url)"
   ]
  },
  {
   "cell_type": "code",
   "execution_count": 20,
   "metadata": {
    "collapsed": false
   },
   "outputs": [],
   "source": [
    "def get2GisRubricsByDomain(site,region):\n",
    "    url = 'http://catalog.api.2gis.ru/search?what={0}&where={1}&version=1.3&key=ruffzo9376'.format(site,region)\n",
    "    data = json.loads(requests.get(url).text)\n",
    "    if 'result' in data.keys():\n",
    "        if 'rubrics' in data['result'][0].keys():\n",
    "            return data['result'][0]['rubrics']\n",
    "        else:\n",
    "            return []\n",
    "    else:\n",
    "        return []"
   ]
  },
  {
   "cell_type": "code",
   "execution_count": 18,
   "metadata": {
    "collapsed": false
   },
   "outputs": [
    {
     "data": {
      "text/plain": [
       "[]"
      ]
     },
     "execution_count": 18,
     "metadata": {},
     "output_type": "execute_result"
    }
   ],
   "source": [
    "get2GisRubricsByDomain(site,region)"
   ]
  },
  {
   "cell_type": "code",
   "execution_count": 21,
   "metadata": {
    "collapsed": false
   },
   "outputs": [
    {
     "name": "stdout",
     "output_type": "stream",
     "text": [
      "1\n",
      "2\n",
      "3\n",
      "4\n",
      "5\n",
      "6\n",
      "7\n",
      "8\n",
      "9\n",
      "10\n",
      "11\n",
      "12\n",
      "13\n",
      "14\n",
      "15\n",
      "16\n",
      "17\n",
      "18\n",
      "19\n",
      "20\n",
      "21\n",
      "22\n",
      "23\n",
      "24\n",
      "25\n",
      "26\n",
      "27\n",
      "28\n",
      "29\n",
      "30\n",
      "31\n",
      "32\n",
      "33\n",
      "34\n",
      "35\n",
      "36\n",
      "37\n",
      "38\n",
      "39\n",
      "40\n",
      "41\n",
      "42\n",
      "43\n",
      "44\n",
      "45\n",
      "46\n",
      "47\n",
      "48\n",
      "49\n",
      "50\n",
      "51\n",
      "52\n",
      "53\n",
      "54\n",
      "55\n",
      "56\n",
      "57\n",
      "58\n",
      "59\n",
      "60\n",
      "61\n",
      "62\n",
      "63\n",
      "64\n",
      "65\n",
      "66\n",
      "67\n",
      "68\n",
      "69\n",
      "70\n",
      "71\n",
      "72\n",
      "73\n",
      "74\n",
      "75\n",
      "76\n",
      "77\n",
      "78\n",
      "79\n",
      "80\n",
      "81\n",
      "82\n",
      "83\n",
      "84\n",
      "85\n",
      "86\n",
      "87\n",
      "88\n",
      "89\n",
      "90\n",
      "91\n",
      "92\n",
      "93\n",
      "94\n",
      "95\n",
      "96\n",
      "97\n",
      "98\n",
      "99\n",
      "100\n",
      "101\n",
      "102\n",
      "103\n",
      "104\n",
      "105\n",
      "106\n",
      "107\n",
      "108\n",
      "109\n",
      "110\n",
      "111\n",
      "112\n",
      "113\n",
      "114\n",
      "115\n",
      "116\n",
      "117\n",
      "118\n",
      "119\n",
      "120\n",
      "121\n",
      "122\n",
      "123\n",
      "124\n",
      "125\n",
      "126\n",
      "127\n",
      "128\n",
      "129\n",
      "130\n",
      "131\n",
      "132\n",
      "133\n",
      "134\n",
      "135\n",
      "136\n",
      "137\n",
      "138\n",
      "139\n",
      "140\n",
      "141\n",
      "142\n",
      "143\n",
      "144\n",
      "145\n",
      "146\n",
      "147\n",
      "148\n",
      "149\n"
     ]
    }
   ],
   "source": [
    "sites = ['elex.ru','danielonline.ru','jacobdelafon.ru','el-com.ru','firmato.ru','haier.com','petrovichclub.ru','citymarket.ru','5055299.ru','electro-nika.com','parlux.ru','santehas.ru','rendez-vous.ru','genmaster.ru','imt-realestate.ru','tehnokon.ru','eurogalant.ru','korting.ru','ameres.ru','brw.ru','arsenal-sb.ru','home.lepota-rus.ru','lr4x4.ru','pecom.ru','sneakerhead.ru','nasos-kotel.ru','magelan.pro','alemar-realty.ru','omegadent.ru','divano.ru','royalspirit.ru','eco-dostavka24.ru','morena.ru','rdstroy.ru','marand.msk.ru','duslar.biz','medoblako.ru','podarki.ru','takoysport.ru','usnul.com','clockwerk.ru','bellalavita.ru','autonew16.ru','cvetydushi.ru','t4l.ru','knauf-skk.ru','mpodarim.ru','sklad-express.ru','expresslight.ru','kariguz.ru','forum3.ru','alfastrah.ru','moy-rebenok.ru','123magazin.ru','digimarket.ru','kedar.ru','larmana.ru','gidro.ru','mebel-relax.ru','delivery-club.ru','cooline.ru','dyatkovo.ru','istoksochi.ru','instrumtorg.ru','homeclinics.ru','in-lavka.ru','inlavka.ru','buybrand.ru','s-shina.ru','z-dama.ru','honda.co.ru','moon-trade.ru','spa-online.ru','elegant.ru','gladhome.ru','taismc.com','tskdiplomat.ru','modul-ek.ru','avk-parket.ru','fan-ceramica.ru','apteka-leko.ru','nbsrf.ru','urbangroup.ru','food-service.ru','trio.ru','wildberries.ru','domo.ru','edimdoma.ru','obmen.ru','poselkispb.ru','babymouse.ru','pxel.ru','futurebest.ru','itonline.kz','podguznik.ru','tkaerobus.ru','santehnika-24.ru','40nog.ru','moyatachka.ru','lucia-shop.ru','hlprof.ru','dachnikof.ru','wodolei.ru','milanomoda.ru','respectgym.ru','emexpress.ru','tour.tbg.travel','westland.ru','imedclin.ru','ampir.ru','sah-zx.ru','shop.be-baby.ru','espanola.ru','muzdevice.ru','xme.ru','colorcom.ru','zetta.ru','unimart24.ru','indadom.ru','raduga96.ru','rustechnics.ru','prof-generator.ru','svetmart.ru','tk-kipor.ru','abc-medicina.com','teoremastyle.ru','dverinaminke.ru','pitertel.ru','energoprib.ru','chaika.ru','grandmilanostudio.ru','medisra.ru','assorti-market.ru','l-proekt.com','shop.ecvols.ru','megamebel.com','goodpetfood.ru','stroyseven.ru','mzmarket-shop.ru','gid-master.ru','akvilona.ru','evaco-m.ru','moyki-prima.ru','dveri-ms.ru','aquatis-clean.ru','tuning-obves.ru','farforposuda.ru','imedexpert.ru','asonta.ru']\n",
    "sitesData = []\n",
    "cnt = 1\n",
    "for site in sites:\n",
    "    print cnt\n",
    "    cnt += 1\n",
    "    region = 'Москва'\n",
    "    data = get2GisRubricsByDomain(site,region)\n",
    "    if len(data) > 0:\n",
    "        sitesData.append({'site':site,'rubrics':data})\n",
    "        continue\n",
    "    else:\n",
    "        region = 'Санкт-Петербург'\n",
    "        data = get2GisRubricsByDomain(site,region)\n",
    "        sitesData.append({'site':site,'rubrics':data})"
   ]
  },
  {
   "cell_type": "code",
   "execution_count": 24,
   "metadata": {
    "collapsed": false
   },
   "outputs": [],
   "source": [
    "pd.DataFrame(sitesData).to_csv('D:\\\\2016-01-28_2gisRubrics.csv',sep=';',encoding='cp1251')"
   ]
  },
  {
   "cell_type": "code",
   "execution_count": null,
   "metadata": {
    "collapsed": true
   },
   "outputs": [],
   "source": []
  }
 ],
 "metadata": {
  "kernelspec": {
   "display_name": "Python 2",
   "language": "python",
   "name": "python2"
  },
  "language_info": {
   "codemirror_mode": {
    "name": "ipython",
    "version": 2
   },
   "file_extension": ".py",
   "mimetype": "text/x-python",
   "name": "python",
   "nbconvert_exporter": "python",
   "pygments_lexer": "ipython2",
   "version": "2.7.11"
  }
 },
 "nbformat": 4,
 "nbformat_minor": 0
}
