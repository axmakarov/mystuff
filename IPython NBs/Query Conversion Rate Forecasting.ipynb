{
 "cells": [
  {
   "cell_type": "code",
   "execution_count": 306,
   "metadata": {
    "collapsed": true
   },
   "outputs": [],
   "source": [
    "import pandas as pd\n",
    "import json\n",
    "import numpy as np"
   ]
  },
  {
   "cell_type": "code",
   "execution_count": 307,
   "metadata": {
    "collapsed": false
   },
   "outputs": [],
   "source": [
    "from os import listdir\n",
    "from os.path import isfile, join\n",
    "mypath = u'C:\\\\Users\\\\aleksey.makarov\\\\Desktop\\\\2016-03\\\\Прогноз конверсии по ключевым фразам\\\\2016-03-18\\\\WithForecasts\\\\'\n",
    "onlyfiles = [f for f in listdir(mypath) if isfile(join(mypath, f))]"
   ]
  },
  {
   "cell_type": "code",
   "execution_count": 308,
   "metadata": {
    "collapsed": false
   },
   "outputs": [],
   "source": [
    "data = []\n",
    "for f1 in onlyfiles:\n",
    "    with open(mypath+f1,'r+') as f:\n",
    "        small_data = json.load(f)\n",
    "        for item in small_data:\n",
    "            item['period'] = f1.replace('.json','').split('_')[1]+'_'+f1.replace('.json','').split('_')[2]\n",
    "            item['domain_file'] = f1.replace('.json','').split('_')[0]\n",
    "        data += small_data"
   ]
  },
  {
   "cell_type": "code",
   "execution_count": 309,
   "metadata": {
    "collapsed": true
   },
   "outputs": [],
   "source": [
    "for item in data:\n",
    "    if item['BroadForecasts'] and len(item['BroadForecasts']) > 0:\n",
    "        for k,v in item['BroadForecasts'][0].iteritems():\n",
    "            item['BroadForecasts'+k] = v\n",
    "    if item['ExactForecasts'] and len(item['ExactForecasts']) > 0:\n",
    "        for k,v in item['ExactForecasts'][0].iteritems():\n",
    "            item['ExactForecasts'+k] = v\n",
    "    if item['PageBehaviorFactors'] and len(item['PageBehaviorFactors']) > 0:\n",
    "        for k,v in item['PageBehaviorFactors'][0].iteritems():\n",
    "            item['PageBehaviorFactors'+k] = v"
   ]
  },
  {
   "cell_type": "code",
   "execution_count": 310,
   "metadata": {
    "collapsed": true
   },
   "outputs": [],
   "source": [
    "df = pd.DataFrame(data)"
   ]
  },
  {
   "cell_type": "code",
   "execution_count": 311,
   "metadata": {
    "collapsed": false
   },
   "outputs": [],
   "source": [
    "df2 = pd.read_csv(u'C:\\\\Users\\\\aleksey.makarov\\\\Desktop\\\\2016-03\\\\Прогноз конверсии по ключевым фразам\\\\cpa_goals_cnt.txt',encoding='utf8',sep='\\t')"
   ]
  },
  {
   "cell_type": "code",
   "execution_count": 312,
   "metadata": {
    "collapsed": false
   },
   "outputs": [],
   "source": [
    "result = pd.merge(df, df2, on=['Site'])"
   ]
  },
  {
   "cell_type": "code",
   "execution_count": 313,
   "metadata": {
    "collapsed": true
   },
   "outputs": [],
   "source": [
    "result2 = result[result['cpacnt'] > 0]"
   ]
  },
  {
   "cell_type": "code",
   "execution_count": 314,
   "metadata": {
    "collapsed": false
   },
   "outputs": [
    {
     "name": "stderr",
     "output_type": "stream",
     "text": [
      "C:\\Users\\aleksey.makarov\\AppData\\Local\\Continuum\\Anaconda\\lib\\site-packages\\IPython\\kernel\\__main__.py:1: SettingWithCopyWarning: \n",
      "A value is trying to be set on a copy of a slice from a DataFrame.\n",
      "Try using .loc[row_indexer,col_indexer] = value instead\n",
      "\n",
      "See the caveats in the documentation: http://pandas.pydata.org/pandas-docs/stable/indexing.html#indexing-view-versus-copy\n",
      "  if __name__ == '__main__':\n",
      "C:\\Users\\aleksey.makarov\\AppData\\Local\\Continuum\\Anaconda\\lib\\site-packages\\IPython\\kernel\\__main__.py:2: SettingWithCopyWarning: \n",
      "A value is trying to be set on a copy of a slice from a DataFrame.\n",
      "Try using .loc[row_indexer,col_indexer] = value instead\n",
      "\n",
      "See the caveats in the documentation: http://pandas.pydata.org/pandas-docs/stable/indexing.html#indexing-view-versus-copy\n",
      "  from IPython.kernel.zmq import kernelapp as app\n",
      "C:\\Users\\aleksey.makarov\\AppData\\Local\\Continuum\\Anaconda\\lib\\site-packages\\IPython\\kernel\\__main__.py:3: SettingWithCopyWarning: \n",
      "A value is trying to be set on a copy of a slice from a DataFrame.\n",
      "Try using .loc[row_indexer,col_indexer] = value instead\n",
      "\n",
      "See the caveats in the documentation: http://pandas.pydata.org/pandas-docs/stable/indexing.html#indexing-view-versus-copy\n",
      "  app.launch_new_instance()\n"
     ]
    }
   ],
   "source": [
    "result2['PageBehaviorFactorsAvgVisitDurationSeconds'] = result2['PageBehaviorFactorsAvgVisitDurationSeconds'].fillna(result2['PageBehaviorFactorsAvgVisitDurationSeconds'].mean())\n",
    "result2['PageBehaviorFactorsBounceRate'] = result2['PageBehaviorFactorsBounceRate'].fillna(result2['PageBehaviorFactorsBounceRate'].mean())\n",
    "result2['PageBehaviorFactorsPageDepth'] = result2['PageBehaviorFactorsPageDepth'].fillna(result2['PageBehaviorFactorsPageDepth'].mean())"
   ]
  },
  {
   "cell_type": "code",
   "execution_count": 315,
   "metadata": {
    "collapsed": false
   },
   "outputs": [
    {
     "name": "stderr",
     "output_type": "stream",
     "text": [
      "C:\\Users\\aleksey.makarov\\AppData\\Local\\Continuum\\Anaconda\\lib\\site-packages\\IPython\\kernel\\__main__.py:1: SettingWithCopyWarning: \n",
      "A value is trying to be set on a copy of a slice from a DataFrame.\n",
      "Try using .loc[row_indexer,col_indexer] = value instead\n",
      "\n",
      "See the caveats in the documentation: http://pandas.pydata.org/pandas-docs/stable/indexing.html#indexing-view-versus-copy\n",
      "  if __name__ == '__main__':\n"
     ]
    }
   ],
   "source": [
    "result2['IsGeoInQuery'] = result2['IsGeoInQuery'].fillna(False)\n",
    "result2 = result2[pd.notnull(result2['IsAnyWordOnPage'])]\n",
    "result2 = result2[pd.notnull(result2['IsYandexPageEqualsOur'])]\n",
    "result2 = result2[pd.notnull(result2['B2Bb2C'])]\n",
    "result2 = result2[result2['B2Bb2C'] != '0']\n",
    "result2['DirectCpaVisits'] = pd.to_numeric(result2['DirectCpaVisits'])\n",
    "result2['IsConversion'] = result2['DirectCpaVisits'] > 0"
   ]
  },
  {
   "cell_type": "code",
   "execution_count": 316,
   "metadata": {
    "collapsed": false
   },
   "outputs": [],
   "source": [
    "result3 = result2[~result2[u'Site'].isin([u'dveri-dvernik.ru',u'dveri-dvernoy.ru',u'ecoplast.moscow','ekonomnye-okna.ru','okna-ecoplast.ru','samson-med.ru'])]"
   ]
  },
  {
   "cell_type": "code",
   "execution_count": 317,
   "metadata": {
    "collapsed": false
   },
   "outputs": [
    {
     "name": "stderr",
     "output_type": "stream",
     "text": [
      "C:\\Users\\aleksey.makarov\\AppData\\Local\\Continuum\\Anaconda\\lib\\site-packages\\IPython\\kernel\\__main__.py:1: SettingWithCopyWarning: \n",
      "A value is trying to be set on a copy of a slice from a DataFrame.\n",
      "Try using .loc[row_indexer,col_indexer] = value instead\n",
      "\n",
      "See the caveats in the documentation: http://pandas.pydata.org/pandas-docs/stable/indexing.html#indexing-view-versus-copy\n",
      "  if __name__ == '__main__':\n"
     ]
    }
   ],
   "source": [
    "result3['cnv'] = 0\n",
    "result3.loc[result3[\"IsConversion\"] == True, \"cnv\"] = 1"
   ]
  },
  {
   "cell_type": "code",
   "execution_count": 318,
   "metadata": {
    "collapsed": false
   },
   "outputs": [
    {
     "name": "stderr",
     "output_type": "stream",
     "text": [
      "C:\\Users\\aleksey.makarov\\AppData\\Local\\Continuum\\Anaconda\\lib\\site-packages\\IPython\\kernel\\__main__.py:1: SettingWithCopyWarning: \n",
      "A value is trying to be set on a copy of a slice from a DataFrame.\n",
      "Try using .loc[row_indexer,col_indexer] = value instead\n",
      "\n",
      "See the caveats in the documentation: http://pandas.pydata.org/pandas-docs/stable/indexing.html#indexing-view-versus-copy\n",
      "  if __name__ == '__main__':\n",
      "C:\\Users\\aleksey.makarov\\AppData\\Local\\Continuum\\Anaconda\\lib\\site-packages\\IPython\\kernel\\__main__.py:2: SettingWithCopyWarning: \n",
      "A value is trying to be set on a copy of a slice from a DataFrame.\n",
      "Try using .loc[row_indexer,col_indexer] = value instead\n",
      "\n",
      "See the caveats in the documentation: http://pandas.pydata.org/pandas-docs/stable/indexing.html#indexing-view-versus-copy\n",
      "  from IPython.kernel.zmq import kernelapp as app\n",
      "C:\\Users\\aleksey.makarov\\AppData\\Local\\Continuum\\Anaconda\\lib\\site-packages\\IPython\\kernel\\__main__.py:3: SettingWithCopyWarning: \n",
      "A value is trying to be set on a copy of a slice from a DataFrame.\n",
      "Try using .loc[row_indexer,col_indexer] = value instead\n",
      "\n",
      "See the caveats in the documentation: http://pandas.pydata.org/pandas-docs/stable/indexing.html#indexing-view-versus-copy\n",
      "  app.launch_new_instance()\n",
      "C:\\Users\\aleksey.makarov\\AppData\\Local\\Continuum\\Anaconda\\lib\\site-packages\\IPython\\kernel\\__main__.py:4: SettingWithCopyWarning: \n",
      "A value is trying to be set on a copy of a slice from a DataFrame.\n",
      "Try using .loc[row_indexer,col_indexer] = value instead\n",
      "\n",
      "See the caveats in the documentation: http://pandas.pydata.org/pandas-docs/stable/indexing.html#indexing-view-versus-copy\n",
      "C:\\Users\\aleksey.makarov\\AppData\\Local\\Continuum\\Anaconda\\lib\\site-packages\\IPython\\kernel\\__main__.py:5: SettingWithCopyWarning: \n",
      "A value is trying to be set on a copy of a slice from a DataFrame.\n",
      "Try using .loc[row_indexer,col_indexer] = value instead\n",
      "\n",
      "See the caveats in the documentation: http://pandas.pydata.org/pandas-docs/stable/indexing.html#indexing-view-versus-copy\n"
     ]
    }
   ],
   "source": [
    "result3['AdjCountStr'] = df['AdjCount'].apply(str)\n",
    "result3['NounCountStr'] = df['NounCount'].apply(str)\n",
    "result3['VerbCountStr'] = df['VerbCount'].apply(str)\n",
    "result3['WordsCountStr'] = df['WordsCount'].apply(str)\n",
    "result3['WordsCountWoStopWordsStr'] = df['WordsCountWoStopWords'].apply(str)"
   ]
  },
  {
   "cell_type": "code",
   "execution_count": 319,
   "metadata": {
    "collapsed": true
   },
   "outputs": [],
   "source": [
    "from sklearn import preprocessing\n",
    "result3 = result3[pd.notnull(result3['BroadForecastsMin'])]\n",
    "x = result3['BroadForecastsMin'].values.astype(float).reshape((-1, 1))\n",
    "min_max_scaler = preprocessing.MinMaxScaler()\n",
    "x_scaled = min_max_scaler.fit_transform(x)\n",
    "result3['BroadForecastsMinScaled'] = x_scaled\n",
    "result3 = result3[pd.notnull(result3['BroadForecastsPremiumMax'])]\n",
    "x = result3['BroadForecastsPremiumMax'].values.astype(float).reshape((-1, 1))\n",
    "min_max_scaler = preprocessing.MinMaxScaler()\n",
    "x_scaled = min_max_scaler.fit_transform(x)\n",
    "result3['BroadForecastsPremiumMaxScaled'] = x_scaled\n",
    "result3 = result3[pd.notnull(result3['BroadForecastsShows'])]\n",
    "x = result3['BroadForecastsShows'].values.astype(float).reshape((-1, 1))\n",
    "min_max_scaler = preprocessing.MinMaxScaler()\n",
    "x_scaled = min_max_scaler.fit_transform(x)\n",
    "result3['BroadForecastsShowsScaled'] = x_scaled\n",
    "result3 = result3[pd.notnull(result3['ExactForecastsMin'])]\n",
    "x = result3['ExactForecastsMin'].values.astype(float).reshape((-1, 1))\n",
    "min_max_scaler = preprocessing.MinMaxScaler()\n",
    "x_scaled = min_max_scaler.fit_transform(x)\n",
    "result3['ExactForecastsMinScaled'] = x_scaled\n",
    "result3 = result3[pd.notnull(result3['ExactForecastsPremiumMax'])]\n",
    "x = result3['ExactForecastsPremiumMax'].values.astype(float).reshape((-1, 1))\n",
    "min_max_scaler = preprocessing.MinMaxScaler()\n",
    "x_scaled = min_max_scaler.fit_transform(x)\n",
    "result3['ExactForecastsPremiumMaxScaled'] = x_scaled\n",
    "result3 = result3[pd.notnull(result3['ExactForecastsShows'])]\n",
    "x = result3['ExactForecastsShows'].values.astype(float).reshape((-1, 1))\n",
    "min_max_scaler = preprocessing.MinMaxScaler()\n",
    "x_scaled = min_max_scaler.fit_transform(x)\n",
    "result3['ExactForecastsShowsScaled'] = x_scaled\n",
    "x = result3['Length'].values.astype(float).reshape((-1, 1))\n",
    "min_max_scaler = preprocessing.MinMaxScaler()\n",
    "x_scaled = min_max_scaler.fit_transform(x)\n",
    "result3['LengthScaled'] = x_scaled\n",
    "x = result3['AvgWordLength'].values.astype(float).reshape((-1, 1))\n",
    "min_max_scaler = preprocessing.MinMaxScaler()\n",
    "x_scaled = min_max_scaler.fit_transform(x)\n",
    "result3['AvgWordLengthScaled'] = x_scaled"
   ]
  },
  {
   "cell_type": "code",
   "execution_count": 320,
   "metadata": {
    "collapsed": false
   },
   "outputs": [
    {
     "data": {
      "text/plain": [
       "Index([                                  u'AdjCount',\n",
       "                                    u'AvgWordLength',\n",
       "                                           u'B2Bb2C',\n",
       "                                            u'Brand',\n",
       "                                   u'BroadForecasts',\n",
       "                                u'BroadForecastsMin',\n",
       "                         u'BroadForecastsPremiumMax',\n",
       "                              u'BroadForecastsShows',\n",
       "                                       u'CampaignId',\n",
       "                                  u'DirectCpaVisits',\n",
       "                                     u'DirectVisits',\n",
       "                                   u'ExactForecasts',\n",
       "                                u'ExactForecastsMin',\n",
       "                         u'ExactForecastsPremiumMax',\n",
       "                              u'ExactForecastsShows',\n",
       "                                u'ExactShowsPercent',\n",
       "                                              u'Geo',\n",
       "                                         u'GeoNames',\n",
       "                                  u'IsAnyWordOnPage',\n",
       "                                  u'IsCommerceWords',\n",
       "                                         u'IsDigits',\n",
       "                                    u'IsDigitsInEnd',\n",
       "                                 u'IsDigitsWithWord',\n",
       "                                     u'IsGeoInQuery',\n",
       "                                       u'IsMainPage',\n",
       "                                        u'IsMoscow1',\n",
       "                                        u'IsMoscow2',\n",
       "                                    u'IsWordsOnPage',\n",
       "                            u'IsYandexPageEqualsOur',\n",
       "                                           u'Length',\n",
       "                                        u'NounCount',\n",
       "                              u'PageBehaviorFactors',\n",
       "       u'PageBehaviorFactorsAvgVisitDurationSeconds',\n",
       "                    u'PageBehaviorFactorsBounceRate',\n",
       "                     u'PageBehaviorFactorsPageDepth',\n",
       "                           u'PageBehaviorFactorsUrl',\n",
       "                         u'PageBehaviorFactorsViews',\n",
       "                        u'PageBehaviorFactorsVisits',\n",
       "                                            u'Query',\n",
       "                                    u'RoundedLength',\n",
       "                                      u'ServiceType',\n",
       "                                             u'Site',\n",
       "                                              u'Url',\n",
       "                                        u'VerbCount',\n",
       "                                       u'WordsCount',\n",
       "                            u'WordsCountWoStopWords',\n",
       "                                       u'YandexPage',\n",
       "                                      u'domain_file',\n",
       "                                           u'period',\n",
       "                                           u'cpacnt',\n",
       "                                     u'IsConversion',\n",
       "                                              u'cnv',\n",
       "                                      u'AdjCountStr',\n",
       "                                     u'NounCountStr',\n",
       "                                     u'VerbCountStr',\n",
       "                                    u'WordsCountStr',\n",
       "                         u'WordsCountWoStopWordsStr',\n",
       "                          u'BroadForecastsMinScaled',\n",
       "                   u'BroadForecastsPremiumMaxScaled',\n",
       "                        u'BroadForecastsShowsScaled',\n",
       "                          u'ExactForecastsMinScaled',\n",
       "                   u'ExactForecastsPremiumMaxScaled',\n",
       "                        u'ExactForecastsShowsScaled',\n",
       "                                     u'LengthScaled',\n",
       "                              u'AvgWordLengthScaled',\n",
       "                                              u'rfc'],\n",
       "      dtype='object')"
      ]
     },
     "execution_count": 320,
     "metadata": {},
     "output_type": "execute_result"
    }
   ],
   "source": [
    "result_train.columns"
   ]
  },
  {
   "cell_type": "code",
   "execution_count": 359,
   "metadata": {
    "collapsed": true
   },
   "outputs": [],
   "source": [
    "result_train = result3[result3['period'].isin(['01012016_01022016','01022016_01032016','01032016_15032016'])]"
   ]
  },
  {
   "cell_type": "code",
   "execution_count": 369,
   "metadata": {
    "collapsed": false
   },
   "outputs": [],
   "source": [
    "train_df = result_train[[u'B2Bb2C',u'Brand',u'IsAnyWordOnPage',u'IsCommerceWords',u'IsDigits',u'IsDigitsInEnd',u'IsDigitsWithWord',u'IsGeoInQuery',u'IsMainPage',u'IsMoscow1',u'IsMoscow2',u'IsWordsOnPage',\n",
    "u'IsYandexPageEqualsOur',u'PageBehaviorFactorsAvgVisitDurationSeconds',u'PageBehaviorFactorsBounceRate',u'PageBehaviorFactorsPageDepth',u'RoundedLength',u'ServiceType',u'AdjCountStr',\n",
    "u'NounCountStr',u'VerbCountStr',u'WordsCountStr',u'WordsCountWoStopWordsStr',u'BroadForecastsMinScaled',u'BroadForecastsPremiumMaxScaled',u'BroadForecastsShowsScaled',\n",
    "u'ExactForecastsMinScaled',u'ExactForecastsPremiumMaxScaled',u'ExactForecastsShowsScaled']]"
   ]
  },
  {
   "cell_type": "code",
   "execution_count": 370,
   "metadata": {
    "collapsed": true
   },
   "outputs": [],
   "source": [
    "list_of_dictionaries = [train_df.iloc[line,:].T.to_dict() for line in range(len(train_df))]\n",
    "from sklearn.feature_extraction import DictVectorizer\n",
    "vec = DictVectorizer()\n",
    "array = vec.fit_transform(list_of_dictionaries).toarray()"
   ]
  },
  {
   "cell_type": "code",
   "execution_count": 350,
   "metadata": {
    "collapsed": false
   },
   "outputs": [
    {
     "name": "stdout",
     "output_type": "stream",
     "text": [
      "0.981917742275\n",
      "AdjCountStr=0 0.00810132977604\n",
      "AdjCountStr=1 0.0104070329721\n",
      "AdjCountStr=2 0.00382738829766\n",
      "AdjCountStr=3 8.7234615212e-08\n",
      "B2Bb2C=B 0.00509950166145\n",
      "B2Bb2C=C 0.00412662556163\n",
      "Brand 0.0076003459314\n",
      "BroadForecastsMinScaled 0.0803617306838\n",
      "BroadForecastsPremiumMaxScaled 0.0823665124329\n",
      "BroadForecastsShowsScaled 0.0968352999898\n",
      "ExactForecastsMinScaled 0.0891368127921\n",
      "ExactForecastsPremiumMaxScaled 0.0661542341594\n",
      "ExactForecastsShowsScaled 0.0840912195668\n",
      "IsAnyWordOnPage 0.00612805298453\n",
      "IsCommerceWords 0.0186053318671\n",
      "IsDigits 0.00447103107547\n",
      "IsDigitsInEnd 0.00210419316821\n",
      "IsDigitsWithWord 0.00118174089546\n",
      "IsGeoInQuery 0.00641490155989\n",
      "IsMainPage 0.0\n",
      "IsMoscow1 0.00261932167146\n",
      "IsMoscow2 0.00030316822085\n",
      "IsWordsOnPage 0.0175140891241\n",
      "IsYandexPageEqualsOur 0.0158895427286\n",
      "NounCountStr=0 0.00290911730317\n",
      "NounCountStr=1 0.00845362807516\n",
      "NounCountStr=2 0.0130454881585\n",
      "NounCountStr=3 0.00863071193564\n",
      "NounCountStr=4 0.00274548281588\n",
      "NounCountStr=5 0.00107743073487\n",
      "NounCountStr=6 2.44251641789e-05\n",
      "PageBehaviorFactorsAvgVisitDurationSeconds 0.0687702945703\n",
      "PageBehaviorFactorsBounceRate 0.0752708635533\n",
      "PageBehaviorFactorsPageDepth 0.0765822926433\n",
      "RoundedLength 0.0470312642162\n",
      "ServiceType=Goods 0.00806774978137\n",
      "ServiceType=GoodsServices 0.00611051881559\n",
      "ServiceType=Services 0.00690596797252\n",
      "VerbCountStr=0 0.00659819933565\n",
      "VerbCountStr=1 0.00550421224588\n",
      "VerbCountStr=2 0.00137930746631\n",
      "WordsCountStr=1 0.00275501071177\n",
      "WordsCountStr=2 0.00530073267729\n",
      "WordsCountStr=3 0.00553083768297\n",
      "WordsCountStr=4 0.00659604173345\n",
      "WordsCountStr=5 0.0037795052281\n",
      "WordsCountStr=6 0.00221505956518\n",
      "WordsCountStr=7 0.000545474575898\n",
      "WordsCountWoStopWordsStr=1 0.000891528763167\n",
      "WordsCountWoStopWordsStr=2 0.00557933082112\n",
      "WordsCountWoStopWordsStr=3 0.00535799001369\n",
      "WordsCountWoStopWordsStr=4 0.00529072564973\n",
      "WordsCountWoStopWordsStr=5 0.00240487735328\n",
      "WordsCountWoStopWordsStr=6 0.00116753330042\n",
      "WordsCountWoStopWordsStr=7 0.000138902780738\n"
     ]
    }
   ],
   "source": [
    "from sklearn import metrics\n",
    "from sklearn.ensemble import ExtraTreesClassifier\n",
    "model = ExtraTreesClassifier()\n",
    "model.fit(array, result_train['cnv'])\n",
    "print model.score(array, result_train['cnv'])\n",
    "\n",
    "for x,y in zip(vec.get_feature_names(),model.feature_importances_):\n",
    "    print x,y"
   ]
  },
  {
   "cell_type": "code",
   "execution_count": 304,
   "metadata": {
    "collapsed": false
   },
   "outputs": [],
   "source": [
    "train_df = result_train[['AvgWordLengthScaled',\n",
    "    'IsCommerceWords','ExactShowsPercent',\n",
    "       'IsWordsOnPage','IsYandexPageEqualsOur','LengthScaled','PageBehaviorFactorsAvgVisitDurationSeconds',\n",
    "       'PageBehaviorFactorsBounceRate','PageBehaviorFactorsPageDepth','RoundedLength','NounCountStr','BroadForecastsMinScaled','BroadForecastsPremiumMaxScaled',\n",
    "                   'BroadForecastsShowsScaled','ExactForecastsMinScaled','ExactForecastsPremiumMaxScaled','ExactForecastsShowsScaled','ExactShowsPercent']]"
   ]
  },
  {
   "cell_type": "code",
   "execution_count": 305,
   "metadata": {
    "collapsed": true
   },
   "outputs": [],
   "source": [
    "list_of_dictionaries = [train_df.iloc[line,:].T.to_dict() for line in range(len(train_df))]\n",
    "from sklearn.feature_extraction import DictVectorizer\n",
    "vec = DictVectorizer()\n",
    "array = vec.fit_transform(list_of_dictionaries).toarray()"
   ]
  },
  {
   "cell_type": "code",
   "execution_count": 362,
   "metadata": {
    "collapsed": false
   },
   "outputs": [
    {
     "name": "stdout",
     "output_type": "stream",
     "text": [
      "0.945753226826\n"
     ]
    },
    {
     "data": {
      "text/plain": [
       "array([ 0.97111653,  0.02888347])"
      ]
     },
     "execution_count": 362,
     "metadata": {},
     "output_type": "execute_result"
    }
   ],
   "source": [
    "from sklearn.naive_bayes import GaussianNB,MultinomialNB\n",
    "gnb_model = GaussianNB()\n",
    "gnb_model.fit(array, result_train['cnv'])\n",
    "print gnb_model.score(array, result_train['cnv'])\n",
    "gnb_model.class_prior_"
   ]
  },
  {
   "cell_type": "code",
   "execution_count": 58,
   "metadata": {
    "collapsed": false
   },
   "outputs": [
    {
     "name": "stdout",
     "output_type": "stream",
     "text": [
      "0.96943165749\n"
     ]
    }
   ],
   "source": [
    "from sklearn.discriminant_analysis import LinearDiscriminantAnalysis\n",
    "lda_model = LinearDiscriminantAnalysis()\n",
    "lda_model.fit(array, result_train['cnv'])\n",
    "print lda_model.score(array, result_train['cnv'])"
   ]
  },
  {
   "cell_type": "code",
   "execution_count": 371,
   "metadata": {
    "collapsed": false
   },
   "outputs": [
    {
     "name": "stdout",
     "output_type": "stream",
     "text": [
      "0.951770617083\n"
     ]
    }
   ],
   "source": [
    "from sklearn.ensemble import RandomForestClassifier\n",
    "rfc_model = RandomForestClassifier(n_estimators=65,\n",
    "                                   class_weight={result_train['cnv'].unique()[1]:0.99, result_train['cnv'].unique()[0]:0.001},\n",
    "                                  criterion='gini',\n",
    "                                  bootstrap = False)\n",
    "rfc_model = rfc_model.fit(array, result_train['cnv'])\n",
    "print rfc_model.score(array, result_train['cnv'])"
   ]
  },
  {
   "cell_type": "code",
   "execution_count": 372,
   "metadata": {
    "collapsed": false
   },
   "outputs": [],
   "source": [
    "result_test = result3[result3['period'].isin(['01112015_01122015','01122015_01012016'])]\n",
    "test_df = result_test[[u'B2Bb2C',u'Brand',u'IsAnyWordOnPage',u'IsCommerceWords',u'IsDigits',u'IsDigitsInEnd',u'IsDigitsWithWord',u'IsGeoInQuery',u'IsMainPage',u'IsMoscow1',u'IsMoscow2',u'IsWordsOnPage',\n",
    "u'IsYandexPageEqualsOur',u'PageBehaviorFactorsAvgVisitDurationSeconds',u'PageBehaviorFactorsBounceRate',u'PageBehaviorFactorsPageDepth',u'RoundedLength',u'ServiceType',u'AdjCountStr',\n",
    "u'NounCountStr',u'VerbCountStr',u'WordsCountStr',u'WordsCountWoStopWordsStr',u'BroadForecastsMinScaled',u'BroadForecastsPremiumMaxScaled',u'BroadForecastsShowsScaled',\n",
    "u'ExactForecastsMinScaled',u'ExactForecastsPremiumMaxScaled',u'ExactForecastsShowsScaled']]\n",
    "list_of_dictionaries = [test_df.iloc[line,:].T.to_dict() for line in range(len(test_df))]\n",
    "array2 = vec.transform(list_of_dictionaries).toarray()"
   ]
  },
  {
   "cell_type": "code",
   "execution_count": 373,
   "metadata": {
    "collapsed": false
   },
   "outputs": [
    {
     "name": "stderr",
     "output_type": "stream",
     "text": [
      "C:\\Users\\aleksey.makarov\\AppData\\Local\\Continuum\\Anaconda\\lib\\site-packages\\IPython\\kernel\\__main__.py:1: SettingWithCopyWarning: \n",
      "A value is trying to be set on a copy of a slice from a DataFrame.\n",
      "Try using .loc[row_indexer,col_indexer] = value instead\n",
      "\n",
      "See the caveats in the documentation: http://pandas.pydata.org/pandas-docs/stable/indexing.html#indexing-view-versus-copy\n",
      "  if __name__ == '__main__':\n",
      "C:\\Users\\aleksey.makarov\\AppData\\Local\\Continuum\\Anaconda\\lib\\site-packages\\IPython\\kernel\\__main__.py:2: SettingWithCopyWarning: \n",
      "A value is trying to be set on a copy of a slice from a DataFrame.\n",
      "Try using .loc[row_indexer,col_indexer] = value instead\n",
      "\n",
      "See the caveats in the documentation: http://pandas.pydata.org/pandas-docs/stable/indexing.html#indexing-view-versus-copy\n",
      "  from IPython.kernel.zmq import kernelapp as app\n"
     ]
    }
   ],
   "source": [
    "result_test['rfc'] = rfc_model.predict(array2)\n",
    "result_train['rfc'] = rfc_model.predict(array)"
   ]
  },
  {
   "cell_type": "code",
   "execution_count": 374,
   "metadata": {
    "collapsed": false
   },
   "outputs": [
    {
     "name": "stdout",
     "output_type": "stream",
     "text": [
      "Test samples\n",
      "False negative: 0.613941018767\n",
      "False positive: 0.0333636466977\n"
     ]
    }
   ],
   "source": [
    "count_with_true_conversions = len(result_test[result_test['cnv'] == 1])\n",
    "count_with_true_non_conversions = len(result_test[result_test['cnv'] == 0])\n",
    "print 'Test samples'\n",
    "print 'False negative:',1-float(np.sum(result_test[result_test['cnv'] == 1]['rfc'] == 1))/float(count_with_true_conversions)\n",
    "print 'False positive:',float(np.sum(np.sum(result_test[result_test['cnv'] == 0]['rfc'] == 1)))/float(count_with_true_non_conversions)"
   ]
  },
  {
   "cell_type": "code",
   "execution_count": 375,
   "metadata": {
    "collapsed": false
   },
   "outputs": [
    {
     "name": "stdout",
     "output_type": "stream",
     "text": [
      "Train samples\n",
      "False negative: 0.0\n",
      "False positive: 0.0496638473216\n"
     ]
    }
   ],
   "source": [
    "count_with_true_conversions = len(result_train[result_train['cnv'] == 1])\n",
    "count_with_true_non_conversions = len(result_train[result_train['cnv'] == 0])\n",
    "print 'Train samples'\n",
    "print 'False negative:',1-float(np.sum(result_train[result_train['cnv'] == 1]['rfc'] == 1))/float(count_with_true_conversions)\n",
    "print 'False positive:',float(np.sum(np.sum(result_train[result_train['cnv'] == 0]['rfc'] == 1)))/float(count_with_true_non_conversions)"
   ]
  },
  {
   "cell_type": "code",
   "execution_count": 355,
   "metadata": {
    "collapsed": false
   },
   "outputs": [
    {
     "name": "stdout",
     "output_type": "stream",
     "text": [
      "Conversion = 1, Predicted values\n",
      "count    960\n",
      "mean       1\n",
      "std        0\n",
      "min        1\n",
      "25%        1\n",
      "50%        1\n",
      "75%        1\n",
      "max        1\n",
      "Name: rfc, dtype: float64\n"
     ]
    }
   ],
   "source": [
    "print 'Conversion = 1, Predicted values\\n',result_test[result_test['cnv'] == 1][['cnv','rfc']]['rfc'].describe()"
   ]
  },
  {
   "cell_type": "code",
   "execution_count": 351,
   "metadata": {
    "collapsed": false
   },
   "outputs": [
    {
     "name": "stdout",
     "output_type": "stream",
     "text": [
      "Conversion = 0, Predicted values\n",
      "count    32277.000000\n",
      "mean         0.049664\n",
      "std          0.217253\n",
      "min          0.000000\n",
      "25%          0.000000\n",
      "50%          0.000000\n",
      "75%          0.000000\n",
      "max          1.000000\n",
      "Name: rfc, dtype: float64\n"
     ]
    }
   ],
   "source": [
    "print 'Conversion = 0, Predicted values\\n',result_test[result_test['cnv'] == 0][['cnv','rfc']]['rfc'].describe()"
   ]
  },
  {
   "cell_type": "code",
   "execution_count": 356,
   "metadata": {
    "collapsed": false
   },
   "outputs": [
    {
     "data": {
      "text/plain": [
       "604.0"
      ]
     },
     "execution_count": 356,
     "metadata": {},
     "output_type": "execute_result"
    }
   ],
   "source": [
    "result_test[result_test['cnv'] == 0][['cnv','rfc']]['rfc'].describe()['count']*result_test[result_test['cnv'] == 0][['cnv','rfc']]['rfc'].describe()['mean']"
   ]
  },
  {
   "cell_type": "code",
   "execution_count": null,
   "metadata": {
    "collapsed": true
   },
   "outputs": [],
   "source": []
  }
 ],
 "metadata": {
  "kernelspec": {
   "display_name": "Python 2",
   "language": "python",
   "name": "python2"
  },
  "language_info": {
   "codemirror_mode": {
    "name": "ipython",
    "version": 2
   },
   "file_extension": ".py",
   "mimetype": "text/x-python",
   "name": "python",
   "nbconvert_exporter": "python",
   "pygments_lexer": "ipython2",
   "version": "2.7.11"
  }
 },
 "nbformat": 4,
 "nbformat_minor": 0
}
