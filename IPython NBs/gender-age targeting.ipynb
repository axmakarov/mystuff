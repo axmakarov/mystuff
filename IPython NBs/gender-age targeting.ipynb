{
 "cells": [
  {
   "cell_type": "code",
   "execution_count": 4,
   "metadata": {
    "collapsed": true
   },
   "outputs": [],
   "source": [
    "import requests\n",
    "import json\n",
    "import pandas as pd\n",
    "import psycopg2\n",
    "%run 'C:\\\\dev\\\\prod\\\\metrikaHelper.py'"
   ]
  },
  {
   "cell_type": "code",
   "execution_count": 56,
   "metadata": {
    "collapsed": false
   },
   "outputs": [],
   "source": [
    "def getVipProjectByDomain(domain):\n",
    "    conn = psycopg2.connect(\"dbname='CRM' user='read_only' host='192.168.10.10' password='User_ro'\")\n",
    "    cur = conn.cursor()\n",
    "    cur.execute(\"SELECT p.projectid, p.domain, p2.login, p2.password FROM project AS p INNER JOIN ProjectMetrikaData AS p2 ON p.UniqueId = p2.ProjectUniqueId WHERE domain=%s ORDER BY p.projectid\", [domain])\n",
    "    result = []\n",
    "    rows = cur.fetchall()\n",
    "    for row in rows:\n",
    "        result.append(getVipProjectByRow(row))\n",
    "    return result\n",
    "def getVipProjectByRow(row):\n",
    "    return {'projectid': row[0], 'domain': row[1], 'metrikalogin': row[2], 'metrikapassword': row[3]}\n",
    "def getCPATargetsByProjectID(projectID):\n",
    "    conn = psycopg2.connect(\"dbname='Cubo' user='read_only' host='192.168.10.8' password='User_ro'\")\n",
    "    cur = conn.cursor()\n",
    "    cur.execute(\"SELECT targetstatus, targetid, targetname FROM metricstarget WHERE projectid=%s ORDER BY id DESC\", [projectID])\n",
    "    result = []\n",
    "    rows = cur.fetchall()\n",
    "    for row in rows:\n",
    "        result.append(getCPATargetByRow(row))\n",
    "    return result\n",
    "def getCPATargetByRow(row):\n",
    "    return {'targetstatus': row[0], 'targetid': row[1], 'targetname': row[2]}\n",
    "def createMetrikaRequest(date1,date2,token,counterID):\n",
    "    url = 'https://beta.api-metrika.yandex.ru/stat/v1/data.csv?'\n",
    "    goalsMetrics = ','.join(['ym:s:goal'+str(target['targetid'])+'visits' for target in getCPATargetsByProjectID(VipProjectInfo['projectid'])])\n",
    "    otherMetrics = 'ym:s:visits'\n",
    "    metrics = ','.join([otherMetrics,goalsMetrics])\n",
    "    payload = {\n",
    "        'dimensions':'ym:s:gender,ym:s:ageInterval',\n",
    "        'metrics':metrics,\n",
    "        'date1':date1,\n",
    "        'date2':date2,\n",
    "        'oauth_token':token,\n",
    "        'ids':counterID,\n",
    "        'limit':100000,\n",
    "        'offset':1,\n",
    "        'filters':\"ym:s:UTMMedium=='direct'\",\n",
    "        'accuracy':'full'}\n",
    "    payloadString = '&'.join(['{0}={1}'.format(k,v) for k,v in payload.iteritems()])\n",
    "    return '{0}{1}'.format(url,payloadString)"
   ]
  },
  {
   "cell_type": "code",
   "execution_count": 22,
   "metadata": {
    "collapsed": false
   },
   "outputs": [],
   "source": [
    "project = u'mebmetall.ru'\n",
    "VipProjectInfoList = getVipProjectByDomain(project)\n",
    "VipProjectInfo = (v for v in VipProjectInfoList if v['metrikapassword'] != None).next()\n",
    "metrikaCredentials = getMetrikaCredentialsByLPD({'yandexLogin':VipProjectInfo['metrikalogin'],'yandexPassword':VipProjectInfo['metrikapassword'],'domain':VipProjectInfo['domain']})"
   ]
  },
  {
   "cell_type": "code",
   "execution_count": 57,
   "metadata": {
    "collapsed": false
   },
   "outputs": [],
   "source": [
    "url = createMetrikaRequest('2016-01-01','2016-05-16',metrikaCredentials['Token'],metrikaCredentials['counterID'][0])\n",
    "df = pd.read_csv(url,encoding='utf-8')\n",
    "df.rename(columns={u'﻿\"Пол\"': 'Gender',\n",
    "                        u'Визиты': 'Visits',\n",
    "                   u'Возраст': 'Age'\n",
    "                       }, inplace=True)\n",
    "for i in xrange(0,len(df)):\n",
    "    df.loc[i,'Goal Visits'] = df.loc[i,[column for column in df.columns if u'Целевые визиты' in column]].sum()\n",
    "df.drop([column for column in df.columns if u'Целевые визиты' in column],axis=1,inplace=True)\n",
    "df['Domain'] = VipProjectInfo['domain']\n",
    "df = df[~df[u'Gender'].isin([u'Итого и средние'])]\n",
    "# df = df[~df[u'Кампания Яндекс.Директа'].isin([u'Не определено'])]"
   ]
  },
  {
   "cell_type": "code",
   "execution_count": 51,
   "metadata": {
    "collapsed": false
   },
   "outputs": [],
   "source": [
    "df.to_excel(u'C:\\\\Users\\\\aleksey.makarov\\\\Desktop\\\\2016-05\\\\2016-05-17 Половозрастной таргетинг\\\\MetrikaStats.xlsx')"
   ]
  },
  {
   "cell_type": "code",
   "execution_count": 58,
   "metadata": {
    "collapsed": false
   },
   "outputs": [
    {
     "data": {
      "text/html": [
       "<div>\n",
       "<table border=\"1\" class=\"dataframe\">\n",
       "  <thead>\n",
       "    <tr style=\"text-align: right;\">\n",
       "      <th></th>\n",
       "      <th>Gender</th>\n",
       "      <th>Age</th>\n",
       "      <th>Visits</th>\n",
       "      <th>Goal Visits</th>\n",
       "      <th>Domain</th>\n",
       "    </tr>\n",
       "  </thead>\n",
       "  <tbody>\n",
       "    <tr>\n",
       "      <th>1</th>\n",
       "      <td>мужской</td>\n",
       "      <td>25‑34 года</td>\n",
       "      <td>1085</td>\n",
       "      <td>1</td>\n",
       "      <td>mebmetall.ru</td>\n",
       "    </tr>\n",
       "    <tr>\n",
       "      <th>2</th>\n",
       "      <td>мужской</td>\n",
       "      <td>45 лет и старше</td>\n",
       "      <td>941</td>\n",
       "      <td>0</td>\n",
       "      <td>mebmetall.ru</td>\n",
       "    </tr>\n",
       "    <tr>\n",
       "      <th>3</th>\n",
       "      <td>мужской</td>\n",
       "      <td>35‑44 года</td>\n",
       "      <td>651</td>\n",
       "      <td>0</td>\n",
       "      <td>mebmetall.ru</td>\n",
       "    </tr>\n",
       "    <tr>\n",
       "      <th>4</th>\n",
       "      <td>женский</td>\n",
       "      <td>25‑34 года</td>\n",
       "      <td>305</td>\n",
       "      <td>1</td>\n",
       "      <td>mebmetall.ru</td>\n",
       "    </tr>\n",
       "    <tr>\n",
       "      <th>5</th>\n",
       "      <td>женский</td>\n",
       "      <td>35‑44 года</td>\n",
       "      <td>276</td>\n",
       "      <td>1</td>\n",
       "      <td>mebmetall.ru</td>\n",
       "    </tr>\n",
       "    <tr>\n",
       "      <th>6</th>\n",
       "      <td>женский</td>\n",
       "      <td>45 лет и старше</td>\n",
       "      <td>271</td>\n",
       "      <td>0</td>\n",
       "      <td>mebmetall.ru</td>\n",
       "    </tr>\n",
       "    <tr>\n",
       "      <th>7</th>\n",
       "      <td>мужской</td>\n",
       "      <td>18‑24 года</td>\n",
       "      <td>242</td>\n",
       "      <td>0</td>\n",
       "      <td>mebmetall.ru</td>\n",
       "    </tr>\n",
       "    <tr>\n",
       "      <th>8</th>\n",
       "      <td>женский</td>\n",
       "      <td>18‑24 года</td>\n",
       "      <td>90</td>\n",
       "      <td>0</td>\n",
       "      <td>mebmetall.ru</td>\n",
       "    </tr>\n",
       "    <tr>\n",
       "      <th>9</th>\n",
       "      <td>мужской</td>\n",
       "      <td>младше 18 лет</td>\n",
       "      <td>61</td>\n",
       "      <td>0</td>\n",
       "      <td>mebmetall.ru</td>\n",
       "    </tr>\n",
       "    <tr>\n",
       "      <th>10</th>\n",
       "      <td>женский</td>\n",
       "      <td>младше 18 лет</td>\n",
       "      <td>41</td>\n",
       "      <td>0</td>\n",
       "      <td>mebmetall.ru</td>\n",
       "    </tr>\n",
       "    <tr>\n",
       "      <th>11</th>\n",
       "      <td>мужской</td>\n",
       "      <td>Не определено</td>\n",
       "      <td>34</td>\n",
       "      <td>0</td>\n",
       "      <td>mebmetall.ru</td>\n",
       "    </tr>\n",
       "    <tr>\n",
       "      <th>12</th>\n",
       "      <td>женский</td>\n",
       "      <td>Не определено</td>\n",
       "      <td>10</td>\n",
       "      <td>0</td>\n",
       "      <td>mebmetall.ru</td>\n",
       "    </tr>\n",
       "  </tbody>\n",
       "</table>\n",
       "</div>"
      ],
      "text/plain": [
       "     Gender              Age  Visits  Goal Visits        Domain\n",
       "1   мужской       25‑34 года    1085            1  mebmetall.ru\n",
       "2   мужской  45 лет и старше     941            0  mebmetall.ru\n",
       "3   мужской       35‑44 года     651            0  mebmetall.ru\n",
       "4   женский       25‑34 года     305            1  mebmetall.ru\n",
       "5   женский       35‑44 года     276            1  mebmetall.ru\n",
       "6   женский  45 лет и старше     271            0  mebmetall.ru\n",
       "7   мужской       18‑24 года     242            0  mebmetall.ru\n",
       "8   женский       18‑24 года      90            0  mebmetall.ru\n",
       "9   мужской    младше 18 лет      61            0  mebmetall.ru\n",
       "10  женский    младше 18 лет      41            0  mebmetall.ru\n",
       "11  мужской    Не определено      34            0  mebmetall.ru\n",
       "12  женский    Не определено      10            0  mebmetall.ru"
      ]
     },
     "execution_count": 58,
     "metadata": {},
     "output_type": "execute_result"
    }
   ],
   "source": [
    "df"
   ]
  },
  {
   "cell_type": "code",
   "execution_count": null,
   "metadata": {
    "collapsed": true
   },
   "outputs": [],
   "source": []
  }
 ],
 "metadata": {
  "kernelspec": {
   "display_name": "Python 2",
   "language": "python",
   "name": "python2"
  },
  "language_info": {
   "codemirror_mode": {
    "name": "ipython",
    "version": 2
   },
   "file_extension": ".py",
   "mimetype": "text/x-python",
   "name": "python",
   "nbconvert_exporter": "python",
   "pygments_lexer": "ipython2",
   "version": "2.7.11"
  }
 },
 "nbformat": 4,
 "nbformat_minor": 0
}
